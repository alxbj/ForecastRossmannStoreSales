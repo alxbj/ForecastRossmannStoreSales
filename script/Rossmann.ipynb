{
 "cells": [
  {
   "cell_type": "code",
   "execution_count": 1,
   "metadata": {
    "collapsed": true
   },
   "outputs": [],
   "source": [
    "import numpy as np\n",
    "import pandas as pd\n",
    "import matplotlib.pyplot as plt\n",
    "from sklearn import preprocessing\n",
    "from sklearn.model_selection import train_test_split\n",
    "import xgboost as xgb\n",
    "from xgboost import plot_importance\n",
    "import random\n",
    "from sklearn.preprocessing import Imputer\n",
    "from sklearn.preprocessing import StandardScaler\n",
    "import seaborn as sns\n",
    "from sklearn.model_selection import GridSearchCV\n",
    "from sklearn.model_selection import StratifiedKFold\n",
    "from sklearn.feature_selection import SelectKBest\n",
    "from sklearn.linear_model import Ridge\n",
    "from sklearn.model_selection import cross_val_score\n",
    "import operator"
   ]
  },
  {
   "cell_type": "code",
   "execution_count": 2,
   "metadata": {
    "collapsed": true
   },
   "outputs": [],
   "source": [
    "train = pd.read_csv('../input/train.csv',dtype={'StateHoliday':object}) \n",
    "store =  pd.read_csv('../input/store.csv')\n",
    "test = pd.read_csv('../input/test.csv')"
   ]
  },
  {
   "cell_type": "code",
   "execution_count": 3,
   "metadata": {
    "collapsed": true
   },
   "outputs": [],
   "source": [
    "pd.set_option('display.float_format', lambda x: '%.3f' % x)  "
   ]
  },
  {
   "cell_type": "markdown",
   "metadata": {},
   "source": [
    "### 整理数据"
   ]
  },
  {
   "cell_type": "markdown",
   "metadata": {},
   "source": [
    "#### 整理test数据"
   ]
  },
  {
   "cell_type": "code",
   "execution_count": 4,
   "metadata": {},
   "outputs": [
    {
     "name": "stdout",
     "output_type": "stream",
     "text": [
      "<class 'pandas.core.frame.DataFrame'>\n",
      "RangeIndex: 41088 entries, 0 to 41087\n",
      "Data columns (total 8 columns):\n",
      "Id               41088 non-null int64\n",
      "Store            41088 non-null int64\n",
      "DayOfWeek        41088 non-null int64\n",
      "Date             41088 non-null object\n",
      "Open             41077 non-null float64\n",
      "Promo            41088 non-null int64\n",
      "StateHoliday     41088 non-null object\n",
      "SchoolHoliday    41088 non-null int64\n",
      "dtypes: float64(1), int64(5), object(2)\n",
      "memory usage: 2.5+ MB\n"
     ]
    }
   ],
   "source": [
    "test.info()"
   ]
  },
  {
   "cell_type": "code",
   "execution_count": 5,
   "metadata": {
    "collapsed": true
   },
   "outputs": [],
   "source": [
    "#补充缺失数据\n",
    "# 特征Open存在数据缺失\n",
    "# print(test.query('Open==\"NaN\"'))\n",
    "#根据Open为NaN的数据展现，由于日期非节假日商店应该都是开门的把NaN替换成1，把0.0变成0，把1.0变成1\n",
    "test['Open']=test['Open'].fillna(1)\n",
    "test['Open']=test['Open'].astype(int)\n",
    "# print(test['Open'].value_counts())"
   ]
  },
  {
   "cell_type": "code",
   "execution_count": 6,
   "metadata": {
    "collapsed": true
   },
   "outputs": [],
   "source": [
    "# 把date拆成year，month和day，重新设置DayOfWeek原因是DayOfWeek比dayofweek多1\n",
    "test['Date']=pd.to_datetime(test['Date'])\n",
    "\n",
    "test['Year']=test['Date'].dt.year\n",
    "test['Month']=test['Date'].dt.month\n",
    "test['Day']=test['Date'].dt.day\n",
    "test['WeekOfYear']=test['Date'].dt.weekofyear\n",
    "test['DayOfWeek']=test['Date'].dt.dayofweek\n",
    "test.drop('Date',axis=1, inplace=True)"
   ]
  },
  {
   "cell_type": "code",
   "execution_count": 7,
   "metadata": {},
   "outputs": [
    {
     "name": "stdout",
     "output_type": "stream",
     "text": [
      "<class 'pandas.core.frame.DataFrame'>\n",
      "RangeIndex: 41088 entries, 0 to 41087\n",
      "Data columns (total 11 columns):\n",
      "Id               41088 non-null int64\n",
      "Store            41088 non-null int64\n",
      "DayOfWeek        41088 non-null int64\n",
      "Open             41088 non-null int32\n",
      "Promo            41088 non-null int64\n",
      "StateHoliday     41088 non-null int32\n",
      "SchoolHoliday    41088 non-null int64\n",
      "Year             41088 non-null int64\n",
      "Month            41088 non-null int64\n",
      "Day              41088 non-null int64\n",
      "WeekOfYear       41088 non-null int64\n",
      "dtypes: int32(2), int64(9)\n",
      "memory usage: 3.1 MB\n"
     ]
    }
   ],
   "source": [
    "#设置StateHoliday a:1,b:2,c:3\n",
    "test.loc[test[\"StateHoliday\"]=='a','StateHoliday']=1\n",
    "test.loc[test[\"StateHoliday\"]=='b','StateHoliday']=2\n",
    "test.loc[test[\"StateHoliday\"]=='c','StateHoliday']=3\n",
    "test['StateHoliday']=test['StateHoliday'].astype(int)\n",
    "test.info()"
   ]
  },
  {
   "cell_type": "code",
   "execution_count": 8,
   "metadata": {},
   "outputs": [
    {
     "data": {
      "text/plain": [
       "1    35104\n",
       "0     5984\n",
       "Name: Open, dtype: int64"
      ]
     },
     "execution_count": 8,
     "metadata": {},
     "output_type": "execute_result"
    }
   ],
   "source": [
    "# 如果open特征为0可以直接提交预测为0\n",
    "test[\"Open\"].value_counts()"
   ]
  },
  {
   "cell_type": "markdown",
   "metadata": {},
   "source": [
    "#### 整理store数据"
   ]
  },
  {
   "cell_type": "code",
   "execution_count": 9,
   "metadata": {},
   "outputs": [
    {
     "name": "stdout",
     "output_type": "stream",
     "text": [
      "<class 'pandas.core.frame.DataFrame'>\n",
      "RangeIndex: 1115 entries, 0 to 1114\n",
      "Data columns (total 10 columns):\n",
      "Store                        1115 non-null int64\n",
      "StoreType                    1115 non-null object\n",
      "Assortment                   1115 non-null object\n",
      "CompetitionDistance          1112 non-null float64\n",
      "CompetitionOpenSinceMonth    761 non-null float64\n",
      "CompetitionOpenSinceYear     761 non-null float64\n",
      "Promo2                       1115 non-null int64\n",
      "Promo2SinceWeek              571 non-null float64\n",
      "Promo2SinceYear              571 non-null float64\n",
      "PromoInterval                571 non-null object\n",
      "dtypes: float64(5), int64(2), object(3)\n",
      "memory usage: 87.2+ KB\n"
     ]
    }
   ],
   "source": [
    "store.info()"
   ]
  },
  {
   "cell_type": "code",
   "execution_count": 10,
   "metadata": {},
   "outputs": [
    {
     "name": "stdout",
     "output_type": "stream",
     "text": [
      "     Store  CompetitionDistance  CompetitionOpenSinceMonth  \\\n",
      "290    291                  nan                        nan   \n",
      "621    622                  nan                        nan   \n",
      "878    879                  nan                        nan   \n",
      "\n",
      "     CompetitionOpenSinceYear  \n",
      "290                       nan  \n",
      "621                       nan  \n",
      "878                       nan  \n"
     ]
    }
   ],
   "source": [
    "#处理缺失数据\n",
    "#CompetitionDistance中缺失三条,缺失的数据里同时缺失CompetitionOpenSinceMonth和CompetitionOpenSinceYear，我将其认为在合理距离范围内无竞争对手。\n",
    "print(store.query('CompetitionDistance==\"NaN\"')[['Store','CompetitionDistance','CompetitionOpenSinceMonth','CompetitionOpenSinceYear']])\n",
    "#可以理解为合理范围内没有任何的竞争对手记下Store号码：291，622，879"
   ]
  },
  {
   "cell_type": "code",
   "execution_count": 11,
   "metadata": {},
   "outputs": [
    {
     "data": {
      "image/png": "[encoded data removed]",
      "text/plain": [
       "<matplotlib.figure.Figure at 0x18592ca1240>"
      ]
     },
     "metadata": {},
     "output_type": "display_data"
    }
   ],
   "source": [
    "#查看CompetitionDistance的情况\n",
    "store['CompetitionDistance'].describe()\n",
    "#根据情况将291，622，879的CompetitionDistance距离改为99999\n",
    "plt.plot(store['CompetitionDistance'])\n",
    "plt.ylabel('some numbers')\n",
    "plt.show()\n"
   ]
  },
  {
   "cell_type": "code",
   "execution_count": 12,
   "metadata": {
    "collapsed": true
   },
   "outputs": [],
   "source": [
    "#根据情况将291，622，879的CompetitionDistance距离改为99999并转化为int型，将其CompetitionOpenSinceYear特征改为一个未来值\n",
    "store['CompetitionDistance']=store['CompetitionDistance'].fillna(99999)\n",
    "store['CompetitionDistance']=store['CompetitionDistance'].astype(int)\n",
    "# store.query('Store in (291,622,879)')['CompetitionOpenSinceYear']=2030\n",
    "store.loc[(store['Store']==291)|(store['Store']==622)|(store['Store']==879),'CompetitionOpenSinceYear']=2030"
   ]
  },
  {
   "cell_type": "code",
   "execution_count": 13,
   "metadata": {},
   "outputs": [
    {
     "name": "stdout",
     "output_type": "stream",
     "text": [
      "351\n"
     ]
    }
   ],
   "source": [
    "# CompetitionOpenSinceMonth和CompetitionOpenSinceYear的缺失值\n",
    "# 判断是否缺失的商店是同一个，输出同时为NaN的商店个数\n",
    "print(len(store.query('CompetitionOpenSinceMonth==\"NaN\"&CompetitionOpenSinceYear==\"NaN\"')))"
   ]
  },
  {
   "cell_type": "code",
   "execution_count": 14,
   "metadata": {
    "collapsed": true
   },
   "outputs": [],
   "source": [
    "# 1115-354=761所以均为同时为Nan，那就设置为一个较早的时间，认为是早已经开业的商店,并设置为int型\n",
    "store['CompetitionOpenSinceYear']=store['CompetitionOpenSinceYear'].fillna(2010)\n",
    "store['CompetitionOpenSinceMonth']=store['CompetitionOpenSinceMonth'].fillna(0)\n",
    "store['CompetitionOpenSinceYear']=store['CompetitionOpenSinceYear'].astype(int)\n",
    "store['CompetitionOpenSinceMonth']=store['CompetitionOpenSinceMonth'].astype(int)"
   ]
  },
  {
   "cell_type": "code",
   "execution_count": 15,
   "metadata": {},
   "outputs": [
    {
     "name": "stdout",
     "output_type": "stream",
     "text": [
      "544\n"
     ]
    }
   ],
   "source": [
    "# Promo2SinceWeek,Promo2SinceYear,PromoInterval的缺失值\n",
    "# 确认他们缺失的是否是相同的store\n",
    "nan = np.nan\n",
    "print(len(store.query('Promo2SinceWeek==\"NaN\"&Promo2SinceYear==\"NaN\"&PromoInterval.isnull()')))"
   ]
  },
  {
   "cell_type": "code",
   "execution_count": 16,
   "metadata": {},
   "outputs": [
    {
     "data": {
      "text/plain": [
       "0    544\n",
       "Name: Promo2, dtype: int64"
      ]
     },
     "execution_count": 16,
     "metadata": {},
     "output_type": "execute_result"
    }
   ],
   "source": [
    "# 1115-544=571,571符合这三个特征的缺失数，得出结论就是这三个特征是同时缺失的，看看此时的Promo2的值是多少\n",
    "store.query('Promo2SinceWeek==\"NaN\"&Promo2SinceYear==\"NaN\"&PromoInterval.isnull()')['Promo2'].value_counts()"
   ]
  },
  {
   "cell_type": "code",
   "execution_count": 17,
   "metadata": {},
   "outputs": [
    {
     "data": {
      "text/plain": [
       "1    571\n",
       "0    544\n",
       "Name: Promo2, dtype: int64"
      ]
     },
     "execution_count": 17,
     "metadata": {},
     "output_type": "execute_result"
    }
   ],
   "source": [
    "# 查看0的总总数量和Promo2SinceWeek,Promo2SinceYear,PromoInterval缺失值保持一致\n",
    "store['Promo2'].value_counts()"
   ]
  },
  {
   "cell_type": "code",
   "execution_count": 18,
   "metadata": {
    "collapsed": true
   },
   "outputs": [],
   "source": [
    "# 将Promo2SinceYear设置为一个未来的时间，Promo2SinceWeek设置为1\n",
    "store['Promo2SinceWeek']=store['Promo2SinceWeek'].fillna(0)\n",
    "store['Promo2SinceYear']=store['Promo2SinceYear'].fillna(2030)\n",
    "store['Promo2SinceWeek']=store['Promo2SinceWeek'].astype(int)\n",
    "store['Promo2SinceYear']=store['Promo2SinceYear'].astype(int)"
   ]
  },
  {
   "cell_type": "code",
   "execution_count": 19,
   "metadata": {},
   "outputs": [
    {
     "name": "stdout",
     "output_type": "stream",
     "text": [
      "Jan,Apr,Jul,Oct     335\n",
      "Feb,May,Aug,Nov     130\n",
      "Mar,Jun,Sept,Dec    106\n",
      "Name: PromoInterval, dtype: int64\n"
     ]
    },
    {
     "data": {
      "text/html": [
       "<div>\n",
       "<style>\n",
       "    .dataframe thead tr:only-child th {\n",
       "        text-align: right;\n",
       "    }\n",
       "\n",
       "    .dataframe thead th {\n",
       "        text-align: left;\n",
       "    }\n",
       "\n",
       "    .dataframe tbody tr th {\n",
       "        vertical-align: top;\n",
       "    }\n",
       "</style>\n",
       "<table border=\"1\" class=\"dataframe\">\n",
       "  <thead>\n",
       "    <tr style=\"text-align: right;\">\n",
       "      <th></th>\n",
       "      <th>Store</th>\n",
       "      <th>StoreType</th>\n",
       "      <th>Assortment</th>\n",
       "      <th>CompetitionDistance</th>\n",
       "      <th>CompetitionOpenSinceMonth</th>\n",
       "      <th>CompetitionOpenSinceYear</th>\n",
       "      <th>Promo2</th>\n",
       "      <th>Promo2SinceWeek</th>\n",
       "      <th>Promo2SinceYear</th>\n",
       "      <th>PromoInterval</th>\n",
       "    </tr>\n",
       "  </thead>\n",
       "  <tbody>\n",
       "    <tr>\n",
       "      <th>0</th>\n",
       "      <td>1</td>\n",
       "      <td>c</td>\n",
       "      <td>a</td>\n",
       "      <td>1270</td>\n",
       "      <td>9</td>\n",
       "      <td>2008</td>\n",
       "      <td>0</td>\n",
       "      <td>0</td>\n",
       "      <td>2030</td>\n",
       "      <td>0,0,0,0</td>\n",
       "    </tr>\n",
       "    <tr>\n",
       "      <th>1</th>\n",
       "      <td>2</td>\n",
       "      <td>a</td>\n",
       "      <td>a</td>\n",
       "      <td>570</td>\n",
       "      <td>11</td>\n",
       "      <td>2007</td>\n",
       "      <td>1</td>\n",
       "      <td>13</td>\n",
       "      <td>2010</td>\n",
       "      <td>0,3,6,9</td>\n",
       "    </tr>\n",
       "    <tr>\n",
       "      <th>2</th>\n",
       "      <td>3</td>\n",
       "      <td>a</td>\n",
       "      <td>a</td>\n",
       "      <td>14130</td>\n",
       "      <td>12</td>\n",
       "      <td>2006</td>\n",
       "      <td>1</td>\n",
       "      <td>14</td>\n",
       "      <td>2011</td>\n",
       "      <td>0,3,6,9</td>\n",
       "    </tr>\n",
       "    <tr>\n",
       "      <th>3</th>\n",
       "      <td>4</td>\n",
       "      <td>c</td>\n",
       "      <td>c</td>\n",
       "      <td>620</td>\n",
       "      <td>9</td>\n",
       "      <td>2009</td>\n",
       "      <td>0</td>\n",
       "      <td>0</td>\n",
       "      <td>2030</td>\n",
       "      <td>0,0,0,0</td>\n",
       "    </tr>\n",
       "    <tr>\n",
       "      <th>4</th>\n",
       "      <td>5</td>\n",
       "      <td>a</td>\n",
       "      <td>a</td>\n",
       "      <td>29910</td>\n",
       "      <td>4</td>\n",
       "      <td>2015</td>\n",
       "      <td>0</td>\n",
       "      <td>0</td>\n",
       "      <td>2030</td>\n",
       "      <td>0,0,0,0</td>\n",
       "    </tr>\n",
       "  </tbody>\n",
       "</table>\n",
       "</div>"
      ],
      "text/plain": [
       "   Store StoreType Assortment  CompetitionDistance  CompetitionOpenSinceMonth  \\\n",
       "0      1         c          a                 1270                          9   \n",
       "1      2         a          a                  570                         11   \n",
       "2      3         a          a                14130                         12   \n",
       "3      4         c          c                  620                          9   \n",
       "4      5         a          a                29910                          4   \n",
       "\n",
       "   CompetitionOpenSinceYear  Promo2  Promo2SinceWeek  Promo2SinceYear  \\\n",
       "0                      2008       0                0             2030   \n",
       "1                      2007       1               13             2010   \n",
       "2                      2006       1               14             2011   \n",
       "3                      2009       0                0             2030   \n",
       "4                      2015       0                0             2030   \n",
       "\n",
       "  PromoInterval  \n",
       "0       0,0,0,0  \n",
       "1       0,3,6,9  \n",
       "2       0,3,6,9  \n",
       "3       0,0,0,0  \n",
       "4       0,0,0,0  "
      ]
     },
     "execution_count": 19,
     "metadata": {},
     "output_type": "execute_result"
    }
   ],
   "source": [
    "#处理PromoInterval,\n",
    "print(store['PromoInterval'].value_counts())\n",
    "num_month = {'Jan,Apr,Jul,Oct':'0,3,6,9','Feb,May,Aug,Nov':'1,4,7,10','Mar,Jun,Sept,Dec':'2,5,8,11'}\n",
    "store['PromoInterval'] =store['PromoInterval'].map(num_month)\n",
    "store['PromoInterval']=store['PromoInterval'].fillna('0,0,0,0')\n",
    "store.head()"
   ]
  },
  {
   "cell_type": "code",
   "execution_count": 20,
   "metadata": {},
   "outputs": [
    {
     "name": "stdout",
     "output_type": "stream",
     "text": [
      "<class 'pandas.core.frame.DataFrame'>\n",
      "RangeIndex: 1115 entries, 0 to 1114\n",
      "Data columns (total 10 columns):\n",
      "Store                        1115 non-null int64\n",
      "StoreType                    1115 non-null object\n",
      "Assortment                   1115 non-null object\n",
      "CompetitionDistance          1115 non-null int32\n",
      "CompetitionOpenSinceMonth    1115 non-null int32\n",
      "CompetitionOpenSinceYear     1115 non-null int32\n",
      "Promo2                       1115 non-null int64\n",
      "Promo2SinceWeek              1115 non-null int32\n",
      "Promo2SinceYear              1115 non-null int32\n",
      "PromoInterval                1115 non-null object\n",
      "dtypes: int32(5), int64(2), object(3)\n",
      "memory usage: 65.4+ KB\n"
     ]
    }
   ],
   "source": [
    "store.info()"
   ]
  },
  {
   "cell_type": "code",
   "execution_count": 21,
   "metadata": {},
   "outputs": [
    {
     "name": "stdout",
     "output_type": "stream",
     "text": [
      "0,0,0,0     544\n",
      "0,3,6,9     335\n",
      "1,4,7,10    130\n",
      "2,5,8,11    106\n",
      "Name: PromoInterval, dtype: int64\n"
     ]
    }
   ],
   "source": [
    "print(store['PromoInterval'].value_counts())"
   ]
  },
  {
   "cell_type": "code",
   "execution_count": 22,
   "metadata": {
    "collapsed": true
   },
   "outputs": [],
   "source": [
    "# 将PromoInterval展开\n",
    "PromoInterval1=[]\n",
    "PromoInterval2=[]\n",
    "PromoInterval3=[]\n",
    "PromoInterval4=[]\n",
    "m=store['PromoInterval']\n",
    "for x in m:\n",
    "    y=x.split(',')\n",
    "    PromoInterval1.append(y[0])\n",
    "    PromoInterval2.append(y[1])\n",
    "    PromoInterval3.append(y[2])\n",
    "    PromoInterval4.append(y[3])\n",
    "\n",
    "store['PromoInterval1']=pd.Series(PromoInterval1,dtype='int32')\n",
    "store['PromoInterval2']=pd.Series(PromoInterval2,dtype='int32')\n",
    "store['PromoInterval3']=pd.Series(PromoInterval3,dtype='int32')\n",
    "store['PromoInterval4']=pd.Series(PromoInterval4,dtype='int32')\n",
    "store.drop('PromoInterval',axis=1, inplace=True)"
   ]
  },
  {
   "cell_type": "code",
   "execution_count": 23,
   "metadata": {
    "collapsed": true
   },
   "outputs": [],
   "source": [
    "#处理两个Object字段\n",
    "#把Assortment整理为a:1,b:2,c:3\n",
    "store.loc[store[\"Assortment\"]=='a','Assortment']=1\n",
    "store.loc[store[\"Assortment\"]=='b','Assortment']=2\n",
    "store.loc[store[\"Assortment\"]=='c','Assortment']=3\n",
    "store['Assortment']=store['Assortment'].astype(int)\n",
    "#把StoreType整理为a:1,b:2,c:3,d:4\n",
    "store.loc[store[\"StoreType\"]=='a','StoreType']=1\n",
    "store.loc[store[\"StoreType\"]=='b','StoreType']=2\n",
    "store.loc[store[\"StoreType\"]=='c','StoreType']=3\n",
    "store.loc[store[\"StoreType\"]=='d','StoreType']=4\n",
    "store['StoreType']=store['StoreType'].astype(int)"
   ]
  },
  {
   "cell_type": "code",
   "execution_count": 24,
   "metadata": {},
   "outputs": [
    {
     "data": {
      "text/html": [
       "<div>\n",
       "<style>\n",
       "    .dataframe thead tr:only-child th {\n",
       "        text-align: right;\n",
       "    }\n",
       "\n",
       "    .dataframe thead th {\n",
       "        text-align: left;\n",
       "    }\n",
       "\n",
       "    .dataframe tbody tr th {\n",
       "        vertical-align: top;\n",
       "    }\n",
       "</style>\n",
       "<table border=\"1\" class=\"dataframe\">\n",
       "  <thead>\n",
       "    <tr style=\"text-align: right;\">\n",
       "      <th></th>\n",
       "      <th>Store</th>\n",
       "      <th>CompetitionDistance</th>\n",
       "      <th>CompetitionOpenSinceMonth</th>\n",
       "      <th>CompetitionOpenSinceYear</th>\n",
       "      <th>Promo2</th>\n",
       "      <th>Promo2SinceWeek</th>\n",
       "      <th>Promo2SinceYear</th>\n",
       "      <th>PromoInterval1</th>\n",
       "      <th>PromoInterval2</th>\n",
       "      <th>PromoInterval3</th>\n",
       "      <th>PromoInterval4</th>\n",
       "      <th>Assortment_1</th>\n",
       "      <th>Assortment_2</th>\n",
       "      <th>Assortment_3</th>\n",
       "      <th>StoreType_1</th>\n",
       "      <th>StoreType_2</th>\n",
       "      <th>StoreType_3</th>\n",
       "      <th>StoreType_4</th>\n",
       "    </tr>\n",
       "  </thead>\n",
       "  <tbody>\n",
       "    <tr>\n",
       "      <th>0</th>\n",
       "      <td>1</td>\n",
       "      <td>1270</td>\n",
       "      <td>9</td>\n",
       "      <td>2008</td>\n",
       "      <td>0</td>\n",
       "      <td>0</td>\n",
       "      <td>2030</td>\n",
       "      <td>0</td>\n",
       "      <td>0</td>\n",
       "      <td>0</td>\n",
       "      <td>0</td>\n",
       "      <td>1</td>\n",
       "      <td>0</td>\n",
       "      <td>0</td>\n",
       "      <td>0</td>\n",
       "      <td>0</td>\n",
       "      <td>1</td>\n",
       "      <td>0</td>\n",
       "    </tr>\n",
       "    <tr>\n",
       "      <th>1</th>\n",
       "      <td>2</td>\n",
       "      <td>570</td>\n",
       "      <td>11</td>\n",
       "      <td>2007</td>\n",
       "      <td>1</td>\n",
       "      <td>13</td>\n",
       "      <td>2010</td>\n",
       "      <td>0</td>\n",
       "      <td>3</td>\n",
       "      <td>6</td>\n",
       "      <td>9</td>\n",
       "      <td>1</td>\n",
       "      <td>0</td>\n",
       "      <td>0</td>\n",
       "      <td>1</td>\n",
       "      <td>0</td>\n",
       "      <td>0</td>\n",
       "      <td>0</td>\n",
       "    </tr>\n",
       "    <tr>\n",
       "      <th>2</th>\n",
       "      <td>3</td>\n",
       "      <td>14130</td>\n",
       "      <td>12</td>\n",
       "      <td>2006</td>\n",
       "      <td>1</td>\n",
       "      <td>14</td>\n",
       "      <td>2011</td>\n",
       "      <td>0</td>\n",
       "      <td>3</td>\n",
       "      <td>6</td>\n",
       "      <td>9</td>\n",
       "      <td>1</td>\n",
       "      <td>0</td>\n",
       "      <td>0</td>\n",
       "      <td>1</td>\n",
       "      <td>0</td>\n",
       "      <td>0</td>\n",
       "      <td>0</td>\n",
       "    </tr>\n",
       "    <tr>\n",
       "      <th>3</th>\n",
       "      <td>4</td>\n",
       "      <td>620</td>\n",
       "      <td>9</td>\n",
       "      <td>2009</td>\n",
       "      <td>0</td>\n",
       "      <td>0</td>\n",
       "      <td>2030</td>\n",
       "      <td>0</td>\n",
       "      <td>0</td>\n",
       "      <td>0</td>\n",
       "      <td>0</td>\n",
       "      <td>0</td>\n",
       "      <td>0</td>\n",
       "      <td>1</td>\n",
       "      <td>0</td>\n",
       "      <td>0</td>\n",
       "      <td>1</td>\n",
       "      <td>0</td>\n",
       "    </tr>\n",
       "    <tr>\n",
       "      <th>4</th>\n",
       "      <td>5</td>\n",
       "      <td>29910</td>\n",
       "      <td>4</td>\n",
       "      <td>2015</td>\n",
       "      <td>0</td>\n",
       "      <td>0</td>\n",
       "      <td>2030</td>\n",
       "      <td>0</td>\n",
       "      <td>0</td>\n",
       "      <td>0</td>\n",
       "      <td>0</td>\n",
       "      <td>1</td>\n",
       "      <td>0</td>\n",
       "      <td>0</td>\n",
       "      <td>1</td>\n",
       "      <td>0</td>\n",
       "      <td>0</td>\n",
       "      <td>0</td>\n",
       "    </tr>\n",
       "  </tbody>\n",
       "</table>\n",
       "</div>"
      ],
      "text/plain": [
       "   Store  CompetitionDistance  CompetitionOpenSinceMonth  \\\n",
       "0      1                 1270                          9   \n",
       "1      2                  570                         11   \n",
       "2      3                14130                         12   \n",
       "3      4                  620                          9   \n",
       "4      5                29910                          4   \n",
       "\n",
       "   CompetitionOpenSinceYear  Promo2  Promo2SinceWeek  Promo2SinceYear  \\\n",
       "0                      2008       0                0             2030   \n",
       "1                      2007       1               13             2010   \n",
       "2                      2006       1               14             2011   \n",
       "3                      2009       0                0             2030   \n",
       "4                      2015       0                0             2030   \n",
       "\n",
       "   PromoInterval1  PromoInterval2  PromoInterval3  PromoInterval4  \\\n",
       "0               0               0               0               0   \n",
       "1               0               3               6               9   \n",
       "2               0               3               6               9   \n",
       "3               0               0               0               0   \n",
       "4               0               0               0               0   \n",
       "\n",
       "   Assortment_1  Assortment_2  Assortment_3  StoreType_1  StoreType_2  \\\n",
       "0             1             0             0            0            0   \n",
       "1             1             0             0            1            0   \n",
       "2             1             0             0            1            0   \n",
       "3             0             0             1            0            0   \n",
       "4             1             0             0            1            0   \n",
       "\n",
       "   StoreType_3  StoreType_4  \n",
       "0            1            0  \n",
       "1            0            0  \n",
       "2            0            0  \n",
       "3            1            0  \n",
       "4            0            0  "
      ]
     },
     "execution_count": 24,
     "metadata": {},
     "output_type": "execute_result"
    }
   ],
   "source": [
    "#针对Assortment，StoreType特征做one-hot\n",
    "store= pd.concat([store,pd.get_dummies(store['Assortment'],prefix='Assortment')], axis=1)\n",
    "store.drop('Assortment',axis=1, inplace=True)\n",
    "store= pd.concat([store,pd.get_dummies(store['StoreType'],prefix='StoreType')], axis=1)\n",
    "store.drop('StoreType',axis=1, inplace=True)\n",
    "store.head()"
   ]
  },
  {
   "cell_type": "code",
   "execution_count": 25,
   "metadata": {},
   "outputs": [
    {
     "name": "stdout",
     "output_type": "stream",
     "text": [
      "<class 'pandas.core.frame.DataFrame'>\n",
      "RangeIndex: 1115 entries, 0 to 1114\n",
      "Data columns (total 18 columns):\n",
      "Store                        1115 non-null int64\n",
      "CompetitionDistance          1115 non-null int32\n",
      "CompetitionOpenSinceMonth    1115 non-null int32\n",
      "CompetitionOpenSinceYear     1115 non-null int32\n",
      "Promo2                       1115 non-null int64\n",
      "Promo2SinceWeek              1115 non-null int32\n",
      "Promo2SinceYear              1115 non-null int32\n",
      "PromoInterval1               1115 non-null int32\n",
      "PromoInterval2               1115 non-null int32\n",
      "PromoInterval3               1115 non-null int32\n",
      "PromoInterval4               1115 non-null int32\n",
      "Assortment_1                 1115 non-null uint8\n",
      "Assortment_2                 1115 non-null uint8\n",
      "Assortment_3                 1115 non-null uint8\n",
      "StoreType_1                  1115 non-null uint8\n",
      "StoreType_2                  1115 non-null uint8\n",
      "StoreType_3                  1115 non-null uint8\n",
      "StoreType_4                  1115 non-null uint8\n",
      "dtypes: int32(9), int64(2), uint8(7)\n",
      "memory usage: 64.3 KB\n"
     ]
    }
   ],
   "source": [
    "store.info()"
   ]
  },
  {
   "cell_type": "markdown",
   "metadata": {},
   "source": [
    "#### 整理train数据"
   ]
  },
  {
   "cell_type": "code",
   "execution_count": 26,
   "metadata": {},
   "outputs": [
    {
     "name": "stdout",
     "output_type": "stream",
     "text": [
      "<class 'pandas.core.frame.DataFrame'>\n",
      "RangeIndex: 1017209 entries, 0 to 1017208\n",
      "Data columns (total 9 columns):\n",
      "Store            1017209 non-null int64\n",
      "DayOfWeek        1017209 non-null int64\n",
      "Date             1017209 non-null object\n",
      "Sales            1017209 non-null int64\n",
      "Customers        1017209 non-null int64\n",
      "Open             1017209 non-null int64\n",
      "Promo            1017209 non-null int64\n",
      "StateHoliday     1017209 non-null object\n",
      "SchoolHoliday    1017209 non-null int64\n",
      "dtypes: int64(7), object(2)\n",
      "memory usage: 69.8+ MB\n"
     ]
    }
   ],
   "source": [
    "train.info()"
   ]
  },
  {
   "cell_type": "code",
   "execution_count": 27,
   "metadata": {},
   "outputs": [
    {
     "name": "stdout",
     "output_type": "stream",
     "text": [
      "0    172817\n",
      "Name: Sales, dtype: int64\n",
      "0    172817\n",
      "Name: Customers, dtype: int64\n"
     ]
    }
   ],
   "source": [
    "# 查看open为0的数据的Sales和Customers\n",
    "print(train.query('Open==\"0\"')['Sales'].value_counts())\n",
    "print(train.query('Open==\"0\"')['Customers'].value_counts())"
   ]
  },
  {
   "cell_type": "code",
   "execution_count": 28,
   "metadata": {},
   "outputs": [
    {
     "data": {
      "text/plain": [
       "844392"
      ]
     },
     "execution_count": 28,
     "metadata": {},
     "output_type": "execute_result"
    }
   ],
   "source": [
    "#可以认为open为0对于训练没有什么帮助所以我们只训练open==1的\n",
    "len(train.query('Open==1'))"
   ]
  },
  {
   "cell_type": "code",
   "execution_count": 29,
   "metadata": {
    "collapsed": true
   },
   "outputs": [],
   "source": [
    "# 844392+172817=1017209 所以open==1作为训练对象\n",
    "train=train.query('Open==1')"
   ]
  },
  {
   "cell_type": "code",
   "execution_count": 30,
   "metadata": {
    "collapsed": true
   },
   "outputs": [],
   "source": [
    "# 按照test的方式处理Data\n",
    "train['Date']=pd.to_datetime(train['Date'])\n",
    "\n",
    "train['Year']=train['Date'].dt.year\n",
    "train['Month']=train['Date'].dt.month\n",
    "train['Day']=train['Date'].dt.day\n",
    "train['WeekOfYear']=train['Date'].dt.weekofyear\n",
    "train['DayOfWeek']=train['Date'].dt.dayofweek\n",
    "train.drop('Date',axis=1, inplace=True)"
   ]
  },
  {
   "cell_type": "code",
   "execution_count": 31,
   "metadata": {
    "collapsed": true
   },
   "outputs": [],
   "source": [
    "#设置StateHoliday a:1,b:2,c:3\n",
    "train.loc[train[\"StateHoliday\"]=='a','StateHoliday']=1\n",
    "train.loc[train[\"StateHoliday\"]=='b','StateHoliday']=2\n",
    "train.loc[train[\"StateHoliday\"]=='c','StateHoliday']=3\n",
    "train['StateHoliday']=train['StateHoliday'].astype(int)"
   ]
  },
  {
   "cell_type": "code",
   "execution_count": 32,
   "metadata": {},
   "outputs": [
    {
     "name": "stdout",
     "output_type": "stream",
     "text": [
      "<class 'pandas.core.frame.DataFrame'>\n",
      "Int64Index: 844392 entries, 0 to 1017190\n",
      "Data columns (total 12 columns):\n",
      "Store            844392 non-null int64\n",
      "DayOfWeek        844392 non-null int64\n",
      "Sales            844392 non-null int64\n",
      "Customers        844392 non-null int64\n",
      "Open             844392 non-null int64\n",
      "Promo            844392 non-null int64\n",
      "StateHoliday     844392 non-null int32\n",
      "SchoolHoliday    844392 non-null int64\n",
      "Year             844392 non-null int64\n",
      "Month            844392 non-null int64\n",
      "Day              844392 non-null int64\n",
      "WeekOfYear       844392 non-null int64\n",
      "dtypes: int32(1), int64(11)\n",
      "memory usage: 80.5 MB\n",
      "None\n"
     ]
    }
   ],
   "source": [
    "print(train.info())"
   ]
  },
  {
   "cell_type": "markdown",
   "metadata": {},
   "source": [
    "#### 合并数据"
   ]
  },
  {
   "cell_type": "code",
   "execution_count": 33,
   "metadata": {},
   "outputs": [
    {
     "data": {
      "text/html": [
       "<div>\n",
       "<style>\n",
       "    .dataframe thead tr:only-child th {\n",
       "        text-align: right;\n",
       "    }\n",
       "\n",
       "    .dataframe thead th {\n",
       "        text-align: left;\n",
       "    }\n",
       "\n",
       "    .dataframe tbody tr th {\n",
       "        vertical-align: top;\n",
       "    }\n",
       "</style>\n",
       "<table border=\"1\" class=\"dataframe\">\n",
       "  <thead>\n",
       "    <tr style=\"text-align: right;\">\n",
       "      <th></th>\n",
       "      <th>Id</th>\n",
       "      <th>Sales</th>\n",
       "    </tr>\n",
       "  </thead>\n",
       "  <tbody>\n",
       "    <tr>\n",
       "      <th>543</th>\n",
       "      <td>544</td>\n",
       "      <td>0</td>\n",
       "    </tr>\n",
       "    <tr>\n",
       "      <th>676</th>\n",
       "      <td>677</td>\n",
       "      <td>0</td>\n",
       "    </tr>\n",
       "    <tr>\n",
       "      <th>840</th>\n",
       "      <td>841</td>\n",
       "      <td>0</td>\n",
       "    </tr>\n",
       "    <tr>\n",
       "      <th>1399</th>\n",
       "      <td>1400</td>\n",
       "      <td>0</td>\n",
       "    </tr>\n",
       "    <tr>\n",
       "      <th>1532</th>\n",
       "      <td>1533</td>\n",
       "      <td>0</td>\n",
       "    </tr>\n",
       "  </tbody>\n",
       "</table>\n",
       "</div>"
      ],
      "text/plain": [
       "        Id  Sales\n",
       "543    544      0\n",
       "676    677      0\n",
       "840    841      0\n",
       "1399  1400      0\n",
       "1532  1533      0"
      ]
     },
     "execution_count": 33,
     "metadata": {},
     "output_type": "execute_result"
    }
   ],
   "source": [
    "#合并test，先把test里open为0的数据提出来直接输出sales=0\n",
    "result_0=pd.DataFrame({\"Id\": test.query('Open==0')['Id'], 'Sales':0})\n",
    "result_0.head()"
   ]
  },
  {
   "cell_type": "code",
   "execution_count": 34,
   "metadata": {},
   "outputs": [
    {
     "data": {
      "text/plain": [
       "35104"
      ]
     },
     "execution_count": 34,
     "metadata": {},
     "output_type": "execute_result"
    }
   ],
   "source": [
    "len(test.query('Open==1'))"
   ]
  },
  {
   "cell_type": "code",
   "execution_count": 35,
   "metadata": {
    "collapsed": true
   },
   "outputs": [],
   "source": [
    "# 对于剩下test来跑predict再合并\n",
    "test_data = pd.merge(test.query('Open==1'), store, on='Store')"
   ]
  },
  {
   "cell_type": "code",
   "execution_count": 36,
   "metadata": {},
   "outputs": [
    {
     "name": "stdout",
     "output_type": "stream",
     "text": [
      "<class 'pandas.core.frame.DataFrame'>\n",
      "Int64Index: 35104 entries, 0 to 35103\n",
      "Data columns (total 28 columns):\n",
      "Id                           35104 non-null int64\n",
      "Store                        35104 non-null int64\n",
      "DayOfWeek                    35104 non-null int64\n",
      "Open                         35104 non-null int32\n",
      "Promo                        35104 non-null int64\n",
      "StateHoliday                 35104 non-null int32\n",
      "SchoolHoliday                35104 non-null int64\n",
      "Year                         35104 non-null int64\n",
      "Month                        35104 non-null int64\n",
      "Day                          35104 non-null int64\n",
      "WeekOfYear                   35104 non-null int64\n",
      "CompetitionDistance          35104 non-null int32\n",
      "CompetitionOpenSinceMonth    35104 non-null int32\n",
      "CompetitionOpenSinceYear     35104 non-null int32\n",
      "Promo2                       35104 non-null int64\n",
      "Promo2SinceWeek              35104 non-null int32\n",
      "Promo2SinceYear              35104 non-null int32\n",
      "PromoInterval1               35104 non-null int32\n",
      "PromoInterval2               35104 non-null int32\n",
      "PromoInterval3               35104 non-null int32\n",
      "PromoInterval4               35104 non-null int32\n",
      "Assortment_1                 35104 non-null uint8\n",
      "Assortment_2                 35104 non-null uint8\n",
      "Assortment_3                 35104 non-null uint8\n",
      "StoreType_1                  35104 non-null uint8\n",
      "StoreType_2                  35104 non-null uint8\n",
      "StoreType_3                  35104 non-null uint8\n",
      "StoreType_4                  35104 non-null uint8\n",
      "dtypes: int32(11), int64(10), uint8(7)\n",
      "memory usage: 4.7 MB\n"
     ]
    }
   ],
   "source": [
    "test_data.info()"
   ]
  },
  {
   "cell_type": "code",
   "execution_count": 37,
   "metadata": {},
   "outputs": [
    {
     "name": "stdout",
     "output_type": "stream",
     "text": [
      "<class 'pandas.core.frame.DataFrame'>\n",
      "Int64Index: 844392 entries, 0 to 1017190\n",
      "Data columns (total 12 columns):\n",
      "Store            844392 non-null int64\n",
      "DayOfWeek        844392 non-null int64\n",
      "Sales            844392 non-null int64\n",
      "Customers        844392 non-null int64\n",
      "Open             844392 non-null int64\n",
      "Promo            844392 non-null int64\n",
      "StateHoliday     844392 non-null int32\n",
      "SchoolHoliday    844392 non-null int64\n",
      "Year             844392 non-null int64\n",
      "Month            844392 non-null int64\n",
      "Day              844392 non-null int64\n",
      "WeekOfYear       844392 non-null int64\n",
      "dtypes: int32(1), int64(11)\n",
      "memory usage: 80.5 MB\n",
      "None\n",
      "<class 'pandas.core.frame.DataFrame'>\n",
      "Int64Index: 844392 entries, 0 to 844391\n",
      "Data columns (total 29 columns):\n",
      "Store                        844392 non-null int64\n",
      "DayOfWeek                    844392 non-null int64\n",
      "Sales                        844392 non-null int64\n",
      "Customers                    844392 non-null int64\n",
      "Open                         844392 non-null int64\n",
      "Promo                        844392 non-null int64\n",
      "StateHoliday                 844392 non-null int32\n",
      "SchoolHoliday                844392 non-null int64\n",
      "Year                         844392 non-null int64\n",
      "Month                        844392 non-null int64\n",
      "Day                          844392 non-null int64\n",
      "WeekOfYear                   844392 non-null int64\n",
      "CompetitionDistance          844392 non-null int32\n",
      "CompetitionOpenSinceMonth    844392 non-null int32\n",
      "CompetitionOpenSinceYear     844392 non-null int32\n",
      "Promo2                       844392 non-null int64\n",
      "Promo2SinceWeek              844392 non-null int32\n",
      "Promo2SinceYear              844392 non-null int32\n",
      "PromoInterval1               844392 non-null int32\n",
      "PromoInterval2               844392 non-null int32\n",
      "PromoInterval3               844392 non-null int32\n",
      "PromoInterval4               844392 non-null int32\n",
      "Assortment_1                 844392 non-null uint8\n",
      "Assortment_2                 844392 non-null uint8\n",
      "Assortment_3                 844392 non-null uint8\n",
      "StoreType_1                  844392 non-null uint8\n",
      "StoreType_2                  844392 non-null uint8\n",
      "StoreType_3                  844392 non-null uint8\n",
      "StoreType_4                  844392 non-null uint8\n",
      "dtypes: int32(10), int64(12), uint8(7)\n",
      "memory usage: 121.6 MB\n",
      "None\n"
     ]
    }
   ],
   "source": [
    "print(train.info())\n",
    "train_data = pd.merge(train, store, on='Store')\n",
    "print(train_data.info())"
   ]
  },
  {
   "cell_type": "code",
   "execution_count": 38,
   "metadata": {},
   "outputs": [
    {
     "name": "stdout",
     "output_type": "stream",
     "text": [
      "<class 'pandas.core.frame.DataFrame'>\n",
      "Int64Index: 35104 entries, 1 to 40909\n",
      "Data columns (total 27 columns):\n",
      "Store                        35104 non-null int64\n",
      "DayOfWeek                    35104 non-null int64\n",
      "Open                         35104 non-null int32\n",
      "Promo                        35104 non-null int64\n",
      "StateHoliday                 35104 non-null int32\n",
      "SchoolHoliday                35104 non-null int64\n",
      "Year                         35104 non-null int64\n",
      "Month                        35104 non-null int64\n",
      "Day                          35104 non-null int64\n",
      "WeekOfYear                   35104 non-null int64\n",
      "CompetitionDistance          35104 non-null int32\n",
      "CompetitionOpenSinceMonth    35104 non-null int32\n",
      "CompetitionOpenSinceYear     35104 non-null int32\n",
      "Promo2                       35104 non-null int64\n",
      "Promo2SinceWeek              35104 non-null int32\n",
      "Promo2SinceYear              35104 non-null int32\n",
      "PromoInterval1               35104 non-null int32\n",
      "PromoInterval2               35104 non-null int32\n",
      "PromoInterval3               35104 non-null int32\n",
      "PromoInterval4               35104 non-null int32\n",
      "Assortment_1                 35104 non-null uint8\n",
      "Assortment_2                 35104 non-null uint8\n",
      "Assortment_3                 35104 non-null uint8\n",
      "StoreType_1                  35104 non-null uint8\n",
      "StoreType_2                  35104 non-null uint8\n",
      "StoreType_3                  35104 non-null uint8\n",
      "StoreType_4                  35104 non-null uint8\n",
      "dtypes: int32(11), int64(9), uint8(7)\n",
      "memory usage: 4.4 MB\n"
     ]
    }
   ],
   "source": [
    "test_data.set_index(['Id'],inplace=True)\n",
    "test_data.info()"
   ]
  },
  {
   "cell_type": "markdown",
   "metadata": {},
   "source": [
    "#### 数据探索"
   ]
  },
  {
   "cell_type": "markdown",
   "metadata": {},
   "source": [
    "将CompetitionOpenSinceMonth,CompetitionOpenSinceYear合并为一个特征CompetitionMonths，  \n",
    "将Promo2SinceWeek Promo2SinceYear PromoInterval合并为一个特征IsPromo2"
   ]
  },
  {
   "cell_type": "code",
   "execution_count": 39,
   "metadata": {},
   "outputs": [
    {
     "data": {
      "text/plain": [
       "1     86343\n",
       "3     85980\n",
       "7     85587\n",
       "6     82576\n",
       "4     81731\n",
       "2     80243\n",
       "5     80103\n",
       "8     54413\n",
       "10    53292\n",
       "9     52330\n",
       "11    51401\n",
       "12    50393\n",
       "Name: Month, dtype: int64"
      ]
     },
     "execution_count": 39,
     "metadata": {},
     "output_type": "execute_result"
    }
   ],
   "source": [
    "train_data['CompetitionOpenSinceMonth'].value_counts()    \n",
    "train_data['Month'].value_counts()"
   ]
  },
  {
   "cell_type": "code",
   "execution_count": 40,
   "metadata": {
    "collapsed": true
   },
   "outputs": [],
   "source": [
    "# 先处理train的\n",
    "# 计算月份相差\n",
    "train_data['CompetitionMonths']=(train_data['Year']-train_data['CompetitionOpenSinceYear'])*12+(train_data['Month']-train_data['CompetitionOpenSinceMonth'])\n"
   ]
  },
  {
   "cell_type": "code",
   "execution_count": 41,
   "metadata": {},
   "outputs": [
    {
     "data": {
      "text/plain": [
       "615236    1900\n",
       "615237    1900\n",
       "615238    1900\n",
       "615239    1900\n",
       "615240    1900\n",
       "615241    1900\n",
       "615242    1900\n",
       "615243    1900\n",
       "615244    1900\n",
       "615245    1900\n",
       "615246    1900\n",
       "615247    1900\n",
       "615248    1900\n",
       "615249    1900\n",
       "615250    1900\n",
       "615251    1900\n",
       "615252    1900\n",
       "615253    1900\n",
       "615254    1900\n",
       "615255    1900\n",
       "615256    1900\n",
       "615257    1900\n",
       "615258    1900\n",
       "615259    1900\n",
       "615260    1900\n",
       "615261    1900\n",
       "615262    1900\n",
       "Name: CompetitionOpenSinceYear, dtype: int32"
      ]
     },
     "execution_count": 41,
     "metadata": {},
     "output_type": "execute_result"
    }
   ],
   "source": [
    "# 如果CompetitionMonths为负数则赋值为0\n",
    "train_data['CompetitionMonths'].max()\n",
    "train_data.loc[train_data['CompetitionMonths']==1386,'CompetitionOpenSinceYear']"
   ]
  },
  {
   "cell_type": "code",
   "execution_count": 42,
   "metadata": {},
   "outputs": [
    {
     "data": {
      "text/plain": [
       "2010    309149\n",
       "2013     63108\n",
       "2012     61719\n",
       "2014     52815\n",
       "2005     46705\n",
       "2011     41366\n",
       "2009     40713\n",
       "2008     40198\n",
       "2007     36131\n",
       "2006     35543\n",
       "2015     28844\n",
       "2002     20736\n",
       "2004     16334\n",
       "2003     13834\n",
       "2001     12157\n",
       "2000      7631\n",
       "1999      6213\n",
       "1990      3887\n",
       "2030      2186\n",
       "1994      1552\n",
       "1995      1404\n",
       "1961       779\n",
       "1998       766\n",
       "1900       622\n",
       "Name: CompetitionOpenSinceYear, dtype: int64"
      ]
     },
     "execution_count": 42,
     "metadata": {},
     "output_type": "execute_result"
    }
   ],
   "source": [
    "train_data['CompetitionOpenSinceYear'].value_counts()"
   ]
  },
  {
   "cell_type": "code",
   "execution_count": 43,
   "metadata": {
    "collapsed": true
   },
   "outputs": [],
   "source": [
    "train_data.loc[train_data['CompetitionMonths']<0,'CompetitionMonths']=0"
   ]
  },
  {
   "cell_type": "code",
   "execution_count": 44,
   "metadata": {
    "collapsed": true
   },
   "outputs": [],
   "source": [
    "# 去掉CompetitionOpenSinceMonth,CompetitionOpenSinceYear\n",
    "train_data.drop(['CompetitionOpenSinceMonth','CompetitionOpenSinceYear'],axis=1, inplace=True)"
   ]
  },
  {
   "cell_type": "code",
   "execution_count": 45,
   "metadata": {
    "collapsed": true
   },
   "outputs": [],
   "source": [
    "# 对test_data做同样的操作\n",
    "test_data['CompetitionMonths']=(test_data['Year']-test_data['CompetitionOpenSinceYear'])*12+(test_data['Month']-test_data['CompetitionOpenSinceMonth'])\n",
    "test_data.loc[test_data['CompetitionMonths']<0,'CompetitionMonths']=0\n",
    "test_data.drop(['CompetitionOpenSinceMonth','CompetitionOpenSinceYear'],axis=1, inplace=True)"
   ]
  },
  {
   "cell_type": "code",
   "execution_count": 46,
   "metadata": {},
   "outputs": [
    {
     "data": {
      "text/plain": [
       "0     423307\n",
       "14     60541\n",
       "40     51507\n",
       "31     33238\n",
       "10     32214\n",
       "5      29722\n",
       "37     27116\n",
       "1      26873\n",
       "13     24579\n",
       "45     24072\n",
       "22     23645\n",
       "18     22456\n",
       "35     18888\n",
       "9      10293\n",
       "27      7925\n",
       "36      7620\n",
       "48      7033\n",
       "39      3889\n",
       "23      3558\n",
       "44      2182\n",
       "26       782\n",
       "50       780\n",
       "28       779\n",
       "6        771\n",
       "49       622\n",
       "Name: Promo2SinceWeek, dtype: int64"
      ]
     },
     "execution_count": 46,
     "metadata": {},
     "output_type": "execute_result"
    }
   ],
   "source": [
    "train_data['Promo2SinceWeek'].value_counts()"
   ]
  },
  {
   "cell_type": "code",
   "execution_count": 47,
   "metadata": {
    "collapsed": true
   },
   "outputs": [],
   "source": [
    "# 处理Promo2相关特征\n",
    "# 先处理train_data\n",
    "train_data['IsPromo2']=0\n",
    "train_data.loc[(train_data['Promo2']==1)&((train_data['PromoInterval1']==train_data['Month'])|(train_data['PromoInterval2']==train_data['Month'])|(train_data['PromoInterval3']==train_data['Month'])|(train_data['PromoInterval4']==train_data['Month']))&(((train_data['Promo2SinceYear']==train_data['Year'])&(train_data['Promo2SinceWeek']<=train_data['WeekOfYear']))|train_data['Promo2SinceYear']<train_data['Year']),'IsPromo2']=1"
   ]
  },
  {
   "cell_type": "code",
   "execution_count": 48,
   "metadata": {},
   "outputs": [
    {
     "data": {
      "text/plain": [
       "0    718900\n",
       "1    125492\n",
       "Name: IsPromo2, dtype: int64"
      ]
     },
     "execution_count": 48,
     "metadata": {},
     "output_type": "execute_result"
    }
   ],
   "source": [
    "train_data['IsPromo2'].value_counts()"
   ]
  },
  {
   "cell_type": "code",
   "execution_count": 49,
   "metadata": {
    "collapsed": true
   },
   "outputs": [],
   "source": [
    "# 计算参加Promo2的时间按周计算，如果Promo2为0就为0\n",
    "train_data['Promo2weeks']=train_data['Promo2']*((train_data['Year']-train_data['Promo2SinceYear'])*54+(train_data['WeekOfYear']-train_data['Promo2SinceWeek']))"
   ]
  },
  {
   "cell_type": "code",
   "execution_count": 50,
   "metadata": {
    "collapsed": true
   },
   "outputs": [],
   "source": [
    "# 如果为负数就设置为0\n",
    "train_data.loc[train_data['Promo2weeks']<0,'Promo2weeks']=0"
   ]
  },
  {
   "cell_type": "code",
   "execution_count": 51,
   "metadata": {},
   "outputs": [
    {
     "data": {
      "text/plain": [
       "0      481933\n",
       "100      1820\n",
       "101      1811\n",
       "96       1779\n",
       "105      1768\n",
       "98       1738\n",
       "95       1715\n",
       "99       1709\n",
       "106      1681\n",
       "97       1677\n",
       "102      1674\n",
       "104      1667\n",
       "103      1644\n",
       "108      1619\n",
       "128      1613\n",
       "107      1608\n",
       "129      1601\n",
       "109      1599\n",
       "110      1598\n",
       "111      1589\n",
       "33       1586\n",
       "38       1586\n",
       "41       1584\n",
       "124      1578\n",
       "133      1566\n",
       "131      1561\n",
       "132      1556\n",
       "119      1549\n",
       "187      1543\n",
       "42       1541\n",
       "        ...  \n",
       "289       431\n",
       "291       430\n",
       "286       427\n",
       "308       425\n",
       "287       425\n",
       "292       414\n",
       "297       408\n",
       "299       407\n",
       "309       403\n",
       "305       402\n",
       "294       398\n",
       "307       389\n",
       "293       384\n",
       "310       379\n",
       "302       373\n",
       "301       373\n",
       "312       258\n",
       "314       258\n",
       "317       252\n",
       "316       251\n",
       "315       251\n",
       "313       251\n",
       "311       251\n",
       "318       217\n",
       "323        42\n",
       "322        42\n",
       "321        42\n",
       "320        42\n",
       "319        42\n",
       "324        35\n",
       "Name: Promo2weeks, Length: 325, dtype: int64"
      ]
     },
     "execution_count": 51,
     "metadata": {},
     "output_type": "execute_result"
    }
   ],
   "source": [
    "train_data['Promo2weeks'].value_counts()"
   ]
  },
  {
   "cell_type": "code",
   "execution_count": 52,
   "metadata": {
    "collapsed": true
   },
   "outputs": [],
   "source": [
    "# 删除Promo2SinceWeek Promo2SinceYear PromoInterval\n",
    "train_data.drop(['Promo2SinceWeek','Promo2SinceYear','PromoInterval1','PromoInterval2','PromoInterval3','PromoInterval4'],axis=1, inplace=True)"
   ]
  },
  {
   "cell_type": "code",
   "execution_count": 53,
   "metadata": {
    "collapsed": true
   },
   "outputs": [],
   "source": [
    "# 在test_data上也按照这个思路处理Promo2相关特征\n",
    "test_data['IsPromo2']=0\n",
    "test_data.loc[(test_data['Promo2']==1)&((test_data['PromoInterval1']==test_data['Month'])|(test_data['PromoInterval2']==test_data['Month'])|(test_data['PromoInterval3']==test_data['Month'])|(test_data['PromoInterval4']==test_data['Month']))&(((test_data['Promo2SinceYear']==test_data['Year'])&(test_data['Promo2SinceWeek']<=test_data['WeekOfYear']))|test_data['Promo2SinceYear']<test_data['Year']),'IsPromo2']=1"
   ]
  },
  {
   "cell_type": "code",
   "execution_count": 54,
   "metadata": {
    "collapsed": true
   },
   "outputs": [],
   "source": [
    "test_data['Promo2weeks']=test_data['Promo2']*((test_data['Year']-test_data['Promo2SinceYear'])*54+(test_data['WeekOfYear']-test_data['Promo2SinceWeek']))"
   ]
  },
  {
   "cell_type": "code",
   "execution_count": 55,
   "metadata": {
    "collapsed": true
   },
   "outputs": [],
   "source": [
    "test_data.loc[test_data['Promo2weeks']<0,'Promo2weeks']=0"
   ]
  },
  {
   "cell_type": "code",
   "execution_count": 56,
   "metadata": {
    "collapsed": true
   },
   "outputs": [],
   "source": [
    "test_data.drop(['Promo2SinceWeek','Promo2SinceYear','PromoInterval1','PromoInterval2','PromoInterval3','PromoInterval4'],axis=1, inplace=True)"
   ]
  },
  {
   "cell_type": "code",
   "execution_count": 57,
   "metadata": {
    "collapsed": true
   },
   "outputs": [],
   "source": [
    "# 对StateHoliday做one_hot\n",
    "# 先对train_data\n",
    "train_data= pd.concat([train_data,pd.get_dummies(train_data['StateHoliday'],prefix='StateHoliday')], axis=1)\n",
    "train_data.drop('StateHoliday',axis=1, inplace=True)"
   ]
  },
  {
   "cell_type": "code",
   "execution_count": 58,
   "metadata": {
    "collapsed": true
   },
   "outputs": [],
   "source": [
    "# 再处理test_data\n",
    "test_data= pd.concat([test_data,pd.get_dummies(test_data['StateHoliday'],prefix='StateHoliday')], axis=1)\n",
    "test_data.drop('StateHoliday',axis=1, inplace=True)"
   ]
  },
  {
   "cell_type": "code",
   "execution_count": 59,
   "metadata": {},
   "outputs": [
    {
     "name": "stdout",
     "output_type": "stream",
     "text": [
      "Index(['Store', 'DayOfWeek', 'Sales', 'Customers', 'Open', 'Promo',\n",
      "       'SchoolHoliday', 'Year', 'Month', 'Day', 'WeekOfYear',\n",
      "       'CompetitionDistance', 'Promo2', 'Assortment_1', 'Assortment_2',\n",
      "       'Assortment_3', 'StoreType_1', 'StoreType_2', 'StoreType_3',\n",
      "       'StoreType_4', 'CompetitionMonths', 'IsPromo2', 'Promo2weeks',\n",
      "       'StateHoliday_0', 'StateHoliday_1', 'StateHoliday_2', 'StateHoliday_3'],\n",
      "      dtype='object')\n",
      "Index(['Store', 'DayOfWeek', 'Open', 'Promo', 'SchoolHoliday', 'Year', 'Month',\n",
      "       'Day', 'WeekOfYear', 'CompetitionDistance', 'Promo2', 'Assortment_1',\n",
      "       'Assortment_2', 'Assortment_3', 'StoreType_1', 'StoreType_2',\n",
      "       'StoreType_3', 'StoreType_4', 'CompetitionMonths', 'IsPromo2',\n",
      "       'Promo2weeks', 'StateHoliday_0', 'StateHoliday_1'],\n",
      "      dtype='object')\n"
     ]
    }
   ],
   "source": [
    "print(train_data.columns)\n",
    "print(test_data.columns)\n"
   ]
  },
  {
   "cell_type": "code",
   "execution_count": 60,
   "metadata": {},
   "outputs": [
    {
     "name": "stdout",
     "output_type": "stream",
     "text": [
      "0    844247\n",
      "1       145\n",
      "Name: StateHoliday_2, dtype: int64\n"
     ]
    }
   ],
   "source": [
    "print(train_data['StateHoliday_2'].value_counts())"
   ]
  },
  {
   "cell_type": "code",
   "execution_count": 61,
   "metadata": {
    "collapsed": true
   },
   "outputs": [],
   "source": [
    "# 补充test_data相对于train_data少的两个特征\n",
    "test_data['StateHoliday_2']=0\n",
    "test_data['StateHoliday_3']=0"
   ]
  },
  {
   "cell_type": "markdown",
   "metadata": {},
   "source": [
    "#### 建模准备"
   ]
  },
  {
   "cell_type": "code",
   "execution_count": 62,
   "metadata": {
    "collapsed": true
   },
   "outputs": [],
   "source": [
    "# Store字段转变为object\n",
    "# train_data['Store']=train_data['Store'].astype(object)\n",
    "# test_data['Store']=test_data['Store'].astype(object)"
   ]
  },
  {
   "cell_type": "code",
   "execution_count": 63,
   "metadata": {
    "collapsed": true
   },
   "outputs": [],
   "source": [
    "# 确认训练特征和比对label\n",
    "train_target=train_data['Sales']\n",
    "train_data.drop(['Customers','Sales'],axis=1,inplace=True)"
   ]
  },
  {
   "cell_type": "code",
   "execution_count": 64,
   "metadata": {
    "collapsed": true
   },
   "outputs": [],
   "source": [
    "X_train, X_test, y_train, y_test =train_test_split(train_data,train_target, test_size=0.1, random_state=0)\n",
    "dtrain = xgb.DMatrix(X_train, np.log1p(y_train))\n",
    "dvalid = xgb.DMatrix(X_test, np.log1p(y_test))"
   ]
  },
  {
   "cell_type": "code",
   "execution_count": 65,
   "metadata": {
    "collapsed": true
   },
   "outputs": [],
   "source": [
    "# 建立测试函数\n",
    "def ToWeight(y):\n",
    "    w = np.zeros(y.shape, dtype=float)\n",
    "    ind = y != 0\n",
    "    w[ind] = 1./(y[ind]**2)\n",
    "    return w\n",
    "\n",
    "\n",
    "def rmspe(yhat, y):\n",
    "    w = ToWeight(y)\n",
    "    rmspe = np.sqrt(np.mean( w * (y - yhat)**2 ))\n",
    "    return rmspe\n",
    "\n",
    "\n",
    "def rmspe_xg(yhat, y):\n",
    "    # y = y.values\n",
    "    y = y.get_label()\n",
    "    y = np.exp(y) - 1\n",
    "    yhat = np.exp(yhat) - 1\n",
    "    w = ToWeight(y)\n",
    "    rmspe = np.sqrt(np.mean(w * (y - yhat)**2))\n",
    "    return \"rmspe\", rmspe"
   ]
  },
  {
   "cell_type": "code",
   "execution_count": 66,
   "metadata": {
    "collapsed": true
   },
   "outputs": [],
   "source": [
    "watchlist = [(dtrain, 'train'), (dvalid, 'eval')]\n",
    "params = {\"objective\": \"reg:linear\",\n",
    "          \"eta\": 0.3,\n",
    "          \"subsample\": 0.9,\n",
    "          \"colsample_bytree\": 0.7,\n",
    "          \"silent\": 1,\n",
    "          \"seed\": 2018\n",
    "          }\n",
    "num_trees = 20000"
   ]
  },
  {
   "cell_type": "code",
   "execution_count": 67,
   "metadata": {
    "collapsed": true
   },
   "outputs": [],
   "source": [
    "res= xgb.cv(params, dtrain, num_trees,feval=rmspe_xg,nfold=10,early_stopping_rounds=100)"
   ]
  },
  {
   "cell_type": "code",
   "execution_count": 72,
   "metadata": {},
   "outputs": [
    {
     "name": "stdout",
     "output_type": "stream",
     "text": [
      "1000\n"
     ]
    }
   ],
   "source": [
    "print(res.shape[0])"
   ]
  },
  {
   "cell_type": "code",
   "execution_count": 74,
   "metadata": {},
   "outputs": [
    {
     "name": "stdout",
     "output_type": "stream",
     "text": [
      "[0]\ttrain-rmse:5.79483\teval-rmse:5.7944\ttrain-rmspe:0.996789\teval-rmspe:0.996772\n",
      "Multiple eval metrics have been passed: 'eval-rmspe' will be used for early stopping.\n",
      "\n",
      "Will train until eval-rmspe hasn't improved in 100 rounds.\n",
      "[1]\ttrain-rmse:4.06468\teval-rmse:4.06468\ttrain-rmspe:0.981362\teval-rmspe:0.981353\n",
      "[2]\ttrain-rmse:2.8573\teval-rmse:2.85744\ttrain-rmspe:0.937456\teval-rmspe:0.937448\n",
      "[3]\ttrain-rmse:2.01646\teval-rmse:2.01677\ttrain-rmspe:0.855207\teval-rmspe:0.85511\n",
      "[4]\ttrain-rmse:1.43264\teval-rmse:1.4334\ttrain-rmspe:0.742173\teval-rmspe:0.741679\n",
      "[5]\ttrain-rmse:1.03293\teval-rmse:1.03388\ttrain-rmspe:0.618633\teval-rmspe:0.616742\n",
      "[6]\ttrain-rmse:0.762117\teval-rmse:0.763385\ttrain-rmspe:0.507125\teval-rmspe:0.502652\n",
      "[7]\ttrain-rmse:0.58421\teval-rmse:0.585794\ttrain-rmspe:0.423515\teval-rmspe:0.415042\n",
      "[8]\ttrain-rmse:0.473174\teval-rmse:0.475092\ttrain-rmspe:0.373733\teval-rmspe:0.360488\n",
      "[9]\ttrain-rmse:0.406327\teval-rmse:0.40849\ttrain-rmspe:0.351373\teval-rmspe:0.333588\n",
      "[10]\ttrain-rmse:0.367661\teval-rmse:0.36996\ttrain-rmspe:0.345864\teval-rmspe:0.324383\n",
      "[11]\ttrain-rmse:0.346991\teval-rmse:0.349331\ttrain-rmspe:0.349437\teval-rmspe:0.32578\n",
      "[12]\ttrain-rmse:0.335093\teval-rmse:0.337402\ttrain-rmspe:0.354891\teval-rmspe:0.329671\n",
      "[13]\ttrain-rmse:0.328673\teval-rmse:0.33101\ttrain-rmspe:0.36009\teval-rmspe:0.333922\n",
      "[14]\ttrain-rmse:0.323765\teval-rmse:0.326098\ttrain-rmspe:0.363308\teval-rmspe:0.336399\n",
      "[15]\ttrain-rmse:0.32051\teval-rmse:0.322713\ttrain-rmspe:0.365709\teval-rmspe:0.338077\n",
      "[16]\ttrain-rmse:0.318911\teval-rmse:0.321145\ttrain-rmspe:0.36835\teval-rmspe:0.340211\n",
      "[17]\ttrain-rmse:0.317576\teval-rmse:0.319803\ttrain-rmspe:0.371725\teval-rmspe:0.341828\n",
      "[18]\ttrain-rmse:0.311697\teval-rmse:0.31386\ttrain-rmspe:0.366563\teval-rmspe:0.33592\n",
      "[19]\ttrain-rmse:0.308389\teval-rmse:0.310972\ttrain-rmspe:0.36267\teval-rmspe:0.33259\n",
      "[20]\ttrain-rmse:0.304886\teval-rmse:0.307751\ttrain-rmspe:0.359218\teval-rmspe:0.329271\n",
      "[21]\ttrain-rmse:0.299346\teval-rmse:0.3025\ttrain-rmspe:0.354302\teval-rmspe:0.324119\n",
      "[22]\ttrain-rmse:0.298194\teval-rmse:0.301349\ttrain-rmspe:0.353236\teval-rmspe:0.322768\n",
      "[23]\ttrain-rmse:0.293543\teval-rmse:0.296656\ttrain-rmspe:0.347834\teval-rmspe:0.316451\n",
      "[24]\ttrain-rmse:0.292306\teval-rmse:0.295369\ttrain-rmspe:0.34685\teval-rmspe:0.315248\n",
      "[25]\ttrain-rmse:0.289193\teval-rmse:0.292371\ttrain-rmspe:0.344717\teval-rmspe:0.312023\n",
      "[26]\ttrain-rmse:0.288586\teval-rmse:0.291792\ttrain-rmspe:0.344659\teval-rmspe:0.311601\n",
      "[27]\ttrain-rmse:0.286748\teval-rmse:0.289988\ttrain-rmspe:0.34289\teval-rmspe:0.309605\n",
      "[28]\ttrain-rmse:0.285257\teval-rmse:0.288567\ttrain-rmspe:0.341204\teval-rmspe:0.307756\n",
      "[29]\ttrain-rmse:0.281121\teval-rmse:0.284546\ttrain-rmspe:0.336576\teval-rmspe:0.302898\n",
      "[30]\ttrain-rmse:0.278854\teval-rmse:0.282293\ttrain-rmspe:0.33415\teval-rmspe:0.300286\n",
      "[31]\ttrain-rmse:0.276923\teval-rmse:0.28049\ttrain-rmspe:0.331802\teval-rmspe:0.297924\n",
      "[32]\ttrain-rmse:0.275502\teval-rmse:0.279144\ttrain-rmspe:0.33075\teval-rmspe:0.296175\n",
      "[33]\ttrain-rmse:0.274778\teval-rmse:0.278418\ttrain-rmspe:0.330815\teval-rmspe:0.295645\n",
      "[34]\ttrain-rmse:0.268518\teval-rmse:0.272417\ttrain-rmspe:0.322724\teval-rmspe:0.288058\n",
      "[35]\ttrain-rmse:0.264825\teval-rmse:0.268953\ttrain-rmspe:0.318891\teval-rmspe:0.283599\n",
      "[36]\ttrain-rmse:0.263358\teval-rmse:0.267581\ttrain-rmspe:0.316632\teval-rmspe:0.281835\n",
      "[37]\ttrain-rmse:0.261349\teval-rmse:0.265624\ttrain-rmspe:0.314173\teval-rmspe:0.279125\n",
      "[38]\ttrain-rmse:0.257035\teval-rmse:0.261426\ttrain-rmspe:0.309569\teval-rmspe:0.273817\n",
      "[39]\ttrain-rmse:0.256477\teval-rmse:0.260869\ttrain-rmspe:0.309674\teval-rmspe:0.273344\n",
      "[40]\ttrain-rmse:0.255118\teval-rmse:0.259541\ttrain-rmspe:0.30834\teval-rmspe:0.27181\n",
      "[41]\ttrain-rmse:0.25158\teval-rmse:0.256201\ttrain-rmspe:0.304656\teval-rmspe:0.267765\n",
      "[42]\ttrain-rmse:0.250904\teval-rmse:0.255529\ttrain-rmspe:0.303962\teval-rmspe:0.266882\n",
      "[43]\ttrain-rmse:0.249247\teval-rmse:0.254\ttrain-rmspe:0.301645\teval-rmspe:0.26469\n",
      "[44]\ttrain-rmse:0.24858\teval-rmse:0.253405\ttrain-rmspe:0.301022\teval-rmspe:0.26388\n",
      "[45]\ttrain-rmse:0.245557\teval-rmse:0.250451\ttrain-rmspe:0.29736\teval-rmspe:0.259663\n",
      "[46]\ttrain-rmse:0.243771\teval-rmse:0.248806\ttrain-rmspe:0.295256\teval-rmspe:0.257527\n",
      "[47]\ttrain-rmse:0.243116\teval-rmse:0.248179\ttrain-rmspe:0.294657\teval-rmspe:0.256732\n",
      "[48]\ttrain-rmse:0.239914\teval-rmse:0.245105\ttrain-rmspe:0.291368\teval-rmspe:0.253529\n",
      "[49]\ttrain-rmse:0.2395\teval-rmse:0.24472\ttrain-rmspe:0.290892\teval-rmspe:0.253129\n",
      "[50]\ttrain-rmse:0.237238\teval-rmse:0.242522\ttrain-rmspe:0.288695\teval-rmspe:0.250598\n",
      "[51]\ttrain-rmse:0.236863\teval-rmse:0.242153\ttrain-rmspe:0.28823\teval-rmspe:0.250193\n",
      "[52]\ttrain-rmse:0.235369\teval-rmse:0.240751\ttrain-rmspe:0.286771\teval-rmspe:0.248594\n",
      "[53]\ttrain-rmse:0.232204\teval-rmse:0.237705\ttrain-rmspe:0.283603\teval-rmspe:0.245026\n",
      "[54]\ttrain-rmse:0.231081\teval-rmse:0.23666\ttrain-rmspe:0.282426\teval-rmspe:0.2437\n",
      "[55]\ttrain-rmse:0.23075\teval-rmse:0.236352\ttrain-rmspe:0.282664\teval-rmspe:0.243384\n",
      "[56]\ttrain-rmse:0.228296\teval-rmse:0.234097\ttrain-rmspe:0.280257\teval-rmspe:0.240736\n",
      "[57]\ttrain-rmse:0.226318\teval-rmse:0.232206\ttrain-rmspe:0.278399\teval-rmspe:0.238631\n",
      "[58]\ttrain-rmse:0.226026\teval-rmse:0.231903\ttrain-rmspe:0.278149\teval-rmspe:0.238141\n",
      "[59]\ttrain-rmse:0.225612\teval-rmse:0.231545\ttrain-rmspe:0.277652\teval-rmspe:0.237545\n",
      "[60]\ttrain-rmse:0.223428\teval-rmse:0.229542\ttrain-rmspe:0.275189\teval-rmspe:0.234903\n",
      "[61]\ttrain-rmse:0.221145\teval-rmse:0.227422\ttrain-rmspe:0.272101\teval-rmspe:0.231631\n",
      "[62]\ttrain-rmse:0.220222\teval-rmse:0.226566\ttrain-rmspe:0.271309\teval-rmspe:0.230629\n",
      "[63]\ttrain-rmse:0.219656\teval-rmse:0.226043\ttrain-rmspe:0.27113\teval-rmspe:0.229979\n",
      "[64]\ttrain-rmse:0.218328\teval-rmse:0.224722\ttrain-rmspe:0.269734\teval-rmspe:0.228364\n",
      "[65]\ttrain-rmse:0.217917\teval-rmse:0.224307\ttrain-rmspe:0.268969\teval-rmspe:0.227557\n",
      "[66]\ttrain-rmse:0.217745\teval-rmse:0.224161\ttrain-rmspe:0.26882\teval-rmspe:0.227397\n",
      "[67]\ttrain-rmse:0.215895\teval-rmse:0.222354\ttrain-rmspe:0.267184\teval-rmspe:0.225496\n",
      "[68]\ttrain-rmse:0.214853\teval-rmse:0.221375\ttrain-rmspe:0.266144\teval-rmspe:0.224346\n",
      "[69]\ttrain-rmse:0.213571\teval-rmse:0.220274\ttrain-rmspe:0.264176\teval-rmspe:0.222995\n",
      "[70]\ttrain-rmse:0.212547\teval-rmse:0.219328\ttrain-rmspe:0.263372\teval-rmspe:0.221884\n",
      "[71]\ttrain-rmse:0.211991\teval-rmse:0.218977\ttrain-rmspe:0.263743\teval-rmspe:0.221596\n",
      "[72]\ttrain-rmse:0.210548\teval-rmse:0.217622\ttrain-rmspe:0.262414\teval-rmspe:0.21998\n",
      "[73]\ttrain-rmse:0.209097\teval-rmse:0.216304\ttrain-rmspe:0.26101\teval-rmspe:0.218564\n",
      "[74]\ttrain-rmse:0.20736\teval-rmse:0.214701\ttrain-rmspe:0.259434\teval-rmspe:0.216699\n",
      "[75]\ttrain-rmse:0.207088\teval-rmse:0.214424\ttrain-rmspe:0.25895\teval-rmspe:0.216361\n",
      "[76]\ttrain-rmse:0.205706\teval-rmse:0.213121\ttrain-rmspe:0.257111\teval-rmspe:0.214435\n",
      "[77]\ttrain-rmse:0.204008\teval-rmse:0.211571\ttrain-rmspe:0.255391\teval-rmspe:0.212613\n",
      "[78]\ttrain-rmse:0.203352\teval-rmse:0.210935\ttrain-rmspe:0.254698\teval-rmspe:0.211928\n",
      "[79]\ttrain-rmse:0.201522\teval-rmse:0.209155\ttrain-rmspe:0.253185\teval-rmspe:0.209635\n",
      "[80]\ttrain-rmse:0.200651\teval-rmse:0.208302\ttrain-rmspe:0.252369\teval-rmspe:0.208753\n",
      "[81]\ttrain-rmse:0.199936\teval-rmse:0.2076\ttrain-rmspe:0.251669\teval-rmspe:0.20797\n",
      "[82]\ttrain-rmse:0.19923\teval-rmse:0.207005\ttrain-rmspe:0.251094\teval-rmspe:0.207301\n",
      "[83]\ttrain-rmse:0.19897\teval-rmse:0.20676\ttrain-rmspe:0.250882\teval-rmspe:0.207053\n",
      "[84]\ttrain-rmse:0.198549\teval-rmse:0.206362\ttrain-rmspe:0.250727\teval-rmspe:0.206655\n",
      "[85]\ttrain-rmse:0.198234\teval-rmse:0.206066\ttrain-rmspe:0.250083\teval-rmspe:0.206294\n",
      "[86]\ttrain-rmse:0.196684\teval-rmse:0.204681\ttrain-rmspe:0.248622\teval-rmspe:0.204676\n",
      "[87]\ttrain-rmse:0.195763\teval-rmse:0.203788\ttrain-rmspe:0.247831\teval-rmspe:0.203679\n",
      "[88]\ttrain-rmse:0.19435\teval-rmse:0.202422\ttrain-rmspe:0.246887\teval-rmspe:0.20218\n",
      "[89]\ttrain-rmse:0.194109\teval-rmse:0.202203\ttrain-rmspe:0.246678\teval-rmspe:0.201816\n",
      "[90]\ttrain-rmse:0.193\teval-rmse:0.201181\ttrain-rmspe:0.245347\teval-rmspe:0.200414\n",
      "[91]\ttrain-rmse:0.19094\teval-rmse:0.199209\ttrain-rmspe:0.24333\teval-rmspe:0.198099\n",
      "[92]\ttrain-rmse:0.190135\teval-rmse:0.198486\ttrain-rmspe:0.242451\teval-rmspe:0.197215\n",
      "[93]\ttrain-rmse:0.188899\teval-rmse:0.197249\ttrain-rmspe:0.241418\teval-rmspe:0.195851\n",
      "[94]\ttrain-rmse:0.188729\teval-rmse:0.197075\ttrain-rmspe:0.241292\teval-rmspe:0.195701\n",
      "[95]\ttrain-rmse:0.187535\teval-rmse:0.19598\ttrain-rmspe:0.239854\teval-rmspe:0.194403\n"
     ]
    },
    {
     "name": "stdout",
     "output_type": "stream",
     "text": [
      "[96]\ttrain-rmse:0.186062\teval-rmse:0.194605\ttrain-rmspe:0.238489\teval-rmspe:0.192793\n",
      "[97]\ttrain-rmse:0.185823\teval-rmse:0.194372\ttrain-rmspe:0.238279\teval-rmspe:0.192488\n",
      "[98]\ttrain-rmse:0.185639\teval-rmse:0.194217\ttrain-rmspe:0.238123\teval-rmspe:0.192314\n",
      "[99]\ttrain-rmse:0.184994\teval-rmse:0.193623\ttrain-rmspe:0.237525\teval-rmspe:0.191602\n",
      "[100]\ttrain-rmse:0.184217\teval-rmse:0.192912\ttrain-rmspe:0.236833\teval-rmspe:0.190714\n",
      "[101]\ttrain-rmse:0.183692\teval-rmse:0.192451\ttrain-rmspe:0.236403\teval-rmspe:0.190198\n",
      "[102]\ttrain-rmse:0.183212\teval-rmse:0.192024\ttrain-rmspe:0.23599\teval-rmspe:0.189667\n",
      "[103]\ttrain-rmse:0.181582\teval-rmse:0.190502\ttrain-rmspe:0.234327\teval-rmspe:0.187785\n",
      "[104]\ttrain-rmse:0.181395\teval-rmse:0.190343\ttrain-rmspe:0.234117\teval-rmspe:0.187552\n",
      "[105]\ttrain-rmse:0.181227\teval-rmse:0.190208\ttrain-rmspe:0.233909\teval-rmspe:0.18729\n",
      "[106]\ttrain-rmse:0.180231\teval-rmse:0.189406\ttrain-rmspe:0.233239\teval-rmspe:0.186409\n",
      "[107]\ttrain-rmse:0.179899\teval-rmse:0.189081\ttrain-rmspe:0.232752\teval-rmspe:0.185984\n",
      "[108]\ttrain-rmse:0.179697\teval-rmse:0.188918\ttrain-rmspe:0.2325\teval-rmspe:0.185693\n",
      "[109]\ttrain-rmse:0.179183\teval-rmse:0.18845\ttrain-rmspe:0.23136\teval-rmspe:0.185212\n",
      "[110]\ttrain-rmse:0.178489\teval-rmse:0.187826\ttrain-rmspe:0.230532\teval-rmspe:0.184316\n",
      "[111]\ttrain-rmse:0.17834\teval-rmse:0.187683\ttrain-rmspe:0.230397\teval-rmspe:0.184166\n",
      "[112]\ttrain-rmse:0.178105\teval-rmse:0.18747\ttrain-rmspe:0.230144\teval-rmspe:0.183967\n",
      "[113]\ttrain-rmse:0.177267\teval-rmse:0.186644\ttrain-rmspe:0.229489\teval-rmspe:0.183202\n",
      "[114]\ttrain-rmse:0.176828\teval-rmse:0.186237\ttrain-rmspe:0.229071\teval-rmspe:0.182729\n",
      "[115]\ttrain-rmse:0.176367\teval-rmse:0.1858\ttrain-rmspe:0.228664\teval-rmspe:0.182273\n",
      "[116]\ttrain-rmse:0.175414\teval-rmse:0.184866\ttrain-rmspe:0.230508\teval-rmspe:0.181037\n",
      "[117]\ttrain-rmse:0.174868\teval-rmse:0.184348\ttrain-rmspe:0.229766\teval-rmspe:0.180309\n",
      "[118]\ttrain-rmse:0.174441\teval-rmse:0.183961\ttrain-rmspe:0.22939\teval-rmspe:0.179735\n",
      "[119]\ttrain-rmse:0.174157\teval-rmse:0.183713\ttrain-rmspe:0.22915\teval-rmspe:0.179418\n",
      "[120]\ttrain-rmse:0.173813\teval-rmse:0.183377\ttrain-rmspe:0.228724\teval-rmspe:0.179019\n",
      "[121]\ttrain-rmse:0.173178\teval-rmse:0.182803\ttrain-rmspe:0.228009\teval-rmspe:0.178316\n",
      "[122]\ttrain-rmse:0.172848\teval-rmse:0.182518\ttrain-rmspe:0.22776\teval-rmspe:0.177937\n",
      "[123]\ttrain-rmse:0.172363\teval-rmse:0.182132\ttrain-rmspe:0.227409\teval-rmspe:0.177506\n",
      "[124]\ttrain-rmse:0.172021\teval-rmse:0.181795\ttrain-rmspe:0.227195\teval-rmspe:0.177147\n",
      "[125]\ttrain-rmse:0.171737\teval-rmse:0.181526\ttrain-rmspe:0.226948\teval-rmspe:0.176832\n",
      "[126]\ttrain-rmse:0.171365\teval-rmse:0.181195\ttrain-rmspe:0.226456\teval-rmspe:0.176435\n",
      "[127]\ttrain-rmse:0.170903\teval-rmse:0.180818\ttrain-rmspe:0.225878\teval-rmspe:0.175909\n",
      "[128]\ttrain-rmse:0.170174\teval-rmse:0.18008\ttrain-rmspe:0.224679\teval-rmspe:0.17473\n",
      "[129]\ttrain-rmse:0.169522\teval-rmse:0.179494\ttrain-rmspe:0.224039\teval-rmspe:0.17394\n",
      "[130]\ttrain-rmse:0.169406\teval-rmse:0.179401\ttrain-rmspe:0.22438\teval-rmspe:0.173849\n",
      "[131]\ttrain-rmse:0.16895\teval-rmse:0.178978\ttrain-rmspe:0.224071\teval-rmspe:0.173413\n",
      "[132]\ttrain-rmse:0.168681\teval-rmse:0.178746\ttrain-rmspe:0.223825\teval-rmspe:0.173153\n",
      "[133]\ttrain-rmse:0.167985\teval-rmse:0.17807\ttrain-rmspe:0.223355\teval-rmspe:0.172439\n",
      "[134]\ttrain-rmse:0.167786\teval-rmse:0.17785\ttrain-rmspe:0.223416\teval-rmspe:0.172192\n",
      "[135]\ttrain-rmse:0.1673\teval-rmse:0.177446\ttrain-rmspe:0.222979\teval-rmspe:0.171768\n",
      "[136]\ttrain-rmse:0.166973\teval-rmse:0.177133\ttrain-rmspe:0.222665\teval-rmspe:0.171338\n",
      "[137]\ttrain-rmse:0.166387\teval-rmse:0.176559\ttrain-rmspe:0.222127\teval-rmspe:0.170652\n",
      "[138]\ttrain-rmse:0.165939\teval-rmse:0.176336\ttrain-rmspe:0.221757\teval-rmspe:0.170391\n",
      "[139]\ttrain-rmse:0.165562\teval-rmse:0.175996\ttrain-rmspe:0.221395\teval-rmspe:0.169979\n",
      "[140]\ttrain-rmse:0.165425\teval-rmse:0.175866\ttrain-rmspe:0.22091\teval-rmspe:0.16981\n",
      "[141]\ttrain-rmse:0.164876\teval-rmse:0.175355\ttrain-rmspe:0.220395\teval-rmspe:0.169128\n",
      "[142]\ttrain-rmse:0.164493\teval-rmse:0.174996\ttrain-rmspe:0.220021\teval-rmspe:0.168636\n",
      "[143]\ttrain-rmse:0.164114\teval-rmse:0.174546\ttrain-rmspe:0.219644\teval-rmspe:0.168211\n",
      "[144]\ttrain-rmse:0.163866\teval-rmse:0.174312\ttrain-rmspe:0.219454\teval-rmspe:0.167957\n",
      "[145]\ttrain-rmse:0.163103\teval-rmse:0.173618\ttrain-rmspe:0.218282\teval-rmspe:0.166966\n",
      "[146]\ttrain-rmse:0.162832\teval-rmse:0.173429\ttrain-rmspe:0.217944\teval-rmspe:0.166733\n",
      "[147]\ttrain-rmse:0.16248\teval-rmse:0.173077\ttrain-rmspe:0.217677\teval-rmspe:0.166376\n",
      "[148]\ttrain-rmse:0.162151\teval-rmse:0.172756\ttrain-rmspe:0.217374\teval-rmspe:0.165983\n",
      "[149]\ttrain-rmse:0.161547\teval-rmse:0.172305\ttrain-rmspe:0.216933\teval-rmspe:0.16549\n",
      "[150]\ttrain-rmse:0.161062\teval-rmse:0.17184\ttrain-rmspe:0.216472\teval-rmspe:0.16491\n",
      "[151]\ttrain-rmse:0.16076\teval-rmse:0.171555\ttrain-rmspe:0.216016\teval-rmspe:0.164498\n",
      "[152]\ttrain-rmse:0.160421\teval-rmse:0.171242\ttrain-rmspe:0.215794\teval-rmspe:0.164029\n",
      "[153]\ttrain-rmse:0.160023\teval-rmse:0.170887\ttrain-rmspe:0.215393\teval-rmspe:0.16356\n",
      "[154]\ttrain-rmse:0.159491\teval-rmse:0.1704\ttrain-rmspe:0.214959\teval-rmspe:0.163044\n",
      "[155]\ttrain-rmse:0.159012\teval-rmse:0.169998\ttrain-rmspe:0.214596\teval-rmspe:0.162603\n",
      "[156]\ttrain-rmse:0.158842\teval-rmse:0.169861\ttrain-rmspe:0.214448\teval-rmspe:0.162513\n",
      "[157]\ttrain-rmse:0.158448\teval-rmse:0.169517\ttrain-rmspe:0.214179\teval-rmspe:0.162163\n",
      "[158]\ttrain-rmse:0.15804\teval-rmse:0.169102\ttrain-rmspe:0.213753\teval-rmspe:0.161739\n",
      "[159]\ttrain-rmse:0.157747\teval-rmse:0.168813\ttrain-rmspe:0.213367\teval-rmspe:0.161321\n",
      "[160]\ttrain-rmse:0.157293\teval-rmse:0.168378\ttrain-rmspe:0.212874\teval-rmspe:0.160803\n",
      "[161]\ttrain-rmse:0.157015\teval-rmse:0.168143\ttrain-rmspe:0.21268\teval-rmspe:0.160566\n",
      "[162]\ttrain-rmse:0.156912\teval-rmse:0.167903\ttrain-rmspe:0.212623\teval-rmspe:0.160502\n",
      "[163]\ttrain-rmse:0.156677\teval-rmse:0.167676\ttrain-rmspe:0.212541\teval-rmspe:0.160282\n",
      "[164]\ttrain-rmse:0.156366\teval-rmse:0.16741\ttrain-rmspe:0.212092\teval-rmspe:0.159919\n",
      "[165]\ttrain-rmse:0.156292\teval-rmse:0.167329\ttrain-rmspe:0.212163\teval-rmspe:0.159814\n",
      "[166]\ttrain-rmse:0.15582\teval-rmse:0.166889\ttrain-rmspe:0.211449\teval-rmspe:0.159257\n",
      "[167]\ttrain-rmse:0.155524\teval-rmse:0.166599\ttrain-rmspe:0.21115\teval-rmspe:0.158865\n",
      "[168]\ttrain-rmse:0.15517\teval-rmse:0.166321\ttrain-rmspe:0.210931\teval-rmspe:0.158521\n",
      "[169]\ttrain-rmse:0.154693\teval-rmse:0.165867\ttrain-rmspe:0.21065\teval-rmspe:0.15794\n",
      "[170]\ttrain-rmse:0.154418\teval-rmse:0.165641\ttrain-rmspe:0.210441\teval-rmspe:0.157761\n",
      "[171]\ttrain-rmse:0.15394\teval-rmse:0.165528\ttrain-rmspe:0.210151\teval-rmspe:0.157539\n",
      "[172]\ttrain-rmse:0.153643\teval-rmse:0.165268\ttrain-rmspe:0.209891\teval-rmspe:0.157229\n",
      "[173]\ttrain-rmse:0.153527\teval-rmse:0.165141\ttrain-rmspe:0.209775\teval-rmspe:0.157077\n",
      "[174]\ttrain-rmse:0.153169\teval-rmse:0.164829\ttrain-rmspe:0.209457\teval-rmspe:0.156685\n",
      "[175]\ttrain-rmse:0.152958\teval-rmse:0.164633\ttrain-rmspe:0.209292\teval-rmspe:0.156467\n",
      "[176]\ttrain-rmse:0.152839\teval-rmse:0.164517\ttrain-rmspe:0.207458\teval-rmspe:0.156309\n",
      "[177]\ttrain-rmse:0.152593\teval-rmse:0.164295\ttrain-rmspe:0.207217\teval-rmspe:0.156028\n",
      "[178]\ttrain-rmse:0.152376\teval-rmse:0.16408\ttrain-rmspe:0.206998\teval-rmspe:0.155772\n",
      "[179]\ttrain-rmse:0.152149\teval-rmse:0.163863\ttrain-rmspe:0.206855\teval-rmspe:0.155561\n",
      "[180]\ttrain-rmse:0.152085\teval-rmse:0.163806\ttrain-rmspe:0.206805\teval-rmspe:0.155515\n",
      "[181]\ttrain-rmse:0.151877\teval-rmse:0.163618\ttrain-rmspe:0.206578\teval-rmspe:0.155327\n",
      "[182]\ttrain-rmse:0.151757\teval-rmse:0.163526\ttrain-rmspe:0.206353\teval-rmspe:0.155227\n",
      "[183]\ttrain-rmse:0.15154\teval-rmse:0.163338\ttrain-rmspe:0.206313\teval-rmspe:0.155036\n",
      "[184]\ttrain-rmse:0.151323\teval-rmse:0.163146\ttrain-rmspe:0.206103\teval-rmspe:0.154785\n",
      "[185]\ttrain-rmse:0.151268\teval-rmse:0.163096\ttrain-rmspe:0.206062\teval-rmspe:0.154742\n",
      "[186]\ttrain-rmse:0.151114\teval-rmse:0.162953\ttrain-rmspe:0.205926\teval-rmspe:0.154569\n",
      "[187]\ttrain-rmse:0.150647\teval-rmse:0.162595\ttrain-rmspe:0.20728\teval-rmspe:0.15412\n",
      "[188]\ttrain-rmse:0.150307\teval-rmse:0.1623\ttrain-rmspe:0.206983\teval-rmspe:0.153836\n",
      "[189]\ttrain-rmse:0.150207\teval-rmse:0.162214\ttrain-rmspe:0.206902\teval-rmspe:0.153715\n",
      "[190]\ttrain-rmse:0.149974\teval-rmse:0.162004\ttrain-rmspe:0.206714\teval-rmspe:0.153485\n",
      "[191]\ttrain-rmse:0.149711\teval-rmse:0.161761\ttrain-rmspe:0.206506\teval-rmspe:0.153181\n"
     ]
    },
    {
     "name": "stdout",
     "output_type": "stream",
     "text": [
      "[192]\ttrain-rmse:0.149588\teval-rmse:0.161657\ttrain-rmspe:0.206102\teval-rmspe:0.153074\n",
      "[193]\ttrain-rmse:0.149458\teval-rmse:0.161542\ttrain-rmspe:0.205901\teval-rmspe:0.152797\n",
      "[194]\ttrain-rmse:0.149106\teval-rmse:0.161195\ttrain-rmspe:0.205541\teval-rmspe:0.152308\n",
      "[195]\ttrain-rmse:0.148991\teval-rmse:0.161108\ttrain-rmspe:0.205452\teval-rmspe:0.152207\n",
      "[196]\ttrain-rmse:0.148789\teval-rmse:0.160931\ttrain-rmspe:0.205307\teval-rmspe:0.152034\n",
      "[197]\ttrain-rmse:0.148562\teval-rmse:0.160714\ttrain-rmspe:0.205076\teval-rmspe:0.151766\n",
      "[198]\ttrain-rmse:0.148483\teval-rmse:0.160645\ttrain-rmspe:0.204746\teval-rmspe:0.151691\n",
      "[199]\ttrain-rmse:0.148302\teval-rmse:0.160483\ttrain-rmspe:0.204592\teval-rmspe:0.151522\n",
      "[200]\ttrain-rmse:0.147998\teval-rmse:0.160192\ttrain-rmspe:0.204351\teval-rmspe:0.151194\n",
      "[201]\ttrain-rmse:0.147839\teval-rmse:0.160063\ttrain-rmspe:0.204225\teval-rmspe:0.15102\n",
      "[202]\ttrain-rmse:0.147698\teval-rmse:0.159931\ttrain-rmspe:0.204075\teval-rmspe:0.150867\n",
      "[203]\ttrain-rmse:0.147394\teval-rmse:0.159809\ttrain-rmspe:0.203948\teval-rmspe:0.150734\n",
      "[204]\ttrain-rmse:0.147163\teval-rmse:0.159606\ttrain-rmspe:0.203729\teval-rmspe:0.150494\n",
      "[205]\ttrain-rmse:0.146948\teval-rmse:0.159427\ttrain-rmspe:0.203443\teval-rmspe:0.150281\n",
      "[206]\ttrain-rmse:0.146862\teval-rmse:0.159348\ttrain-rmspe:0.203361\teval-rmspe:0.150173\n",
      "[207]\ttrain-rmse:0.146787\teval-rmse:0.159281\ttrain-rmspe:0.203288\teval-rmspe:0.150078\n",
      "[208]\ttrain-rmse:0.146567\teval-rmse:0.159076\ttrain-rmspe:0.203093\teval-rmspe:0.14972\n",
      "[209]\ttrain-rmse:0.146231\teval-rmse:0.15895\ttrain-rmspe:0.202942\teval-rmspe:0.149533\n",
      "[210]\ttrain-rmse:0.146076\teval-rmse:0.158821\ttrain-rmspe:0.202833\teval-rmspe:0.149419\n",
      "[211]\ttrain-rmse:0.14584\teval-rmse:0.158725\ttrain-rmspe:0.202833\teval-rmspe:0.149281\n",
      "[212]\ttrain-rmse:0.145508\teval-rmse:0.158521\ttrain-rmspe:0.202653\teval-rmspe:0.149035\n",
      "[213]\ttrain-rmse:0.14543\teval-rmse:0.158454\ttrain-rmspe:0.202588\teval-rmspe:0.148962\n",
      "[214]\ttrain-rmse:0.145353\teval-rmse:0.158401\ttrain-rmspe:0.202562\teval-rmspe:0.148901\n",
      "[215]\ttrain-rmse:0.145228\teval-rmse:0.158289\ttrain-rmspe:0.202478\teval-rmspe:0.148786\n",
      "[216]\ttrain-rmse:0.145102\teval-rmse:0.158173\ttrain-rmspe:0.20256\teval-rmspe:0.148674\n",
      "[217]\ttrain-rmse:0.144978\teval-rmse:0.158067\ttrain-rmspe:0.202472\teval-rmspe:0.148569\n",
      "[218]\ttrain-rmse:0.144777\teval-rmse:0.157909\ttrain-rmspe:0.202066\teval-rmspe:0.148201\n",
      "[219]\ttrain-rmse:0.144377\teval-rmse:0.157532\ttrain-rmspe:0.201792\teval-rmspe:0.147821\n",
      "[220]\ttrain-rmse:0.144352\teval-rmse:0.157515\ttrain-rmspe:0.201737\teval-rmspe:0.147792\n",
      "[221]\ttrain-rmse:0.144168\teval-rmse:0.157322\ttrain-rmspe:0.201561\teval-rmspe:0.147333\n",
      "[222]\ttrain-rmse:0.143854\teval-rmse:0.156301\ttrain-rmspe:0.201499\teval-rmspe:0.14721\n",
      "[223]\ttrain-rmse:0.143778\teval-rmse:0.156241\ttrain-rmspe:0.20147\teval-rmspe:0.14712\n",
      "[224]\ttrain-rmse:0.143455\teval-rmse:0.155949\ttrain-rmspe:0.201188\teval-rmspe:0.146783\n",
      "[225]\ttrain-rmse:0.143379\teval-rmse:0.155874\ttrain-rmspe:0.201097\teval-rmspe:0.146613\n",
      "[226]\ttrain-rmse:0.143016\teval-rmse:0.155522\ttrain-rmspe:0.200778\teval-rmspe:0.146209\n",
      "[227]\ttrain-rmse:0.14293\teval-rmse:0.15545\ttrain-rmspe:0.200696\teval-rmspe:0.146133\n",
      "[228]\ttrain-rmse:0.14288\teval-rmse:0.155406\ttrain-rmspe:0.200684\teval-rmspe:0.146075\n",
      "[229]\ttrain-rmse:0.142697\teval-rmse:0.155238\ttrain-rmspe:0.200539\teval-rmspe:0.145887\n",
      "[230]\ttrain-rmse:0.142447\teval-rmse:0.155181\ttrain-rmspe:0.200506\teval-rmspe:0.145808\n",
      "[231]\ttrain-rmse:0.142131\teval-rmse:0.154893\ttrain-rmspe:0.200221\teval-rmspe:0.145441\n",
      "[232]\ttrain-rmse:0.14205\teval-rmse:0.154834\ttrain-rmspe:0.20016\teval-rmspe:0.145375\n",
      "[233]\ttrain-rmse:0.141894\teval-rmse:0.15471\ttrain-rmspe:0.200024\teval-rmspe:0.145209\n",
      "[234]\ttrain-rmse:0.14175\teval-rmse:0.154569\ttrain-rmspe:0.199906\teval-rmspe:0.145022\n",
      "[235]\ttrain-rmse:0.141595\teval-rmse:0.154445\ttrain-rmspe:0.199797\teval-rmspe:0.144878\n",
      "[236]\ttrain-rmse:0.141556\teval-rmse:0.154414\ttrain-rmspe:0.199834\teval-rmspe:0.144825\n",
      "[237]\ttrain-rmse:0.141467\teval-rmse:0.154342\ttrain-rmspe:0.19974\teval-rmspe:0.144736\n",
      "[238]\ttrain-rmse:0.141416\teval-rmse:0.154302\ttrain-rmspe:0.199692\teval-rmspe:0.144697\n",
      "[239]\ttrain-rmse:0.141053\teval-rmse:0.153992\ttrain-rmspe:0.199362\teval-rmspe:0.1443\n",
      "[240]\ttrain-rmse:0.140941\teval-rmse:0.153899\ttrain-rmspe:0.199274\teval-rmspe:0.144188\n",
      "[241]\ttrain-rmse:0.140857\teval-rmse:0.153827\ttrain-rmspe:0.199225\teval-rmspe:0.144112\n",
      "[242]\ttrain-rmse:0.140748\teval-rmse:0.153741\ttrain-rmspe:0.199125\teval-rmspe:0.143995\n",
      "[243]\ttrain-rmse:0.140619\teval-rmse:0.153614\ttrain-rmspe:0.19904\teval-rmspe:0.143851\n",
      "[244]\ttrain-rmse:0.140599\teval-rmse:0.153598\ttrain-rmspe:0.199028\teval-rmspe:0.143853\n",
      "[245]\ttrain-rmse:0.140486\teval-rmse:0.15352\ttrain-rmspe:0.198767\teval-rmspe:0.143746\n",
      "[246]\ttrain-rmse:0.140237\teval-rmse:0.153301\ttrain-rmspe:0.198564\teval-rmspe:0.143415\n",
      "[247]\ttrain-rmse:0.140183\teval-rmse:0.153261\ttrain-rmspe:0.198496\teval-rmspe:0.143362\n",
      "[248]\ttrain-rmse:0.139988\teval-rmse:0.153068\ttrain-rmspe:0.198366\teval-rmspe:0.143126\n",
      "[249]\ttrain-rmse:0.139885\teval-rmse:0.152974\ttrain-rmspe:0.198266\teval-rmspe:0.143003\n",
      "[250]\ttrain-rmse:0.139827\teval-rmse:0.152931\ttrain-rmspe:0.198174\teval-rmspe:0.142958\n",
      "[251]\ttrain-rmse:0.139718\teval-rmse:0.152848\ttrain-rmspe:0.198036\teval-rmspe:0.14288\n",
      "[252]\ttrain-rmse:0.139583\teval-rmse:0.152731\ttrain-rmspe:0.197928\teval-rmspe:0.142749\n",
      "[253]\ttrain-rmse:0.139484\teval-rmse:0.152674\ttrain-rmspe:0.197877\teval-rmspe:0.142664\n",
      "[254]\ttrain-rmse:0.1394\teval-rmse:0.152589\ttrain-rmspe:0.197791\teval-rmspe:0.142555\n",
      "[255]\ttrain-rmse:0.139281\teval-rmse:0.152477\ttrain-rmspe:0.19784\teval-rmspe:0.142461\n",
      "[256]\ttrain-rmse:0.13919\teval-rmse:0.152405\ttrain-rmspe:0.197757\teval-rmspe:0.142373\n",
      "[257]\ttrain-rmse:0.138996\teval-rmse:0.152318\ttrain-rmspe:0.197623\teval-rmspe:0.14228\n",
      "[258]\ttrain-rmse:0.138919\teval-rmse:0.152253\ttrain-rmspe:0.197562\teval-rmspe:0.142187\n",
      "[259]\ttrain-rmse:0.138777\teval-rmse:0.152144\ttrain-rmspe:0.197423\teval-rmspe:0.142061\n",
      "[260]\ttrain-rmse:0.138678\teval-rmse:0.152051\ttrain-rmspe:0.197359\teval-rmspe:0.141933\n",
      "[261]\ttrain-rmse:0.138524\teval-rmse:0.151935\ttrain-rmspe:0.197272\teval-rmspe:0.141826\n",
      "[262]\ttrain-rmse:0.138302\teval-rmse:0.15171\ttrain-rmspe:0.197179\teval-rmspe:0.14147\n",
      "[263]\ttrain-rmse:0.138164\teval-rmse:0.151589\ttrain-rmspe:0.197041\teval-rmspe:0.141294\n",
      "[264]\ttrain-rmse:0.138025\teval-rmse:0.151469\ttrain-rmspe:0.196916\teval-rmspe:0.141096\n",
      "[265]\ttrain-rmse:0.137875\teval-rmse:0.151343\ttrain-rmspe:0.196811\teval-rmspe:0.141\n",
      "[266]\ttrain-rmse:0.137731\teval-rmse:0.151217\ttrain-rmspe:0.196675\teval-rmspe:0.140836\n",
      "[267]\ttrain-rmse:0.137647\teval-rmse:0.151145\ttrain-rmspe:0.196462\teval-rmspe:0.140741\n",
      "[268]\ttrain-rmse:0.13755\teval-rmse:0.151057\ttrain-rmspe:0.196393\teval-rmspe:0.140618\n",
      "[269]\ttrain-rmse:0.137481\teval-rmse:0.150994\ttrain-rmspe:0.196324\teval-rmspe:0.140551\n",
      "[270]\ttrain-rmse:0.137325\teval-rmse:0.15086\ttrain-rmspe:0.19616\teval-rmspe:0.140372\n",
      "[271]\ttrain-rmse:0.137191\teval-rmse:0.150745\ttrain-rmspe:0.196063\teval-rmspe:0.140256\n",
      "[272]\ttrain-rmse:0.137019\teval-rmse:0.150593\ttrain-rmspe:0.195677\teval-rmspe:0.140061\n",
      "[273]\ttrain-rmse:0.136852\teval-rmse:0.150438\ttrain-rmspe:0.195548\teval-rmspe:0.139858\n",
      "[274]\ttrain-rmse:0.136704\teval-rmse:0.150312\ttrain-rmspe:0.194989\teval-rmspe:0.139698\n",
      "[275]\ttrain-rmse:0.136565\teval-rmse:0.150208\ttrain-rmspe:0.194572\teval-rmspe:0.139508\n",
      "[276]\ttrain-rmse:0.136434\teval-rmse:0.150092\ttrain-rmspe:0.194028\teval-rmspe:0.139364\n",
      "[277]\ttrain-rmse:0.136319\teval-rmse:0.150002\ttrain-rmspe:0.193869\teval-rmspe:0.13926\n",
      "[278]\ttrain-rmse:0.136273\teval-rmse:0.149966\ttrain-rmspe:0.193915\teval-rmspe:0.139242\n",
      "[279]\ttrain-rmse:0.136225\teval-rmse:0.149927\ttrain-rmspe:0.193877\teval-rmspe:0.139172\n",
      "[280]\ttrain-rmse:0.136082\teval-rmse:0.149809\ttrain-rmspe:0.193753\teval-rmspe:0.139004\n",
      "[281]\ttrain-rmse:0.135865\teval-rmse:0.149623\ttrain-rmspe:0.193576\teval-rmspe:0.138784\n",
      "[282]\ttrain-rmse:0.135794\teval-rmse:0.149564\ttrain-rmspe:0.192382\teval-rmspe:0.138711\n",
      "[283]\ttrain-rmse:0.135672\teval-rmse:0.149379\ttrain-rmspe:0.192273\teval-rmspe:0.138603\n",
      "[284]\ttrain-rmse:0.135593\teval-rmse:0.149308\ttrain-rmspe:0.192224\teval-rmspe:0.138518\n",
      "[285]\ttrain-rmse:0.135528\teval-rmse:0.149249\ttrain-rmspe:0.192177\teval-rmspe:0.138458\n",
      "[286]\ttrain-rmse:0.135517\teval-rmse:0.149244\ttrain-rmspe:0.192166\teval-rmspe:0.138451\n",
      "[287]\ttrain-rmse:0.135484\teval-rmse:0.14922\ttrain-rmspe:0.192141\teval-rmspe:0.138428\n"
     ]
    },
    {
     "name": "stdout",
     "output_type": "stream",
     "text": [
      "[288]\ttrain-rmse:0.135381\teval-rmse:0.14912\ttrain-rmspe:0.192028\teval-rmspe:0.138303\n",
      "[289]\ttrain-rmse:0.135294\teval-rmse:0.149069\ttrain-rmspe:0.191814\teval-rmspe:0.138264\n",
      "[290]\ttrain-rmse:0.135166\teval-rmse:0.149021\ttrain-rmspe:0.191893\teval-rmspe:0.138204\n",
      "[291]\ttrain-rmse:0.135071\teval-rmse:0.14894\ttrain-rmspe:0.191818\teval-rmspe:0.138106\n",
      "[292]\ttrain-rmse:0.135011\teval-rmse:0.148896\ttrain-rmspe:0.191143\teval-rmspe:0.138077\n",
      "[293]\ttrain-rmse:0.134952\teval-rmse:0.148844\ttrain-rmspe:0.191161\teval-rmspe:0.137966\n",
      "[294]\ttrain-rmse:0.134856\teval-rmse:0.14877\ttrain-rmspe:0.191069\teval-rmspe:0.137879\n",
      "[295]\ttrain-rmse:0.134659\teval-rmse:0.148586\ttrain-rmspe:0.19091\teval-rmspe:0.137681\n",
      "[296]\ttrain-rmse:0.134461\teval-rmse:0.148333\ttrain-rmspe:0.190721\teval-rmspe:0.137461\n",
      "[297]\ttrain-rmse:0.134274\teval-rmse:0.148158\ttrain-rmspe:0.190582\teval-rmspe:0.137232\n",
      "[298]\ttrain-rmse:0.134033\teval-rmse:0.147939\ttrain-rmspe:0.19037\teval-rmspe:0.136974\n",
      "[299]\ttrain-rmse:0.133913\teval-rmse:0.14784\ttrain-rmspe:0.191611\teval-rmspe:0.136854\n",
      "[300]\ttrain-rmse:0.133887\teval-rmse:0.14782\ttrain-rmspe:0.191506\teval-rmspe:0.136843\n",
      "[301]\ttrain-rmse:0.133848\teval-rmse:0.1478\ttrain-rmspe:0.191475\teval-rmspe:0.136824\n",
      "[302]\ttrain-rmse:0.1337\teval-rmse:0.147679\ttrain-rmspe:0.191331\teval-rmspe:0.136707\n",
      "[303]\ttrain-rmse:0.133601\teval-rmse:0.147586\ttrain-rmspe:0.191168\teval-rmspe:0.136599\n",
      "[304]\ttrain-rmse:0.133521\teval-rmse:0.147529\ttrain-rmspe:0.191094\teval-rmspe:0.136567\n",
      "[305]\ttrain-rmse:0.133129\teval-rmse:0.14731\ttrain-rmspe:0.190787\teval-rmspe:0.136255\n",
      "[306]\ttrain-rmse:0.133038\teval-rmse:0.147233\ttrain-rmspe:0.190679\teval-rmspe:0.136168\n",
      "[307]\ttrain-rmse:0.132976\teval-rmse:0.147172\ttrain-rmspe:0.190641\teval-rmspe:0.136119\n",
      "[308]\ttrain-rmse:0.132881\teval-rmse:0.147111\ttrain-rmspe:0.190594\teval-rmspe:0.136069\n",
      "[309]\ttrain-rmse:0.1327\teval-rmse:0.146919\ttrain-rmspe:0.190289\teval-rmspe:0.135854\n",
      "[310]\ttrain-rmse:0.132546\teval-rmse:0.146848\ttrain-rmspe:0.19012\teval-rmspe:0.135752\n",
      "[311]\ttrain-rmse:0.132485\teval-rmse:0.146673\ttrain-rmspe:0.190053\teval-rmspe:0.135718\n",
      "[312]\ttrain-rmse:0.132381\teval-rmse:0.146576\ttrain-rmspe:0.189801\teval-rmspe:0.135605\n",
      "[313]\ttrain-rmse:0.132206\teval-rmse:0.14655\ttrain-rmspe:0.189587\teval-rmspe:0.135541\n",
      "[314]\ttrain-rmse:0.132169\teval-rmse:0.146518\ttrain-rmspe:0.189589\teval-rmspe:0.135508\n",
      "[315]\ttrain-rmse:0.132076\teval-rmse:0.146436\ttrain-rmspe:0.189581\teval-rmspe:0.13541\n",
      "[316]\ttrain-rmse:0.131968\teval-rmse:0.146356\ttrain-rmspe:0.189551\teval-rmspe:0.135297\n",
      "[317]\ttrain-rmse:0.131849\teval-rmse:0.146259\ttrain-rmspe:0.189381\teval-rmspe:0.135179\n",
      "[318]\ttrain-rmse:0.131578\teval-rmse:0.146022\ttrain-rmspe:0.189158\teval-rmspe:0.134893\n",
      "[319]\ttrain-rmse:0.13152\teval-rmse:0.14598\ttrain-rmspe:0.18911\teval-rmspe:0.134857\n",
      "[320]\ttrain-rmse:0.131444\teval-rmse:0.14593\ttrain-rmspe:0.189054\teval-rmspe:0.134801\n",
      "[321]\ttrain-rmse:0.131286\teval-rmse:0.145789\ttrain-rmspe:0.188933\teval-rmspe:0.134593\n",
      "[322]\ttrain-rmse:0.131221\teval-rmse:0.145736\ttrain-rmspe:0.188775\teval-rmspe:0.134487\n",
      "[323]\ttrain-rmse:0.131211\teval-rmse:0.14573\ttrain-rmspe:0.188769\teval-rmspe:0.134484\n",
      "[324]\ttrain-rmse:0.131161\teval-rmse:0.145688\ttrain-rmspe:0.188733\teval-rmspe:0.134414\n",
      "[325]\ttrain-rmse:0.131028\teval-rmse:0.145575\ttrain-rmspe:0.18806\teval-rmspe:0.134259\n",
      "[326]\ttrain-rmse:0.130945\teval-rmse:0.145492\ttrain-rmspe:0.18812\teval-rmspe:0.134177\n",
      "[327]\ttrain-rmse:0.130894\teval-rmse:0.145422\ttrain-rmspe:0.18804\teval-rmspe:0.134139\n",
      "[328]\ttrain-rmse:0.130853\teval-rmse:0.145396\ttrain-rmspe:0.18802\teval-rmspe:0.134121\n",
      "[329]\ttrain-rmse:0.130624\teval-rmse:0.145321\ttrain-rmspe:0.18794\teval-rmspe:0.134025\n",
      "[330]\ttrain-rmse:0.13053\teval-rmse:0.145233\ttrain-rmspe:0.187756\teval-rmspe:0.133936\n",
      "[331]\ttrain-rmse:0.130451\teval-rmse:0.145168\ttrain-rmspe:0.187701\teval-rmspe:0.133872\n",
      "[332]\ttrain-rmse:0.130378\teval-rmse:0.145131\ttrain-rmspe:0.187734\teval-rmspe:0.133843\n",
      "[333]\ttrain-rmse:0.13018\teval-rmse:0.144959\ttrain-rmspe:0.187493\teval-rmspe:0.133631\n",
      "[334]\ttrain-rmse:0.130104\teval-rmse:0.144885\ttrain-rmspe:0.187427\teval-rmspe:0.133551\n",
      "[335]\ttrain-rmse:0.129947\teval-rmse:0.144753\ttrain-rmspe:0.187295\teval-rmspe:0.133417\n",
      "[336]\ttrain-rmse:0.129739\teval-rmse:0.144577\ttrain-rmspe:0.187187\teval-rmspe:0.133164\n",
      "[337]\ttrain-rmse:0.129692\teval-rmse:0.14456\ttrain-rmspe:0.187164\teval-rmspe:0.13316\n",
      "[338]\ttrain-rmse:0.129637\teval-rmse:0.144513\ttrain-rmspe:0.187272\teval-rmspe:0.133111\n",
      "[339]\ttrain-rmse:0.129573\teval-rmse:0.144472\ttrain-rmspe:0.187196\teval-rmspe:0.133037\n",
      "[340]\ttrain-rmse:0.129478\teval-rmse:0.144406\ttrain-rmspe:0.187115\teval-rmspe:0.132969\n",
      "[341]\ttrain-rmse:0.12942\teval-rmse:0.144349\ttrain-rmspe:0.187151\teval-rmspe:0.132921\n",
      "[342]\ttrain-rmse:0.129368\teval-rmse:0.14431\ttrain-rmspe:0.187105\teval-rmspe:0.132867\n",
      "[343]\ttrain-rmse:0.129249\teval-rmse:0.144222\ttrain-rmspe:0.187031\teval-rmspe:0.132729\n",
      "[344]\ttrain-rmse:0.129188\teval-rmse:0.144191\ttrain-rmspe:0.186991\teval-rmspe:0.132674\n",
      "[345]\ttrain-rmse:0.129131\teval-rmse:0.144143\ttrain-rmspe:0.186997\teval-rmspe:0.132638\n",
      "[346]\ttrain-rmse:0.129029\teval-rmse:0.144069\ttrain-rmspe:0.186893\teval-rmspe:0.132561\n",
      "[347]\ttrain-rmse:0.128927\teval-rmse:0.143978\ttrain-rmspe:0.186803\teval-rmspe:0.132439\n",
      "[348]\ttrain-rmse:0.128858\teval-rmse:0.143936\ttrain-rmspe:0.186785\teval-rmspe:0.132384\n",
      "[349]\ttrain-rmse:0.128837\teval-rmse:0.143922\ttrain-rmspe:0.186768\teval-rmspe:0.132347\n",
      "[350]\ttrain-rmse:0.128762\teval-rmse:0.143864\ttrain-rmspe:0.186704\teval-rmspe:0.132277\n",
      "[351]\ttrain-rmse:0.128711\teval-rmse:0.143823\ttrain-rmspe:0.186685\teval-rmspe:0.132239\n",
      "[352]\ttrain-rmse:0.12858\teval-rmse:0.143682\ttrain-rmspe:0.186516\teval-rmspe:0.132019\n",
      "[353]\ttrain-rmse:0.128566\teval-rmse:0.143672\ttrain-rmspe:0.186489\teval-rmspe:0.132009\n",
      "[354]\ttrain-rmse:0.128534\teval-rmse:0.143647\ttrain-rmspe:0.186444\teval-rmspe:0.131986\n",
      "[355]\ttrain-rmse:0.128518\teval-rmse:0.14364\ttrain-rmspe:0.186436\teval-rmspe:0.13198\n",
      "[356]\ttrain-rmse:0.128475\teval-rmse:0.143603\ttrain-rmspe:0.185691\teval-rmspe:0.131934\n",
      "[357]\ttrain-rmse:0.128412\teval-rmse:0.143555\ttrain-rmspe:0.185607\teval-rmspe:0.131881\n",
      "[358]\ttrain-rmse:0.128329\teval-rmse:0.143525\ttrain-rmspe:0.18568\teval-rmspe:0.131834\n",
      "[359]\ttrain-rmse:0.128199\teval-rmse:0.143403\ttrain-rmspe:0.185657\teval-rmspe:0.131667\n",
      "[360]\ttrain-rmse:0.128153\teval-rmse:0.143356\ttrain-rmspe:0.18558\teval-rmspe:0.131598\n",
      "[361]\ttrain-rmse:0.128054\teval-rmse:0.143272\ttrain-rmspe:0.185418\teval-rmspe:0.1315\n",
      "[362]\ttrain-rmse:0.127972\teval-rmse:0.143217\ttrain-rmspe:0.185365\teval-rmspe:0.131445\n",
      "[363]\ttrain-rmse:0.127921\teval-rmse:0.143176\ttrain-rmspe:0.18533\teval-rmspe:0.131401\n",
      "[364]\ttrain-rmse:0.127845\teval-rmse:0.143117\ttrain-rmspe:0.185244\teval-rmspe:0.131332\n",
      "[365]\ttrain-rmse:0.127704\teval-rmse:0.143001\ttrain-rmspe:0.185159\teval-rmspe:0.13118\n",
      "[366]\ttrain-rmse:0.12765\teval-rmse:0.142952\ttrain-rmspe:0.184678\teval-rmspe:0.131118\n",
      "[367]\ttrain-rmse:0.127449\teval-rmse:0.14279\ttrain-rmspe:0.184544\teval-rmspe:0.130932\n",
      "[368]\ttrain-rmse:0.127361\teval-rmse:0.14254\ttrain-rmspe:0.184504\teval-rmspe:0.130863\n",
      "[369]\ttrain-rmse:0.127348\teval-rmse:0.142531\ttrain-rmspe:0.184495\teval-rmspe:0.13085\n",
      "[370]\ttrain-rmse:0.127247\teval-rmse:0.1425\ttrain-rmspe:0.184464\teval-rmspe:0.130803\n",
      "[371]\ttrain-rmse:0.127195\teval-rmse:0.142456\ttrain-rmspe:0.184604\teval-rmspe:0.130754\n",
      "[372]\ttrain-rmse:0.127086\teval-rmse:0.142404\ttrain-rmspe:0.184522\teval-rmspe:0.130695\n",
      "[373]\ttrain-rmse:0.12695\teval-rmse:0.142287\ttrain-rmspe:0.184406\teval-rmspe:0.130535\n",
      "[374]\ttrain-rmse:0.126908\teval-rmse:0.142255\ttrain-rmspe:0.184383\teval-rmspe:0.130518\n",
      "[375]\ttrain-rmse:0.126819\teval-rmse:0.142181\ttrain-rmspe:0.184325\teval-rmspe:0.130438\n",
      "[376]\ttrain-rmse:0.126543\teval-rmse:0.141988\ttrain-rmspe:0.184025\teval-rmspe:0.130145\n",
      "[377]\ttrain-rmse:0.126487\teval-rmse:0.141956\ttrain-rmspe:0.183996\teval-rmspe:0.130107\n",
      "[378]\ttrain-rmse:0.126414\teval-rmse:0.14189\ttrain-rmspe:0.183785\teval-rmspe:0.130032\n",
      "[379]\ttrain-rmse:0.126355\teval-rmse:0.141858\ttrain-rmspe:0.183718\teval-rmspe:0.129992\n",
      "[380]\ttrain-rmse:0.126276\teval-rmse:0.141915\ttrain-rmspe:0.183679\teval-rmspe:0.129912\n",
      "[381]\ttrain-rmse:0.126077\teval-rmse:0.141732\ttrain-rmspe:0.183525\teval-rmspe:0.129665\n",
      "[382]\ttrain-rmse:0.125965\teval-rmse:0.141651\ttrain-rmspe:0.18342\teval-rmspe:0.129567\n",
      "[383]\ttrain-rmse:0.125942\teval-rmse:0.141632\ttrain-rmspe:0.18341\teval-rmspe:0.129565\n"
     ]
    },
    {
     "name": "stdout",
     "output_type": "stream",
     "text": [
      "[384]\ttrain-rmse:0.125902\teval-rmse:0.141615\ttrain-rmspe:0.183378\teval-rmspe:0.12954\n",
      "[385]\ttrain-rmse:0.125854\teval-rmse:0.14158\ttrain-rmspe:0.183336\teval-rmspe:0.129489\n",
      "[386]\ttrain-rmse:0.125754\teval-rmse:0.141522\ttrain-rmspe:0.183283\teval-rmspe:0.129437\n",
      "[387]\ttrain-rmse:0.125587\teval-rmse:0.1415\ttrain-rmspe:0.183037\teval-rmspe:0.129414\n",
      "[388]\ttrain-rmse:0.125475\teval-rmse:0.141435\ttrain-rmspe:0.183008\teval-rmspe:0.129345\n",
      "[389]\ttrain-rmse:0.125466\teval-rmse:0.141426\ttrain-rmspe:0.183002\teval-rmspe:0.129333\n",
      "[390]\ttrain-rmse:0.125444\teval-rmse:0.141407\ttrain-rmspe:0.182979\teval-rmspe:0.129321\n",
      "[391]\ttrain-rmse:0.125323\teval-rmse:0.141299\ttrain-rmspe:0.182826\teval-rmspe:0.129198\n",
      "[392]\ttrain-rmse:0.125288\teval-rmse:0.14126\ttrain-rmspe:0.182248\teval-rmspe:0.129173\n",
      "[393]\ttrain-rmse:0.125233\teval-rmse:0.141285\ttrain-rmspe:0.182226\teval-rmspe:0.129153\n",
      "[394]\ttrain-rmse:0.125125\teval-rmse:0.141209\ttrain-rmspe:0.182141\teval-rmspe:0.129062\n",
      "[395]\ttrain-rmse:0.125057\teval-rmse:0.141159\ttrain-rmspe:0.182091\teval-rmspe:0.128984\n",
      "[396]\ttrain-rmse:0.124904\teval-rmse:0.141128\ttrain-rmspe:0.182046\teval-rmspe:0.128946\n",
      "[397]\ttrain-rmse:0.124762\teval-rmse:0.140992\ttrain-rmspe:0.181939\teval-rmspe:0.128755\n",
      "[398]\ttrain-rmse:0.124731\teval-rmse:0.140969\ttrain-rmspe:0.181914\teval-rmspe:0.128727\n",
      "[399]\ttrain-rmse:0.124693\teval-rmse:0.140968\ttrain-rmspe:0.181888\teval-rmspe:0.128707\n",
      "[400]\ttrain-rmse:0.124582\teval-rmse:0.140931\ttrain-rmspe:0.181821\teval-rmspe:0.128656\n",
      "[401]\ttrain-rmse:0.124516\teval-rmse:0.140874\ttrain-rmspe:0.181776\teval-rmspe:0.128581\n",
      "[402]\ttrain-rmse:0.12446\teval-rmse:0.140832\ttrain-rmspe:0.181737\teval-rmspe:0.128533\n",
      "[403]\ttrain-rmse:0.124415\teval-rmse:0.140796\ttrain-rmspe:0.181942\teval-rmspe:0.12848\n",
      "[404]\ttrain-rmse:0.124328\teval-rmse:0.140725\ttrain-rmspe:0.181827\teval-rmspe:0.128368\n",
      "[405]\ttrain-rmse:0.124178\teval-rmse:0.140677\ttrain-rmspe:0.181804\teval-rmspe:0.128344\n",
      "[406]\ttrain-rmse:0.124113\teval-rmse:0.140628\ttrain-rmspe:0.181746\teval-rmspe:0.128277\n",
      "[407]\ttrain-rmse:0.124068\teval-rmse:0.140583\ttrain-rmspe:0.181667\teval-rmspe:0.128224\n",
      "[408]\ttrain-rmse:0.123971\teval-rmse:0.140438\ttrain-rmspe:0.181498\teval-rmspe:0.128172\n",
      "[409]\ttrain-rmse:0.123944\teval-rmse:0.140428\ttrain-rmspe:0.181494\teval-rmspe:0.128168\n",
      "[410]\ttrain-rmse:0.123833\teval-rmse:0.140321\ttrain-rmspe:0.18114\teval-rmspe:0.128043\n",
      "[411]\ttrain-rmse:0.123768\teval-rmse:0.14029\ttrain-rmspe:0.180783\teval-rmspe:0.128014\n",
      "[412]\ttrain-rmse:0.123608\teval-rmse:0.140402\ttrain-rmspe:0.180742\teval-rmspe:0.127979\n",
      "[413]\ttrain-rmse:0.123548\teval-rmse:0.140374\ttrain-rmspe:0.180659\teval-rmspe:0.127947\n",
      "[414]\ttrain-rmse:0.123487\teval-rmse:0.140321\ttrain-rmspe:0.180614\teval-rmspe:0.127865\n",
      "[415]\ttrain-rmse:0.123363\teval-rmse:0.140335\ttrain-rmspe:0.180597\teval-rmspe:0.127863\n",
      "[416]\ttrain-rmse:0.123338\teval-rmse:0.140311\ttrain-rmspe:0.180572\teval-rmspe:0.127838\n",
      "[417]\ttrain-rmse:0.123252\teval-rmse:0.140252\ttrain-rmspe:0.180508\teval-rmspe:0.127789\n",
      "[418]\ttrain-rmse:0.123207\teval-rmse:0.140229\ttrain-rmspe:0.180422\teval-rmspe:0.127757\n",
      "[419]\ttrain-rmse:0.12309\teval-rmse:0.140124\ttrain-rmspe:0.181737\teval-rmspe:0.127623\n",
      "[420]\ttrain-rmse:0.123015\teval-rmse:0.140041\ttrain-rmspe:0.181705\teval-rmspe:0.127548\n",
      "[421]\ttrain-rmse:0.122993\teval-rmse:0.140028\ttrain-rmspe:0.18143\teval-rmspe:0.127532\n",
      "[422]\ttrain-rmse:0.122915\teval-rmse:0.139953\ttrain-rmspe:0.181245\teval-rmspe:0.127297\n",
      "[423]\ttrain-rmse:0.122865\teval-rmse:0.139908\ttrain-rmspe:0.181236\teval-rmspe:0.12724\n",
      "[424]\ttrain-rmse:0.122784\teval-rmse:0.139847\ttrain-rmspe:0.181179\teval-rmspe:0.12718\n",
      "[425]\ttrain-rmse:0.122708\teval-rmse:0.139781\ttrain-rmspe:0.181115\teval-rmspe:0.127096\n",
      "[426]\ttrain-rmse:0.122669\teval-rmse:0.139757\ttrain-rmspe:0.181047\teval-rmspe:0.127027\n",
      "[427]\ttrain-rmse:0.122657\teval-rmse:0.139753\ttrain-rmspe:0.181046\teval-rmspe:0.127023\n",
      "[428]\ttrain-rmse:0.122622\teval-rmse:0.139717\ttrain-rmspe:0.181033\teval-rmspe:0.126995\n",
      "[429]\ttrain-rmse:0.122568\teval-rmse:0.139688\ttrain-rmspe:0.181006\teval-rmspe:0.126972\n",
      "[430]\ttrain-rmse:0.122535\teval-rmse:0.139667\ttrain-rmspe:0.180993\teval-rmspe:0.126942\n",
      "[431]\ttrain-rmse:0.122431\teval-rmse:0.139583\ttrain-rmspe:0.18091\teval-rmspe:0.12686\n",
      "[432]\ttrain-rmse:0.122339\teval-rmse:0.139511\ttrain-rmspe:0.180852\teval-rmspe:0.126779\n",
      "[433]\ttrain-rmse:0.122255\teval-rmse:0.139217\ttrain-rmspe:0.180765\teval-rmspe:0.126738\n",
      "[434]\ttrain-rmse:0.122221\teval-rmse:0.139201\ttrain-rmspe:0.180338\teval-rmspe:0.126709\n",
      "[435]\ttrain-rmse:0.122163\teval-rmse:0.139151\ttrain-rmspe:0.180289\teval-rmspe:0.126659\n",
      "[436]\ttrain-rmse:0.122093\teval-rmse:0.139094\ttrain-rmspe:0.180256\teval-rmspe:0.126602\n",
      "[437]\ttrain-rmse:0.122066\teval-rmse:0.139071\ttrain-rmspe:0.180211\teval-rmspe:0.126581\n",
      "[438]\ttrain-rmse:0.122049\teval-rmse:0.139058\ttrain-rmspe:0.180208\teval-rmspe:0.126562\n",
      "[439]\ttrain-rmse:0.121996\teval-rmse:0.139042\ttrain-rmspe:0.180209\teval-rmspe:0.126533\n",
      "[440]\ttrain-rmse:0.121879\teval-rmse:0.139\ttrain-rmspe:0.180348\teval-rmspe:0.126504\n",
      "[441]\ttrain-rmse:0.121831\teval-rmse:0.138956\ttrain-rmspe:0.180425\teval-rmspe:0.126439\n",
      "[442]\ttrain-rmse:0.121756\teval-rmse:0.138895\ttrain-rmspe:0.180388\teval-rmspe:0.126359\n",
      "[443]\ttrain-rmse:0.121712\teval-rmse:0.138867\ttrain-rmspe:0.180378\teval-rmspe:0.126303\n",
      "[444]\ttrain-rmse:0.121639\teval-rmse:0.138832\ttrain-rmspe:0.180313\teval-rmspe:0.126256\n",
      "[445]\ttrain-rmse:0.121596\teval-rmse:0.138806\ttrain-rmspe:0.179957\teval-rmspe:0.126109\n",
      "[446]\ttrain-rmse:0.121479\teval-rmse:0.13871\ttrain-rmspe:0.17987\teval-rmspe:0.126009\n",
      "[447]\ttrain-rmse:0.121446\teval-rmse:0.138687\ttrain-rmspe:0.179881\teval-rmspe:0.125989\n",
      "[448]\ttrain-rmse:0.121352\teval-rmse:0.138591\ttrain-rmspe:0.179796\teval-rmspe:0.12588\n",
      "[449]\ttrain-rmse:0.121285\teval-rmse:0.138535\ttrain-rmspe:0.179719\teval-rmspe:0.12583\n",
      "[450]\ttrain-rmse:0.12124\teval-rmse:0.1385\ttrain-rmspe:0.179687\teval-rmspe:0.125795\n",
      "[451]\ttrain-rmse:0.121214\teval-rmse:0.138478\ttrain-rmspe:0.179416\teval-rmspe:0.125771\n",
      "[452]\ttrain-rmse:0.121181\teval-rmse:0.138452\ttrain-rmspe:0.179396\teval-rmspe:0.125731\n",
      "[453]\ttrain-rmse:0.121108\teval-rmse:0.138381\ttrain-rmspe:0.179328\teval-rmspe:0.125646\n",
      "[454]\ttrain-rmse:0.121082\teval-rmse:0.138359\ttrain-rmspe:0.17927\teval-rmspe:0.12562\n",
      "[455]\ttrain-rmse:0.121034\teval-rmse:0.138313\ttrain-rmspe:0.179246\teval-rmspe:0.125582\n",
      "[456]\ttrain-rmse:0.120996\teval-rmse:0.138296\ttrain-rmspe:0.179218\teval-rmspe:0.125571\n",
      "[457]\ttrain-rmse:0.120988\teval-rmse:0.138292\ttrain-rmspe:0.179214\teval-rmspe:0.125557\n",
      "[458]\ttrain-rmse:0.120968\teval-rmse:0.138287\ttrain-rmspe:0.179195\teval-rmspe:0.125545\n",
      "[459]\ttrain-rmse:0.120906\teval-rmse:0.138229\ttrain-rmspe:0.179124\teval-rmspe:0.125474\n",
      "[460]\ttrain-rmse:0.120859\teval-rmse:0.138213\ttrain-rmspe:0.179136\teval-rmspe:0.125455\n",
      "[461]\ttrain-rmse:0.120664\teval-rmse:0.138158\ttrain-rmspe:0.179098\teval-rmspe:0.125277\n",
      "[462]\ttrain-rmse:0.12054\teval-rmse:0.138101\ttrain-rmspe:0.179045\teval-rmspe:0.125209\n",
      "[463]\ttrain-rmse:0.120504\teval-rmse:0.138074\ttrain-rmspe:0.178608\teval-rmspe:0.125183\n",
      "[464]\ttrain-rmse:0.120481\teval-rmse:0.138055\ttrain-rmspe:0.178596\teval-rmspe:0.125162\n",
      "[465]\ttrain-rmse:0.120443\teval-rmse:0.138036\ttrain-rmspe:0.178465\teval-rmspe:0.125036\n",
      "[466]\ttrain-rmse:0.120413\teval-rmse:0.138016\ttrain-rmspe:0.178375\teval-rmspe:0.125025\n",
      "[467]\ttrain-rmse:0.120367\teval-rmse:0.137979\ttrain-rmspe:0.178335\teval-rmspe:0.124977\n",
      "[468]\ttrain-rmse:0.120337\teval-rmse:0.13796\ttrain-rmspe:0.178334\teval-rmspe:0.12495\n",
      "[469]\ttrain-rmse:0.120178\teval-rmse:0.137819\ttrain-rmspe:0.178222\teval-rmspe:0.124783\n",
      "[470]\ttrain-rmse:0.12007\teval-rmse:0.137726\ttrain-rmspe:0.177998\teval-rmspe:0.124678\n",
      "[471]\ttrain-rmse:0.12002\teval-rmse:0.137686\ttrain-rmspe:0.17794\teval-rmspe:0.124628\n",
      "[472]\ttrain-rmse:0.119912\teval-rmse:0.137648\ttrain-rmspe:0.177853\teval-rmspe:0.124591\n",
      "[473]\ttrain-rmse:0.119858\teval-rmse:0.137609\ttrain-rmspe:0.177701\teval-rmspe:0.124554\n",
      "[474]\ttrain-rmse:0.119842\teval-rmse:0.137599\ttrain-rmspe:0.177701\teval-rmspe:0.124542\n",
      "[475]\ttrain-rmse:0.119777\teval-rmse:0.137555\ttrain-rmspe:0.17768\teval-rmspe:0.12452\n",
      "[476]\ttrain-rmse:0.119661\teval-rmse:0.137459\ttrain-rmspe:0.177586\teval-rmspe:0.124393\n",
      "[477]\ttrain-rmse:0.119593\teval-rmse:0.137461\ttrain-rmspe:0.177629\teval-rmspe:0.124393\n",
      "[478]\ttrain-rmse:0.119574\teval-rmse:0.137451\ttrain-rmspe:0.177561\teval-rmspe:0.124383\n",
      "[479]\ttrain-rmse:0.119493\teval-rmse:0.13738\ttrain-rmspe:0.177543\teval-rmspe:0.124319\n"
     ]
    },
    {
     "name": "stdout",
     "output_type": "stream",
     "text": [
      "[480]\ttrain-rmse:0.119435\teval-rmse:0.137351\ttrain-rmspe:0.176924\teval-rmspe:0.124287\n",
      "[481]\ttrain-rmse:0.119393\teval-rmse:0.137317\ttrain-rmspe:0.176842\teval-rmspe:0.124246\n",
      "[482]\ttrain-rmse:0.119319\teval-rmse:0.137253\ttrain-rmspe:0.176776\teval-rmspe:0.124162\n",
      "[483]\ttrain-rmse:0.119288\teval-rmse:0.137238\ttrain-rmspe:0.176765\teval-rmspe:0.124141\n",
      "[484]\ttrain-rmse:0.119263\teval-rmse:0.137221\ttrain-rmspe:0.176782\teval-rmspe:0.124113\n",
      "[485]\ttrain-rmse:0.119215\teval-rmse:0.137181\ttrain-rmspe:0.17663\teval-rmspe:0.124083\n",
      "[486]\ttrain-rmse:0.119181\teval-rmse:0.137158\ttrain-rmspe:0.17659\teval-rmspe:0.124055\n",
      "[487]\ttrain-rmse:0.119145\teval-rmse:0.137129\ttrain-rmspe:0.176557\teval-rmspe:0.124016\n",
      "[488]\ttrain-rmse:0.119048\teval-rmse:0.137041\ttrain-rmspe:0.176443\teval-rmspe:0.123888\n",
      "[489]\ttrain-rmse:0.11899\teval-rmse:0.136998\ttrain-rmspe:0.176406\teval-rmspe:0.123841\n",
      "[490]\ttrain-rmse:0.118949\teval-rmse:0.136969\ttrain-rmspe:0.176903\teval-rmspe:0.123806\n",
      "[491]\ttrain-rmse:0.118906\teval-rmse:0.136926\ttrain-rmspe:0.176871\teval-rmspe:0.123765\n",
      "[492]\ttrain-rmse:0.118872\teval-rmse:0.136903\ttrain-rmspe:0.176788\teval-rmspe:0.123738\n",
      "[493]\ttrain-rmse:0.118844\teval-rmse:0.136877\ttrain-rmspe:0.176781\teval-rmspe:0.123702\n",
      "[494]\ttrain-rmse:0.118816\teval-rmse:0.136853\ttrain-rmspe:0.176753\teval-rmspe:0.123679\n",
      "[495]\ttrain-rmse:0.118765\teval-rmse:0.136815\ttrain-rmspe:0.176711\teval-rmspe:0.123628\n",
      "[496]\ttrain-rmse:0.118707\teval-rmse:0.136784\ttrain-rmspe:0.17668\teval-rmspe:0.123593\n",
      "[497]\ttrain-rmse:0.118688\teval-rmse:0.136804\ttrain-rmspe:0.176662\teval-rmspe:0.123561\n",
      "[498]\ttrain-rmse:0.118681\teval-rmse:0.136797\ttrain-rmspe:0.176657\teval-rmspe:0.123552\n",
      "[499]\ttrain-rmse:0.118612\teval-rmse:0.136742\ttrain-rmspe:0.176579\teval-rmspe:0.123479\n",
      "[500]\ttrain-rmse:0.11858\teval-rmse:0.136728\ttrain-rmspe:0.176529\teval-rmspe:0.123452\n",
      "[501]\ttrain-rmse:0.118507\teval-rmse:0.136661\ttrain-rmspe:0.176474\teval-rmspe:0.123355\n",
      "[502]\ttrain-rmse:0.118468\teval-rmse:0.136647\ttrain-rmspe:0.176452\teval-rmspe:0.123338\n",
      "[503]\ttrain-rmse:0.118421\teval-rmse:0.136614\ttrain-rmspe:0.176392\teval-rmspe:0.12329\n",
      "[504]\ttrain-rmse:0.118401\teval-rmse:0.136604\ttrain-rmspe:0.176224\teval-rmspe:0.123282\n",
      "[505]\ttrain-rmse:0.118321\teval-rmse:0.136591\ttrain-rmspe:0.176207\teval-rmspe:0.123264\n",
      "[506]\ttrain-rmse:0.118285\teval-rmse:0.136567\ttrain-rmspe:0.176174\teval-rmspe:0.12324\n",
      "[507]\ttrain-rmse:0.118264\teval-rmse:0.136545\ttrain-rmspe:0.17607\teval-rmspe:0.123206\n",
      "[508]\ttrain-rmse:0.118217\teval-rmse:0.136509\ttrain-rmspe:0.176025\teval-rmspe:0.123141\n",
      "[509]\ttrain-rmse:0.118155\teval-rmse:0.136449\ttrain-rmspe:0.176036\teval-rmspe:0.123074\n",
      "[510]\ttrain-rmse:0.118104\teval-rmse:0.136408\ttrain-rmspe:0.175842\teval-rmspe:0.123023\n",
      "[511]\ttrain-rmse:0.118079\teval-rmse:0.136388\ttrain-rmspe:0.17584\teval-rmspe:0.123004\n",
      "[512]\ttrain-rmse:0.118032\teval-rmse:0.136343\ttrain-rmspe:0.175843\teval-rmspe:0.122908\n",
      "[513]\ttrain-rmse:0.117994\teval-rmse:0.136321\ttrain-rmspe:0.175836\teval-rmspe:0.122892\n",
      "[514]\ttrain-rmse:0.117967\teval-rmse:0.136301\ttrain-rmspe:0.175836\teval-rmspe:0.122868\n",
      "[515]\ttrain-rmse:0.117919\teval-rmse:0.136266\ttrain-rmspe:0.175796\teval-rmspe:0.122835\n",
      "[516]\ttrain-rmse:0.117894\teval-rmse:0.13625\ttrain-rmspe:0.175761\teval-rmspe:0.12282\n",
      "[517]\ttrain-rmse:0.117859\teval-rmse:0.136223\ttrain-rmspe:0.175729\teval-rmspe:0.122797\n",
      "[518]\ttrain-rmse:0.117825\teval-rmse:0.136201\ttrain-rmspe:0.175696\teval-rmspe:0.122767\n",
      "[519]\ttrain-rmse:0.117756\teval-rmse:0.136142\ttrain-rmspe:0.17564\teval-rmspe:0.122702\n",
      "[520]\ttrain-rmse:0.117736\teval-rmse:0.136128\ttrain-rmspe:0.175628\teval-rmspe:0.12269\n",
      "[521]\ttrain-rmse:0.117679\teval-rmse:0.136105\ttrain-rmspe:0.175525\teval-rmspe:0.122642\n",
      "[522]\ttrain-rmse:0.117602\teval-rmse:0.136051\ttrain-rmspe:0.175384\teval-rmspe:0.122572\n",
      "[523]\ttrain-rmse:0.117566\teval-rmse:0.136032\ttrain-rmspe:0.175199\teval-rmspe:0.122553\n",
      "[524]\ttrain-rmse:0.117493\teval-rmse:0.135945\ttrain-rmspe:0.175172\teval-rmspe:0.122523\n",
      "[525]\ttrain-rmse:0.117466\teval-rmse:0.13592\ttrain-rmspe:0.175022\teval-rmspe:0.122492\n",
      "[526]\ttrain-rmse:0.117413\teval-rmse:0.135877\ttrain-rmspe:0.17508\teval-rmspe:0.122439\n",
      "[527]\ttrain-rmse:0.117247\teval-rmse:0.136066\ttrain-rmspe:0.175017\teval-rmspe:0.122414\n",
      "[528]\ttrain-rmse:0.117234\teval-rmse:0.136055\ttrain-rmspe:0.175013\teval-rmspe:0.12239\n",
      "[529]\ttrain-rmse:0.117201\teval-rmse:0.136042\ttrain-rmspe:0.175003\teval-rmspe:0.122379\n",
      "[530]\ttrain-rmse:0.117135\teval-rmse:0.136006\ttrain-rmspe:0.174971\teval-rmspe:0.122341\n",
      "[531]\ttrain-rmse:0.116982\teval-rmse:0.135967\ttrain-rmspe:0.174988\teval-rmspe:0.122292\n",
      "[532]\ttrain-rmse:0.116932\teval-rmse:0.13593\ttrain-rmspe:0.174919\teval-rmspe:0.122231\n",
      "[533]\ttrain-rmse:0.116836\teval-rmse:0.135854\ttrain-rmspe:0.174832\teval-rmspe:0.122136\n",
      "[534]\ttrain-rmse:0.116744\teval-rmse:0.135854\ttrain-rmspe:0.174804\teval-rmspe:0.122112\n",
      "[535]\ttrain-rmse:0.116676\teval-rmse:0.135842\ttrain-rmspe:0.174779\teval-rmspe:0.122094\n",
      "[536]\ttrain-rmse:0.116609\teval-rmse:0.135806\ttrain-rmspe:0.174747\teval-rmspe:0.122056\n",
      "[537]\ttrain-rmse:0.116578\teval-rmse:0.13579\ttrain-rmspe:0.174724\teval-rmspe:0.122039\n",
      "[538]\ttrain-rmse:0.116547\teval-rmse:0.135774\ttrain-rmspe:0.17471\teval-rmspe:0.122019\n",
      "[539]\ttrain-rmse:0.116507\teval-rmse:0.135749\ttrain-rmspe:0.174807\teval-rmspe:0.12199\n",
      "[540]\ttrain-rmse:0.116493\teval-rmse:0.13574\ttrain-rmspe:0.174804\teval-rmspe:0.121993\n",
      "[541]\ttrain-rmse:0.116439\teval-rmse:0.135692\ttrain-rmspe:0.174799\teval-rmspe:0.121929\n",
      "[542]\ttrain-rmse:0.116375\teval-rmse:0.135661\ttrain-rmspe:0.174734\teval-rmspe:0.12189\n",
      "[543]\ttrain-rmse:0.11636\teval-rmse:0.135656\ttrain-rmspe:0.174712\teval-rmspe:0.12191\n",
      "[544]\ttrain-rmse:0.116297\teval-rmse:0.135593\ttrain-rmspe:0.174631\teval-rmspe:0.12183\n",
      "[545]\ttrain-rmse:0.116228\teval-rmse:0.135549\ttrain-rmspe:0.174582\teval-rmspe:0.121767\n",
      "[546]\ttrain-rmse:0.116193\teval-rmse:0.135532\ttrain-rmspe:0.174544\teval-rmspe:0.121747\n",
      "[547]\ttrain-rmse:0.116115\teval-rmse:0.135474\ttrain-rmspe:0.174469\teval-rmspe:0.121769\n",
      "[548]\ttrain-rmse:0.116083\teval-rmse:0.135449\ttrain-rmspe:0.174465\teval-rmspe:0.121737\n",
      "[549]\ttrain-rmse:0.116041\teval-rmse:0.135422\ttrain-rmspe:0.174442\teval-rmspe:0.1217\n",
      "[550]\ttrain-rmse:0.116013\teval-rmse:0.1355\ttrain-rmspe:0.17443\teval-rmspe:0.121686\n",
      "[551]\ttrain-rmse:0.115995\teval-rmse:0.135486\ttrain-rmspe:0.174416\teval-rmspe:0.121675\n",
      "[552]\ttrain-rmse:0.115947\teval-rmse:0.135449\ttrain-rmspe:0.174394\teval-rmspe:0.12163\n",
      "[553]\ttrain-rmse:0.115881\teval-rmse:0.135396\ttrain-rmspe:0.174351\teval-rmspe:0.121569\n",
      "[554]\ttrain-rmse:0.115831\teval-rmse:0.135364\ttrain-rmspe:0.174313\teval-rmspe:0.121535\n",
      "[555]\ttrain-rmse:0.115815\teval-rmse:0.135354\ttrain-rmspe:0.174172\teval-rmspe:0.121532\n",
      "[556]\ttrain-rmse:0.115741\teval-rmse:0.135346\ttrain-rmspe:0.174155\teval-rmspe:0.121533\n",
      "[557]\ttrain-rmse:0.115713\teval-rmse:0.135328\ttrain-rmspe:0.174618\teval-rmspe:0.121506\n",
      "[558]\ttrain-rmse:0.115699\teval-rmse:0.135318\ttrain-rmspe:0.174573\teval-rmspe:0.121488\n",
      "[559]\ttrain-rmse:0.115652\teval-rmse:0.135287\ttrain-rmspe:0.174509\teval-rmspe:0.12145\n",
      "[560]\ttrain-rmse:0.115566\teval-rmse:0.135305\ttrain-rmspe:0.174488\teval-rmspe:0.121448\n",
      "[561]\ttrain-rmse:0.115508\teval-rmse:0.135292\ttrain-rmspe:0.174447\teval-rmspe:0.121435\n",
      "[562]\ttrain-rmse:0.11549\teval-rmse:0.135284\ttrain-rmspe:0.174438\teval-rmspe:0.121429\n",
      "[563]\ttrain-rmse:0.115482\teval-rmse:0.135279\ttrain-rmspe:0.174334\teval-rmspe:0.121425\n",
      "[564]\ttrain-rmse:0.115457\teval-rmse:0.135268\ttrain-rmspe:0.174314\teval-rmspe:0.121413\n",
      "[565]\ttrain-rmse:0.115436\teval-rmse:0.135253\ttrain-rmspe:0.174286\teval-rmspe:0.121391\n",
      "[566]\ttrain-rmse:0.115417\teval-rmse:0.135245\ttrain-rmspe:0.17428\teval-rmspe:0.121387\n",
      "[567]\ttrain-rmse:0.115385\teval-rmse:0.135219\ttrain-rmspe:0.17425\teval-rmspe:0.121351\n",
      "[568]\ttrain-rmse:0.115351\teval-rmse:0.135201\ttrain-rmspe:0.174223\teval-rmspe:0.121331\n",
      "[569]\ttrain-rmse:0.115305\teval-rmse:0.135157\ttrain-rmspe:0.174203\teval-rmspe:0.121277\n",
      "[570]\ttrain-rmse:0.11527\teval-rmse:0.135133\ttrain-rmspe:0.174212\teval-rmspe:0.12124\n",
      "[571]\ttrain-rmse:0.115212\teval-rmse:0.135168\ttrain-rmspe:0.174228\teval-rmspe:0.121285\n",
      "[572]\ttrain-rmse:0.115197\teval-rmse:0.13516\ttrain-rmspe:0.174215\teval-rmspe:0.121272\n",
      "[573]\ttrain-rmse:0.115153\teval-rmse:0.135149\ttrain-rmspe:0.174118\teval-rmspe:0.121221\n",
      "[574]\ttrain-rmse:0.115129\teval-rmse:0.135153\ttrain-rmspe:0.174109\teval-rmspe:0.121219\n",
      "[575]\ttrain-rmse:0.115098\teval-rmse:0.135133\ttrain-rmspe:0.174086\teval-rmspe:0.12119\n"
     ]
    },
    {
     "name": "stdout",
     "output_type": "stream",
     "text": [
      "[576]\ttrain-rmse:0.115063\teval-rmse:0.135003\ttrain-rmspe:0.174076\teval-rmspe:0.121176\n",
      "[577]\ttrain-rmse:0.115031\teval-rmse:0.134985\ttrain-rmspe:0.174125\teval-rmspe:0.121156\n",
      "[578]\ttrain-rmse:0.114981\teval-rmse:0.134961\ttrain-rmspe:0.174102\teval-rmspe:0.121133\n",
      "[579]\ttrain-rmse:0.114922\teval-rmse:0.134909\ttrain-rmspe:0.174075\teval-rmspe:0.121085\n",
      "[580]\ttrain-rmse:0.114881\teval-rmse:0.13486\ttrain-rmspe:0.174044\teval-rmspe:0.121018\n",
      "[581]\ttrain-rmse:0.114849\teval-rmse:0.134838\ttrain-rmspe:0.174045\teval-rmspe:0.120989\n",
      "[582]\ttrain-rmse:0.114809\teval-rmse:0.134814\ttrain-rmspe:0.173986\teval-rmspe:0.120883\n",
      "[583]\ttrain-rmse:0.114743\teval-rmse:0.134821\ttrain-rmspe:0.173982\teval-rmspe:0.120891\n",
      "[584]\ttrain-rmse:0.114709\teval-rmse:0.134791\ttrain-rmspe:0.173929\teval-rmspe:0.120861\n",
      "[585]\ttrain-rmse:0.114692\teval-rmse:0.13478\ttrain-rmspe:0.173986\teval-rmspe:0.120852\n",
      "[586]\ttrain-rmse:0.114674\teval-rmse:0.134765\ttrain-rmspe:0.173987\teval-rmspe:0.120833\n",
      "[587]\ttrain-rmse:0.114639\teval-rmse:0.134734\ttrain-rmspe:0.173915\teval-rmspe:0.120782\n",
      "[588]\ttrain-rmse:0.114594\teval-rmse:0.134701\ttrain-rmspe:0.173858\teval-rmspe:0.120681\n",
      "[589]\ttrain-rmse:0.114504\teval-rmse:0.134689\ttrain-rmspe:0.17383\teval-rmspe:0.120665\n",
      "[590]\ttrain-rmse:0.114481\teval-rmse:0.134657\ttrain-rmspe:0.173812\teval-rmspe:0.120656\n",
      "[591]\ttrain-rmse:0.114445\teval-rmse:0.134625\ttrain-rmspe:0.173726\teval-rmspe:0.120623\n",
      "[592]\ttrain-rmse:0.11437\teval-rmse:0.134555\ttrain-rmspe:0.173743\teval-rmspe:0.120525\n",
      "[593]\ttrain-rmse:0.114343\teval-rmse:0.134546\ttrain-rmspe:0.173703\teval-rmspe:0.120507\n",
      "[594]\ttrain-rmse:0.114283\teval-rmse:0.134503\ttrain-rmspe:0.173645\teval-rmspe:0.120453\n",
      "[595]\ttrain-rmse:0.114257\teval-rmse:0.134534\ttrain-rmspe:0.173615\teval-rmspe:0.120441\n",
      "[596]\ttrain-rmse:0.114229\teval-rmse:0.134515\ttrain-rmspe:0.173586\teval-rmspe:0.120409\n",
      "[597]\ttrain-rmse:0.114205\teval-rmse:0.134498\ttrain-rmspe:0.173559\teval-rmspe:0.120383\n",
      "[598]\ttrain-rmse:0.114167\teval-rmse:0.13449\ttrain-rmspe:0.17355\teval-rmspe:0.12036\n",
      "[599]\ttrain-rmse:0.114134\teval-rmse:0.134481\ttrain-rmspe:0.173544\teval-rmspe:0.120348\n",
      "[600]\ttrain-rmse:0.114048\teval-rmse:0.134432\ttrain-rmspe:0.173505\teval-rmspe:0.120298\n",
      "[601]\ttrain-rmse:0.113997\teval-rmse:0.134382\ttrain-rmspe:0.173416\teval-rmspe:0.120197\n",
      "[602]\ttrain-rmse:0.113981\teval-rmse:0.134366\ttrain-rmspe:0.173383\teval-rmspe:0.120173\n",
      "[603]\ttrain-rmse:0.113962\teval-rmse:0.134362\ttrain-rmspe:0.173355\teval-rmspe:0.120159\n",
      "[604]\ttrain-rmse:0.113926\teval-rmse:0.134324\ttrain-rmspe:0.173335\teval-rmspe:0.120118\n",
      "[605]\ttrain-rmse:0.113901\teval-rmse:0.134299\ttrain-rmspe:0.173311\teval-rmspe:0.120106\n",
      "[606]\ttrain-rmse:0.113893\teval-rmse:0.134294\ttrain-rmspe:0.173333\teval-rmspe:0.120104\n",
      "[607]\ttrain-rmse:0.113643\teval-rmse:0.134271\ttrain-rmspe:0.173268\teval-rmspe:0.120079\n",
      "[608]\ttrain-rmse:0.113625\teval-rmse:0.134258\ttrain-rmspe:0.173258\teval-rmspe:0.120073\n",
      "[609]\ttrain-rmse:0.113568\teval-rmse:0.134244\ttrain-rmspe:0.173132\teval-rmspe:0.120032\n",
      "[610]\ttrain-rmse:0.113549\teval-rmse:0.134233\ttrain-rmspe:0.173089\teval-rmspe:0.120019\n",
      "[611]\ttrain-rmse:0.113523\teval-rmse:0.134232\ttrain-rmspe:0.173074\teval-rmspe:0.120016\n",
      "[612]\ttrain-rmse:0.1135\teval-rmse:0.134227\ttrain-rmspe:0.173037\teval-rmspe:0.120004\n",
      "[613]\ttrain-rmse:0.11348\teval-rmse:0.134217\ttrain-rmspe:0.173018\teval-rmspe:0.119983\n",
      "[614]\ttrain-rmse:0.113452\teval-rmse:0.13421\ttrain-rmspe:0.172987\teval-rmspe:0.119995\n",
      "[615]\ttrain-rmse:0.113432\teval-rmse:0.134211\ttrain-rmspe:0.172974\teval-rmspe:0.120013\n",
      "[616]\ttrain-rmse:0.113336\teval-rmse:0.134211\ttrain-rmspe:0.172909\teval-rmspe:0.11997\n",
      "[617]\ttrain-rmse:0.113306\teval-rmse:0.134194\ttrain-rmspe:0.172882\teval-rmspe:0.119954\n",
      "[618]\ttrain-rmse:0.11324\teval-rmse:0.134193\ttrain-rmspe:0.170702\teval-rmspe:0.119969\n",
      "[619]\ttrain-rmse:0.11323\teval-rmse:0.134186\ttrain-rmspe:0.170695\teval-rmspe:0.119962\n",
      "[620]\ttrain-rmse:0.113214\teval-rmse:0.13418\ttrain-rmspe:0.170653\teval-rmspe:0.119964\n",
      "[621]\ttrain-rmse:0.113197\teval-rmse:0.134165\ttrain-rmspe:0.169573\teval-rmspe:0.119908\n",
      "[622]\ttrain-rmse:0.113172\teval-rmse:0.134157\ttrain-rmspe:0.169574\teval-rmspe:0.119895\n",
      "[623]\ttrain-rmse:0.113085\teval-rmse:0.134133\ttrain-rmspe:0.169482\teval-rmspe:0.119858\n",
      "[624]\ttrain-rmse:0.113068\teval-rmse:0.134098\ttrain-rmspe:0.169463\teval-rmspe:0.119832\n",
      "[625]\ttrain-rmse:0.113056\teval-rmse:0.134085\ttrain-rmspe:0.169449\teval-rmspe:0.11981\n",
      "[626]\ttrain-rmse:0.113028\teval-rmse:0.13407\ttrain-rmspe:0.169424\teval-rmspe:0.119779\n",
      "[627]\ttrain-rmse:0.112987\teval-rmse:0.134042\ttrain-rmspe:0.16936\teval-rmspe:0.119705\n",
      "[628]\ttrain-rmse:0.112973\teval-rmse:0.134033\ttrain-rmspe:0.169349\teval-rmspe:0.119693\n",
      "[629]\ttrain-rmse:0.112961\teval-rmse:0.134033\ttrain-rmspe:0.169317\teval-rmspe:0.119684\n",
      "[630]\ttrain-rmse:0.112915\teval-rmse:0.134005\ttrain-rmspe:0.170106\teval-rmspe:0.119642\n",
      "[631]\ttrain-rmse:0.112872\teval-rmse:0.133977\ttrain-rmspe:0.170076\teval-rmspe:0.119612\n",
      "[632]\ttrain-rmse:0.112822\teval-rmse:0.133945\ttrain-rmspe:0.170054\teval-rmspe:0.119583\n",
      "[633]\ttrain-rmse:0.112817\teval-rmse:0.133942\ttrain-rmspe:0.170047\teval-rmspe:0.119578\n",
      "[634]\ttrain-rmse:0.112777\teval-rmse:0.13391\ttrain-rmspe:0.170024\teval-rmspe:0.119537\n",
      "[635]\ttrain-rmse:0.112758\teval-rmse:0.133901\ttrain-rmspe:0.170005\teval-rmspe:0.11952\n",
      "[636]\ttrain-rmse:0.112723\teval-rmse:0.133878\ttrain-rmspe:0.169974\teval-rmspe:0.119498\n",
      "[637]\ttrain-rmse:0.112705\teval-rmse:0.133861\ttrain-rmspe:0.169969\teval-rmspe:0.119488\n",
      "[638]\ttrain-rmse:0.112684\teval-rmse:0.133852\ttrain-rmspe:0.169955\teval-rmspe:0.119473\n",
      "[639]\ttrain-rmse:0.112624\teval-rmse:0.133811\ttrain-rmspe:0.169857\teval-rmspe:0.119417\n",
      "[640]\ttrain-rmse:0.112577\teval-rmse:0.133783\ttrain-rmspe:0.169767\teval-rmspe:0.119378\n",
      "[641]\ttrain-rmse:0.112545\teval-rmse:0.133761\ttrain-rmspe:0.169629\teval-rmspe:0.119361\n",
      "[642]\ttrain-rmse:0.112539\teval-rmse:0.133756\ttrain-rmspe:0.169575\teval-rmspe:0.119356\n",
      "[643]\ttrain-rmse:0.112493\teval-rmse:0.13375\ttrain-rmspe:0.169568\teval-rmspe:0.119345\n",
      "[644]\ttrain-rmse:0.112452\teval-rmse:0.133755\ttrain-rmspe:0.169566\teval-rmspe:0.119346\n",
      "[645]\ttrain-rmse:0.112423\teval-rmse:0.133733\ttrain-rmspe:0.169565\teval-rmspe:0.119317\n",
      "[646]\ttrain-rmse:0.112411\teval-rmse:0.133731\ttrain-rmspe:0.169571\teval-rmspe:0.119315\n",
      "[647]\ttrain-rmse:0.112395\teval-rmse:0.133719\ttrain-rmspe:0.16956\teval-rmspe:0.119305\n",
      "[648]\ttrain-rmse:0.112382\teval-rmse:0.133711\ttrain-rmspe:0.16956\teval-rmspe:0.119296\n",
      "[649]\ttrain-rmse:0.112336\teval-rmse:0.133674\ttrain-rmspe:0.169488\teval-rmspe:0.119257\n",
      "[650]\ttrain-rmse:0.112313\teval-rmse:0.133672\ttrain-rmspe:0.169476\teval-rmspe:0.119246\n",
      "[651]\ttrain-rmse:0.112296\teval-rmse:0.133658\ttrain-rmspe:0.169464\teval-rmspe:0.119232\n",
      "[652]\ttrain-rmse:0.112273\teval-rmse:0.133655\ttrain-rmspe:0.169433\teval-rmspe:0.119216\n",
      "[653]\ttrain-rmse:0.112241\teval-rmse:0.133627\ttrain-rmspe:0.169426\teval-rmspe:0.11918\n",
      "[654]\ttrain-rmse:0.112207\teval-rmse:0.133605\ttrain-rmspe:0.169432\teval-rmspe:0.119138\n",
      "[655]\ttrain-rmse:0.112176\teval-rmse:0.133557\ttrain-rmspe:0.1694\teval-rmspe:0.119114\n",
      "[656]\ttrain-rmse:0.112165\teval-rmse:0.133557\ttrain-rmspe:0.169368\teval-rmspe:0.119109\n",
      "[657]\ttrain-rmse:0.112061\teval-rmse:0.133536\ttrain-rmspe:0.169296\teval-rmspe:0.119056\n",
      "[658]\ttrain-rmse:0.112048\teval-rmse:0.133529\ttrain-rmspe:0.169264\teval-rmspe:0.119042\n",
      "[659]\ttrain-rmse:0.112019\teval-rmse:0.133508\ttrain-rmspe:0.16923\teval-rmspe:0.11902\n",
      "[660]\ttrain-rmse:0.112\teval-rmse:0.133494\ttrain-rmspe:0.169225\teval-rmspe:0.119\n",
      "[661]\ttrain-rmse:0.111954\teval-rmse:0.133471\ttrain-rmspe:0.169185\teval-rmspe:0.11896\n",
      "[662]\ttrain-rmse:0.111873\teval-rmse:0.133403\ttrain-rmspe:0.169118\teval-rmspe:0.118874\n",
      "[663]\ttrain-rmse:0.111856\teval-rmse:0.133405\ttrain-rmspe:0.169076\teval-rmspe:0.11887\n",
      "[664]\ttrain-rmse:0.111803\teval-rmse:0.133373\ttrain-rmspe:0.169042\teval-rmspe:0.118818\n",
      "[665]\ttrain-rmse:0.111723\teval-rmse:0.132869\ttrain-rmspe:0.169015\teval-rmspe:0.118801\n",
      "[666]\ttrain-rmse:0.111678\teval-rmse:0.132977\ttrain-rmspe:0.168979\teval-rmspe:0.118785\n",
      "[667]\ttrain-rmse:0.111652\teval-rmse:0.132963\ttrain-rmspe:0.168212\teval-rmspe:0.118785\n",
      "[668]\ttrain-rmse:0.111612\teval-rmse:0.132956\ttrain-rmspe:0.168207\teval-rmspe:0.118774\n",
      "[669]\ttrain-rmse:0.111577\teval-rmse:0.132759\ttrain-rmspe:0.168196\teval-rmspe:0.11877\n",
      "[670]\ttrain-rmse:0.111522\teval-rmse:0.132716\ttrain-rmspe:0.168172\teval-rmspe:0.118716\n",
      "[671]\ttrain-rmse:0.111509\teval-rmse:0.13271\ttrain-rmspe:0.16817\teval-rmspe:0.118713\n"
     ]
    },
    {
     "name": "stdout",
     "output_type": "stream",
     "text": [
      "[672]\ttrain-rmse:0.111489\teval-rmse:0.132699\ttrain-rmspe:0.168156\teval-rmspe:0.11871\n",
      "[673]\ttrain-rmse:0.111458\teval-rmse:0.132673\ttrain-rmspe:0.168142\teval-rmspe:0.118715\n",
      "[674]\ttrain-rmse:0.111435\teval-rmse:0.132654\ttrain-rmspe:0.168118\teval-rmspe:0.11867\n",
      "[675]\ttrain-rmse:0.111411\teval-rmse:0.132625\ttrain-rmspe:0.168099\teval-rmspe:0.118637\n",
      "[676]\ttrain-rmse:0.11139\teval-rmse:0.132609\ttrain-rmspe:0.168088\teval-rmspe:0.118622\n",
      "[677]\ttrain-rmse:0.111374\teval-rmse:0.132599\ttrain-rmspe:0.168067\teval-rmspe:0.118601\n",
      "[678]\ttrain-rmse:0.111337\teval-rmse:0.132573\ttrain-rmspe:0.168037\teval-rmspe:0.118569\n",
      "[679]\ttrain-rmse:0.111294\teval-rmse:0.132549\ttrain-rmspe:0.167979\teval-rmspe:0.118551\n",
      "[680]\ttrain-rmse:0.111278\teval-rmse:0.132538\ttrain-rmspe:0.168007\teval-rmspe:0.118538\n",
      "[681]\ttrain-rmse:0.111247\teval-rmse:0.132514\ttrain-rmspe:0.167987\teval-rmspe:0.118517\n",
      "[682]\ttrain-rmse:0.11122\teval-rmse:0.132496\ttrain-rmspe:0.167941\teval-rmspe:0.118495\n",
      "[683]\ttrain-rmse:0.111179\teval-rmse:0.132465\ttrain-rmspe:0.167905\teval-rmspe:0.118469\n",
      "[684]\ttrain-rmse:0.111142\teval-rmse:0.132464\ttrain-rmspe:0.167837\teval-rmspe:0.118439\n",
      "[685]\ttrain-rmse:0.11112\teval-rmse:0.132447\ttrain-rmspe:0.167717\teval-rmspe:0.118421\n",
      "[686]\ttrain-rmse:0.111105\teval-rmse:0.132438\ttrain-rmspe:0.167709\teval-rmspe:0.118412\n",
      "[687]\ttrain-rmse:0.111076\teval-rmse:0.132419\ttrain-rmspe:0.167687\teval-rmspe:0.118391\n",
      "[688]\ttrain-rmse:0.111041\teval-rmse:0.132397\ttrain-rmspe:0.167664\teval-rmspe:0.118399\n",
      "[689]\ttrain-rmse:0.111015\teval-rmse:0.132384\ttrain-rmspe:0.167639\teval-rmspe:0.118374\n",
      "[690]\ttrain-rmse:0.110977\teval-rmse:0.132352\ttrain-rmspe:0.167566\teval-rmspe:0.118349\n",
      "[691]\ttrain-rmse:0.110949\teval-rmse:0.132336\ttrain-rmspe:0.162913\teval-rmspe:0.11834\n",
      "[692]\ttrain-rmse:0.11093\teval-rmse:0.132321\ttrain-rmspe:0.162898\teval-rmspe:0.11832\n",
      "[693]\ttrain-rmse:0.110891\teval-rmse:0.132298\ttrain-rmspe:0.162804\teval-rmspe:0.118278\n",
      "[694]\ttrain-rmse:0.110874\teval-rmse:0.132288\ttrain-rmspe:0.162792\teval-rmspe:0.11826\n",
      "[695]\ttrain-rmse:0.110848\teval-rmse:0.132275\ttrain-rmspe:0.162814\teval-rmspe:0.118237\n",
      "[696]\ttrain-rmse:0.110803\teval-rmse:0.132267\ttrain-rmspe:0.16279\teval-rmspe:0.118231\n",
      "[697]\ttrain-rmse:0.110769\teval-rmse:0.13224\ttrain-rmspe:0.162766\teval-rmspe:0.118198\n",
      "[698]\ttrain-rmse:0.110696\teval-rmse:0.132242\ttrain-rmspe:0.162727\teval-rmspe:0.118196\n",
      "[699]\ttrain-rmse:0.110661\teval-rmse:0.132222\ttrain-rmspe:0.162712\teval-rmspe:0.118174\n",
      "[700]\ttrain-rmse:0.110623\teval-rmse:0.132209\ttrain-rmspe:0.162685\teval-rmspe:0.118152\n",
      "[701]\ttrain-rmse:0.110604\teval-rmse:0.132211\ttrain-rmspe:0.16262\teval-rmspe:0.118139\n",
      "[702]\ttrain-rmse:0.110593\teval-rmse:0.132205\ttrain-rmspe:0.162612\teval-rmspe:0.118148\n",
      "[703]\ttrain-rmse:0.110572\teval-rmse:0.132153\ttrain-rmspe:0.162611\teval-rmspe:0.118146\n",
      "[704]\ttrain-rmse:0.110513\teval-rmse:0.132103\ttrain-rmspe:0.162527\teval-rmspe:0.118086\n",
      "[705]\ttrain-rmse:0.110492\teval-rmse:0.132088\ttrain-rmspe:0.162568\teval-rmspe:0.118076\n",
      "[706]\ttrain-rmse:0.110471\teval-rmse:0.132073\ttrain-rmspe:0.162586\teval-rmspe:0.118054\n",
      "[707]\ttrain-rmse:0.110438\teval-rmse:0.132049\ttrain-rmspe:0.162579\teval-rmspe:0.118011\n",
      "[708]\ttrain-rmse:0.110424\teval-rmse:0.132045\ttrain-rmspe:0.162556\teval-rmspe:0.117992\n",
      "[709]\ttrain-rmse:0.110381\teval-rmse:0.132014\ttrain-rmspe:0.162546\teval-rmspe:0.117965\n",
      "[710]\ttrain-rmse:0.110355\teval-rmse:0.13201\ttrain-rmspe:0.162536\teval-rmspe:0.117964\n",
      "[711]\ttrain-rmse:0.11032\teval-rmse:0.131984\ttrain-rmspe:0.162503\teval-rmspe:0.117939\n",
      "[712]\ttrain-rmse:0.110295\teval-rmse:0.131978\ttrain-rmspe:0.162482\teval-rmspe:0.117943\n",
      "[713]\ttrain-rmse:0.110278\teval-rmse:0.131969\ttrain-rmspe:0.162449\teval-rmspe:0.117933\n",
      "[714]\ttrain-rmse:0.110267\teval-rmse:0.131959\ttrain-rmspe:0.162436\teval-rmspe:0.117914\n",
      "[715]\ttrain-rmse:0.110251\teval-rmse:0.131955\ttrain-rmspe:0.162423\teval-rmspe:0.117911\n",
      "[716]\ttrain-rmse:0.110203\teval-rmse:0.131909\ttrain-rmspe:0.162284\teval-rmspe:0.117863\n",
      "[717]\ttrain-rmse:0.110174\teval-rmse:0.131887\ttrain-rmspe:0.162263\teval-rmspe:0.117839\n",
      "[718]\ttrain-rmse:0.110168\teval-rmse:0.13188\ttrain-rmspe:0.162261\teval-rmspe:0.117831\n",
      "[719]\ttrain-rmse:0.110132\teval-rmse:0.131853\ttrain-rmspe:0.162246\teval-rmspe:0.117801\n",
      "[720]\ttrain-rmse:0.110099\teval-rmse:0.131825\ttrain-rmspe:0.162221\teval-rmspe:0.117778\n",
      "[721]\ttrain-rmse:0.110079\teval-rmse:0.131806\ttrain-rmspe:0.162195\teval-rmspe:0.117777\n",
      "[722]\ttrain-rmse:0.11005\teval-rmse:0.131783\ttrain-rmspe:0.162169\teval-rmspe:0.117751\n",
      "[723]\ttrain-rmse:0.11003\teval-rmse:0.131773\ttrain-rmspe:0.162311\teval-rmspe:0.117741\n",
      "[724]\ttrain-rmse:0.109938\teval-rmse:0.13179\ttrain-rmspe:0.162306\teval-rmspe:0.117753\n",
      "[725]\ttrain-rmse:0.109882\teval-rmse:0.131745\ttrain-rmspe:0.162262\teval-rmspe:0.117701\n",
      "[726]\ttrain-rmse:0.109871\teval-rmse:0.131735\ttrain-rmspe:0.162255\teval-rmspe:0.117685\n",
      "[727]\ttrain-rmse:0.109851\teval-rmse:0.131718\ttrain-rmspe:0.162234\teval-rmspe:0.117663\n",
      "[728]\ttrain-rmse:0.109839\teval-rmse:0.131709\ttrain-rmspe:0.162236\teval-rmspe:0.117645\n",
      "[729]\ttrain-rmse:0.109806\teval-rmse:0.131755\ttrain-rmspe:0.162228\teval-rmspe:0.117662\n",
      "[730]\ttrain-rmse:0.109769\teval-rmse:0.131728\ttrain-rmspe:0.162239\teval-rmspe:0.117636\n",
      "[731]\ttrain-rmse:0.109735\teval-rmse:0.131693\ttrain-rmspe:0.16221\teval-rmspe:0.117591\n",
      "[732]\ttrain-rmse:0.109666\teval-rmse:0.131666\ttrain-rmspe:0.162184\teval-rmspe:0.117545\n",
      "[733]\ttrain-rmse:0.109541\teval-rmse:0.131634\ttrain-rmspe:0.162133\teval-rmspe:0.117507\n",
      "[734]\ttrain-rmse:0.109505\teval-rmse:0.131617\ttrain-rmspe:0.16212\teval-rmspe:0.117497\n",
      "[735]\ttrain-rmse:0.109468\teval-rmse:0.131583\ttrain-rmspe:0.162095\teval-rmspe:0.117445\n",
      "[736]\ttrain-rmse:0.109414\teval-rmse:0.131566\ttrain-rmspe:0.162056\teval-rmspe:0.117386\n",
      "[737]\ttrain-rmse:0.109372\teval-rmse:0.131536\ttrain-rmspe:0.162033\teval-rmspe:0.117367\n",
      "[738]\ttrain-rmse:0.109345\teval-rmse:0.131531\ttrain-rmspe:0.162025\teval-rmspe:0.117372\n",
      "[739]\ttrain-rmse:0.109307\teval-rmse:0.1315\ttrain-rmspe:0.161992\teval-rmspe:0.117334\n",
      "[740]\ttrain-rmse:0.109284\teval-rmse:0.131486\ttrain-rmspe:0.161819\teval-rmspe:0.117316\n",
      "[741]\ttrain-rmse:0.109251\teval-rmse:0.131472\ttrain-rmspe:0.16181\teval-rmspe:0.117303\n",
      "[742]\ttrain-rmse:0.109237\teval-rmse:0.131463\ttrain-rmspe:0.161799\teval-rmspe:0.117293\n",
      "[743]\ttrain-rmse:0.109191\teval-rmse:0.131464\ttrain-rmspe:0.161759\teval-rmspe:0.11725\n",
      "[744]\ttrain-rmse:0.109176\teval-rmse:0.131456\ttrain-rmspe:0.161808\teval-rmspe:0.117267\n",
      "[745]\ttrain-rmse:0.109024\teval-rmse:0.131446\ttrain-rmspe:0.161774\teval-rmspe:0.117289\n",
      "[746]\ttrain-rmse:0.108913\teval-rmse:0.130693\ttrain-rmspe:0.161766\teval-rmspe:0.117283\n",
      "[747]\ttrain-rmse:0.10889\teval-rmse:0.130668\ttrain-rmspe:0.161755\teval-rmspe:0.117259\n",
      "[748]\ttrain-rmse:0.108868\teval-rmse:0.130663\ttrain-rmspe:0.161743\teval-rmspe:0.117252\n",
      "[749]\ttrain-rmse:0.108863\teval-rmse:0.130661\ttrain-rmspe:0.161741\teval-rmspe:0.117252\n",
      "[750]\ttrain-rmse:0.108828\teval-rmse:0.130644\ttrain-rmspe:0.161724\teval-rmspe:0.117257\n",
      "[751]\ttrain-rmse:0.108815\teval-rmse:0.130629\ttrain-rmspe:0.161715\teval-rmspe:0.117243\n",
      "[752]\ttrain-rmse:0.108798\teval-rmse:0.130619\ttrain-rmspe:0.1617\teval-rmspe:0.117232\n",
      "[753]\ttrain-rmse:0.108791\teval-rmse:0.130619\ttrain-rmspe:0.16169\teval-rmspe:0.11723\n",
      "[754]\ttrain-rmse:0.108782\teval-rmse:0.130613\ttrain-rmspe:0.161681\teval-rmspe:0.117218\n",
      "[755]\ttrain-rmse:0.108746\teval-rmse:0.130581\ttrain-rmspe:0.161666\teval-rmspe:0.117189\n",
      "[756]\ttrain-rmse:0.108726\teval-rmse:0.130569\ttrain-rmspe:0.161659\teval-rmspe:0.117163\n",
      "[757]\ttrain-rmse:0.108717\teval-rmse:0.130564\ttrain-rmspe:0.161648\teval-rmspe:0.117157\n",
      "[758]\ttrain-rmse:0.1087\teval-rmse:0.130549\ttrain-rmspe:0.161636\teval-rmspe:0.117151\n",
      "[759]\ttrain-rmse:0.10866\teval-rmse:0.130535\ttrain-rmspe:0.161657\teval-rmspe:0.117133\n",
      "[760]\ttrain-rmse:0.108635\teval-rmse:0.130513\ttrain-rmspe:0.161647\teval-rmspe:0.117114\n",
      "[761]\ttrain-rmse:0.108621\teval-rmse:0.130536\ttrain-rmspe:0.161654\teval-rmspe:0.11712\n",
      "[762]\ttrain-rmse:0.108605\teval-rmse:0.130527\ttrain-rmspe:0.161626\teval-rmspe:0.11712\n",
      "[763]\ttrain-rmse:0.108584\teval-rmse:0.130533\ttrain-rmspe:0.161619\teval-rmspe:0.117116\n",
      "[764]\ttrain-rmse:0.10856\teval-rmse:0.130511\ttrain-rmspe:0.161601\teval-rmspe:0.117097\n",
      "[765]\ttrain-rmse:0.108547\teval-rmse:0.130502\ttrain-rmspe:0.16159\teval-rmspe:0.117081\n",
      "[766]\ttrain-rmse:0.108521\teval-rmse:0.130485\ttrain-rmspe:0.16063\teval-rmspe:0.117051\n",
      "[767]\ttrain-rmse:0.108511\teval-rmse:0.130484\ttrain-rmspe:0.160627\teval-rmspe:0.117052\n"
     ]
    },
    {
     "name": "stdout",
     "output_type": "stream",
     "text": [
      "[768]\ttrain-rmse:0.108499\teval-rmse:0.130478\ttrain-rmspe:0.160608\teval-rmspe:0.117044\n",
      "[769]\ttrain-rmse:0.108472\teval-rmse:0.130468\ttrain-rmspe:0.16058\teval-rmspe:0.117034\n",
      "[770]\ttrain-rmse:0.108461\teval-rmse:0.130462\ttrain-rmspe:0.160585\teval-rmspe:0.117033\n",
      "[771]\ttrain-rmse:0.10842\teval-rmse:0.130419\ttrain-rmspe:0.160549\teval-rmspe:0.116962\n",
      "[772]\ttrain-rmse:0.108409\teval-rmse:0.130419\ttrain-rmspe:0.160538\teval-rmspe:0.116951\n",
      "[773]\ttrain-rmse:0.108389\teval-rmse:0.130411\ttrain-rmspe:0.160524\teval-rmspe:0.116941\n",
      "[774]\ttrain-rmse:0.108369\teval-rmse:0.130398\ttrain-rmspe:0.159633\teval-rmspe:0.116926\n",
      "[775]\ttrain-rmse:0.108315\teval-rmse:0.130318\ttrain-rmspe:0.159634\teval-rmspe:0.116937\n",
      "[776]\ttrain-rmse:0.108298\teval-rmse:0.130308\ttrain-rmspe:0.159683\teval-rmspe:0.11692\n",
      "[777]\ttrain-rmse:0.108272\teval-rmse:0.130292\ttrain-rmspe:0.159696\teval-rmspe:0.116904\n",
      "[778]\ttrain-rmse:0.108242\teval-rmse:0.130271\ttrain-rmspe:0.159655\teval-rmspe:0.116883\n",
      "[779]\ttrain-rmse:0.108214\teval-rmse:0.130247\ttrain-rmspe:0.159652\teval-rmspe:0.11685\n",
      "[780]\ttrain-rmse:0.10819\teval-rmse:0.130231\ttrain-rmspe:0.159654\teval-rmspe:0.116835\n",
      "[781]\ttrain-rmse:0.108162\teval-rmse:0.130225\ttrain-rmspe:0.159634\teval-rmspe:0.116816\n",
      "[782]\ttrain-rmse:0.108144\teval-rmse:0.130206\ttrain-rmspe:0.15963\teval-rmspe:0.116813\n",
      "[783]\ttrain-rmse:0.108112\teval-rmse:0.130181\ttrain-rmspe:0.159614\teval-rmspe:0.116781\n",
      "[784]\ttrain-rmse:0.108076\teval-rmse:0.130165\ttrain-rmspe:0.159628\teval-rmspe:0.116764\n",
      "[785]\ttrain-rmse:0.108044\teval-rmse:0.130067\ttrain-rmspe:0.159612\teval-rmspe:0.116756\n",
      "[786]\ttrain-rmse:0.108035\teval-rmse:0.130061\ttrain-rmspe:0.1596\teval-rmspe:0.116754\n",
      "[787]\ttrain-rmse:0.108018\teval-rmse:0.130048\ttrain-rmspe:0.159492\teval-rmspe:0.11674\n",
      "[788]\ttrain-rmse:0.107988\teval-rmse:0.130042\ttrain-rmspe:0.159492\teval-rmspe:0.116737\n",
      "[789]\ttrain-rmse:0.107972\teval-rmse:0.130033\ttrain-rmspe:0.159448\teval-rmspe:0.116718\n",
      "[790]\ttrain-rmse:0.107958\teval-rmse:0.13002\ttrain-rmspe:0.159428\teval-rmspe:0.116704\n",
      "[791]\ttrain-rmse:0.107803\teval-rmse:0.129464\ttrain-rmspe:0.159404\teval-rmspe:0.11668\n",
      "[792]\ttrain-rmse:0.107781\teval-rmse:0.129449\ttrain-rmspe:0.159376\teval-rmspe:0.116656\n",
      "[793]\ttrain-rmse:0.107751\teval-rmse:0.129422\ttrain-rmspe:0.159486\teval-rmspe:0.116623\n",
      "[794]\ttrain-rmse:0.107742\teval-rmse:0.12942\ttrain-rmspe:0.159473\teval-rmspe:0.116616\n",
      "[795]\ttrain-rmse:0.107711\teval-rmse:0.129406\ttrain-rmspe:0.15941\teval-rmspe:0.116587\n",
      "[796]\ttrain-rmse:0.10769\teval-rmse:0.129418\ttrain-rmspe:0.159384\teval-rmspe:0.116574\n",
      "[797]\ttrain-rmse:0.107675\teval-rmse:0.129408\ttrain-rmspe:0.159375\teval-rmspe:0.116557\n",
      "[798]\ttrain-rmse:0.107647\teval-rmse:0.129394\ttrain-rmspe:0.15936\teval-rmspe:0.116545\n",
      "[799]\ttrain-rmse:0.107603\teval-rmse:0.129384\ttrain-rmspe:0.159326\teval-rmspe:0.11654\n",
      "[800]\ttrain-rmse:0.107539\teval-rmse:0.129365\ttrain-rmspe:0.15979\teval-rmspe:0.116519\n",
      "[801]\ttrain-rmse:0.107505\teval-rmse:0.129352\ttrain-rmspe:0.15978\teval-rmspe:0.116528\n",
      "[802]\ttrain-rmse:0.107482\teval-rmse:0.129349\ttrain-rmspe:0.159687\teval-rmspe:0.116526\n",
      "[803]\ttrain-rmse:0.107455\teval-rmse:0.129328\ttrain-rmspe:0.159672\teval-rmspe:0.116513\n",
      "[804]\ttrain-rmse:0.10741\teval-rmse:0.129288\ttrain-rmspe:0.145142\teval-rmspe:0.116478\n",
      "[805]\ttrain-rmse:0.107385\teval-rmse:0.12928\ttrain-rmspe:0.145129\teval-rmspe:0.116466\n",
      "[806]\ttrain-rmse:0.107368\teval-rmse:0.12927\ttrain-rmspe:0.145098\teval-rmspe:0.116461\n",
      "[807]\ttrain-rmse:0.10736\teval-rmse:0.129266\ttrain-rmspe:0.145106\teval-rmspe:0.116459\n",
      "[808]\ttrain-rmse:0.107334\teval-rmse:0.129254\ttrain-rmspe:0.145079\teval-rmspe:0.116431\n",
      "[809]\ttrain-rmse:0.10731\teval-rmse:0.129242\ttrain-rmspe:0.145062\teval-rmspe:0.116425\n",
      "[810]\ttrain-rmse:0.107292\teval-rmse:0.129229\ttrain-rmspe:0.14504\teval-rmspe:0.116408\n",
      "[811]\ttrain-rmse:0.107267\teval-rmse:0.129205\ttrain-rmspe:0.145013\teval-rmspe:0.116372\n",
      "[812]\ttrain-rmse:0.107246\teval-rmse:0.129192\ttrain-rmspe:0.145014\teval-rmspe:0.116362\n",
      "[813]\ttrain-rmse:0.107219\teval-rmse:0.129181\ttrain-rmspe:0.14502\teval-rmspe:0.116351\n",
      "[814]\ttrain-rmse:0.107204\teval-rmse:0.129174\ttrain-rmspe:0.145011\teval-rmspe:0.116354\n",
      "[815]\ttrain-rmse:0.107187\teval-rmse:0.129161\ttrain-rmspe:0.144995\teval-rmspe:0.116335\n",
      "[816]\ttrain-rmse:0.107179\teval-rmse:0.129156\ttrain-rmspe:0.144974\teval-rmspe:0.116329\n",
      "[817]\ttrain-rmse:0.107153\teval-rmse:0.129144\ttrain-rmspe:0.144953\teval-rmspe:0.116317\n",
      "[818]\ttrain-rmse:0.107111\teval-rmse:0.129137\ttrain-rmspe:0.14495\teval-rmspe:0.116312\n",
      "[819]\ttrain-rmse:0.107011\teval-rmse:0.129247\ttrain-rmspe:0.144949\teval-rmspe:0.116327\n",
      "[820]\ttrain-rmse:0.106993\teval-rmse:0.129228\ttrain-rmspe:0.144892\teval-rmspe:0.116311\n",
      "[821]\ttrain-rmse:0.10696\teval-rmse:0.129197\ttrain-rmspe:0.144864\teval-rmspe:0.116272\n",
      "[822]\ttrain-rmse:0.106933\teval-rmse:0.129173\ttrain-rmspe:0.144849\teval-rmspe:0.116247\n",
      "[823]\ttrain-rmse:0.106873\teval-rmse:0.129141\ttrain-rmspe:0.144791\teval-rmspe:0.116208\n",
      "[824]\ttrain-rmse:0.106844\teval-rmse:0.129144\ttrain-rmspe:0.144792\teval-rmspe:0.116211\n",
      "[825]\ttrain-rmse:0.106827\teval-rmse:0.12913\ttrain-rmspe:0.144746\teval-rmspe:0.116133\n",
      "[826]\ttrain-rmse:0.106819\teval-rmse:0.129129\ttrain-rmspe:0.144734\teval-rmspe:0.116132\n",
      "[827]\ttrain-rmse:0.106806\teval-rmse:0.129113\ttrain-rmspe:0.144679\teval-rmspe:0.1161\n",
      "[828]\ttrain-rmse:0.106781\teval-rmse:0.129106\ttrain-rmspe:0.144617\teval-rmspe:0.116095\n",
      "[829]\ttrain-rmse:0.106769\teval-rmse:0.129182\ttrain-rmspe:0.144617\teval-rmspe:0.116089\n",
      "[830]\ttrain-rmse:0.106755\teval-rmse:0.129177\ttrain-rmspe:0.144615\teval-rmspe:0.116094\n",
      "[831]\ttrain-rmse:0.106723\teval-rmse:0.129154\ttrain-rmspe:0.144647\teval-rmspe:0.116058\n",
      "[832]\ttrain-rmse:0.106704\teval-rmse:0.129156\ttrain-rmspe:0.141721\teval-rmspe:0.116053\n",
      "[833]\ttrain-rmse:0.106691\teval-rmse:0.129146\ttrain-rmspe:0.141712\teval-rmspe:0.11602\n",
      "[834]\ttrain-rmse:0.106656\teval-rmse:0.129135\ttrain-rmspe:0.141701\teval-rmspe:0.116008\n",
      "[835]\ttrain-rmse:0.106621\teval-rmse:0.129109\ttrain-rmspe:0.141653\teval-rmspe:0.115978\n",
      "[836]\ttrain-rmse:0.106562\teval-rmse:0.129158\ttrain-rmspe:0.14164\teval-rmspe:0.115989\n",
      "[837]\ttrain-rmse:0.106525\teval-rmse:0.129146\ttrain-rmspe:0.141636\teval-rmspe:0.115979\n",
      "[838]\ttrain-rmse:0.106515\teval-rmse:0.129141\ttrain-rmspe:0.141623\teval-rmspe:0.115978\n",
      "[839]\ttrain-rmse:0.106491\teval-rmse:0.129125\ttrain-rmspe:0.141596\teval-rmspe:0.11595\n",
      "[840]\ttrain-rmse:0.106466\teval-rmse:0.12912\ttrain-rmspe:0.141586\teval-rmspe:0.115944\n",
      "[841]\ttrain-rmse:0.106449\teval-rmse:0.129109\ttrain-rmspe:0.141576\teval-rmspe:0.115936\n",
      "[842]\ttrain-rmse:0.106403\teval-rmse:0.129074\ttrain-rmspe:0.14154\teval-rmspe:0.115889\n",
      "[843]\ttrain-rmse:0.106395\teval-rmse:0.129064\ttrain-rmspe:0.14157\teval-rmspe:0.115882\n",
      "[844]\ttrain-rmse:0.106393\teval-rmse:0.129064\ttrain-rmspe:0.141562\teval-rmspe:0.115877\n",
      "[845]\ttrain-rmse:0.106377\teval-rmse:0.129055\ttrain-rmspe:0.141517\teval-rmspe:0.115872\n",
      "[846]\ttrain-rmse:0.106359\teval-rmse:0.129051\ttrain-rmspe:0.141511\teval-rmspe:0.11587\n",
      "[847]\ttrain-rmse:0.106332\teval-rmse:0.12904\ttrain-rmspe:0.141472\teval-rmspe:0.115863\n",
      "[848]\ttrain-rmse:0.106307\teval-rmse:0.129022\ttrain-rmspe:0.141425\teval-rmspe:0.115843\n",
      "[849]\ttrain-rmse:0.106286\teval-rmse:0.129003\ttrain-rmspe:0.141411\teval-rmspe:0.11582\n",
      "[850]\ttrain-rmse:0.106259\teval-rmse:0.128998\ttrain-rmspe:0.14139\teval-rmspe:0.115801\n",
      "[851]\ttrain-rmse:0.106241\teval-rmse:0.128997\ttrain-rmspe:0.141376\teval-rmspe:0.115802\n",
      "[852]\ttrain-rmse:0.106232\teval-rmse:0.128993\ttrain-rmspe:0.141374\teval-rmspe:0.115804\n",
      "[853]\ttrain-rmse:0.106223\teval-rmse:0.12899\ttrain-rmspe:0.141399\teval-rmspe:0.115804\n",
      "[854]\ttrain-rmse:0.106196\teval-rmse:0.128974\ttrain-rmspe:0.141371\teval-rmspe:0.115785\n",
      "[855]\ttrain-rmse:0.106171\teval-rmse:0.128953\ttrain-rmspe:0.141355\teval-rmspe:0.115763\n",
      "[856]\ttrain-rmse:0.106153\teval-rmse:0.128929\ttrain-rmspe:0.14133\teval-rmspe:0.115747\n",
      "[857]\ttrain-rmse:0.106126\teval-rmse:0.128914\ttrain-rmspe:0.141316\teval-rmspe:0.115729\n",
      "[858]\ttrain-rmse:0.106107\teval-rmse:0.128918\ttrain-rmspe:0.141303\teval-rmspe:0.115732\n",
      "[859]\ttrain-rmse:0.106095\teval-rmse:0.128915\ttrain-rmspe:0.141297\teval-rmspe:0.115728\n",
      "[860]\ttrain-rmse:0.106076\teval-rmse:0.128899\ttrain-rmspe:0.141266\teval-rmspe:0.115705\n",
      "[861]\ttrain-rmse:0.106049\teval-rmse:0.128875\ttrain-rmspe:0.141225\teval-rmspe:0.115649\n",
      "[862]\ttrain-rmse:0.106039\teval-rmse:0.128868\ttrain-rmspe:0.141212\teval-rmspe:0.115644\n",
      "[863]\ttrain-rmse:0.106026\teval-rmse:0.128862\ttrain-rmspe:0.141198\teval-rmspe:0.115638\n"
     ]
    },
    {
     "name": "stdout",
     "output_type": "stream",
     "text": [
      "[864]\ttrain-rmse:0.105995\teval-rmse:0.128832\ttrain-rmspe:0.141147\teval-rmspe:0.11561\n",
      "[865]\ttrain-rmse:0.105969\teval-rmse:0.128812\ttrain-rmspe:0.141119\teval-rmspe:0.115593\n",
      "[866]\ttrain-rmse:0.105956\teval-rmse:0.128814\ttrain-rmspe:0.141106\teval-rmspe:0.115603\n",
      "[867]\ttrain-rmse:0.105947\teval-rmse:0.128807\ttrain-rmspe:0.141101\teval-rmspe:0.115596\n",
      "[868]\ttrain-rmse:0.105939\teval-rmse:0.128799\ttrain-rmspe:0.141087\teval-rmspe:0.11559\n",
      "[869]\ttrain-rmse:0.105914\teval-rmse:0.128779\ttrain-rmspe:0.141067\teval-rmspe:0.115566\n",
      "[870]\ttrain-rmse:0.1059\teval-rmse:0.128774\ttrain-rmspe:0.141055\teval-rmspe:0.11556\n",
      "[871]\ttrain-rmse:0.105877\teval-rmse:0.128745\ttrain-rmspe:0.141032\teval-rmspe:0.115531\n",
      "[872]\ttrain-rmse:0.105858\teval-rmse:0.128735\ttrain-rmspe:0.140871\teval-rmspe:0.115521\n",
      "[873]\ttrain-rmse:0.105838\teval-rmse:0.128726\ttrain-rmspe:0.14092\teval-rmspe:0.11552\n",
      "[874]\ttrain-rmse:0.105817\teval-rmse:0.128709\ttrain-rmspe:0.140885\teval-rmspe:0.115507\n",
      "[875]\ttrain-rmse:0.105798\teval-rmse:0.128706\ttrain-rmspe:0.140872\teval-rmspe:0.115492\n",
      "[876]\ttrain-rmse:0.105786\teval-rmse:0.128698\ttrain-rmspe:0.140868\teval-rmspe:0.115489\n",
      "[877]\ttrain-rmse:0.105769\teval-rmse:0.128682\ttrain-rmspe:0.140816\teval-rmspe:0.115474\n",
      "[878]\ttrain-rmse:0.105724\teval-rmse:0.128652\ttrain-rmspe:0.140774\teval-rmspe:0.115424\n",
      "[879]\ttrain-rmse:0.105719\teval-rmse:0.128647\ttrain-rmspe:0.140775\teval-rmspe:0.115424\n",
      "[880]\ttrain-rmse:0.105699\teval-rmse:0.128632\ttrain-rmspe:0.140769\teval-rmspe:0.115399\n",
      "[881]\ttrain-rmse:0.10565\teval-rmse:0.128588\ttrain-rmspe:0.14056\teval-rmspe:0.11536\n",
      "[882]\ttrain-rmse:0.105613\teval-rmse:0.12858\ttrain-rmspe:0.140552\teval-rmspe:0.11535\n",
      "[883]\ttrain-rmse:0.105589\teval-rmse:0.128564\ttrain-rmspe:0.14053\teval-rmspe:0.11533\n",
      "[884]\ttrain-rmse:0.105577\teval-rmse:0.128562\ttrain-rmspe:0.140512\teval-rmspe:0.115326\n",
      "[885]\ttrain-rmse:0.105522\teval-rmse:0.128534\ttrain-rmspe:0.140495\teval-rmspe:0.115313\n",
      "[886]\ttrain-rmse:0.105505\teval-rmse:0.128523\ttrain-rmspe:0.140485\teval-rmspe:0.115302\n",
      "[887]\ttrain-rmse:0.105487\teval-rmse:0.128504\ttrain-rmspe:0.140473\teval-rmspe:0.115288\n",
      "[888]\ttrain-rmse:0.105449\teval-rmse:0.128496\ttrain-rmspe:0.140475\teval-rmspe:0.115277\n",
      "[889]\ttrain-rmse:0.105436\teval-rmse:0.128491\ttrain-rmspe:0.140467\teval-rmspe:0.115273\n",
      "[890]\ttrain-rmse:0.105425\teval-rmse:0.128493\ttrain-rmspe:0.140458\teval-rmspe:0.115278\n",
      "[891]\ttrain-rmse:0.105409\teval-rmse:0.128484\ttrain-rmspe:0.140453\teval-rmspe:0.115278\n",
      "[892]\ttrain-rmse:0.105388\teval-rmse:0.128476\ttrain-rmspe:0.140442\teval-rmspe:0.115272\n",
      "[893]\ttrain-rmse:0.105371\teval-rmse:0.12847\ttrain-rmspe:0.140427\teval-rmspe:0.115258\n",
      "[894]\ttrain-rmse:0.105356\teval-rmse:0.12846\ttrain-rmspe:0.140416\teval-rmspe:0.11524\n",
      "[895]\ttrain-rmse:0.105327\teval-rmse:0.128436\ttrain-rmspe:0.140394\teval-rmspe:0.115213\n",
      "[896]\ttrain-rmse:0.105314\teval-rmse:0.128431\ttrain-rmspe:0.140358\teval-rmspe:0.115206\n",
      "[897]\ttrain-rmse:0.105274\teval-rmse:0.128397\ttrain-rmspe:0.140333\teval-rmspe:0.115175\n",
      "[898]\ttrain-rmse:0.105256\teval-rmse:0.128388\ttrain-rmspe:0.140318\teval-rmspe:0.115161\n",
      "[899]\ttrain-rmse:0.105241\teval-rmse:0.128378\ttrain-rmspe:0.140301\teval-rmspe:0.115153\n",
      "[900]\ttrain-rmse:0.105235\teval-rmse:0.128378\ttrain-rmspe:0.140302\teval-rmspe:0.115152\n",
      "[901]\ttrain-rmse:0.10522\teval-rmse:0.128369\ttrain-rmspe:0.140275\teval-rmspe:0.115131\n",
      "[902]\ttrain-rmse:0.105204\teval-rmse:0.128352\ttrain-rmspe:0.140257\teval-rmspe:0.115083\n",
      "[903]\ttrain-rmse:0.105193\teval-rmse:0.128335\ttrain-rmspe:0.140244\teval-rmspe:0.115077\n",
      "[904]\ttrain-rmse:0.105147\teval-rmse:0.1283\ttrain-rmspe:0.140192\teval-rmspe:0.115038\n",
      "[905]\ttrain-rmse:0.105136\teval-rmse:0.128299\ttrain-rmspe:0.140173\teval-rmspe:0.115028\n",
      "[906]\ttrain-rmse:0.105131\teval-rmse:0.128299\ttrain-rmspe:0.140171\teval-rmspe:0.115029\n",
      "[907]\ttrain-rmse:0.105107\teval-rmse:0.128293\ttrain-rmspe:0.140146\teval-rmspe:0.115028\n",
      "[908]\ttrain-rmse:0.105087\teval-rmse:0.128277\ttrain-rmspe:0.140137\teval-rmspe:0.115013\n",
      "[909]\ttrain-rmse:0.10507\teval-rmse:0.128271\ttrain-rmspe:0.140123\teval-rmspe:0.115004\n",
      "[910]\ttrain-rmse:0.105049\teval-rmse:0.128259\ttrain-rmspe:0.140104\teval-rmspe:0.115002\n",
      "[911]\ttrain-rmse:0.104936\teval-rmse:0.127898\ttrain-rmspe:0.14009\teval-rmspe:0.114985\n",
      "[912]\ttrain-rmse:0.104897\teval-rmse:0.127876\ttrain-rmspe:0.140059\teval-rmspe:0.114972\n",
      "[913]\ttrain-rmse:0.104865\teval-rmse:0.127897\ttrain-rmspe:0.140046\teval-rmspe:0.114981\n",
      "[914]\ttrain-rmse:0.104838\teval-rmse:0.127876\ttrain-rmspe:0.140023\teval-rmspe:0.114952\n",
      "[915]\ttrain-rmse:0.104828\teval-rmse:0.127876\ttrain-rmspe:0.140014\teval-rmspe:0.114943\n",
      "[916]\ttrain-rmse:0.104817\teval-rmse:0.127875\ttrain-rmspe:0.140006\teval-rmspe:0.114943\n",
      "[917]\ttrain-rmse:0.104795\teval-rmse:0.127855\ttrain-rmspe:0.140008\teval-rmspe:0.114912\n",
      "[918]\ttrain-rmse:0.104784\teval-rmse:0.127845\ttrain-rmspe:0.139997\teval-rmspe:0.11491\n",
      "[919]\ttrain-rmse:0.104749\teval-rmse:0.127821\ttrain-rmspe:0.139969\teval-rmspe:0.114889\n",
      "[920]\ttrain-rmse:0.104742\teval-rmse:0.127811\ttrain-rmspe:0.139961\teval-rmspe:0.114879\n",
      "[921]\ttrain-rmse:0.104729\teval-rmse:0.127806\ttrain-rmspe:0.139944\teval-rmspe:0.114878\n",
      "[922]\ttrain-rmse:0.104714\teval-rmse:0.127802\ttrain-rmspe:0.13992\teval-rmspe:0.114842\n",
      "[923]\ttrain-rmse:0.104688\teval-rmse:0.127792\ttrain-rmspe:0.139916\teval-rmspe:0.11484\n",
      "[924]\ttrain-rmse:0.104673\teval-rmse:0.127782\ttrain-rmspe:0.139907\teval-rmspe:0.114828\n",
      "[925]\ttrain-rmse:0.104658\teval-rmse:0.127775\ttrain-rmspe:0.139903\teval-rmspe:0.114824\n",
      "[926]\ttrain-rmse:0.104642\teval-rmse:0.127763\ttrain-rmspe:0.139894\teval-rmspe:0.114802\n",
      "[927]\ttrain-rmse:0.104628\teval-rmse:0.127752\ttrain-rmspe:0.139886\teval-rmspe:0.114792\n",
      "[928]\ttrain-rmse:0.104617\teval-rmse:0.127752\ttrain-rmspe:0.139874\teval-rmspe:0.114795\n",
      "[929]\ttrain-rmse:0.104604\teval-rmse:0.127755\ttrain-rmspe:0.139881\teval-rmspe:0.114792\n",
      "[930]\ttrain-rmse:0.104593\teval-rmse:0.127744\ttrain-rmspe:0.139874\teval-rmspe:0.114779\n",
      "[931]\ttrain-rmse:0.104579\teval-rmse:0.127734\ttrain-rmspe:0.139851\teval-rmspe:0.114779\n",
      "[932]\ttrain-rmse:0.10452\teval-rmse:0.127711\ttrain-rmspe:0.139855\teval-rmspe:0.114762\n",
      "[933]\ttrain-rmse:0.104503\teval-rmse:0.127702\ttrain-rmspe:0.139843\teval-rmspe:0.11475\n",
      "[934]\ttrain-rmse:0.104494\teval-rmse:0.127698\ttrain-rmspe:0.139837\teval-rmspe:0.114742\n",
      "[935]\ttrain-rmse:0.104476\teval-rmse:0.127684\ttrain-rmspe:0.139812\teval-rmspe:0.114717\n",
      "[936]\ttrain-rmse:0.104466\teval-rmse:0.127681\ttrain-rmspe:0.139802\teval-rmspe:0.114727\n",
      "[937]\ttrain-rmse:0.104454\teval-rmse:0.127667\ttrain-rmspe:0.139782\teval-rmspe:0.114717\n",
      "[938]\ttrain-rmse:0.104433\teval-rmse:0.127656\ttrain-rmspe:0.139765\teval-rmspe:0.114719\n",
      "[939]\ttrain-rmse:0.104427\teval-rmse:0.127653\ttrain-rmspe:0.139759\teval-rmspe:0.114716\n",
      "[940]\ttrain-rmse:0.104424\teval-rmse:0.127638\ttrain-rmspe:0.13974\teval-rmspe:0.114695\n",
      "[941]\ttrain-rmse:0.104402\teval-rmse:0.12762\ttrain-rmspe:0.139697\teval-rmspe:0.114668\n",
      "[942]\ttrain-rmse:0.104381\teval-rmse:0.127614\ttrain-rmspe:0.139665\teval-rmspe:0.114658\n",
      "[943]\ttrain-rmse:0.104375\teval-rmse:0.127609\ttrain-rmspe:0.140101\teval-rmspe:0.11465\n",
      "[944]\ttrain-rmse:0.104361\teval-rmse:0.127597\ttrain-rmspe:0.140101\teval-rmspe:0.114644\n",
      "[945]\ttrain-rmse:0.104347\teval-rmse:0.127589\ttrain-rmspe:0.140091\teval-rmspe:0.114634\n",
      "[946]\ttrain-rmse:0.104337\teval-rmse:0.127591\ttrain-rmspe:0.14009\teval-rmspe:0.114632\n",
      "[947]\ttrain-rmse:0.104327\teval-rmse:0.127574\ttrain-rmspe:0.140081\teval-rmspe:0.114624\n",
      "[948]\ttrain-rmse:0.104278\teval-rmse:0.127548\ttrain-rmspe:0.14005\teval-rmspe:0.114595\n",
      "[949]\ttrain-rmse:0.104268\teval-rmse:0.127539\ttrain-rmspe:0.140044\teval-rmspe:0.114587\n",
      "[950]\ttrain-rmse:0.10425\teval-rmse:0.127502\ttrain-rmspe:0.139963\teval-rmspe:0.114571\n",
      "[951]\ttrain-rmse:0.104234\teval-rmse:0.127498\ttrain-rmspe:0.139953\teval-rmspe:0.114565\n",
      "[952]\ttrain-rmse:0.104174\teval-rmse:0.127531\ttrain-rmspe:0.139933\teval-rmspe:0.114533\n",
      "[953]\ttrain-rmse:0.104154\teval-rmse:0.127519\ttrain-rmspe:0.139904\teval-rmspe:0.114524\n",
      "[954]\ttrain-rmse:0.104138\teval-rmse:0.127484\ttrain-rmspe:0.139862\teval-rmspe:0.114441\n",
      "[955]\ttrain-rmse:0.104101\teval-rmse:0.127456\ttrain-rmspe:0.139832\teval-rmspe:0.114402\n",
      "[956]\ttrain-rmse:0.1041\teval-rmse:0.127457\ttrain-rmspe:0.139833\teval-rmspe:0.114403\n",
      "[957]\ttrain-rmse:0.104087\teval-rmse:0.127457\ttrain-rmspe:0.139815\teval-rmspe:0.114409\n",
      "[958]\ttrain-rmse:0.104075\teval-rmse:0.12745\ttrain-rmspe:0.139812\teval-rmspe:0.1144\n",
      "[959]\ttrain-rmse:0.104056\teval-rmse:0.127437\ttrain-rmspe:0.139794\teval-rmspe:0.114391\n"
     ]
    },
    {
     "name": "stdout",
     "output_type": "stream",
     "text": [
      "[960]\ttrain-rmse:0.104022\teval-rmse:0.127432\ttrain-rmspe:0.139519\teval-rmspe:0.114369\n",
      "[961]\ttrain-rmse:0.104011\teval-rmse:0.127425\ttrain-rmspe:0.139471\teval-rmspe:0.114355\n",
      "[962]\ttrain-rmse:0.103989\teval-rmse:0.127404\ttrain-rmspe:0.139466\teval-rmspe:0.114329\n",
      "[963]\ttrain-rmse:0.103964\teval-rmse:0.127386\ttrain-rmspe:0.139443\teval-rmspe:0.11431\n",
      "[964]\ttrain-rmse:0.103954\teval-rmse:0.12738\ttrain-rmspe:0.139364\teval-rmspe:0.114299\n",
      "[965]\ttrain-rmse:0.103936\teval-rmse:0.127363\ttrain-rmspe:0.139348\teval-rmspe:0.114276\n",
      "[966]\ttrain-rmse:0.103914\teval-rmse:0.127348\ttrain-rmspe:0.138063\teval-rmspe:0.114271\n",
      "[967]\ttrain-rmse:0.103892\teval-rmse:0.12733\ttrain-rmspe:0.138049\teval-rmspe:0.114246\n",
      "[968]\ttrain-rmse:0.103881\teval-rmse:0.127323\ttrain-rmspe:0.138031\teval-rmspe:0.114239\n",
      "[969]\ttrain-rmse:0.103869\teval-rmse:0.127317\ttrain-rmspe:0.138022\teval-rmspe:0.114237\n",
      "[970]\ttrain-rmse:0.103828\teval-rmse:0.127315\ttrain-rmspe:0.137993\teval-rmspe:0.114216\n",
      "[971]\ttrain-rmse:0.103824\teval-rmse:0.127378\ttrain-rmspe:0.13799\teval-rmspe:0.114221\n",
      "[972]\ttrain-rmse:0.103815\teval-rmse:0.127376\ttrain-rmspe:0.137972\teval-rmspe:0.114218\n",
      "[973]\ttrain-rmse:0.103807\teval-rmse:0.127368\ttrain-rmspe:0.137955\teval-rmspe:0.114191\n",
      "[974]\ttrain-rmse:0.103795\teval-rmse:0.127359\ttrain-rmspe:0.13795\teval-rmspe:0.1142\n",
      "[975]\ttrain-rmse:0.103785\teval-rmse:0.127354\ttrain-rmspe:0.137964\teval-rmspe:0.114193\n",
      "[976]\ttrain-rmse:0.103776\teval-rmse:0.127353\ttrain-rmspe:0.137953\teval-rmspe:0.114192\n",
      "[977]\ttrain-rmse:0.103772\teval-rmse:0.127348\ttrain-rmspe:0.137923\teval-rmspe:0.114188\n",
      "[978]\ttrain-rmse:0.103765\teval-rmse:0.127345\ttrain-rmspe:0.137916\teval-rmspe:0.114194\n",
      "[979]\ttrain-rmse:0.103754\teval-rmse:0.127334\ttrain-rmspe:0.137913\teval-rmspe:0.114187\n",
      "[980]\ttrain-rmse:0.103733\teval-rmse:0.127317\ttrain-rmspe:0.138475\teval-rmspe:0.114169\n",
      "[981]\ttrain-rmse:0.103717\teval-rmse:0.127314\ttrain-rmspe:0.138416\teval-rmspe:0.114167\n",
      "[982]\ttrain-rmse:0.103706\teval-rmse:0.127308\ttrain-rmspe:0.138132\teval-rmspe:0.114154\n",
      "[983]\ttrain-rmse:0.103693\teval-rmse:0.127302\ttrain-rmspe:0.138121\teval-rmspe:0.114149\n",
      "[984]\ttrain-rmse:0.103672\teval-rmse:0.127286\ttrain-rmspe:0.138096\teval-rmspe:0.114133\n",
      "[985]\ttrain-rmse:0.103662\teval-rmse:0.127278\ttrain-rmspe:0.138084\teval-rmspe:0.114129\n",
      "[986]\ttrain-rmse:0.103656\teval-rmse:0.127259\ttrain-rmspe:0.138076\teval-rmspe:0.114119\n",
      "[987]\ttrain-rmse:0.103645\teval-rmse:0.127251\ttrain-rmspe:0.138062\teval-rmspe:0.114116\n",
      "[988]\ttrain-rmse:0.103604\teval-rmse:0.127225\ttrain-rmspe:0.138031\teval-rmspe:0.11409\n",
      "[989]\ttrain-rmse:0.103592\teval-rmse:0.127218\ttrain-rmspe:0.137983\teval-rmspe:0.114078\n",
      "[990]\ttrain-rmse:0.103578\teval-rmse:0.127212\ttrain-rmspe:0.13791\teval-rmspe:0.11407\n",
      "[991]\ttrain-rmse:0.103527\teval-rmse:0.127229\ttrain-rmspe:0.13791\teval-rmspe:0.114079\n",
      "[992]\ttrain-rmse:0.103505\teval-rmse:0.127223\ttrain-rmspe:0.13787\teval-rmspe:0.114065\n",
      "[993]\ttrain-rmse:0.103496\teval-rmse:0.127221\ttrain-rmspe:0.13786\teval-rmspe:0.114061\n",
      "[994]\ttrain-rmse:0.10348\teval-rmse:0.127209\ttrain-rmspe:0.137835\teval-rmspe:0.114045\n",
      "[995]\ttrain-rmse:0.103458\teval-rmse:0.127173\ttrain-rmspe:0.137823\teval-rmspe:0.114031\n",
      "[996]\ttrain-rmse:0.103419\teval-rmse:0.12715\ttrain-rmspe:0.137851\teval-rmspe:0.114005\n",
      "[997]\ttrain-rmse:0.103402\teval-rmse:0.127138\ttrain-rmspe:0.137783\teval-rmspe:0.113987\n",
      "[998]\ttrain-rmse:0.103388\teval-rmse:0.127152\ttrain-rmspe:0.137768\teval-rmspe:0.113998\n",
      "[999]\ttrain-rmse:0.103379\teval-rmse:0.127146\ttrain-rmspe:0.137757\teval-rmspe:0.114002\n"
     ]
    }
   ],
   "source": [
    "gbm = xgb.train(params, dtrain, num_trees, evals=watchlist, early_stopping_rounds=100, feval=rmspe_xg, verbose_eval=True)"
   ]
  },
  {
   "cell_type": "code",
   "execution_count": null,
   "metadata": {
    "collapsed": true
   },
   "outputs": [],
   "source": []
  },
  {
   "cell_type": "code",
   "execution_count": 75,
   "metadata": {},
   "outputs": [
    {
     "name": "stdout",
     "output_type": "stream",
     "text": [
      "41088\n"
     ]
    }
   ],
   "source": [
    "# 结论输出\n",
    "dtest = xgb.DMatrix(test_data)\n",
    "test_probs = gbm.predict(dtest)\n",
    "# Make Submission\n",
    "result = pd.DataFrame({\"Id\": test_data.index, 'Sales': np.expm1(test_probs)})\n",
    "result=result.append(result_0)\n",
    "print(len(result))\n",
    "result.to_csv(\"xgboost_10_submission.csv\", index=False)"
   ]
  },
  {
   "cell_type": "code",
   "execution_count": null,
   "metadata": {
    "collapsed": true
   },
   "outputs": [],
   "source": [
    "def create_feature_map(features):\n",
    "    outfile = open('xgb.fmap', 'w')\n",
    "    for i, feat in enumerate(features):\n",
    "        outfile.write('{0}\\t{1}\\tq\\n'.format(i, feat))\n",
    "    outfile.close()"
   ]
  },
  {
   "cell_type": "code",
   "execution_count": null,
   "metadata": {
    "collapsed": true
   },
   "outputs": [],
   "source": [
    "create_feature_map(train_data.columns)\n",
    "importance = gbm.get_fscore(fmap='xgb.fmap')\n",
    "importance = sorted(importance.items(), key=operator.itemgetter(1))\n",
    "\n",
    "df = pd.DataFrame(importance, columns=['feature', 'fscore'])\n",
    "df['fscore'] = df['fscore'] / df['fscore'].sum()\n",
    "\n",
    "featp = df.plot(kind='barh', x='feature', y='fscore', legend=False, figsize=(6, 10))\n",
    "plt.title('XGBoost Feature Importance')\n",
    "plt.xlabel('relative importance')\n",
    "fig_featp = featp.get_figure()\n",
    "fig_featp.savefig('feature_importance_xgb.png', bbox_inches='tight', pad_inches=1)\n",
    "plt.show()"
   ]
  },
  {
   "cell_type": "markdown",
   "metadata": {},
   "source": [
    "相关的思考，有些字段的理解我觉得还是有很多问题。  \n",
    "1.商店里的商品那么多做Promo2的商品是哪个牌子的哪个型号，难道预测的是笼统销售活动；\n",
    "2.竞争对手开店时间1900应该是个默认值所以应该不是很准确；  \n",
    "3.顾客数在预测工作中应该是很重要的，而我在这个模型里却没有想到改如何使用；\n"
   ]
  },
  {
   "cell_type": "code",
   "execution_count": null,
   "metadata": {
    "collapsed": true
   },
   "outputs": [],
   "source": []
  }
 ],
 "metadata": {
  "kernelspec": {
   "display_name": "Python 3",
   "language": "python",
   "name": "python3"
  },
  "language_info": {
   "codemirror_mode": {
    "name": "ipython",
    "version": 3
   },
   "file_extension": ".py",
   "mimetype": "text/x-python",
   "name": "python",
   "nbconvert_exporter": "python",
   "pygments_lexer": "ipython3",
   "version": "3.6.2"
  }
 },
 "nbformat": 4,
 "nbformat_minor": 2
}
