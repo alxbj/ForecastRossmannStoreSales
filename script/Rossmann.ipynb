{
 "cells": [
  {
   "cell_type": "code",
   "execution_count": 18,
   "metadata": {
    "collapsed": true
   },
   "outputs": [],
   "source": [
    "import numpy as np\n",
    "import pandas as pd\n",
    "import matplotlib.pyplot as plt\n",
    "from sklearn import preprocessing\n",
    "from sklearn.model_selection import train_test_split\n",
    "import xgboost as xgb\n",
    "from xgboost import plot_importance\n",
    "import random\n",
    "from sklearn.preprocessing import Imputer\n",
    "from sklearn.preprocessing import StandardScaler\n",
    "import seaborn as sns\n",
    "from sklearn.model_selection import GridSearchCV\n",
    "from sklearn.model_selection import StratifiedKFold\n",
    "from sklearn.feature_selection import SelectKBest\n",
    "from sklearn.linear_model import Ridge\n",
    "from sklearn.model_selection import cross_val_score"
   ]
  },
  {
   "cell_type": "code",
   "execution_count": 19,
   "metadata": {
    "collapsed": true
   },
   "outputs": [],
   "source": [
    "train = pd.read_csv('../input/train.csv',dtype={'StateHoliday':object}) \n",
    "store =  pd.read_csv('../input/store.csv')\n",
    "test = pd.read_csv('../input/test.csv')"
   ]
  },
  {
   "cell_type": "code",
   "execution_count": 20,
   "metadata": {
    "collapsed": true
   },
   "outputs": [],
   "source": [
    "pd.set_option('display.float_format', lambda x: '%.3f' % x)  "
   ]
  },
  {
   "cell_type": "markdown",
   "metadata": {},
   "source": [
    "### 整理数据"
   ]
  },
  {
   "cell_type": "code",
   "execution_count": 21,
   "metadata": {},
   "outputs": [
    {
     "name": "stdout",
     "output_type": "stream",
     "text": [
      "<class 'pandas.core.frame.DataFrame'>\n",
      "RangeIndex: 41088 entries, 0 to 41087\n",
      "Data columns (total 8 columns):\n",
      "Id               41088 non-null int64\n",
      "Store            41088 non-null int64\n",
      "DayOfWeek        41088 non-null int64\n",
      "Date             41088 non-null object\n",
      "Open             41077 non-null float64\n",
      "Promo            41088 non-null int64\n",
      "StateHoliday     41088 non-null object\n",
      "SchoolHoliday    41088 non-null int64\n",
      "dtypes: float64(1), int64(5), object(2)\n",
      "memory usage: 2.5+ MB\n"
     ]
    }
   ],
   "source": [
    "# 先处理test数据\n",
    "test.info()"
   ]
  },
  {
   "cell_type": "code",
   "execution_count": 22,
   "metadata": {},
   "outputs": [],
   "source": [
    "#补充缺失数据\n",
    "# 特征Open存在数据缺失\n",
    "# print(test.query('Open==\"NaN\"'))\n",
    "#根据Open为NaN的数据展现，由于日期非节假日商店应该都是开门的把NaN替换成1，把0.0变成0，把1.0变成1\n",
    "test['Open']=test['Open'].fillna(1)\n",
    "test['Open']=test['Open'].astype(int)\n",
    "# print(test['Open'].value_counts())\n",
    "test['Date']=pd.to_datetime(test['Date'])\n",
    "\n"
   ]
  },
  {
   "cell_type": "code",
   "execution_count": 23,
   "metadata": {},
   "outputs": [],
   "source": [
    "# 把date拆成year，month和day，重新设置DayOfWeek原因是DayOfWeek比dayofweek多1\n",
    "test['Year']=test['Date'].dt.year\n",
    "test['Month']=test['Date'].dt.month\n",
    "test['Day']=test['Date'].dt.day\n",
    "test['WeekOfYear']=test['Date'].dt.weekofyear\n",
    "test['DayOfWeek']=test['Date'].dt.dayofweek\n",
    "test.drop('Date',axis=1, inplace=True)"
   ]
  },
  {
   "cell_type": "code",
   "execution_count": 24,
   "metadata": {},
   "outputs": [
    {
     "name": "stdout",
     "output_type": "stream",
     "text": [
      "<class 'pandas.core.frame.DataFrame'>\n",
      "RangeIndex: 41088 entries, 0 to 41087\n",
      "Data columns (total 11 columns):\n",
      "Id               41088 non-null int64\n",
      "Store            41088 non-null int64\n",
      "DayOfWeek        41088 non-null int64\n",
      "Open             41088 non-null int32\n",
      "Promo            41088 non-null int64\n",
      "StateHoliday     41088 non-null int32\n",
      "SchoolHoliday    41088 non-null int64\n",
      "Year             41088 non-null int64\n",
      "Month            41088 non-null int64\n",
      "Day              41088 non-null int64\n",
      "WeekOfYear       41088 non-null int64\n",
      "dtypes: int32(2), int64(9)\n",
      "memory usage: 3.1 MB\n"
     ]
    }
   ],
   "source": [
    "#设置StateHoliday a:1,b:2,c:3\n",
    "test.loc[test[\"StateHoliday\"]=='a','StateHoliday']=1\n",
    "test.loc[test[\"StateHoliday\"]=='b','StateHoliday']=2\n",
    "test.loc[test[\"StateHoliday\"]=='c','StateHoliday']=3\n",
    "test['StateHoliday']=test['StateHoliday'].astype(int)\n",
    "test.info()"
   ]
  },
  {
   "cell_type": "code",
   "execution_count": 5,
   "metadata": {},
   "outputs": [
    {
     "name": "stdout",
     "output_type": "stream",
     "text": [
      "     Store  StoreType  Assortment  CompetitionDistance  \\\n",
      "290    291          4           1                  nan   \n",
      "621    622          1           3                  nan   \n",
      "878    879          4           1                  nan   \n",
      "\n",
      "     CompetitionOpenSinceMonth  CompetitionOpenSinceYear  Promo2  \\\n",
      "290                        nan                       nan       0   \n",
      "621                        nan                       nan       0   \n",
      "878                        nan                       nan       1   \n",
      "\n",
      "     Promo2SinceWeek  Promo2SinceYear    PromoInterval  \n",
      "290              nan              nan              NaN  \n",
      "621              nan              nan              NaN  \n",
      "878            5.000         2013.000  Feb,May,Aug,Nov  \n",
      "0.000    1115\n",
      "Name: CompetitionDistance, dtype: int64\n",
      "354\n",
      "2013-01-01\n",
      "2015\n",
      "1    571\n",
      "0    544\n",
      "Name: Promo2, dtype: int64\n",
      "14.000    81\n",
      "40.000    77\n",
      "31.000    44\n",
      "10.000    42\n",
      "5.000     39\n",
      "37.000    35\n",
      "1.000     35\n",
      "45.000    34\n",
      "13.000    34\n",
      "22.000    33\n",
      "18.000    29\n",
      "35.000    25\n",
      "9.000     14\n",
      "27.000    11\n",
      "36.000    10\n",
      "48.000     9\n",
      "39.000     6\n",
      "23.000     5\n",
      "44.000     3\n",
      "49.000     1\n",
      "6.000      1\n",
      "26.000     1\n",
      "50.000     1\n",
      "28.000     1\n",
      "Name: Promo2SinceWeek, dtype: int64\n",
      "2011.000    128\n",
      "2013.000    120\n",
      "2014.000     95\n",
      "2012.000     81\n",
      "2009.000     73\n",
      "2010.000     64\n",
      "2015.000     10\n",
      "Name: Promo2SinceYear, dtype: int64\n",
      "<class 'pandas.core.frame.DataFrame'>\n",
      "RangeIndex: 1115 entries, 0 to 1114\n",
      "Data columns (total 10 columns):\n",
      "Store                        1115 non-null int64\n",
      "StoreType                    1115 non-null int32\n",
      "Assortment                   1115 non-null int32\n",
      "CompetitionDistance          1115 non-null int32\n",
      "CompetitionOpenSinceMonth    1115 non-null int32\n",
      "CompetitionOpenSinceYear     1115 non-null int32\n",
      "Promo2                       1115 non-null int64\n",
      "Promo2SinceWeek              1115 non-null int32\n",
      "Promo2SinceYear              1115 non-null int32\n",
      "PromoInterval                571 non-null object\n",
      "dtypes: int32(7), int64(2), object(1)\n",
      "memory usage: 56.7+ KB\n"
     ]
    }
   ],
   "source": [
    "#整理store数据\n",
    "\n",
    "#把Assortment整理为a:1,b:2,c:3\n",
    "store.loc[store[\"Assortment\"]=='a','Assortment']=1\n",
    "store.loc[store[\"Assortment\"]=='b','Assortment']=2\n",
    "store.loc[store[\"Assortment\"]=='c','Assortment']=3\n",
    "store['Assortment']=store['Assortment'].astype(int)\n",
    "#把StoreType整理为a:1,b:2,c:3,d:4\n",
    "store.loc[store[\"StoreType\"]=='a','StoreType']=1\n",
    "store.loc[store[\"StoreType\"]=='b','StoreType']=2\n",
    "store.loc[store[\"StoreType\"]=='c','StoreType']=3\n",
    "store.loc[store[\"StoreType\"]=='d','StoreType']=4\n",
    "store['StoreType']=store['StoreType'].astype(int)\n",
    "\n",
    "print(store.query('CompetitionDistance==\"NaN\"'))\n",
    "#可以理解为合理范围内没有任何的竞争对手记下Store号码：291，622，879\n",
    "store['CompetitionDistance']=store['CompetitionDistance'].fillna(0)\n",
    "def f(x):\n",
    "    return x-int(x)\n",
    "print(store['CompetitionDistance'].apply(f).value_counts())\n",
    "# 由于CompetitionDistance所有的小数部分都是0把CompetitionDistance转为int\n",
    "store['CompetitionDistance']=store['CompetitionDistance'].astype(int)\n",
    "print(len(store.query('CompetitionOpenSinceMonth==\"NaN\"&CompetitionOpenSinceYear==\"NaN\"')))\n",
    "# 1115-354=761\n",
    "store.loc[store[\"CompetitionDistance\"]==0,'CompetitionOpenSinceYear']=0\n",
    "store.loc[store[\"CompetitionDistance\"]==0,'CompetitionOpenSinceMonth']=0\n",
    "\n",
    "print(min(train['Date']))\n",
    "print(min(test['Year']))\n",
    "#训练值里最小的日期是2013-01-01，把没有开业时间的竞争对手店面开店时间随机设置到训练时间之前的随机年份和月份并且改为int型\n",
    "random.seed(10)\n",
    "store['CompetitionOpenSinceYear']=store['CompetitionOpenSinceYear'].fillna(random.randint(2002,2012))\n",
    "store['CompetitionOpenSinceMonth']=store['CompetitionOpenSinceMonth'].fillna(random.randint(1,12))\n",
    "store['CompetitionOpenSinceYear']=store['CompetitionOpenSinceYear'].astype(int)\n",
    "store['CompetitionOpenSinceMonth']=store['CompetitionOpenSinceMonth'].astype(int)\n",
    "\n",
    "print(store['Promo2'].value_counts())\n",
    "#571说明没有参与促销的商店是571\n",
    "print(store['Promo2SinceWeek'].value_counts())\n",
    "print(store['Promo2SinceYear'].value_counts())\n",
    "store['Promo2SinceWeek']=store['Promo2SinceWeek'].fillna(0)\n",
    "store['Promo2SinceYear']=store['Promo2SinceYear'].fillna(0)\n",
    "store['Promo2SinceWeek']=store['Promo2SinceWeek'].astype(int)\n",
    "store['Promo2SinceYear']=store['Promo2SinceYear'].astype(int)\n",
    "\n",
    "store.info()"
   ]
  },
  {
   "cell_type": "code",
   "execution_count": null,
   "metadata": {
    "collapsed": true
   },
   "outputs": [],
   "source": [
    "#处理PromoInterval\n",
    "print(store['PromoInterval'].value_counts())\n",
    "num_month = {'Jan,Apr,Jul,Oct':'1,4,7,10','Feb,May,Aug,Nov':'2,5,8,11','Mar,Jun,Sept,Dec':'3,6,9,12'}\n",
    "store['PromoInterval'] =store['PromoInterval'].map(num_month)\n",
    "store['PromoInterval']=store['PromoInterval'].fillna('0,0,0,0')\n",
    "store.head()"
   ]
  }
 ],
 "metadata": {
  "kernelspec": {
   "display_name": "Python 3",
   "language": "python",
   "name": "python3"
  },
  "language_info": {
   "codemirror_mode": {
    "name": "ipython",
    "version": 3
   },
   "file_extension": ".py",
   "mimetype": "text/x-python",
   "name": "python",
   "nbconvert_exporter": "python",
   "pygments_lexer": "ipython3",
   "version": "3.6.2"
  }
 },
 "nbformat": 4,
 "nbformat_minor": 2
}
