{
 "cells": [
  {
   "cell_type": "code",
   "execution_count": 192,
   "metadata": {
    "collapsed": true
   },
   "outputs": [],
   "source": [
    "import numpy as np\n",
    "import pandas as pd\n",
    "import matplotlib.pyplot as plt\n",
    "from sklearn import preprocessing\n",
    "from sklearn.model_selection import train_test_split\n",
    "import xgboost as xgb\n",
    "from xgboost import plot_importance\n",
    "import random\n",
    "from sklearn.preprocessing import Imputer\n",
    "from sklearn.preprocessing import StandardScaler\n",
    "import seaborn as sns\n",
    "from sklearn.model_selection import GridSearchCV\n",
    "from sklearn.model_selection import StratifiedKFold\n",
    "from sklearn.feature_selection import SelectKBest\n",
    "from sklearn.linear_model import Ridge\n",
    "from sklearn.model_selection import cross_val_score"
   ]
  },
  {
   "cell_type": "code",
   "execution_count": 193,
   "metadata": {
    "collapsed": true
   },
   "outputs": [],
   "source": [
    "train = pd.read_csv('../input/train.csv',dtype={'StateHoliday':object}) \n",
    "store =  pd.read_csv('../input/store.csv')\n",
    "test = pd.read_csv('../input/test.csv')"
   ]
  },
  {
   "cell_type": "code",
   "execution_count": 194,
   "metadata": {
    "collapsed": true
   },
   "outputs": [],
   "source": [
    "pd.set_option('display.float_format', lambda x: '%.3f' % x)  "
   ]
  },
  {
   "cell_type": "markdown",
   "metadata": {},
   "source": [
    "### 整理数据"
   ]
  },
  {
   "cell_type": "markdown",
   "metadata": {},
   "source": [
    "#### 整理test数据"
   ]
  },
  {
   "cell_type": "code",
   "execution_count": 195,
   "metadata": {},
   "outputs": [
    {
     "name": "stdout",
     "output_type": "stream",
     "text": [
      "<class 'pandas.core.frame.DataFrame'>\n",
      "RangeIndex: 41088 entries, 0 to 41087\n",
      "Data columns (total 8 columns):\n",
      "Id               41088 non-null int64\n",
      "Store            41088 non-null int64\n",
      "DayOfWeek        41088 non-null int64\n",
      "Date             41088 non-null object\n",
      "Open             41077 non-null float64\n",
      "Promo            41088 non-null int64\n",
      "StateHoliday     41088 non-null object\n",
      "SchoolHoliday    41088 non-null int64\n",
      "dtypes: float64(1), int64(5), object(2)\n",
      "memory usage: 2.5+ MB\n"
     ]
    }
   ],
   "source": [
    "test.info()"
   ]
  },
  {
   "cell_type": "code",
   "execution_count": 196,
   "metadata": {
    "collapsed": true
   },
   "outputs": [],
   "source": [
    "#补充缺失数据\n",
    "# 特征Open存在数据缺失\n",
    "# print(test.query('Open==\"NaN\"'))\n",
    "#根据Open为NaN的数据展现，由于日期非节假日商店应该都是开门的把NaN替换成1，把0.0变成0，把1.0变成1\n",
    "test['Open']=test['Open'].fillna(1)\n",
    "test['Open']=test['Open'].astype(int)\n",
    "# print(test['Open'].value_counts())"
   ]
  },
  {
   "cell_type": "code",
   "execution_count": 197,
   "metadata": {
    "collapsed": true
   },
   "outputs": [],
   "source": [
    "# 把date拆成year，month和day，重新设置DayOfWeek原因是DayOfWeek比dayofweek多1\n",
    "test['Date']=pd.to_datetime(test['Date'])\n",
    "\n",
    "test['Year']=test['Date'].dt.year\n",
    "test['Month']=test['Date'].dt.month\n",
    "test['Day']=test['Date'].dt.day\n",
    "test['WeekOfYear']=test['Date'].dt.weekofyear\n",
    "test['DayOfWeek']=test['Date'].dt.dayofweek\n",
    "test.drop('Date',axis=1, inplace=True)"
   ]
  },
  {
   "cell_type": "code",
   "execution_count": 198,
   "metadata": {},
   "outputs": [
    {
     "name": "stdout",
     "output_type": "stream",
     "text": [
      "<class 'pandas.core.frame.DataFrame'>\n",
      "RangeIndex: 41088 entries, 0 to 41087\n",
      "Data columns (total 11 columns):\n",
      "Id               41088 non-null int64\n",
      "Store            41088 non-null int64\n",
      "DayOfWeek        41088 non-null int64\n",
      "Open             41088 non-null int32\n",
      "Promo            41088 non-null int64\n",
      "StateHoliday     41088 non-null int32\n",
      "SchoolHoliday    41088 non-null int64\n",
      "Year             41088 non-null int64\n",
      "Month            41088 non-null int64\n",
      "Day              41088 non-null int64\n",
      "WeekOfYear       41088 non-null int64\n",
      "dtypes: int32(2), int64(9)\n",
      "memory usage: 3.1 MB\n"
     ]
    }
   ],
   "source": [
    "#设置StateHoliday a:1,b:2,c:3\n",
    "test.loc[test[\"StateHoliday\"]=='a','StateHoliday']=1\n",
    "test.loc[test[\"StateHoliday\"]=='b','StateHoliday']=2\n",
    "test.loc[test[\"StateHoliday\"]=='c','StateHoliday']=3\n",
    "test['StateHoliday']=test['StateHoliday'].astype(int)\n",
    "test.info()"
   ]
  },
  {
   "cell_type": "code",
   "execution_count": 217,
   "metadata": {},
   "outputs": [
    {
     "data": {
      "text/plain": [
       "1    35104\n",
       "0     5984\n",
       "Name: Open, dtype: int64"
      ]
     },
     "execution_count": 217,
     "metadata": {},
     "output_type": "execute_result"
    }
   ],
   "source": [
    "# 如果open特征为0可以直接提交预测为0\n",
    "test[\"Open\"].value_counts()"
   ]
  },
  {
   "cell_type": "markdown",
   "metadata": {},
   "source": [
    "#### 整理store数据"
   ]
  },
  {
   "cell_type": "code",
   "execution_count": 199,
   "metadata": {},
   "outputs": [
    {
     "name": "stdout",
     "output_type": "stream",
     "text": [
      "<class 'pandas.core.frame.DataFrame'>\n",
      "RangeIndex: 1115 entries, 0 to 1114\n",
      "Data columns (total 10 columns):\n",
      "Store                        1115 non-null int64\n",
      "StoreType                    1115 non-null object\n",
      "Assortment                   1115 non-null object\n",
      "CompetitionDistance          1112 non-null float64\n",
      "CompetitionOpenSinceMonth    761 non-null float64\n",
      "CompetitionOpenSinceYear     761 non-null float64\n",
      "Promo2                       1115 non-null int64\n",
      "Promo2SinceWeek              571 non-null float64\n",
      "Promo2SinceYear              571 non-null float64\n",
      "PromoInterval                571 non-null object\n",
      "dtypes: float64(5), int64(2), object(3)\n",
      "memory usage: 87.2+ KB\n"
     ]
    }
   ],
   "source": [
    "store.info()"
   ]
  },
  {
   "cell_type": "code",
   "execution_count": 200,
   "metadata": {},
   "outputs": [
    {
     "name": "stdout",
     "output_type": "stream",
     "text": [
      "     Store  CompetitionDistance  CompetitionOpenSinceMonth  \\\n",
      "290    291                  nan                        nan   \n",
      "621    622                  nan                        nan   \n",
      "878    879                  nan                        nan   \n",
      "\n",
      "     CompetitionOpenSinceYear  \n",
      "290                       nan  \n",
      "621                       nan  \n",
      "878                       nan  \n"
     ]
    }
   ],
   "source": [
    "#处理缺失数据\n",
    "#CompetitionDistance中缺失三条,缺失的数据里同时缺失CompetitionOpenSinceMonth和CompetitionOpenSinceYear，我将其认为在合理距离范围内无竞争对手。\n",
    "print(store.query('CompetitionDistance==\"NaN\"')[['Store','CompetitionDistance','CompetitionOpenSinceMonth','CompetitionOpenSinceYear']])\n",
    "#可以理解为合理范围内没有任何的竞争对手记下Store号码：291，622，879"
   ]
  },
  {
   "cell_type": "code",
   "execution_count": 201,
   "metadata": {},
   "outputs": [
    {
     "data": {
      "image/png": "[encoded data removed]",
      "text/plain": [
       "<matplotlib.figure.Figure at 0x26b202a8588>"
      ]
     },
     "metadata": {},
     "output_type": "display_data"
    }
   ],
   "source": [
    "#查看CompetitionDistance的情况\n",
    "store['CompetitionDistance'].describe()\n",
    "#根据情况将291，622，879的CompetitionDistance距离改为99999\n",
    "plt.plot(store['CompetitionDistance'])\n",
    "plt.ylabel('some numbers')\n",
    "plt.show()\n"
   ]
  },
  {
   "cell_type": "code",
   "execution_count": 202,
   "metadata": {},
   "outputs": [],
   "source": [
    "#根据情况将291，622，879的CompetitionDistance距离改为99999并转化为int型，将其CompetitionOpenSinceYear特征改为一个未来值\n",
    "store['CompetitionDistance']=store['CompetitionDistance'].fillna(99999)\n",
    "store['CompetitionDistance']=store['CompetitionDistance'].astype(int)\n",
    "# store.query('Store in (291,622,879)')['CompetitionOpenSinceYear']=2030\n",
    "store.loc[(store['Store']==291)|(store['Store']==622)|(store['Store']==879),'CompetitionOpenSinceYear']=2030"
   ]
  },
  {
   "cell_type": "code",
   "execution_count": 203,
   "metadata": {},
   "outputs": [
    {
     "name": "stdout",
     "output_type": "stream",
     "text": [
      "351\n"
     ]
    }
   ],
   "source": [
    "# CompetitionOpenSinceMonth和CompetitionOpenSinceYear的缺失值\n",
    "# 判断是否缺失的商店是同一个，输出同时为NaN的商店个数\n",
    "print(len(store.query('CompetitionOpenSinceMonth==\"NaN\"&CompetitionOpenSinceYear==\"NaN\"')))"
   ]
  },
  {
   "cell_type": "code",
   "execution_count": 204,
   "metadata": {
    "collapsed": true
   },
   "outputs": [],
   "source": [
    "# 1115-354=761所以均为同时为Nan，那就设置为一个较早的时间，认为是早已经开业的商店,并设置为int型\n",
    "store['CompetitionOpenSinceYear']=store['CompetitionOpenSinceYear'].fillna(2010)\n",
    "store['CompetitionOpenSinceMonth']=store['CompetitionOpenSinceMonth'].fillna(0)\n",
    "store['CompetitionOpenSinceYear']=store['CompetitionOpenSinceYear'].astype(int)\n",
    "store['CompetitionOpenSinceMonth']=store['CompetitionOpenSinceMonth'].astype(int)"
   ]
  },
  {
   "cell_type": "code",
   "execution_count": 205,
   "metadata": {},
   "outputs": [
    {
     "name": "stdout",
     "output_type": "stream",
     "text": [
      "544\n"
     ]
    }
   ],
   "source": [
    "# Promo2SinceWeek,Promo2SinceYear,PromoInterval的缺失值\n",
    "# 确认他们缺失的是否是相同的store\n",
    "nan = np.nan\n",
    "print(len(store.query('Promo2SinceWeek==\"NaN\"&Promo2SinceYear==\"NaN\"&PromoInterval.isnull()')))"
   ]
  },
  {
   "cell_type": "code",
   "execution_count": 206,
   "metadata": {},
   "outputs": [
    {
     "data": {
      "text/plain": [
       "0    544\n",
       "Name: Promo2, dtype: int64"
      ]
     },
     "execution_count": 206,
     "metadata": {},
     "output_type": "execute_result"
    }
   ],
   "source": [
    "# 1115-544=571,571符合这三个特征的缺失数，得出结论就是这三个特征是同时缺失的，看看此时的Promo2的值是多少\n",
    "store.query('Promo2SinceWeek==\"NaN\"&Promo2SinceYear==\"NaN\"&PromoInterval.isnull()')['Promo2'].value_counts()"
   ]
  },
  {
   "cell_type": "code",
   "execution_count": 207,
   "metadata": {},
   "outputs": [
    {
     "data": {
      "text/plain": [
       "1    571\n",
       "0    544\n",
       "Name: Promo2, dtype: int64"
      ]
     },
     "execution_count": 207,
     "metadata": {},
     "output_type": "execute_result"
    }
   ],
   "source": [
    "# 查看0的总总数量和Promo2SinceWeek,Promo2SinceYear,PromoInterval缺失值保持一致\n",
    "store['Promo2'].value_counts()"
   ]
  },
  {
   "cell_type": "code",
   "execution_count": 208,
   "metadata": {},
   "outputs": [],
   "source": [
    "# 将Promo2SinceYear设置为一个未来的时间，Promo2SinceWeek设置为1\n",
    "store['Promo2SinceWeek']=store['Promo2SinceWeek'].fillna(0)\n",
    "store['Promo2SinceYear']=store['Promo2SinceYear'].fillna(2030)\n",
    "store['Promo2SinceWeek']=store['Promo2SinceWeek'].astype(int)\n",
    "store['Promo2SinceYear']=store['Promo2SinceYear'].astype(int)"
   ]
  },
  {
   "cell_type": "code",
   "execution_count": 209,
   "metadata": {},
   "outputs": [
    {
     "name": "stdout",
     "output_type": "stream",
     "text": [
      "Jan,Apr,Jul,Oct     335\n",
      "Feb,May,Aug,Nov     130\n",
      "Mar,Jun,Sept,Dec    106\n",
      "Name: PromoInterval, dtype: int64\n"
     ]
    },
    {
     "data": {
      "text/html": [
       "<div>\n",
       "<style>\n",
       "    .dataframe thead tr:only-child th {\n",
       "        text-align: right;\n",
       "    }\n",
       "\n",
       "    .dataframe thead th {\n",
       "        text-align: left;\n",
       "    }\n",
       "\n",
       "    .dataframe tbody tr th {\n",
       "        vertical-align: top;\n",
       "    }\n",
       "</style>\n",
       "<table border=\"1\" class=\"dataframe\">\n",
       "  <thead>\n",
       "    <tr style=\"text-align: right;\">\n",
       "      <th></th>\n",
       "      <th>Store</th>\n",
       "      <th>StoreType</th>\n",
       "      <th>Assortment</th>\n",
       "      <th>CompetitionDistance</th>\n",
       "      <th>CompetitionOpenSinceMonth</th>\n",
       "      <th>CompetitionOpenSinceYear</th>\n",
       "      <th>Promo2</th>\n",
       "      <th>Promo2SinceWeek</th>\n",
       "      <th>Promo2SinceYear</th>\n",
       "      <th>PromoInterval</th>\n",
       "    </tr>\n",
       "  </thead>\n",
       "  <tbody>\n",
       "    <tr>\n",
       "      <th>0</th>\n",
       "      <td>1</td>\n",
       "      <td>c</td>\n",
       "      <td>a</td>\n",
       "      <td>1270</td>\n",
       "      <td>9</td>\n",
       "      <td>2008</td>\n",
       "      <td>0</td>\n",
       "      <td>0</td>\n",
       "      <td>2030</td>\n",
       "      <td>0,0,0,0</td>\n",
       "    </tr>\n",
       "    <tr>\n",
       "      <th>1</th>\n",
       "      <td>2</td>\n",
       "      <td>a</td>\n",
       "      <td>a</td>\n",
       "      <td>570</td>\n",
       "      <td>11</td>\n",
       "      <td>2007</td>\n",
       "      <td>1</td>\n",
       "      <td>13</td>\n",
       "      <td>2010</td>\n",
       "      <td>0,3,6,9</td>\n",
       "    </tr>\n",
       "    <tr>\n",
       "      <th>2</th>\n",
       "      <td>3</td>\n",
       "      <td>a</td>\n",
       "      <td>a</td>\n",
       "      <td>14130</td>\n",
       "      <td>12</td>\n",
       "      <td>2006</td>\n",
       "      <td>1</td>\n",
       "      <td>14</td>\n",
       "      <td>2011</td>\n",
       "      <td>0,3,6,9</td>\n",
       "    </tr>\n",
       "    <tr>\n",
       "      <th>3</th>\n",
       "      <td>4</td>\n",
       "      <td>c</td>\n",
       "      <td>c</td>\n",
       "      <td>620</td>\n",
       "      <td>9</td>\n",
       "      <td>2009</td>\n",
       "      <td>0</td>\n",
       "      <td>0</td>\n",
       "      <td>2030</td>\n",
       "      <td>0,0,0,0</td>\n",
       "    </tr>\n",
       "    <tr>\n",
       "      <th>4</th>\n",
       "      <td>5</td>\n",
       "      <td>a</td>\n",
       "      <td>a</td>\n",
       "      <td>29910</td>\n",
       "      <td>4</td>\n",
       "      <td>2015</td>\n",
       "      <td>0</td>\n",
       "      <td>0</td>\n",
       "      <td>2030</td>\n",
       "      <td>0,0,0,0</td>\n",
       "    </tr>\n",
       "  </tbody>\n",
       "</table>\n",
       "</div>"
      ],
      "text/plain": [
       "   Store StoreType Assortment  CompetitionDistance  CompetitionOpenSinceMonth  \\\n",
       "0      1         c          a                 1270                          9   \n",
       "1      2         a          a                  570                         11   \n",
       "2      3         a          a                14130                         12   \n",
       "3      4         c          c                  620                          9   \n",
       "4      5         a          a                29910                          4   \n",
       "\n",
       "   CompetitionOpenSinceYear  Promo2  Promo2SinceWeek  Promo2SinceYear  \\\n",
       "0                      2008       0                0             2030   \n",
       "1                      2007       1               13             2010   \n",
       "2                      2006       1               14             2011   \n",
       "3                      2009       0                0             2030   \n",
       "4                      2015       0                0             2030   \n",
       "\n",
       "  PromoInterval  \n",
       "0       0,0,0,0  \n",
       "1       0,3,6,9  \n",
       "2       0,3,6,9  \n",
       "3       0,0,0,0  \n",
       "4       0,0,0,0  "
      ]
     },
     "execution_count": 209,
     "metadata": {},
     "output_type": "execute_result"
    }
   ],
   "source": [
    "#处理PromoInterval,\n",
    "print(store['PromoInterval'].value_counts())\n",
    "num_month = {'Jan,Apr,Jul,Oct':'0,3,6,9','Feb,May,Aug,Nov':'1,4,7,10','Mar,Jun,Sept,Dec':'2,5,8,11'}\n",
    "store['PromoInterval'] =store['PromoInterval'].map(num_month)\n",
    "store['PromoInterval']=store['PromoInterval'].fillna('0,0,0,0')\n",
    "store.head()"
   ]
  },
  {
   "cell_type": "code",
   "execution_count": 210,
   "metadata": {},
   "outputs": [
    {
     "name": "stdout",
     "output_type": "stream",
     "text": [
      "<class 'pandas.core.frame.DataFrame'>\n",
      "RangeIndex: 1115 entries, 0 to 1114\n",
      "Data columns (total 10 columns):\n",
      "Store                        1115 non-null int64\n",
      "StoreType                    1115 non-null object\n",
      "Assortment                   1115 non-null object\n",
      "CompetitionDistance          1115 non-null int32\n",
      "CompetitionOpenSinceMonth    1115 non-null int32\n",
      "CompetitionOpenSinceYear     1115 non-null int32\n",
      "Promo2                       1115 non-null int64\n",
      "Promo2SinceWeek              1115 non-null int32\n",
      "Promo2SinceYear              1115 non-null int32\n",
      "PromoInterval                1115 non-null object\n",
      "dtypes: int32(5), int64(2), object(3)\n",
      "memory usage: 65.4+ KB\n"
     ]
    }
   ],
   "source": [
    "store.info()"
   ]
  },
  {
   "cell_type": "code",
   "execution_count": 211,
   "metadata": {},
   "outputs": [
    {
     "name": "stdout",
     "output_type": "stream",
     "text": [
      "0,0,0,0     544\n",
      "0,3,6,9     335\n",
      "1,4,7,10    130\n",
      "2,5,8,11    106\n",
      "Name: PromoInterval, dtype: int64\n"
     ]
    }
   ],
   "source": [
    "print(store['PromoInterval'].value_counts())"
   ]
  },
  {
   "cell_type": "code",
   "execution_count": 212,
   "metadata": {
    "collapsed": true
   },
   "outputs": [],
   "source": [
    "#处理两个Object字段\n",
    "#把Assortment整理为a:1,b:2,c:3\n",
    "store.loc[store[\"Assortment\"]=='a','Assortment']=1\n",
    "store.loc[store[\"Assortment\"]=='b','Assortment']=2\n",
    "store.loc[store[\"Assortment\"]=='c','Assortment']=3\n",
    "store['Assortment']=store['Assortment'].astype(int)\n",
    "#把StoreType整理为a:1,b:2,c:3,d:4\n",
    "store.loc[store[\"StoreType\"]=='a','StoreType']=1\n",
    "store.loc[store[\"StoreType\"]=='b','StoreType']=2\n",
    "store.loc[store[\"StoreType\"]=='c','StoreType']=3\n",
    "store.loc[store[\"StoreType\"]=='d','StoreType']=4\n",
    "store['StoreType']=store['StoreType'].astype(int)"
   ]
  },
  {
   "cell_type": "code",
   "execution_count": 213,
   "metadata": {},
   "outputs": [
    {
     "data": {
      "text/html": [
       "<div>\n",
       "<style>\n",
       "    .dataframe thead tr:only-child th {\n",
       "        text-align: right;\n",
       "    }\n",
       "\n",
       "    .dataframe thead th {\n",
       "        text-align: left;\n",
       "    }\n",
       "\n",
       "    .dataframe tbody tr th {\n",
       "        vertical-align: top;\n",
       "    }\n",
       "</style>\n",
       "<table border=\"1\" class=\"dataframe\">\n",
       "  <thead>\n",
       "    <tr style=\"text-align: right;\">\n",
       "      <th></th>\n",
       "      <th>Store</th>\n",
       "      <th>CompetitionDistance</th>\n",
       "      <th>CompetitionOpenSinceMonth</th>\n",
       "      <th>CompetitionOpenSinceYear</th>\n",
       "      <th>Promo2</th>\n",
       "      <th>Promo2SinceWeek</th>\n",
       "      <th>Promo2SinceYear</th>\n",
       "      <th>PromoInterval</th>\n",
       "      <th>Assortment_1</th>\n",
       "      <th>Assortment_2</th>\n",
       "      <th>Assortment_3</th>\n",
       "      <th>StoreType_1</th>\n",
       "      <th>StoreType_2</th>\n",
       "      <th>StoreType_3</th>\n",
       "      <th>StoreType_4</th>\n",
       "    </tr>\n",
       "  </thead>\n",
       "  <tbody>\n",
       "    <tr>\n",
       "      <th>0</th>\n",
       "      <td>1</td>\n",
       "      <td>1270</td>\n",
       "      <td>9</td>\n",
       "      <td>2008</td>\n",
       "      <td>0</td>\n",
       "      <td>0</td>\n",
       "      <td>2030</td>\n",
       "      <td>0,0,0,0</td>\n",
       "      <td>1</td>\n",
       "      <td>0</td>\n",
       "      <td>0</td>\n",
       "      <td>0</td>\n",
       "      <td>0</td>\n",
       "      <td>1</td>\n",
       "      <td>0</td>\n",
       "    </tr>\n",
       "    <tr>\n",
       "      <th>1</th>\n",
       "      <td>2</td>\n",
       "      <td>570</td>\n",
       "      <td>11</td>\n",
       "      <td>2007</td>\n",
       "      <td>1</td>\n",
       "      <td>13</td>\n",
       "      <td>2010</td>\n",
       "      <td>0,3,6,9</td>\n",
       "      <td>1</td>\n",
       "      <td>0</td>\n",
       "      <td>0</td>\n",
       "      <td>1</td>\n",
       "      <td>0</td>\n",
       "      <td>0</td>\n",
       "      <td>0</td>\n",
       "    </tr>\n",
       "    <tr>\n",
       "      <th>2</th>\n",
       "      <td>3</td>\n",
       "      <td>14130</td>\n",
       "      <td>12</td>\n",
       "      <td>2006</td>\n",
       "      <td>1</td>\n",
       "      <td>14</td>\n",
       "      <td>2011</td>\n",
       "      <td>0,3,6,9</td>\n",
       "      <td>1</td>\n",
       "      <td>0</td>\n",
       "      <td>0</td>\n",
       "      <td>1</td>\n",
       "      <td>0</td>\n",
       "      <td>0</td>\n",
       "      <td>0</td>\n",
       "    </tr>\n",
       "    <tr>\n",
       "      <th>3</th>\n",
       "      <td>4</td>\n",
       "      <td>620</td>\n",
       "      <td>9</td>\n",
       "      <td>2009</td>\n",
       "      <td>0</td>\n",
       "      <td>0</td>\n",
       "      <td>2030</td>\n",
       "      <td>0,0,0,0</td>\n",
       "      <td>0</td>\n",
       "      <td>0</td>\n",
       "      <td>1</td>\n",
       "      <td>0</td>\n",
       "      <td>0</td>\n",
       "      <td>1</td>\n",
       "      <td>0</td>\n",
       "    </tr>\n",
       "    <tr>\n",
       "      <th>4</th>\n",
       "      <td>5</td>\n",
       "      <td>29910</td>\n",
       "      <td>4</td>\n",
       "      <td>2015</td>\n",
       "      <td>0</td>\n",
       "      <td>0</td>\n",
       "      <td>2030</td>\n",
       "      <td>0,0,0,0</td>\n",
       "      <td>1</td>\n",
       "      <td>0</td>\n",
       "      <td>0</td>\n",
       "      <td>1</td>\n",
       "      <td>0</td>\n",
       "      <td>0</td>\n",
       "      <td>0</td>\n",
       "    </tr>\n",
       "  </tbody>\n",
       "</table>\n",
       "</div>"
      ],
      "text/plain": [
       "   Store  CompetitionDistance  CompetitionOpenSinceMonth  \\\n",
       "0      1                 1270                          9   \n",
       "1      2                  570                         11   \n",
       "2      3                14130                         12   \n",
       "3      4                  620                          9   \n",
       "4      5                29910                          4   \n",
       "\n",
       "   CompetitionOpenSinceYear  Promo2  Promo2SinceWeek  Promo2SinceYear  \\\n",
       "0                      2008       0                0             2030   \n",
       "1                      2007       1               13             2010   \n",
       "2                      2006       1               14             2011   \n",
       "3                      2009       0                0             2030   \n",
       "4                      2015       0                0             2030   \n",
       "\n",
       "  PromoInterval  Assortment_1  Assortment_2  Assortment_3  StoreType_1  \\\n",
       "0       0,0,0,0             1             0             0            0   \n",
       "1       0,3,6,9             1             0             0            1   \n",
       "2       0,3,6,9             1             0             0            1   \n",
       "3       0,0,0,0             0             0             1            0   \n",
       "4       0,0,0,0             1             0             0            1   \n",
       "\n",
       "   StoreType_2  StoreType_3  StoreType_4  \n",
       "0            0            1            0  \n",
       "1            0            0            0  \n",
       "2            0            0            0  \n",
       "3            0            1            0  \n",
       "4            0            0            0  "
      ]
     },
     "execution_count": 213,
     "metadata": {},
     "output_type": "execute_result"
    }
   ],
   "source": [
    "#针对Assortment，StoreType特征做one-hot\n",
    "store= pd.concat([store,pd.get_dummies(store['Assortment'],prefix='Assortment')], axis=1)\n",
    "store.drop('Assortment',axis=1, inplace=True)\n",
    "store= pd.concat([store,pd.get_dummies(store['StoreType'],prefix='StoreType')], axis=1)\n",
    "store.drop('StoreType',axis=1, inplace=True)\n",
    "store.head()"
   ]
  },
  {
   "cell_type": "code",
   "execution_count": 214,
   "metadata": {},
   "outputs": [
    {
     "name": "stdout",
     "output_type": "stream",
     "text": [
      "<class 'pandas.core.frame.DataFrame'>\n",
      "RangeIndex: 1115 entries, 0 to 1114\n",
      "Data columns (total 15 columns):\n",
      "Store                        1115 non-null int64\n",
      "CompetitionDistance          1115 non-null int32\n",
      "CompetitionOpenSinceMonth    1115 non-null int32\n",
      "CompetitionOpenSinceYear     1115 non-null int32\n",
      "Promo2                       1115 non-null int64\n",
      "Promo2SinceWeek              1115 non-null int32\n",
      "Promo2SinceYear              1115 non-null int32\n",
      "PromoInterval                1115 non-null object\n",
      "Assortment_1                 1115 non-null uint8\n",
      "Assortment_2                 1115 non-null uint8\n",
      "Assortment_3                 1115 non-null uint8\n",
      "StoreType_1                  1115 non-null uint8\n",
      "StoreType_2                  1115 non-null uint8\n",
      "StoreType_3                  1115 non-null uint8\n",
      "StoreType_4                  1115 non-null uint8\n",
      "dtypes: int32(5), int64(2), object(1), uint8(7)\n",
      "memory usage: 55.6+ KB\n"
     ]
    }
   ],
   "source": [
    "store.info()"
   ]
  },
  {
   "cell_type": "markdown",
   "metadata": {},
   "source": [
    "#### 整理train数据"
   ]
  },
  {
   "cell_type": "code",
   "execution_count": 218,
   "metadata": {},
   "outputs": [
    {
     "name": "stdout",
     "output_type": "stream",
     "text": [
      "<class 'pandas.core.frame.DataFrame'>\n",
      "RangeIndex: 1017209 entries, 0 to 1017208\n",
      "Data columns (total 9 columns):\n",
      "Store            1017209 non-null int64\n",
      "DayOfWeek        1017209 non-null int64\n",
      "Date             1017209 non-null object\n",
      "Sales            1017209 non-null int64\n",
      "Customers        1017209 non-null int64\n",
      "Open             1017209 non-null int64\n",
      "Promo            1017209 non-null int64\n",
      "StateHoliday     1017209 non-null object\n",
      "SchoolHoliday    1017209 non-null int64\n",
      "dtypes: int64(7), object(2)\n",
      "memory usage: 69.8+ MB\n"
     ]
    }
   ],
   "source": [
    "train.info()"
   ]
  },
  {
   "cell_type": "code",
   "execution_count": 225,
   "metadata": {},
   "outputs": [
    {
     "name": "stdout",
     "output_type": "stream",
     "text": [
      "0    172817\n",
      "Name: Sales, dtype: int64\n",
      "0    172817\n",
      "Name: Customers, dtype: int64\n"
     ]
    }
   ],
   "source": [
    "# 查看open为0的数据的Sales和Customers\n",
    "print(train.query('Open==\"0\"')['Sales'].value_counts())\n",
    "print(train.query('Open==\"0\"')['Customers'].value_counts())"
   ]
  },
  {
   "cell_type": "code",
   "execution_count": 228,
   "metadata": {},
   "outputs": [
    {
     "data": {
      "text/plain": [
       "844392"
      ]
     },
     "execution_count": 228,
     "metadata": {},
     "output_type": "execute_result"
    }
   ],
   "source": [
    "#可以认为open为0对于训练没有什么帮助所以我们只训练open==1的\n",
    "len(train.query('Open==1'))"
   ]
  },
  {
   "cell_type": "code",
   "execution_count": 229,
   "metadata": {
    "collapsed": true
   },
   "outputs": [],
   "source": [
    "# 844392+172817=1017209 所以open==1作为训练对象\n",
    "train=train.query('Open==1')"
   ]
  },
  {
   "cell_type": "code",
   "execution_count": 232,
   "metadata": {},
   "outputs": [],
   "source": [
    "# 按照test的方式处理Data\n",
    "train['Date']=pd.to_datetime(train['Date'])\n",
    "\n",
    "train['Year']=train['Date'].dt.year\n",
    "train['Month']=train['Date'].dt.month\n",
    "train['Day']=train['Date'].dt.day\n",
    "train['WeekOfYear']=train['Date'].dt.weekofyear\n",
    "train['DayOfWeek']=train['Date'].dt.dayofweek\n",
    "train.drop('Date',axis=1, inplace=True)"
   ]
  },
  {
   "cell_type": "code",
   "execution_count": 233,
   "metadata": {
    "collapsed": true
   },
   "outputs": [],
   "source": [
    "#设置StateHoliday a:1,b:2,c:3\n",
    "train.loc[train[\"StateHoliday\"]=='a','StateHoliday']=1\n",
    "train.loc[train[\"StateHoliday\"]=='b','StateHoliday']=2\n",
    "train.loc[train[\"StateHoliday\"]=='c','StateHoliday']=3\n",
    "train['StateHoliday']=train['StateHoliday'].astype(int)"
   ]
  },
  {
   "cell_type": "code",
   "execution_count": 234,
   "metadata": {},
   "outputs": [
    {
     "name": "stdout",
     "output_type": "stream",
     "text": [
      "<class 'pandas.core.frame.DataFrame'>\n",
      "Int64Index: 844392 entries, 0 to 1017190\n",
      "Data columns (total 12 columns):\n",
      "Store            844392 non-null int64\n",
      "DayOfWeek        844392 non-null int64\n",
      "Sales            844392 non-null int64\n",
      "Customers        844392 non-null int64\n",
      "Open             844392 non-null int64\n",
      "Promo            844392 non-null int64\n",
      "StateHoliday     844392 non-null int32\n",
      "SchoolHoliday    844392 non-null int64\n",
      "Year             844392 non-null int64\n",
      "Month            844392 non-null int64\n",
      "Day              844392 non-null int64\n",
      "WeekOfYear       844392 non-null int64\n",
      "dtypes: int32(1), int64(11)\n",
      "memory usage: 80.5 MB\n",
      "None\n"
     ]
    }
   ],
   "source": [
    "print(train.info())"
   ]
  },
  {
   "cell_type": "markdown",
   "metadata": {},
   "source": [
    "#### 合并数据"
   ]
  },
  {
   "cell_type": "code",
   "execution_count": 238,
   "metadata": {},
   "outputs": [
    {
     "data": {
      "text/html": [
       "<div>\n",
       "<style>\n",
       "    .dataframe thead tr:only-child th {\n",
       "        text-align: right;\n",
       "    }\n",
       "\n",
       "    .dataframe thead th {\n",
       "        text-align: left;\n",
       "    }\n",
       "\n",
       "    .dataframe tbody tr th {\n",
       "        vertical-align: top;\n",
       "    }\n",
       "</style>\n",
       "<table border=\"1\" class=\"dataframe\">\n",
       "  <thead>\n",
       "    <tr style=\"text-align: right;\">\n",
       "      <th></th>\n",
       "      <th>Id</th>\n",
       "      <th>Sales</th>\n",
       "    </tr>\n",
       "  </thead>\n",
       "  <tbody>\n",
       "    <tr>\n",
       "      <th>543</th>\n",
       "      <td>544</td>\n",
       "      <td>0</td>\n",
       "    </tr>\n",
       "    <tr>\n",
       "      <th>676</th>\n",
       "      <td>677</td>\n",
       "      <td>0</td>\n",
       "    </tr>\n",
       "    <tr>\n",
       "      <th>840</th>\n",
       "      <td>841</td>\n",
       "      <td>0</td>\n",
       "    </tr>\n",
       "    <tr>\n",
       "      <th>1399</th>\n",
       "      <td>1400</td>\n",
       "      <td>0</td>\n",
       "    </tr>\n",
       "    <tr>\n",
       "      <th>1532</th>\n",
       "      <td>1533</td>\n",
       "      <td>0</td>\n",
       "    </tr>\n",
       "  </tbody>\n",
       "</table>\n",
       "</div>"
      ],
      "text/plain": [
       "        Id  Sales\n",
       "543    544      0\n",
       "676    677      0\n",
       "840    841      0\n",
       "1399  1400      0\n",
       "1532  1533      0"
      ]
     },
     "execution_count": 238,
     "metadata": {},
     "output_type": "execute_result"
    }
   ],
   "source": [
    "#合并test，先把test里open为0的数据提出来直接输出sales=0\n",
    "result_0=pd.DataFrame({\"Id\": test.query('Open==0')['Id'], 'Sales':0})\n",
    "result_0.head()"
   ]
  },
  {
   "cell_type": "code",
   "execution_count": 244,
   "metadata": {},
   "outputs": [
    {
     "data": {
      "text/plain": [
       "35104"
      ]
     },
     "execution_count": 244,
     "metadata": {},
     "output_type": "execute_result"
    }
   ],
   "source": [
    "len(test.query('Open==1'))"
   ]
  },
  {
   "cell_type": "code",
   "execution_count": 242,
   "metadata": {},
   "outputs": [],
   "source": [
    "# 对于剩下test来跑predict再合并\n",
    "test_data = pd.merge(test.query('Open==1'), store, on='Store')"
   ]
  },
  {
   "cell_type": "code",
   "execution_count": 243,
   "metadata": {},
   "outputs": [
    {
     "name": "stdout",
     "output_type": "stream",
     "text": [
      "<class 'pandas.core.frame.DataFrame'>\n",
      "Int64Index: 35104 entries, 0 to 35103\n",
      "Data columns (total 25 columns):\n",
      "Id                           35104 non-null int64\n",
      "Store                        35104 non-null int64\n",
      "DayOfWeek                    35104 non-null int64\n",
      "Open                         35104 non-null int32\n",
      "Promo                        35104 non-null int64\n",
      "StateHoliday                 35104 non-null int32\n",
      "SchoolHoliday                35104 non-null int64\n",
      "Year                         35104 non-null int64\n",
      "Month                        35104 non-null int64\n",
      "Day                          35104 non-null int64\n",
      "WeekOfYear                   35104 non-null int64\n",
      "CompetitionDistance          35104 non-null int32\n",
      "CompetitionOpenSinceMonth    35104 non-null int32\n",
      "CompetitionOpenSinceYear     35104 non-null int32\n",
      "Promo2                       35104 non-null int64\n",
      "Promo2SinceWeek              35104 non-null int32\n",
      "Promo2SinceYear              35104 non-null int32\n",
      "PromoInterval                35104 non-null object\n",
      "Assortment_1                 35104 non-null uint8\n",
      "Assortment_2                 35104 non-null uint8\n",
      "Assortment_3                 35104 non-null uint8\n",
      "StoreType_1                  35104 non-null uint8\n",
      "StoreType_2                  35104 non-null uint8\n",
      "StoreType_3                  35104 non-null uint8\n",
      "StoreType_4                  35104 non-null uint8\n",
      "dtypes: int32(7), int64(10), object(1), uint8(7)\n",
      "memory usage: 4.4+ MB\n"
     ]
    }
   ],
   "source": [
    "test_data.info()"
   ]
  },
  {
   "cell_type": "code",
   "execution_count": 246,
   "metadata": {},
   "outputs": [
    {
     "name": "stdout",
     "output_type": "stream",
     "text": [
      "<class 'pandas.core.frame.DataFrame'>\n",
      "Int64Index: 844392 entries, 0 to 1017190\n",
      "Data columns (total 12 columns):\n",
      "Store            844392 non-null int64\n",
      "DayOfWeek        844392 non-null int64\n",
      "Sales            844392 non-null int64\n",
      "Customers        844392 non-null int64\n",
      "Open             844392 non-null int64\n",
      "Promo            844392 non-null int64\n",
      "StateHoliday     844392 non-null int32\n",
      "SchoolHoliday    844392 non-null int64\n",
      "Year             844392 non-null int64\n",
      "Month            844392 non-null int64\n",
      "Day              844392 non-null int64\n",
      "WeekOfYear       844392 non-null int64\n",
      "dtypes: int32(1), int64(11)\n",
      "memory usage: 80.5 MB\n",
      "None\n",
      "<class 'pandas.core.frame.DataFrame'>\n",
      "Int64Index: 844392 entries, 0 to 844391\n",
      "Data columns (total 26 columns):\n",
      "Store                        844392 non-null int64\n",
      "DayOfWeek                    844392 non-null int64\n",
      "Sales                        844392 non-null int64\n",
      "Customers                    844392 non-null int64\n",
      "Open                         844392 non-null int64\n",
      "Promo                        844392 non-null int64\n",
      "StateHoliday                 844392 non-null int32\n",
      "SchoolHoliday                844392 non-null int64\n",
      "Year                         844392 non-null int64\n",
      "Month                        844392 non-null int64\n",
      "Day                          844392 non-null int64\n",
      "WeekOfYear                   844392 non-null int64\n",
      "CompetitionDistance          844392 non-null int32\n",
      "CompetitionOpenSinceMonth    844392 non-null int32\n",
      "CompetitionOpenSinceYear     844392 non-null int32\n",
      "Promo2                       844392 non-null int64\n",
      "Promo2SinceWeek              844392 non-null int32\n",
      "Promo2SinceYear              844392 non-null int32\n",
      "PromoInterval                844392 non-null object\n",
      "Assortment_1                 844392 non-null uint8\n",
      "Assortment_2                 844392 non-null uint8\n",
      "Assortment_3                 844392 non-null uint8\n",
      "StoreType_1                  844392 non-null uint8\n",
      "StoreType_2                  844392 non-null uint8\n",
      "StoreType_3                  844392 non-null uint8\n",
      "StoreType_4                  844392 non-null uint8\n",
      "dtypes: int32(6), int64(12), object(1), uint8(7)\n",
      "memory usage: 115.2+ MB\n",
      "None\n"
     ]
    }
   ],
   "source": [
    "print(train.info())\n",
    "train_data = pd.merge(train, store, on='Store')\n",
    "print(train_data.info())"
   ]
  },
  {
   "cell_type": "code",
   "execution_count": null,
   "metadata": {
    "collapsed": true
   },
   "outputs": [],
   "source": []
  }
 ],
 "metadata": {
  "kernelspec": {
   "display_name": "Python 3",
   "language": "python",
   "name": "python3"
  },
  "language_info": {
   "codemirror_mode": {
    "name": "ipython",
    "version": 3
   },
   "file_extension": ".py",
   "mimetype": "text/x-python",
   "name": "python",
   "nbconvert_exporter": "python",
   "pygments_lexer": "ipython3",
   "version": "3.6.2"
  }
 },
 "nbformat": 4,
 "nbformat_minor": 2
}
