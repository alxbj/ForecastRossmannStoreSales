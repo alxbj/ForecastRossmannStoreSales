{
 "cells": [
  {
   "cell_type": "code",
   "execution_count": 1,
   "metadata": {
    "collapsed": true
   },
   "outputs": [],
   "source": [
    "import numpy as np\n",
    "import pandas as pd\n",
    "import matplotlib.pyplot as plt\n",
    "from sklearn import preprocessing\n",
    "from sklearn.model_selection import train_test_split\n",
    "import xgboost as xgb\n",
    "from xgboost import plot_importance\n",
    "import random\n",
    "from sklearn.preprocessing import Imputer\n",
    "from sklearn.preprocessing import StandardScaler\n",
    "import seaborn as sns\n",
    "from sklearn.model_selection import GridSearchCV\n",
    "from sklearn.model_selection import StratifiedKFold\n",
    "from sklearn.feature_selection import SelectKBest\n",
    "from sklearn.linear_model import Ridge\n",
    "from sklearn.model_selection import cross_val_score\n",
    "import operator"
   ]
  },
  {
   "cell_type": "code",
   "execution_count": 2,
   "metadata": {
    "collapsed": true
   },
   "outputs": [],
   "source": [
    "train = pd.read_csv('../input/train.csv',dtype={'StateHoliday':object}) \n",
    "store =  pd.read_csv('../input/store.csv')\n",
    "test = pd.read_csv('../input/test.csv')"
   ]
  },
  {
   "cell_type": "code",
   "execution_count": 3,
   "metadata": {
    "collapsed": true
   },
   "outputs": [],
   "source": [
    "pd.set_option('display.float_format', lambda x: '%.3f' % x)  "
   ]
  },
  {
   "cell_type": "markdown",
   "metadata": {},
   "source": [
    "### 整理数据"
   ]
  },
  {
   "cell_type": "markdown",
   "metadata": {},
   "source": [
    "#### 整理test数据"
   ]
  },
  {
   "cell_type": "code",
   "execution_count": 4,
   "metadata": {},
   "outputs": [
    {
     "name": "stdout",
     "output_type": "stream",
     "text": [
      "<class 'pandas.core.frame.DataFrame'>\n",
      "RangeIndex: 41088 entries, 0 to 41087\n",
      "Data columns (total 8 columns):\n",
      "Id               41088 non-null int64\n",
      "Store            41088 non-null int64\n",
      "DayOfWeek        41088 non-null int64\n",
      "Date             41088 non-null object\n",
      "Open             41077 non-null float64\n",
      "Promo            41088 non-null int64\n",
      "StateHoliday     41088 non-null object\n",
      "SchoolHoliday    41088 non-null int64\n",
      "dtypes: float64(1), int64(5), object(2)\n",
      "memory usage: 2.5+ MB\n"
     ]
    }
   ],
   "source": [
    "test.info()"
   ]
  },
  {
   "cell_type": "code",
   "execution_count": 5,
   "metadata": {
    "collapsed": true
   },
   "outputs": [],
   "source": [
    "#补充缺失数据\n",
    "# 特征Open存在数据缺失\n",
    "# print(test.query('Open==\"NaN\"'))\n",
    "#根据Open为NaN的数据展现，由于日期非节假日商店应该都是开门的把NaN替换成1，把0.0变成0，把1.0变成1\n",
    "test['Open']=test['Open'].fillna(1)\n",
    "test['Open']=test['Open'].astype(int)\n",
    "# print(test['Open'].value_counts())"
   ]
  },
  {
   "cell_type": "code",
   "execution_count": 6,
   "metadata": {
    "collapsed": true
   },
   "outputs": [],
   "source": [
    "# 把date拆成year，month和day，重新设置DayOfWeek原因是DayOfWeek比dayofweek多1\n",
    "test['Date']=pd.to_datetime(test['Date'])\n",
    "\n",
    "test['Year']=test['Date'].dt.year\n",
    "test['Month']=test['Date'].dt.month\n",
    "test['Day']=test['Date'].dt.day\n",
    "test['WeekOfYear']=test['Date'].dt.weekofyear\n",
    "test['DayOfWeek']=test['Date'].dt.dayofweek\n",
    "test.drop('Date',axis=1, inplace=True)"
   ]
  },
  {
   "cell_type": "code",
   "execution_count": 7,
   "metadata": {},
   "outputs": [
    {
     "name": "stdout",
     "output_type": "stream",
     "text": [
      "<class 'pandas.core.frame.DataFrame'>\n",
      "RangeIndex: 41088 entries, 0 to 41087\n",
      "Data columns (total 11 columns):\n",
      "Id               41088 non-null int64\n",
      "Store            41088 non-null int64\n",
      "DayOfWeek        41088 non-null int64\n",
      "Open             41088 non-null int32\n",
      "Promo            41088 non-null int64\n",
      "StateHoliday     41088 non-null int32\n",
      "SchoolHoliday    41088 non-null int64\n",
      "Year             41088 non-null int64\n",
      "Month            41088 non-null int64\n",
      "Day              41088 non-null int64\n",
      "WeekOfYear       41088 non-null int64\n",
      "dtypes: int32(2), int64(9)\n",
      "memory usage: 3.1 MB\n"
     ]
    }
   ],
   "source": [
    "#设置StateHoliday a:1,b:2,c:3\n",
    "test.loc[test[\"StateHoliday\"]=='a','StateHoliday']=1\n",
    "test.loc[test[\"StateHoliday\"]=='b','StateHoliday']=2\n",
    "test.loc[test[\"StateHoliday\"]=='c','StateHoliday']=3\n",
    "test['StateHoliday']=test['StateHoliday'].astype(int)\n",
    "test.info()"
   ]
  },
  {
   "cell_type": "code",
   "execution_count": 8,
   "metadata": {},
   "outputs": [
    {
     "data": {
      "text/plain": [
       "1    35104\n",
       "0     5984\n",
       "Name: Open, dtype: int64"
      ]
     },
     "execution_count": 8,
     "metadata": {},
     "output_type": "execute_result"
    }
   ],
   "source": [
    "# 如果open特征为0可以直接提交预测为0\n",
    "test[\"Open\"].value_counts()"
   ]
  },
  {
   "cell_type": "markdown",
   "metadata": {},
   "source": [
    "#### 整理store数据"
   ]
  },
  {
   "cell_type": "code",
   "execution_count": 9,
   "metadata": {},
   "outputs": [
    {
     "name": "stdout",
     "output_type": "stream",
     "text": [
      "<class 'pandas.core.frame.DataFrame'>\n",
      "RangeIndex: 1115 entries, 0 to 1114\n",
      "Data columns (total 10 columns):\n",
      "Store                        1115 non-null int64\n",
      "StoreType                    1115 non-null object\n",
      "Assortment                   1115 non-null object\n",
      "CompetitionDistance          1112 non-null float64\n",
      "CompetitionOpenSinceMonth    761 non-null float64\n",
      "CompetitionOpenSinceYear     761 non-null float64\n",
      "Promo2                       1115 non-null int64\n",
      "Promo2SinceWeek              571 non-null float64\n",
      "Promo2SinceYear              571 non-null float64\n",
      "PromoInterval                571 non-null object\n",
      "dtypes: float64(5), int64(2), object(3)\n",
      "memory usage: 87.2+ KB\n"
     ]
    }
   ],
   "source": [
    "store.info()"
   ]
  },
  {
   "cell_type": "code",
   "execution_count": 10,
   "metadata": {},
   "outputs": [
    {
     "name": "stdout",
     "output_type": "stream",
     "text": [
      "     Store  CompetitionDistance  CompetitionOpenSinceMonth  \\\n",
      "290    291                  nan                        nan   \n",
      "621    622                  nan                        nan   \n",
      "878    879                  nan                        nan   \n",
      "\n",
      "     CompetitionOpenSinceYear  \n",
      "290                       nan  \n",
      "621                       nan  \n",
      "878                       nan  \n"
     ]
    }
   ],
   "source": [
    "#处理缺失数据\n",
    "#CompetitionDistance中缺失三条,缺失的数据里同时缺失CompetitionOpenSinceMonth和CompetitionOpenSinceYear，我将其认为在合理距离范围内无竞争对手。\n",
    "print(store.query('CompetitionDistance==\"NaN\"')[['Store','CompetitionDistance','CompetitionOpenSinceMonth','CompetitionOpenSinceYear']])\n",
    "#可以理解为合理范围内没有任何的竞争对手记下Store号码：291，622，879"
   ]
  },
  {
   "cell_type": "code",
   "execution_count": 11,
   "metadata": {},
   "outputs": [
    {
     "data": {
      "image/png": "[encoded data removed]",
      "text/plain": [
       "<matplotlib.figure.Figure at 0x26f799638d0>"
      ]
     },
     "metadata": {},
     "output_type": "display_data"
    }
   ],
   "source": [
    "#查看CompetitionDistance的情况\n",
    "store['CompetitionDistance'].describe()\n",
    "#根据情况将291，622，879的CompetitionDistance距离改为99999\n",
    "plt.plot(store['CompetitionDistance'])\n",
    "plt.ylabel('some numbers')\n",
    "plt.show()\n"
   ]
  },
  {
   "cell_type": "code",
   "execution_count": 12,
   "metadata": {
    "collapsed": true
   },
   "outputs": [],
   "source": [
    "#根据情况将291，622，879的CompetitionDistance距离改为99999并转化为int型，将其CompetitionOpenSinceYear特征改为一个未来值\n",
    "store['CompetitionDistance']=store['CompetitionDistance'].fillna(99999)\n",
    "store['CompetitionDistance']=store['CompetitionDistance'].astype(int)\n",
    "# store.query('Store in (291,622,879)')['CompetitionOpenSinceYear']=2030\n",
    "store.loc[(store['Store']==291)|(store['Store']==622)|(store['Store']==879),'CompetitionOpenSinceYear']=2030"
   ]
  },
  {
   "cell_type": "code",
   "execution_count": 13,
   "metadata": {},
   "outputs": [
    {
     "name": "stdout",
     "output_type": "stream",
     "text": [
      "351\n"
     ]
    }
   ],
   "source": [
    "# CompetitionOpenSinceMonth和CompetitionOpenSinceYear的缺失值\n",
    "# 判断是否缺失的商店是同一个，输出同时为NaN的商店个数\n",
    "print(len(store.query('CompetitionOpenSinceMonth==\"NaN\"&CompetitionOpenSinceYear==\"NaN\"')))"
   ]
  },
  {
   "cell_type": "code",
   "execution_count": 14,
   "metadata": {
    "collapsed": true
   },
   "outputs": [],
   "source": [
    "# 1115-354=761所以均为同时为Nan，那就设置为一个较早的时间，认为是早已经开业的商店,并设置为int型\n",
    "store['CompetitionOpenSinceYear']=store['CompetitionOpenSinceYear'].fillna(2010)\n",
    "store['CompetitionOpenSinceMonth']=store['CompetitionOpenSinceMonth'].fillna(0)\n",
    "store['CompetitionOpenSinceYear']=store['CompetitionOpenSinceYear'].astype(int)\n",
    "store['CompetitionOpenSinceMonth']=store['CompetitionOpenSinceMonth'].astype(int)"
   ]
  },
  {
   "cell_type": "code",
   "execution_count": 15,
   "metadata": {},
   "outputs": [
    {
     "name": "stdout",
     "output_type": "stream",
     "text": [
      "544\n"
     ]
    }
   ],
   "source": [
    "# Promo2SinceWeek,Promo2SinceYear,PromoInterval的缺失值\n",
    "# 确认他们缺失的是否是相同的store\n",
    "nan = np.nan\n",
    "print(len(store.query('Promo2SinceWeek==\"NaN\"&Promo2SinceYear==\"NaN\"&PromoInterval.isnull()')))"
   ]
  },
  {
   "cell_type": "code",
   "execution_count": 16,
   "metadata": {},
   "outputs": [
    {
     "data": {
      "text/plain": [
       "0    544\n",
       "Name: Promo2, dtype: int64"
      ]
     },
     "execution_count": 16,
     "metadata": {},
     "output_type": "execute_result"
    }
   ],
   "source": [
    "# 1115-544=571,571符合这三个特征的缺失数，得出结论就是这三个特征是同时缺失的，看看此时的Promo2的值是多少\n",
    "store.query('Promo2SinceWeek==\"NaN\"&Promo2SinceYear==\"NaN\"&PromoInterval.isnull()')['Promo2'].value_counts()"
   ]
  },
  {
   "cell_type": "code",
   "execution_count": 17,
   "metadata": {},
   "outputs": [
    {
     "data": {
      "text/plain": [
       "1    571\n",
       "0    544\n",
       "Name: Promo2, dtype: int64"
      ]
     },
     "execution_count": 17,
     "metadata": {},
     "output_type": "execute_result"
    }
   ],
   "source": [
    "# 查看0的总总数量和Promo2SinceWeek,Promo2SinceYear,PromoInterval缺失值保持一致\n",
    "store['Promo2'].value_counts()"
   ]
  },
  {
   "cell_type": "code",
   "execution_count": 18,
   "metadata": {
    "collapsed": true
   },
   "outputs": [],
   "source": [
    "# 将Promo2SinceYear设置为一个未来的时间，Promo2SinceWeek设置为1\n",
    "store['Promo2SinceWeek']=store['Promo2SinceWeek'].fillna(0)\n",
    "store['Promo2SinceYear']=store['Promo2SinceYear'].fillna(2030)\n",
    "store['Promo2SinceWeek']=store['Promo2SinceWeek'].astype(int)\n",
    "store['Promo2SinceYear']=store['Promo2SinceYear'].astype(int)"
   ]
  },
  {
   "cell_type": "code",
   "execution_count": 19,
   "metadata": {},
   "outputs": [
    {
     "name": "stdout",
     "output_type": "stream",
     "text": [
      "Jan,Apr,Jul,Oct     335\n",
      "Feb,May,Aug,Nov     130\n",
      "Mar,Jun,Sept,Dec    106\n",
      "Name: PromoInterval, dtype: int64\n"
     ]
    },
    {
     "data": {
      "text/html": [
       "<div>\n",
       "<style>\n",
       "    .dataframe thead tr:only-child th {\n",
       "        text-align: right;\n",
       "    }\n",
       "\n",
       "    .dataframe thead th {\n",
       "        text-align: left;\n",
       "    }\n",
       "\n",
       "    .dataframe tbody tr th {\n",
       "        vertical-align: top;\n",
       "    }\n",
       "</style>\n",
       "<table border=\"1\" class=\"dataframe\">\n",
       "  <thead>\n",
       "    <tr style=\"text-align: right;\">\n",
       "      <th></th>\n",
       "      <th>Store</th>\n",
       "      <th>StoreType</th>\n",
       "      <th>Assortment</th>\n",
       "      <th>CompetitionDistance</th>\n",
       "      <th>CompetitionOpenSinceMonth</th>\n",
       "      <th>CompetitionOpenSinceYear</th>\n",
       "      <th>Promo2</th>\n",
       "      <th>Promo2SinceWeek</th>\n",
       "      <th>Promo2SinceYear</th>\n",
       "      <th>PromoInterval</th>\n",
       "    </tr>\n",
       "  </thead>\n",
       "  <tbody>\n",
       "    <tr>\n",
       "      <th>0</th>\n",
       "      <td>1</td>\n",
       "      <td>c</td>\n",
       "      <td>a</td>\n",
       "      <td>1270</td>\n",
       "      <td>9</td>\n",
       "      <td>2008</td>\n",
       "      <td>0</td>\n",
       "      <td>0</td>\n",
       "      <td>2030</td>\n",
       "      <td>0,0,0,0</td>\n",
       "    </tr>\n",
       "    <tr>\n",
       "      <th>1</th>\n",
       "      <td>2</td>\n",
       "      <td>a</td>\n",
       "      <td>a</td>\n",
       "      <td>570</td>\n",
       "      <td>11</td>\n",
       "      <td>2007</td>\n",
       "      <td>1</td>\n",
       "      <td>13</td>\n",
       "      <td>2010</td>\n",
       "      <td>0,3,6,9</td>\n",
       "    </tr>\n",
       "    <tr>\n",
       "      <th>2</th>\n",
       "      <td>3</td>\n",
       "      <td>a</td>\n",
       "      <td>a</td>\n",
       "      <td>14130</td>\n",
       "      <td>12</td>\n",
       "      <td>2006</td>\n",
       "      <td>1</td>\n",
       "      <td>14</td>\n",
       "      <td>2011</td>\n",
       "      <td>0,3,6,9</td>\n",
       "    </tr>\n",
       "    <tr>\n",
       "      <th>3</th>\n",
       "      <td>4</td>\n",
       "      <td>c</td>\n",
       "      <td>c</td>\n",
       "      <td>620</td>\n",
       "      <td>9</td>\n",
       "      <td>2009</td>\n",
       "      <td>0</td>\n",
       "      <td>0</td>\n",
       "      <td>2030</td>\n",
       "      <td>0,0,0,0</td>\n",
       "    </tr>\n",
       "    <tr>\n",
       "      <th>4</th>\n",
       "      <td>5</td>\n",
       "      <td>a</td>\n",
       "      <td>a</td>\n",
       "      <td>29910</td>\n",
       "      <td>4</td>\n",
       "      <td>2015</td>\n",
       "      <td>0</td>\n",
       "      <td>0</td>\n",
       "      <td>2030</td>\n",
       "      <td>0,0,0,0</td>\n",
       "    </tr>\n",
       "  </tbody>\n",
       "</table>\n",
       "</div>"
      ],
      "text/plain": [
       "   Store StoreType Assortment  CompetitionDistance  CompetitionOpenSinceMonth  \\\n",
       "0      1         c          a                 1270                          9   \n",
       "1      2         a          a                  570                         11   \n",
       "2      3         a          a                14130                         12   \n",
       "3      4         c          c                  620                          9   \n",
       "4      5         a          a                29910                          4   \n",
       "\n",
       "   CompetitionOpenSinceYear  Promo2  Promo2SinceWeek  Promo2SinceYear  \\\n",
       "0                      2008       0                0             2030   \n",
       "1                      2007       1               13             2010   \n",
       "2                      2006       1               14             2011   \n",
       "3                      2009       0                0             2030   \n",
       "4                      2015       0                0             2030   \n",
       "\n",
       "  PromoInterval  \n",
       "0       0,0,0,0  \n",
       "1       0,3,6,9  \n",
       "2       0,3,6,9  \n",
       "3       0,0,0,0  \n",
       "4       0,0,0,0  "
      ]
     },
     "execution_count": 19,
     "metadata": {},
     "output_type": "execute_result"
    }
   ],
   "source": [
    "#处理PromoInterval,\n",
    "print(store['PromoInterval'].value_counts())\n",
    "num_month = {'Jan,Apr,Jul,Oct':'0,3,6,9','Feb,May,Aug,Nov':'1,4,7,10','Mar,Jun,Sept,Dec':'2,5,8,11'}\n",
    "store['PromoInterval'] =store['PromoInterval'].map(num_month)\n",
    "store['PromoInterval']=store['PromoInterval'].fillna('0,0,0,0')\n",
    "store.head()"
   ]
  },
  {
   "cell_type": "code",
   "execution_count": 20,
   "metadata": {},
   "outputs": [
    {
     "name": "stdout",
     "output_type": "stream",
     "text": [
      "<class 'pandas.core.frame.DataFrame'>\n",
      "RangeIndex: 1115 entries, 0 to 1114\n",
      "Data columns (total 10 columns):\n",
      "Store                        1115 non-null int64\n",
      "StoreType                    1115 non-null object\n",
      "Assortment                   1115 non-null object\n",
      "CompetitionDistance          1115 non-null int32\n",
      "CompetitionOpenSinceMonth    1115 non-null int32\n",
      "CompetitionOpenSinceYear     1115 non-null int32\n",
      "Promo2                       1115 non-null int64\n",
      "Promo2SinceWeek              1115 non-null int32\n",
      "Promo2SinceYear              1115 non-null int32\n",
      "PromoInterval                1115 non-null object\n",
      "dtypes: int32(5), int64(2), object(3)\n",
      "memory usage: 65.4+ KB\n"
     ]
    }
   ],
   "source": [
    "store.info()"
   ]
  },
  {
   "cell_type": "code",
   "execution_count": 21,
   "metadata": {},
   "outputs": [
    {
     "name": "stdout",
     "output_type": "stream",
     "text": [
      "0,0,0,0     544\n",
      "0,3,6,9     335\n",
      "1,4,7,10    130\n",
      "2,5,8,11    106\n",
      "Name: PromoInterval, dtype: int64\n"
     ]
    }
   ],
   "source": [
    "print(store['PromoInterval'].value_counts())"
   ]
  },
  {
   "cell_type": "code",
   "execution_count": 22,
   "metadata": {
    "collapsed": true
   },
   "outputs": [],
   "source": [
    "# 将PromoInterval展开\n",
    "PromoInterval1=[]\n",
    "PromoInterval2=[]\n",
    "PromoInterval3=[]\n",
    "PromoInterval4=[]\n",
    "m=store['PromoInterval']\n",
    "for x in m:\n",
    "    y=x.split(',')\n",
    "    PromoInterval1.append(y[0])\n",
    "    PromoInterval2.append(y[1])\n",
    "    PromoInterval3.append(y[2])\n",
    "    PromoInterval4.append(y[3])\n",
    "\n",
    "store['PromoInterval1']=pd.Series(PromoInterval1,dtype='int32')\n",
    "store['PromoInterval2']=pd.Series(PromoInterval2,dtype='int32')\n",
    "store['PromoInterval3']=pd.Series(PromoInterval3,dtype='int32')\n",
    "store['PromoInterval4']=pd.Series(PromoInterval4,dtype='int32')\n",
    "store.drop('PromoInterval',axis=1, inplace=True)"
   ]
  },
  {
   "cell_type": "code",
   "execution_count": 23,
   "metadata": {
    "collapsed": true
   },
   "outputs": [],
   "source": [
    "#处理两个Object字段\n",
    "#把Assortment整理为a:1,b:2,c:3\n",
    "store.loc[store[\"Assortment\"]=='a','Assortment']=1\n",
    "store.loc[store[\"Assortment\"]=='b','Assortment']=2\n",
    "store.loc[store[\"Assortment\"]=='c','Assortment']=3\n",
    "store['Assortment']=store['Assortment'].astype(int)\n",
    "#把StoreType整理为a:1,b:2,c:3,d:4\n",
    "store.loc[store[\"StoreType\"]=='a','StoreType']=1\n",
    "store.loc[store[\"StoreType\"]=='b','StoreType']=2\n",
    "store.loc[store[\"StoreType\"]=='c','StoreType']=3\n",
    "store.loc[store[\"StoreType\"]=='d','StoreType']=4\n",
    "store['StoreType']=store['StoreType'].astype(int)"
   ]
  },
  {
   "cell_type": "code",
   "execution_count": 24,
   "metadata": {},
   "outputs": [
    {
     "data": {
      "text/html": [
       "<div>\n",
       "<style>\n",
       "    .dataframe thead tr:only-child th {\n",
       "        text-align: right;\n",
       "    }\n",
       "\n",
       "    .dataframe thead th {\n",
       "        text-align: left;\n",
       "    }\n",
       "\n",
       "    .dataframe tbody tr th {\n",
       "        vertical-align: top;\n",
       "    }\n",
       "</style>\n",
       "<table border=\"1\" class=\"dataframe\">\n",
       "  <thead>\n",
       "    <tr style=\"text-align: right;\">\n",
       "      <th></th>\n",
       "      <th>Store</th>\n",
       "      <th>CompetitionDistance</th>\n",
       "      <th>CompetitionOpenSinceMonth</th>\n",
       "      <th>CompetitionOpenSinceYear</th>\n",
       "      <th>Promo2</th>\n",
       "      <th>Promo2SinceWeek</th>\n",
       "      <th>Promo2SinceYear</th>\n",
       "      <th>PromoInterval1</th>\n",
       "      <th>PromoInterval2</th>\n",
       "      <th>PromoInterval3</th>\n",
       "      <th>PromoInterval4</th>\n",
       "      <th>Assortment_1</th>\n",
       "      <th>Assortment_2</th>\n",
       "      <th>Assortment_3</th>\n",
       "      <th>StoreType_1</th>\n",
       "      <th>StoreType_2</th>\n",
       "      <th>StoreType_3</th>\n",
       "      <th>StoreType_4</th>\n",
       "    </tr>\n",
       "  </thead>\n",
       "  <tbody>\n",
       "    <tr>\n",
       "      <th>0</th>\n",
       "      <td>1</td>\n",
       "      <td>1270</td>\n",
       "      <td>9</td>\n",
       "      <td>2008</td>\n",
       "      <td>0</td>\n",
       "      <td>0</td>\n",
       "      <td>2030</td>\n",
       "      <td>0</td>\n",
       "      <td>0</td>\n",
       "      <td>0</td>\n",
       "      <td>0</td>\n",
       "      <td>1</td>\n",
       "      <td>0</td>\n",
       "      <td>0</td>\n",
       "      <td>0</td>\n",
       "      <td>0</td>\n",
       "      <td>1</td>\n",
       "      <td>0</td>\n",
       "    </tr>\n",
       "    <tr>\n",
       "      <th>1</th>\n",
       "      <td>2</td>\n",
       "      <td>570</td>\n",
       "      <td>11</td>\n",
       "      <td>2007</td>\n",
       "      <td>1</td>\n",
       "      <td>13</td>\n",
       "      <td>2010</td>\n",
       "      <td>0</td>\n",
       "      <td>3</td>\n",
       "      <td>6</td>\n",
       "      <td>9</td>\n",
       "      <td>1</td>\n",
       "      <td>0</td>\n",
       "      <td>0</td>\n",
       "      <td>1</td>\n",
       "      <td>0</td>\n",
       "      <td>0</td>\n",
       "      <td>0</td>\n",
       "    </tr>\n",
       "    <tr>\n",
       "      <th>2</th>\n",
       "      <td>3</td>\n",
       "      <td>14130</td>\n",
       "      <td>12</td>\n",
       "      <td>2006</td>\n",
       "      <td>1</td>\n",
       "      <td>14</td>\n",
       "      <td>2011</td>\n",
       "      <td>0</td>\n",
       "      <td>3</td>\n",
       "      <td>6</td>\n",
       "      <td>9</td>\n",
       "      <td>1</td>\n",
       "      <td>0</td>\n",
       "      <td>0</td>\n",
       "      <td>1</td>\n",
       "      <td>0</td>\n",
       "      <td>0</td>\n",
       "      <td>0</td>\n",
       "    </tr>\n",
       "    <tr>\n",
       "      <th>3</th>\n",
       "      <td>4</td>\n",
       "      <td>620</td>\n",
       "      <td>9</td>\n",
       "      <td>2009</td>\n",
       "      <td>0</td>\n",
       "      <td>0</td>\n",
       "      <td>2030</td>\n",
       "      <td>0</td>\n",
       "      <td>0</td>\n",
       "      <td>0</td>\n",
       "      <td>0</td>\n",
       "      <td>0</td>\n",
       "      <td>0</td>\n",
       "      <td>1</td>\n",
       "      <td>0</td>\n",
       "      <td>0</td>\n",
       "      <td>1</td>\n",
       "      <td>0</td>\n",
       "    </tr>\n",
       "    <tr>\n",
       "      <th>4</th>\n",
       "      <td>5</td>\n",
       "      <td>29910</td>\n",
       "      <td>4</td>\n",
       "      <td>2015</td>\n",
       "      <td>0</td>\n",
       "      <td>0</td>\n",
       "      <td>2030</td>\n",
       "      <td>0</td>\n",
       "      <td>0</td>\n",
       "      <td>0</td>\n",
       "      <td>0</td>\n",
       "      <td>1</td>\n",
       "      <td>0</td>\n",
       "      <td>0</td>\n",
       "      <td>1</td>\n",
       "      <td>0</td>\n",
       "      <td>0</td>\n",
       "      <td>0</td>\n",
       "    </tr>\n",
       "  </tbody>\n",
       "</table>\n",
       "</div>"
      ],
      "text/plain": [
       "   Store  CompetitionDistance  CompetitionOpenSinceMonth  \\\n",
       "0      1                 1270                          9   \n",
       "1      2                  570                         11   \n",
       "2      3                14130                         12   \n",
       "3      4                  620                          9   \n",
       "4      5                29910                          4   \n",
       "\n",
       "   CompetitionOpenSinceYear  Promo2  Promo2SinceWeek  Promo2SinceYear  \\\n",
       "0                      2008       0                0             2030   \n",
       "1                      2007       1               13             2010   \n",
       "2                      2006       1               14             2011   \n",
       "3                      2009       0                0             2030   \n",
       "4                      2015       0                0             2030   \n",
       "\n",
       "   PromoInterval1  PromoInterval2  PromoInterval3  PromoInterval4  \\\n",
       "0               0               0               0               0   \n",
       "1               0               3               6               9   \n",
       "2               0               3               6               9   \n",
       "3               0               0               0               0   \n",
       "4               0               0               0               0   \n",
       "\n",
       "   Assortment_1  Assortment_2  Assortment_3  StoreType_1  StoreType_2  \\\n",
       "0             1             0             0            0            0   \n",
       "1             1             0             0            1            0   \n",
       "2             1             0             0            1            0   \n",
       "3             0             0             1            0            0   \n",
       "4             1             0             0            1            0   \n",
       "\n",
       "   StoreType_3  StoreType_4  \n",
       "0            1            0  \n",
       "1            0            0  \n",
       "2            0            0  \n",
       "3            1            0  \n",
       "4            0            0  "
      ]
     },
     "execution_count": 24,
     "metadata": {},
     "output_type": "execute_result"
    }
   ],
   "source": [
    "#针对Assortment，StoreType特征做one-hot\n",
    "store= pd.concat([store,pd.get_dummies(store['Assortment'],prefix='Assortment')], axis=1)\n",
    "store.drop('Assortment',axis=1, inplace=True)\n",
    "store= pd.concat([store,pd.get_dummies(store['StoreType'],prefix='StoreType')], axis=1)\n",
    "store.drop('StoreType',axis=1, inplace=True)\n",
    "store.head()"
   ]
  },
  {
   "cell_type": "code",
   "execution_count": 25,
   "metadata": {},
   "outputs": [
    {
     "name": "stdout",
     "output_type": "stream",
     "text": [
      "<class 'pandas.core.frame.DataFrame'>\n",
      "RangeIndex: 1115 entries, 0 to 1114\n",
      "Data columns (total 18 columns):\n",
      "Store                        1115 non-null int64\n",
      "CompetitionDistance          1115 non-null int32\n",
      "CompetitionOpenSinceMonth    1115 non-null int32\n",
      "CompetitionOpenSinceYear     1115 non-null int32\n",
      "Promo2                       1115 non-null int64\n",
      "Promo2SinceWeek              1115 non-null int32\n",
      "Promo2SinceYear              1115 non-null int32\n",
      "PromoInterval1               1115 non-null int32\n",
      "PromoInterval2               1115 non-null int32\n",
      "PromoInterval3               1115 non-null int32\n",
      "PromoInterval4               1115 non-null int32\n",
      "Assortment_1                 1115 non-null uint8\n",
      "Assortment_2                 1115 non-null uint8\n",
      "Assortment_3                 1115 non-null uint8\n",
      "StoreType_1                  1115 non-null uint8\n",
      "StoreType_2                  1115 non-null uint8\n",
      "StoreType_3                  1115 non-null uint8\n",
      "StoreType_4                  1115 non-null uint8\n",
      "dtypes: int32(9), int64(2), uint8(7)\n",
      "memory usage: 64.3 KB\n"
     ]
    }
   ],
   "source": [
    "store.info()"
   ]
  },
  {
   "cell_type": "markdown",
   "metadata": {},
   "source": [
    "#### 整理train数据"
   ]
  },
  {
   "cell_type": "code",
   "execution_count": 26,
   "metadata": {},
   "outputs": [
    {
     "name": "stdout",
     "output_type": "stream",
     "text": [
      "<class 'pandas.core.frame.DataFrame'>\n",
      "RangeIndex: 1017209 entries, 0 to 1017208\n",
      "Data columns (total 9 columns):\n",
      "Store            1017209 non-null int64\n",
      "DayOfWeek        1017209 non-null int64\n",
      "Date             1017209 non-null object\n",
      "Sales            1017209 non-null int64\n",
      "Customers        1017209 non-null int64\n",
      "Open             1017209 non-null int64\n",
      "Promo            1017209 non-null int64\n",
      "StateHoliday     1017209 non-null object\n",
      "SchoolHoliday    1017209 non-null int64\n",
      "dtypes: int64(7), object(2)\n",
      "memory usage: 69.8+ MB\n"
     ]
    }
   ],
   "source": [
    "train.info()"
   ]
  },
  {
   "cell_type": "code",
   "execution_count": 27,
   "metadata": {},
   "outputs": [
    {
     "name": "stdout",
     "output_type": "stream",
     "text": [
      "0    172817\n",
      "Name: Sales, dtype: int64\n",
      "0    172817\n",
      "Name: Customers, dtype: int64\n"
     ]
    }
   ],
   "source": [
    "# 查看open为0的数据的Sales和Customers\n",
    "print(train.query('Open==\"0\"')['Sales'].value_counts())\n",
    "print(train.query('Open==\"0\"')['Customers'].value_counts())"
   ]
  },
  {
   "cell_type": "code",
   "execution_count": 28,
   "metadata": {},
   "outputs": [
    {
     "data": {
      "text/plain": [
       "844392"
      ]
     },
     "execution_count": 28,
     "metadata": {},
     "output_type": "execute_result"
    }
   ],
   "source": [
    "#可以认为open为0对于训练没有什么帮助所以我们只训练open==1的\n",
    "len(train.query('Open==1'))"
   ]
  },
  {
   "cell_type": "code",
   "execution_count": 29,
   "metadata": {
    "collapsed": true
   },
   "outputs": [],
   "source": [
    "# 844392+172817=1017209 所以open==1作为训练对象\n",
    "train=train.query('Open==1')"
   ]
  },
  {
   "cell_type": "code",
   "execution_count": 30,
   "metadata": {
    "collapsed": true
   },
   "outputs": [],
   "source": [
    "# 按照test的方式处理Data\n",
    "train['Date']=pd.to_datetime(train['Date'])\n",
    "\n",
    "train['Year']=train['Date'].dt.year\n",
    "train['Month']=train['Date'].dt.month\n",
    "train['Day']=train['Date'].dt.day\n",
    "train['WeekOfYear']=train['Date'].dt.weekofyear\n",
    "train['DayOfWeek']=train['Date'].dt.dayofweek\n",
    "train.drop('Date',axis=1, inplace=True)"
   ]
  },
  {
   "cell_type": "code",
   "execution_count": 31,
   "metadata": {
    "collapsed": true
   },
   "outputs": [],
   "source": [
    "#设置StateHoliday a:1,b:2,c:3\n",
    "train.loc[train[\"StateHoliday\"]=='a','StateHoliday']=1\n",
    "train.loc[train[\"StateHoliday\"]=='b','StateHoliday']=2\n",
    "train.loc[train[\"StateHoliday\"]=='c','StateHoliday']=3\n",
    "train['StateHoliday']=train['StateHoliday'].astype(int)"
   ]
  },
  {
   "cell_type": "code",
   "execution_count": 32,
   "metadata": {},
   "outputs": [
    {
     "name": "stdout",
     "output_type": "stream",
     "text": [
      "<class 'pandas.core.frame.DataFrame'>\n",
      "Int64Index: 844392 entries, 0 to 1017190\n",
      "Data columns (total 12 columns):\n",
      "Store            844392 non-null int64\n",
      "DayOfWeek        844392 non-null int64\n",
      "Sales            844392 non-null int64\n",
      "Customers        844392 non-null int64\n",
      "Open             844392 non-null int64\n",
      "Promo            844392 non-null int64\n",
      "StateHoliday     844392 non-null int32\n",
      "SchoolHoliday    844392 non-null int64\n",
      "Year             844392 non-null int64\n",
      "Month            844392 non-null int64\n",
      "Day              844392 non-null int64\n",
      "WeekOfYear       844392 non-null int64\n",
      "dtypes: int32(1), int64(11)\n",
      "memory usage: 80.5 MB\n",
      "None\n"
     ]
    }
   ],
   "source": [
    "print(train.info())"
   ]
  },
  {
   "cell_type": "markdown",
   "metadata": {},
   "source": [
    "#### 合并数据"
   ]
  },
  {
   "cell_type": "code",
   "execution_count": 33,
   "metadata": {},
   "outputs": [
    {
     "data": {
      "text/html": [
       "<div>\n",
       "<style>\n",
       "    .dataframe thead tr:only-child th {\n",
       "        text-align: right;\n",
       "    }\n",
       "\n",
       "    .dataframe thead th {\n",
       "        text-align: left;\n",
       "    }\n",
       "\n",
       "    .dataframe tbody tr th {\n",
       "        vertical-align: top;\n",
       "    }\n",
       "</style>\n",
       "<table border=\"1\" class=\"dataframe\">\n",
       "  <thead>\n",
       "    <tr style=\"text-align: right;\">\n",
       "      <th></th>\n",
       "      <th>Id</th>\n",
       "      <th>Sales</th>\n",
       "    </tr>\n",
       "  </thead>\n",
       "  <tbody>\n",
       "    <tr>\n",
       "      <th>543</th>\n",
       "      <td>544</td>\n",
       "      <td>0</td>\n",
       "    </tr>\n",
       "    <tr>\n",
       "      <th>676</th>\n",
       "      <td>677</td>\n",
       "      <td>0</td>\n",
       "    </tr>\n",
       "    <tr>\n",
       "      <th>840</th>\n",
       "      <td>841</td>\n",
       "      <td>0</td>\n",
       "    </tr>\n",
       "    <tr>\n",
       "      <th>1399</th>\n",
       "      <td>1400</td>\n",
       "      <td>0</td>\n",
       "    </tr>\n",
       "    <tr>\n",
       "      <th>1532</th>\n",
       "      <td>1533</td>\n",
       "      <td>0</td>\n",
       "    </tr>\n",
       "  </tbody>\n",
       "</table>\n",
       "</div>"
      ],
      "text/plain": [
       "        Id  Sales\n",
       "543    544      0\n",
       "676    677      0\n",
       "840    841      0\n",
       "1399  1400      0\n",
       "1532  1533      0"
      ]
     },
     "execution_count": 33,
     "metadata": {},
     "output_type": "execute_result"
    }
   ],
   "source": [
    "#合并test，先把test里open为0的数据提出来直接输出sales=0\n",
    "result_0=pd.DataFrame({\"Id\": test.query('Open==0')['Id'], 'Sales':0})\n",
    "result_0.head()"
   ]
  },
  {
   "cell_type": "code",
   "execution_count": 34,
   "metadata": {},
   "outputs": [
    {
     "data": {
      "text/plain": [
       "35104"
      ]
     },
     "execution_count": 34,
     "metadata": {},
     "output_type": "execute_result"
    }
   ],
   "source": [
    "len(test.query('Open==1'))"
   ]
  },
  {
   "cell_type": "code",
   "execution_count": 35,
   "metadata": {
    "collapsed": true
   },
   "outputs": [],
   "source": [
    "# 对于剩下test来跑predict再合并\n",
    "test_data = pd.merge(test.query('Open==1'), store, on='Store')"
   ]
  },
  {
   "cell_type": "code",
   "execution_count": 36,
   "metadata": {},
   "outputs": [
    {
     "name": "stdout",
     "output_type": "stream",
     "text": [
      "<class 'pandas.core.frame.DataFrame'>\n",
      "Int64Index: 35104 entries, 0 to 35103\n",
      "Data columns (total 28 columns):\n",
      "Id                           35104 non-null int64\n",
      "Store                        35104 non-null int64\n",
      "DayOfWeek                    35104 non-null int64\n",
      "Open                         35104 non-null int32\n",
      "Promo                        35104 non-null int64\n",
      "StateHoliday                 35104 non-null int32\n",
      "SchoolHoliday                35104 non-null int64\n",
      "Year                         35104 non-null int64\n",
      "Month                        35104 non-null int64\n",
      "Day                          35104 non-null int64\n",
      "WeekOfYear                   35104 non-null int64\n",
      "CompetitionDistance          35104 non-null int32\n",
      "CompetitionOpenSinceMonth    35104 non-null int32\n",
      "CompetitionOpenSinceYear     35104 non-null int32\n",
      "Promo2                       35104 non-null int64\n",
      "Promo2SinceWeek              35104 non-null int32\n",
      "Promo2SinceYear              35104 non-null int32\n",
      "PromoInterval1               35104 non-null int32\n",
      "PromoInterval2               35104 non-null int32\n",
      "PromoInterval3               35104 non-null int32\n",
      "PromoInterval4               35104 non-null int32\n",
      "Assortment_1                 35104 non-null uint8\n",
      "Assortment_2                 35104 non-null uint8\n",
      "Assortment_3                 35104 non-null uint8\n",
      "StoreType_1                  35104 non-null uint8\n",
      "StoreType_2                  35104 non-null uint8\n",
      "StoreType_3                  35104 non-null uint8\n",
      "StoreType_4                  35104 non-null uint8\n",
      "dtypes: int32(11), int64(10), uint8(7)\n",
      "memory usage: 4.7 MB\n"
     ]
    }
   ],
   "source": [
    "test_data.info()"
   ]
  },
  {
   "cell_type": "code",
   "execution_count": 37,
   "metadata": {},
   "outputs": [
    {
     "name": "stdout",
     "output_type": "stream",
     "text": [
      "<class 'pandas.core.frame.DataFrame'>\n",
      "Int64Index: 844392 entries, 0 to 1017190\n",
      "Data columns (total 12 columns):\n",
      "Store            844392 non-null int64\n",
      "DayOfWeek        844392 non-null int64\n",
      "Sales            844392 non-null int64\n",
      "Customers        844392 non-null int64\n",
      "Open             844392 non-null int64\n",
      "Promo            844392 non-null int64\n",
      "StateHoliday     844392 non-null int32\n",
      "SchoolHoliday    844392 non-null int64\n",
      "Year             844392 non-null int64\n",
      "Month            844392 non-null int64\n",
      "Day              844392 non-null int64\n",
      "WeekOfYear       844392 non-null int64\n",
      "dtypes: int32(1), int64(11)\n",
      "memory usage: 80.5 MB\n",
      "None\n",
      "<class 'pandas.core.frame.DataFrame'>\n",
      "Int64Index: 844392 entries, 0 to 844391\n",
      "Data columns (total 29 columns):\n",
      "Store                        844392 non-null int64\n",
      "DayOfWeek                    844392 non-null int64\n",
      "Sales                        844392 non-null int64\n",
      "Customers                    844392 non-null int64\n",
      "Open                         844392 non-null int64\n",
      "Promo                        844392 non-null int64\n",
      "StateHoliday                 844392 non-null int32\n",
      "SchoolHoliday                844392 non-null int64\n",
      "Year                         844392 non-null int64\n",
      "Month                        844392 non-null int64\n",
      "Day                          844392 non-null int64\n",
      "WeekOfYear                   844392 non-null int64\n",
      "CompetitionDistance          844392 non-null int32\n",
      "CompetitionOpenSinceMonth    844392 non-null int32\n",
      "CompetitionOpenSinceYear     844392 non-null int32\n",
      "Promo2                       844392 non-null int64\n",
      "Promo2SinceWeek              844392 non-null int32\n",
      "Promo2SinceYear              844392 non-null int32\n",
      "PromoInterval1               844392 non-null int32\n",
      "PromoInterval2               844392 non-null int32\n",
      "PromoInterval3               844392 non-null int32\n",
      "PromoInterval4               844392 non-null int32\n",
      "Assortment_1                 844392 non-null uint8\n",
      "Assortment_2                 844392 non-null uint8\n",
      "Assortment_3                 844392 non-null uint8\n",
      "StoreType_1                  844392 non-null uint8\n",
      "StoreType_2                  844392 non-null uint8\n",
      "StoreType_3                  844392 non-null uint8\n",
      "StoreType_4                  844392 non-null uint8\n",
      "dtypes: int32(10), int64(12), uint8(7)\n",
      "memory usage: 121.6 MB\n",
      "None\n"
     ]
    }
   ],
   "source": [
    "print(train.info())\n",
    "train_data = pd.merge(train, store, on='Store')\n",
    "print(train_data.info())"
   ]
  },
  {
   "cell_type": "code",
   "execution_count": 38,
   "metadata": {},
   "outputs": [
    {
     "name": "stdout",
     "output_type": "stream",
     "text": [
      "<class 'pandas.core.frame.DataFrame'>\n",
      "Int64Index: 35104 entries, 1 to 40909\n",
      "Data columns (total 27 columns):\n",
      "Store                        35104 non-null int64\n",
      "DayOfWeek                    35104 non-null int64\n",
      "Open                         35104 non-null int32\n",
      "Promo                        35104 non-null int64\n",
      "StateHoliday                 35104 non-null int32\n",
      "SchoolHoliday                35104 non-null int64\n",
      "Year                         35104 non-null int64\n",
      "Month                        35104 non-null int64\n",
      "Day                          35104 non-null int64\n",
      "WeekOfYear                   35104 non-null int64\n",
      "CompetitionDistance          35104 non-null int32\n",
      "CompetitionOpenSinceMonth    35104 non-null int32\n",
      "CompetitionOpenSinceYear     35104 non-null int32\n",
      "Promo2                       35104 non-null int64\n",
      "Promo2SinceWeek              35104 non-null int32\n",
      "Promo2SinceYear              35104 non-null int32\n",
      "PromoInterval1               35104 non-null int32\n",
      "PromoInterval2               35104 non-null int32\n",
      "PromoInterval3               35104 non-null int32\n",
      "PromoInterval4               35104 non-null int32\n",
      "Assortment_1                 35104 non-null uint8\n",
      "Assortment_2                 35104 non-null uint8\n",
      "Assortment_3                 35104 non-null uint8\n",
      "StoreType_1                  35104 non-null uint8\n",
      "StoreType_2                  35104 non-null uint8\n",
      "StoreType_3                  35104 non-null uint8\n",
      "StoreType_4                  35104 non-null uint8\n",
      "dtypes: int32(11), int64(9), uint8(7)\n",
      "memory usage: 4.4 MB\n"
     ]
    }
   ],
   "source": [
    "test_data.set_index(['Id'],inplace=True)\n",
    "test_data.info()"
   ]
  },
  {
   "cell_type": "markdown",
   "metadata": {},
   "source": [
    "#### 数据探索"
   ]
  },
  {
   "cell_type": "markdown",
   "metadata": {},
   "source": [
    "将CompetitionOpenSinceMonth,CompetitionOpenSinceYear合并为一个特征CompetitionMonths，  \n",
    "将Promo2SinceWeek Promo2SinceYear PromoInterval合并为一个特征IsPromo2"
   ]
  },
  {
   "cell_type": "code",
   "execution_count": 39,
   "metadata": {},
   "outputs": [
    {
     "data": {
      "text/plain": [
       "1     86343\n",
       "3     85980\n",
       "7     85587\n",
       "6     82576\n",
       "4     81731\n",
       "2     80243\n",
       "5     80103\n",
       "8     54413\n",
       "10    53292\n",
       "9     52330\n",
       "11    51401\n",
       "12    50393\n",
       "Name: Month, dtype: int64"
      ]
     },
     "execution_count": 39,
     "metadata": {},
     "output_type": "execute_result"
    }
   ],
   "source": [
    "train_data['CompetitionOpenSinceMonth'].value_counts()    \n",
    "train_data['Month'].value_counts()"
   ]
  },
  {
   "cell_type": "code",
   "execution_count": 40,
   "metadata": {
    "collapsed": true
   },
   "outputs": [],
   "source": [
    "# 先处理train的\n",
    "# 计算月份相差\n",
    "train_data['CompetitionMonths']=(train_data['Year']-train_data['CompetitionOpenSinceYear'])*12+(train_data['Month']-train_data['CompetitionOpenSinceMonth'])\n"
   ]
  },
  {
   "cell_type": "code",
   "execution_count": 41,
   "metadata": {},
   "outputs": [
    {
     "data": {
      "text/plain": [
       "615236    1900\n",
       "615237    1900\n",
       "615238    1900\n",
       "615239    1900\n",
       "615240    1900\n",
       "615241    1900\n",
       "615242    1900\n",
       "615243    1900\n",
       "615244    1900\n",
       "615245    1900\n",
       "615246    1900\n",
       "615247    1900\n",
       "615248    1900\n",
       "615249    1900\n",
       "615250    1900\n",
       "615251    1900\n",
       "615252    1900\n",
       "615253    1900\n",
       "615254    1900\n",
       "615255    1900\n",
       "615256    1900\n",
       "615257    1900\n",
       "615258    1900\n",
       "615259    1900\n",
       "615260    1900\n",
       "615261    1900\n",
       "615262    1900\n",
       "Name: CompetitionOpenSinceYear, dtype: int32"
      ]
     },
     "execution_count": 41,
     "metadata": {},
     "output_type": "execute_result"
    }
   ],
   "source": [
    "# 如果CompetitionMonths为负数则赋值为0\n",
    "train_data['CompetitionMonths'].max()\n",
    "train_data.loc[train_data['CompetitionMonths']==1386,'CompetitionOpenSinceYear']"
   ]
  },
  {
   "cell_type": "code",
   "execution_count": 42,
   "metadata": {},
   "outputs": [
    {
     "data": {
      "text/plain": [
       "2010    309149\n",
       "2013     63108\n",
       "2012     61719\n",
       "2014     52815\n",
       "2005     46705\n",
       "2011     41366\n",
       "2009     40713\n",
       "2008     40198\n",
       "2007     36131\n",
       "2006     35543\n",
       "2015     28844\n",
       "2002     20736\n",
       "2004     16334\n",
       "2003     13834\n",
       "2001     12157\n",
       "2000      7631\n",
       "1999      6213\n",
       "1990      3887\n",
       "2030      2186\n",
       "1994      1552\n",
       "1995      1404\n",
       "1961       779\n",
       "1998       766\n",
       "1900       622\n",
       "Name: CompetitionOpenSinceYear, dtype: int64"
      ]
     },
     "execution_count": 42,
     "metadata": {},
     "output_type": "execute_result"
    }
   ],
   "source": [
    "train_data['CompetitionOpenSinceYear'].value_counts()"
   ]
  },
  {
   "cell_type": "code",
   "execution_count": 43,
   "metadata": {
    "collapsed": true
   },
   "outputs": [],
   "source": [
    "train_data.loc[train_data['CompetitionMonths']<0,'CompetitionMonths']=0"
   ]
  },
  {
   "cell_type": "code",
   "execution_count": 44,
   "metadata": {
    "collapsed": true
   },
   "outputs": [],
   "source": [
    "# 去掉CompetitionOpenSinceMonth,CompetitionOpenSinceYear\n",
    "train_data.drop(['CompetitionOpenSinceMonth','CompetitionOpenSinceYear'],axis=1, inplace=True)"
   ]
  },
  {
   "cell_type": "code",
   "execution_count": 45,
   "metadata": {
    "collapsed": true
   },
   "outputs": [],
   "source": [
    "# 对test_data做同样的操作\n",
    "test_data['CompetitionMonths']=(test_data['Year']-test_data['CompetitionOpenSinceYear'])*12+(test_data['Month']-test_data['CompetitionOpenSinceMonth'])\n",
    "test_data.loc[test_data['CompetitionMonths']<0,'CompetitionMonths']=0\n",
    "test_data.drop(['CompetitionOpenSinceMonth','CompetitionOpenSinceYear'],axis=1, inplace=True)"
   ]
  },
  {
   "cell_type": "code",
   "execution_count": 46,
   "metadata": {},
   "outputs": [
    {
     "data": {
      "text/plain": [
       "0     423307\n",
       "14     60541\n",
       "40     51507\n",
       "31     33238\n",
       "10     32214\n",
       "5      29722\n",
       "37     27116\n",
       "1      26873\n",
       "13     24579\n",
       "45     24072\n",
       "22     23645\n",
       "18     22456\n",
       "35     18888\n",
       "9      10293\n",
       "27      7925\n",
       "36      7620\n",
       "48      7033\n",
       "39      3889\n",
       "23      3558\n",
       "44      2182\n",
       "26       782\n",
       "50       780\n",
       "28       779\n",
       "6        771\n",
       "49       622\n",
       "Name: Promo2SinceWeek, dtype: int64"
      ]
     },
     "execution_count": 46,
     "metadata": {},
     "output_type": "execute_result"
    }
   ],
   "source": [
    "train_data['Promo2SinceWeek'].value_counts()"
   ]
  },
  {
   "cell_type": "code",
   "execution_count": 47,
   "metadata": {
    "collapsed": true
   },
   "outputs": [],
   "source": [
    "# 处理Promo2相关特征\n",
    "# 先处理train_data\n",
    "train_data['IsPromo2']=0\n",
    "train_data.loc[(train_data['Promo2']==1)&((train_data['PromoInterval1']==train_data['Month'])|(train_data['PromoInterval2']==train_data['Month'])|(train_data['PromoInterval3']==train_data['Month'])|(train_data['PromoInterval4']==train_data['Month']))&(((train_data['Promo2SinceYear']==train_data['Year'])&(train_data['Promo2SinceWeek']<=train_data['WeekOfYear']))|train_data['Promo2SinceYear']<train_data['Year']),'IsPromo2']=1"
   ]
  },
  {
   "cell_type": "code",
   "execution_count": 48,
   "metadata": {},
   "outputs": [
    {
     "data": {
      "text/plain": [
       "0    718900\n",
       "1    125492\n",
       "Name: IsPromo2, dtype: int64"
      ]
     },
     "execution_count": 48,
     "metadata": {},
     "output_type": "execute_result"
    }
   ],
   "source": [
    "train_data['IsPromo2'].value_counts()"
   ]
  },
  {
   "cell_type": "code",
   "execution_count": 49,
   "metadata": {
    "collapsed": true
   },
   "outputs": [],
   "source": [
    "# 计算参加Promo2的时间按周计算，如果Promo2为0就为0\n",
    "train_data['Promo2weeks']=train_data['Promo2']*((train_data['Year']-train_data['Promo2SinceYear'])*54+(train_data['WeekOfYear']-train_data['Promo2SinceWeek']))"
   ]
  },
  {
   "cell_type": "code",
   "execution_count": 50,
   "metadata": {
    "collapsed": true
   },
   "outputs": [],
   "source": [
    "# 如果为负数就设置为0\n",
    "train_data.loc[train_data['Promo2weeks']<0,'Promo2weeks']=0"
   ]
  },
  {
   "cell_type": "code",
   "execution_count": 51,
   "metadata": {},
   "outputs": [
    {
     "data": {
      "text/plain": [
       "0      481933\n",
       "100      1820\n",
       "101      1811\n",
       "96       1779\n",
       "105      1768\n",
       "98       1738\n",
       "95       1715\n",
       "99       1709\n",
       "106      1681\n",
       "97       1677\n",
       "102      1674\n",
       "104      1667\n",
       "103      1644\n",
       "108      1619\n",
       "128      1613\n",
       "107      1608\n",
       "129      1601\n",
       "109      1599\n",
       "110      1598\n",
       "111      1589\n",
       "33       1586\n",
       "38       1586\n",
       "41       1584\n",
       "124      1578\n",
       "133      1566\n",
       "131      1561\n",
       "132      1556\n",
       "119      1549\n",
       "187      1543\n",
       "42       1541\n",
       "        ...  \n",
       "289       431\n",
       "291       430\n",
       "286       427\n",
       "308       425\n",
       "287       425\n",
       "292       414\n",
       "297       408\n",
       "299       407\n",
       "309       403\n",
       "305       402\n",
       "294       398\n",
       "307       389\n",
       "293       384\n",
       "310       379\n",
       "302       373\n",
       "301       373\n",
       "312       258\n",
       "314       258\n",
       "317       252\n",
       "316       251\n",
       "315       251\n",
       "313       251\n",
       "311       251\n",
       "318       217\n",
       "323        42\n",
       "322        42\n",
       "321        42\n",
       "320        42\n",
       "319        42\n",
       "324        35\n",
       "Name: Promo2weeks, Length: 325, dtype: int64"
      ]
     },
     "execution_count": 51,
     "metadata": {},
     "output_type": "execute_result"
    }
   ],
   "source": [
    "train_data['Promo2weeks'].value_counts()"
   ]
  },
  {
   "cell_type": "code",
   "execution_count": 52,
   "metadata": {
    "collapsed": true
   },
   "outputs": [],
   "source": [
    "# 删除Promo2SinceWeek Promo2SinceYear PromoInterval\n",
    "train_data.drop(['Promo2SinceWeek','Promo2SinceYear','PromoInterval1','PromoInterval2','PromoInterval3','PromoInterval4'],axis=1, inplace=True)"
   ]
  },
  {
   "cell_type": "code",
   "execution_count": 53,
   "metadata": {
    "collapsed": true
   },
   "outputs": [],
   "source": [
    "# 在test_data上也按照这个思路处理Promo2相关特征\n",
    "test_data['IsPromo2']=0\n",
    "test_data.loc[(test_data['Promo2']==1)&((test_data['PromoInterval1']==test_data['Month'])|(test_data['PromoInterval2']==test_data['Month'])|(test_data['PromoInterval3']==test_data['Month'])|(test_data['PromoInterval4']==test_data['Month']))&(((test_data['Promo2SinceYear']==test_data['Year'])&(test_data['Promo2SinceWeek']<=test_data['WeekOfYear']))|test_data['Promo2SinceYear']<test_data['Year']),'IsPromo2']=1"
   ]
  },
  {
   "cell_type": "code",
   "execution_count": 54,
   "metadata": {
    "collapsed": true
   },
   "outputs": [],
   "source": [
    "test_data['Promo2weeks']=test_data['Promo2']*((test_data['Year']-test_data['Promo2SinceYear'])*54+(test_data['WeekOfYear']-test_data['Promo2SinceWeek']))"
   ]
  },
  {
   "cell_type": "code",
   "execution_count": 55,
   "metadata": {
    "collapsed": true
   },
   "outputs": [],
   "source": [
    "test_data.loc[test_data['Promo2weeks']<0,'Promo2weeks']=0"
   ]
  },
  {
   "cell_type": "code",
   "execution_count": 56,
   "metadata": {
    "collapsed": true
   },
   "outputs": [],
   "source": [
    "test_data.drop(['Promo2SinceWeek','Promo2SinceYear','PromoInterval1','PromoInterval2','PromoInterval3','PromoInterval4'],axis=1, inplace=True)"
   ]
  },
  {
   "cell_type": "code",
   "execution_count": 57,
   "metadata": {
    "collapsed": true
   },
   "outputs": [],
   "source": [
    "# 对StateHoliday做one_hot\n",
    "# 先对train_data\n",
    "train_data= pd.concat([train_data,pd.get_dummies(train_data['StateHoliday'],prefix='StateHoliday')], axis=1)\n",
    "train_data.drop('StateHoliday',axis=1, inplace=True)"
   ]
  },
  {
   "cell_type": "code",
   "execution_count": 58,
   "metadata": {
    "collapsed": true
   },
   "outputs": [],
   "source": [
    "# 再处理test_data\n",
    "test_data= pd.concat([test_data,pd.get_dummies(test_data['StateHoliday'],prefix='StateHoliday')], axis=1)\n",
    "test_data.drop('StateHoliday',axis=1, inplace=True)"
   ]
  },
  {
   "cell_type": "code",
   "execution_count": 59,
   "metadata": {},
   "outputs": [
    {
     "name": "stdout",
     "output_type": "stream",
     "text": [
      "Index(['Store', 'DayOfWeek', 'Sales', 'Customers', 'Open', 'Promo',\n",
      "       'SchoolHoliday', 'Year', 'Month', 'Day', 'WeekOfYear',\n",
      "       'CompetitionDistance', 'Promo2', 'Assortment_1', 'Assortment_2',\n",
      "       'Assortment_3', 'StoreType_1', 'StoreType_2', 'StoreType_3',\n",
      "       'StoreType_4', 'CompetitionMonths', 'IsPromo2', 'Promo2weeks',\n",
      "       'StateHoliday_0', 'StateHoliday_1', 'StateHoliday_2', 'StateHoliday_3'],\n",
      "      dtype='object')\n",
      "Index(['Store', 'DayOfWeek', 'Open', 'Promo', 'SchoolHoliday', 'Year', 'Month',\n",
      "       'Day', 'WeekOfYear', 'CompetitionDistance', 'Promo2', 'Assortment_1',\n",
      "       'Assortment_2', 'Assortment_3', 'StoreType_1', 'StoreType_2',\n",
      "       'StoreType_3', 'StoreType_4', 'CompetitionMonths', 'IsPromo2',\n",
      "       'Promo2weeks', 'StateHoliday_0', 'StateHoliday_1'],\n",
      "      dtype='object')\n"
     ]
    }
   ],
   "source": [
    "print(train_data.columns)\n",
    "print(test_data.columns)\n"
   ]
  },
  {
   "cell_type": "code",
   "execution_count": 61,
   "metadata": {},
   "outputs": [
    {
     "name": "stdout",
     "output_type": "stream",
     "text": [
      "0    844247\n",
      "1       145\n",
      "Name: StateHoliday_2, dtype: int64\n"
     ]
    }
   ],
   "source": [
    "print(train_data['StateHoliday_2'].value_counts())"
   ]
  },
  {
   "cell_type": "code",
   "execution_count": 64,
   "metadata": {
    "collapsed": true
   },
   "outputs": [],
   "source": [
    "# 补充test_data相对于train_data少的两个特征\n",
    "test_data['StateHoliday_2']=0\n",
    "test_data['StateHoliday_3']=0"
   ]
  },
  {
   "cell_type": "markdown",
   "metadata": {},
   "source": [
    "#### 建模准备"
   ]
  },
  {
   "cell_type": "code",
   "execution_count": 68,
   "metadata": {
    "collapsed": true
   },
   "outputs": [],
   "source": [
    "# Store字段转变为object\n",
    "# train_data['Store']=train_data['Store'].astype(object)\n",
    "# test_data['Store']=test_data['Store'].astype(object)"
   ]
  },
  {
   "cell_type": "code",
   "execution_count": 62,
   "metadata": {},
   "outputs": [],
   "source": [
    "# 确认训练特征和比对label\n",
    "train_target=train_data['Sales']\n",
    "train_data.drop(['Customers','Sales'],axis=1,inplace=True)"
   ]
  },
  {
   "cell_type": "code",
   "execution_count": 63,
   "metadata": {
    "collapsed": true
   },
   "outputs": [],
   "source": [
    "X_train, X_test, y_train, y_test =train_test_split(train_data,train_target, test_size=0.1, random_state=0)\n",
    "dtrain = xgb.DMatrix(X_train, np.log1p(y_train))\n",
    "dvalid = xgb.DMatrix(X_test, np.log1p(y_test))"
   ]
  },
  {
   "cell_type": "code",
   "execution_count": 65,
   "metadata": {
    "collapsed": true
   },
   "outputs": [],
   "source": [
    "# 建立测试函数\n",
    "def ToWeight(y):\n",
    "    w = np.zeros(y.shape, dtype=float)\n",
    "    ind = y != 0\n",
    "    w[ind] = 1./(y[ind]**2)\n",
    "    return w\n",
    "\n",
    "\n",
    "def rmspe(yhat, y):\n",
    "    w = ToWeight(y)\n",
    "    rmspe = np.sqrt(np.mean( w * (y - yhat)**2 ))\n",
    "    return rmspe\n",
    "\n",
    "\n",
    "def rmspe_xg(yhat, y):\n",
    "    # y = y.values\n",
    "    y = y.get_label()\n",
    "    y = np.exp(y) - 1\n",
    "    yhat = np.exp(yhat) - 1\n",
    "    w = ToWeight(y)\n",
    "    rmspe = np.sqrt(np.mean(w * (y - yhat)**2))\n",
    "    return \"rmspe\", rmspe"
   ]
  },
  {
   "cell_type": "code",
   "execution_count": 66,
   "metadata": {
    "collapsed": true
   },
   "outputs": [],
   "source": [
    "watchlist = [(dtrain, 'train'), (dvalid, 'eval')]\n",
    "params = {\"objective\": \"reg:linear\",\n",
    "          \"eta\": 0.3,\n",
    "          \"max_depth\": 8,\n",
    "          \"subsample\": 0.9,\n",
    "          \"colsample_bytree\": 0.7,\n",
    "          \"silent\": 1,\n",
    "          \"seed\": 2018\n",
    "          }\n",
    "num_trees = 1000"
   ]
  },
  {
   "cell_type": "code",
   "execution_count": 67,
   "metadata": {},
   "outputs": [
    {
     "name": "stdout",
     "output_type": "stream",
     "text": [
      "[0]\ttrain-rmse:5.79462\teval-rmse:5.7941\ttrain-rmspe:0.996795\teval-rmspe:0.996778\n",
      "Multiple eval metrics have been passed: 'eval-rmspe' will be used for early stopping.\n",
      "\n",
      "Will train until eval-rmspe hasn't improved in 100 rounds.\n",
      "[1]\ttrain-rmse:4.06422\teval-rmse:4.06407\ttrain-rmspe:0.981412\teval-rmspe:0.981403\n",
      "[2]\ttrain-rmse:2.85646\teval-rmse:2.8566\ttrain-rmspe:0.93765\teval-rmspe:0.937647\n",
      "[3]\ttrain-rmse:2.01493\teval-rmse:2.01517\ttrain-rmspe:0.855646\teval-rmspe:0.855538\n",
      "[4]\ttrain-rmse:1.42998\teval-rmse:1.43064\ttrain-rmspe:0.742843\teval-rmspe:0.742239\n",
      "[5]\ttrain-rmse:1.02844\teval-rmse:1.02929\ttrain-rmspe:0.619013\teval-rmspe:0.616942\n",
      "[6]\ttrain-rmse:0.755889\teval-rmse:0.757125\ttrain-rmspe:0.506454\teval-rmspe:0.501559\n",
      "[7]\ttrain-rmse:0.575749\teval-rmse:0.577549\ttrain-rmspe:0.420697\teval-rmspe:0.411372\n",
      "[8]\ttrain-rmse:0.462474\teval-rmse:0.464597\ttrain-rmspe:0.366926\teval-rmspe:0.352737\n",
      "[9]\ttrain-rmse:0.391719\teval-rmse:0.394248\ttrain-rmspe:0.339669\teval-rmspe:0.320711\n",
      "[10]\ttrain-rmse:0.349002\teval-rmse:0.351981\ttrain-rmspe:0.327984\teval-rmspe:0.306039\n",
      "[11]\ttrain-rmse:0.326791\teval-rmse:0.329972\ttrain-rmspe:0.328354\teval-rmspe:0.304223\n",
      "[12]\ttrain-rmse:0.313888\teval-rmse:0.317128\ttrain-rmspe:0.331677\teval-rmspe:0.305906\n",
      "[13]\ttrain-rmse:0.307229\teval-rmse:0.310545\ttrain-rmspe:0.335664\teval-rmspe:0.309276\n",
      "[14]\ttrain-rmse:0.300605\teval-rmse:0.30415\ttrain-rmspe:0.336358\teval-rmspe:0.309184\n",
      "[15]\ttrain-rmse:0.289263\teval-rmse:0.293063\ttrain-rmspe:0.330033\teval-rmspe:0.301556\n",
      "[16]\ttrain-rmse:0.287255\teval-rmse:0.291158\ttrain-rmspe:0.331866\teval-rmspe:0.303074\n",
      "[17]\ttrain-rmse:0.284851\teval-rmse:0.288747\ttrain-rmspe:0.333045\teval-rmspe:0.303148\n",
      "[18]\ttrain-rmse:0.280641\teval-rmse:0.284773\ttrain-rmspe:0.330587\teval-rmspe:0.300564\n",
      "[19]\ttrain-rmse:0.271218\teval-rmse:0.275804\ttrain-rmspe:0.32115\teval-rmspe:0.290512\n",
      "[20]\ttrain-rmse:0.26255\teval-rmse:0.267523\ttrain-rmspe:0.312677\teval-rmspe:0.281819\n",
      "[21]\ttrain-rmse:0.260481\teval-rmse:0.265607\ttrain-rmspe:0.311049\teval-rmspe:0.280134\n",
      "[22]\ttrain-rmse:0.259324\teval-rmse:0.264587\ttrain-rmspe:0.309935\teval-rmspe:0.279024\n",
      "[23]\ttrain-rmse:0.254692\teval-rmse:0.260124\ttrain-rmspe:0.305196\teval-rmspe:0.273807\n",
      "[24]\ttrain-rmse:0.252539\teval-rmse:0.258112\ttrain-rmspe:0.302404\teval-rmspe:0.271535\n",
      "[25]\ttrain-rmse:0.249175\teval-rmse:0.254834\ttrain-rmspe:0.298859\teval-rmspe:0.267691\n",
      "[26]\ttrain-rmse:0.240043\teval-rmse:0.246314\ttrain-rmspe:0.287401\teval-rmspe:0.255346\n",
      "[27]\ttrain-rmse:0.236724\teval-rmse:0.243183\ttrain-rmspe:0.284198\teval-rmspe:0.251833\n",
      "[28]\ttrain-rmse:0.232661\teval-rmse:0.239125\ttrain-rmspe:0.279885\teval-rmspe:0.246444\n",
      "[29]\ttrain-rmse:0.226623\teval-rmse:0.233168\ttrain-rmspe:0.27392\teval-rmspe:0.239653\n",
      "[30]\ttrain-rmse:0.225396\teval-rmse:0.231972\ttrain-rmspe:0.27325\teval-rmspe:0.238176\n",
      "[31]\ttrain-rmse:0.223995\teval-rmse:0.230979\ttrain-rmspe:0.272035\teval-rmspe:0.236904\n",
      "[32]\ttrain-rmse:0.219544\teval-rmse:0.226866\ttrain-rmspe:0.267336\teval-rmspe:0.231904\n",
      "[33]\ttrain-rmse:0.217257\teval-rmse:0.224661\ttrain-rmspe:0.264643\teval-rmspe:0.229167\n",
      "[34]\ttrain-rmse:0.214965\teval-rmse:0.222511\ttrain-rmspe:0.263316\teval-rmspe:0.227003\n",
      "[35]\ttrain-rmse:0.21372\teval-rmse:0.221336\ttrain-rmspe:0.262257\teval-rmspe:0.225444\n",
      "[36]\ttrain-rmse:0.210637\teval-rmse:0.218445\ttrain-rmspe:0.259796\teval-rmspe:0.221877\n",
      "[37]\ttrain-rmse:0.208491\teval-rmse:0.216576\ttrain-rmspe:0.257449\teval-rmspe:0.219368\n",
      "[38]\ttrain-rmse:0.207316\teval-rmse:0.215489\ttrain-rmspe:0.256405\teval-rmspe:0.218105\n",
      "[39]\ttrain-rmse:0.202987\teval-rmse:0.211523\ttrain-rmspe:0.253339\teval-rmspe:0.213458\n",
      "[40]\ttrain-rmse:0.198978\teval-rmse:0.207599\ttrain-rmspe:0.248515\teval-rmspe:0.208618\n",
      "[41]\ttrain-rmse:0.197562\teval-rmse:0.206272\ttrain-rmspe:0.246595\teval-rmspe:0.206956\n",
      "[42]\ttrain-rmse:0.194644\teval-rmse:0.203524\ttrain-rmspe:0.243225\teval-rmspe:0.203154\n",
      "[43]\ttrain-rmse:0.192601\teval-rmse:0.201644\ttrain-rmspe:0.241319\teval-rmspe:0.200991\n",
      "[44]\ttrain-rmse:0.191839\teval-rmse:0.201122\ttrain-rmspe:0.24051\teval-rmspe:0.200197\n",
      "[45]\ttrain-rmse:0.18794\teval-rmse:0.197456\ttrain-rmspe:0.236708\teval-rmspe:0.195787\n",
      "[46]\ttrain-rmse:0.186044\teval-rmse:0.195711\ttrain-rmspe:0.232456\teval-rmspe:0.192905\n",
      "[47]\ttrain-rmse:0.184712\teval-rmse:0.194522\ttrain-rmspe:0.231275\teval-rmspe:0.191612\n",
      "[48]\ttrain-rmse:0.184059\teval-rmse:0.193976\ttrain-rmspe:0.230764\teval-rmspe:0.190966\n",
      "[49]\ttrain-rmse:0.183492\teval-rmse:0.193454\ttrain-rmspe:0.229747\teval-rmspe:0.190362\n",
      "[50]\ttrain-rmse:0.181732\teval-rmse:0.191819\ttrain-rmspe:0.228037\teval-rmspe:0.188423\n",
      "[51]\ttrain-rmse:0.181124\teval-rmse:0.191357\ttrain-rmspe:0.227568\teval-rmspe:0.187756\n",
      "[52]\ttrain-rmse:0.178955\teval-rmse:0.189421\ttrain-rmspe:0.225583\teval-rmspe:0.185511\n",
      "[53]\ttrain-rmse:0.177257\teval-rmse:0.188029\ttrain-rmspe:0.224212\teval-rmspe:0.18398\n",
      "[54]\ttrain-rmse:0.175642\teval-rmse:0.186583\ttrain-rmspe:0.222522\teval-rmspe:0.182268\n",
      "[55]\ttrain-rmse:0.175209\teval-rmse:0.186129\ttrain-rmspe:0.222155\teval-rmspe:0.181869\n",
      "[56]\ttrain-rmse:0.174987\teval-rmse:0.185941\ttrain-rmspe:0.222092\teval-rmspe:0.181679\n",
      "[57]\ttrain-rmse:0.17306\teval-rmse:0.184307\ttrain-rmspe:0.220151\teval-rmspe:0.179677\n",
      "[58]\ttrain-rmse:0.17262\teval-rmse:0.183924\ttrain-rmspe:0.220002\teval-rmspe:0.17917\n",
      "[59]\ttrain-rmse:0.172243\teval-rmse:0.183569\ttrain-rmspe:0.219516\teval-rmspe:0.178594\n",
      "[60]\ttrain-rmse:0.171243\teval-rmse:0.182683\ttrain-rmspe:0.218149\teval-rmspe:0.177418\n",
      "[61]\ttrain-rmse:0.169914\teval-rmse:0.18153\ttrain-rmspe:0.216909\teval-rmspe:0.175938\n",
      "[62]\ttrain-rmse:0.169681\teval-rmse:0.181334\ttrain-rmspe:0.217025\teval-rmspe:0.175723\n",
      "[63]\ttrain-rmse:0.168204\teval-rmse:0.180014\ttrain-rmspe:0.215685\teval-rmspe:0.174112\n",
      "[64]\ttrain-rmse:0.167602\teval-rmse:0.179623\ttrain-rmspe:0.215271\teval-rmspe:0.173731\n",
      "[65]\ttrain-rmse:0.167287\teval-rmse:0.179314\ttrain-rmspe:0.214737\teval-rmspe:0.173297\n",
      "[66]\ttrain-rmse:0.164666\teval-rmse:0.176876\ttrain-rmspe:0.212551\teval-rmspe:0.170663\n",
      "[67]\ttrain-rmse:0.163822\teval-rmse:0.176147\ttrain-rmspe:0.211358\teval-rmspe:0.169758\n",
      "[68]\ttrain-rmse:0.162512\teval-rmse:0.174949\ttrain-rmspe:0.21018\teval-rmspe:0.168377\n",
      "[69]\ttrain-rmse:0.161904\teval-rmse:0.174505\ttrain-rmspe:0.209737\teval-rmspe:0.167853\n",
      "[70]\ttrain-rmse:0.160641\teval-rmse:0.173342\ttrain-rmspe:0.20878\teval-rmspe:0.166704\n",
      "[71]\ttrain-rmse:0.159369\teval-rmse:0.172341\ttrain-rmspe:0.205537\teval-rmspe:0.165564\n",
      "[72]\ttrain-rmse:0.158899\teval-rmse:0.171597\ttrain-rmspe:0.205147\teval-rmspe:0.165174\n",
      "[73]\ttrain-rmse:0.157427\teval-rmse:0.170299\ttrain-rmspe:0.203981\teval-rmspe:0.16374\n",
      "[74]\ttrain-rmse:0.156658\teval-rmse:0.169622\ttrain-rmspe:0.203309\teval-rmspe:0.162856\n",
      "[75]\ttrain-rmse:0.156366\teval-rmse:0.169339\ttrain-rmspe:0.203101\teval-rmspe:0.162556\n",
      "[76]\ttrain-rmse:0.155727\teval-rmse:0.168814\ttrain-rmspe:0.202672\teval-rmspe:0.161925\n",
      "[77]\ttrain-rmse:0.155447\teval-rmse:0.168553\ttrain-rmspe:0.202401\teval-rmspe:0.161647\n",
      "[78]\ttrain-rmse:0.153296\teval-rmse:0.166603\ttrain-rmspe:0.199941\teval-rmspe:0.159426\n",
      "[79]\ttrain-rmse:0.152518\teval-rmse:0.165854\ttrain-rmspe:0.197893\teval-rmspe:0.158502\n",
      "[80]\ttrain-rmse:0.15213\teval-rmse:0.165533\ttrain-rmspe:0.197571\teval-rmspe:0.158123\n",
      "[81]\ttrain-rmse:0.151383\teval-rmse:0.164904\ttrain-rmspe:0.196625\teval-rmspe:0.157341\n",
      "[82]\ttrain-rmse:0.150494\teval-rmse:0.164185\ttrain-rmspe:0.19582\teval-rmspe:0.156419\n",
      "[83]\ttrain-rmse:0.150279\teval-rmse:0.164001\ttrain-rmspe:0.195633\teval-rmspe:0.156206\n",
      "[84]\ttrain-rmse:0.149532\teval-rmse:0.163338\ttrain-rmspe:0.194841\teval-rmspe:0.155372\n",
      "[85]\ttrain-rmse:0.149248\teval-rmse:0.16309\ttrain-rmspe:0.194593\teval-rmspe:0.155084\n",
      "[86]\ttrain-rmse:0.148935\teval-rmse:0.162845\ttrain-rmspe:0.194703\teval-rmspe:0.154827\n",
      "[87]\ttrain-rmse:0.148376\teval-rmse:0.162368\ttrain-rmspe:0.192948\teval-rmspe:0.154275\n",
      "[88]\ttrain-rmse:0.14827\teval-rmse:0.162313\ttrain-rmspe:0.192521\teval-rmspe:0.154242\n",
      "[89]\ttrain-rmse:0.147805\teval-rmse:0.161885\ttrain-rmspe:0.192248\teval-rmspe:0.15362\n",
      "[90]\ttrain-rmse:0.146998\teval-rmse:0.161239\ttrain-rmspe:0.191554\teval-rmspe:0.152825\n",
      "[91]\ttrain-rmse:0.146131\teval-rmse:0.16043\ttrain-rmspe:0.190517\teval-rmspe:0.151836\n",
      "[92]\ttrain-rmse:0.145129\teval-rmse:0.159558\ttrain-rmspe:0.189495\teval-rmspe:0.150804\n",
      "[93]\ttrain-rmse:0.144545\teval-rmse:0.159041\ttrain-rmspe:0.188922\teval-rmspe:0.150033\n",
      "[94]\ttrain-rmse:0.144353\teval-rmse:0.15889\ttrain-rmspe:0.188757\teval-rmspe:0.149902\n",
      "[95]\ttrain-rmse:0.144069\teval-rmse:0.158645\ttrain-rmspe:0.18835\teval-rmspe:0.149565\n"
     ]
    },
    {
     "name": "stdout",
     "output_type": "stream",
     "text": [
      "[96]\ttrain-rmse:0.143587\teval-rmse:0.158228\ttrain-rmspe:0.187691\teval-rmspe:0.149028\n",
      "[97]\ttrain-rmse:0.143022\teval-rmse:0.157339\ttrain-rmspe:0.187401\teval-rmspe:0.148707\n",
      "[98]\ttrain-rmse:0.142723\teval-rmse:0.157075\ttrain-rmspe:0.187076\teval-rmspe:0.148356\n",
      "[99]\ttrain-rmse:0.142361\teval-rmse:0.156771\ttrain-rmspe:0.187683\teval-rmspe:0.14801\n",
      "[100]\ttrain-rmse:0.141715\teval-rmse:0.156214\ttrain-rmspe:0.18706\teval-rmspe:0.147337\n",
      "[101]\ttrain-rmse:0.141066\teval-rmse:0.155618\ttrain-rmspe:0.18648\teval-rmspe:0.146639\n",
      "[102]\ttrain-rmse:0.140721\teval-rmse:0.155305\ttrain-rmspe:0.186121\teval-rmspe:0.146296\n",
      "[103]\ttrain-rmse:0.14026\teval-rmse:0.154905\ttrain-rmspe:0.185748\teval-rmspe:0.145816\n",
      "[104]\ttrain-rmse:0.139568\teval-rmse:0.154442\ttrain-rmspe:0.185346\teval-rmspe:0.145312\n",
      "[105]\ttrain-rmse:0.139277\teval-rmse:0.154179\ttrain-rmspe:0.185274\teval-rmspe:0.145007\n",
      "[106]\ttrain-rmse:0.138948\teval-rmse:0.154006\ttrain-rmspe:0.185076\teval-rmspe:0.144784\n",
      "[107]\ttrain-rmse:0.138363\teval-rmse:0.153493\ttrain-rmspe:0.184594\teval-rmspe:0.144183\n",
      "[108]\ttrain-rmse:0.138194\teval-rmse:0.153408\ttrain-rmspe:0.184477\teval-rmspe:0.143975\n",
      "[109]\ttrain-rmse:0.138072\teval-rmse:0.153309\ttrain-rmspe:0.18428\teval-rmspe:0.143888\n",
      "[110]\ttrain-rmse:0.137626\teval-rmse:0.152935\ttrain-rmspe:0.183832\teval-rmspe:0.143404\n",
      "[111]\ttrain-rmse:0.137524\teval-rmse:0.152849\ttrain-rmspe:0.183732\teval-rmspe:0.143296\n",
      "[112]\ttrain-rmse:0.137089\teval-rmse:0.152759\ttrain-rmspe:0.183427\teval-rmspe:0.142945\n",
      "[113]\ttrain-rmse:0.136541\teval-rmse:0.152287\ttrain-rmspe:0.182938\teval-rmspe:0.142379\n",
      "[114]\ttrain-rmse:0.135929\teval-rmse:0.151804\ttrain-rmspe:0.182317\teval-rmspe:0.141835\n",
      "[115]\ttrain-rmse:0.13545\teval-rmse:0.151418\ttrain-rmspe:0.181761\teval-rmspe:0.141407\n",
      "[116]\ttrain-rmse:0.135178\teval-rmse:0.151189\ttrain-rmspe:0.181521\teval-rmspe:0.141182\n",
      "[117]\ttrain-rmse:0.134644\teval-rmse:0.150774\ttrain-rmspe:0.181025\teval-rmspe:0.140697\n",
      "[118]\ttrain-rmse:0.134526\teval-rmse:0.150688\ttrain-rmspe:0.180768\teval-rmspe:0.140595\n",
      "[119]\ttrain-rmse:0.134293\teval-rmse:0.150532\ttrain-rmspe:0.180597\teval-rmspe:0.140392\n",
      "[120]\ttrain-rmse:0.133546\teval-rmse:0.149862\ttrain-rmspe:0.17997\teval-rmspe:0.139607\n",
      "[121]\ttrain-rmse:0.13313\teval-rmse:0.14959\ttrain-rmspe:0.179569\teval-rmspe:0.139187\n",
      "[122]\ttrain-rmse:0.132707\teval-rmse:0.149223\ttrain-rmspe:0.179233\teval-rmspe:0.138751\n",
      "[123]\ttrain-rmse:0.132132\teval-rmse:0.14881\ttrain-rmspe:0.178845\teval-rmspe:0.138291\n",
      "[124]\ttrain-rmse:0.131848\teval-rmse:0.148557\ttrain-rmspe:0.178371\teval-rmspe:0.137911\n",
      "[125]\ttrain-rmse:0.13172\teval-rmse:0.148493\ttrain-rmspe:0.178287\teval-rmspe:0.137805\n",
      "[126]\ttrain-rmse:0.131553\teval-rmse:0.148403\ttrain-rmspe:0.178177\teval-rmspe:0.137691\n",
      "[127]\ttrain-rmse:0.131237\teval-rmse:0.148205\ttrain-rmspe:0.177911\teval-rmspe:0.137367\n",
      "[128]\ttrain-rmse:0.130959\teval-rmse:0.147977\ttrain-rmspe:0.177609\teval-rmspe:0.137083\n",
      "[129]\ttrain-rmse:0.130768\teval-rmse:0.147811\ttrain-rmspe:0.177415\teval-rmspe:0.136874\n",
      "[130]\ttrain-rmse:0.130218\teval-rmse:0.147489\ttrain-rmspe:0.177139\teval-rmspe:0.136493\n",
      "[131]\ttrain-rmse:0.130051\teval-rmse:0.147368\ttrain-rmspe:0.177006\teval-rmspe:0.13635\n",
      "[132]\ttrain-rmse:0.129749\teval-rmse:0.146592\ttrain-rmspe:0.170791\teval-rmspe:0.136174\n",
      "[133]\ttrain-rmse:0.129486\teval-rmse:0.146354\ttrain-rmspe:0.170579\teval-rmspe:0.135932\n",
      "[134]\ttrain-rmse:0.129403\teval-rmse:0.146271\ttrain-rmspe:0.17051\teval-rmspe:0.135834\n",
      "[135]\ttrain-rmse:0.129151\teval-rmse:0.145874\ttrain-rmspe:0.170344\teval-rmspe:0.135625\n",
      "[136]\ttrain-rmse:0.128646\teval-rmse:0.145734\ttrain-rmspe:0.170192\teval-rmspe:0.135449\n",
      "[137]\ttrain-rmse:0.128225\teval-rmse:0.145414\ttrain-rmspe:0.169873\teval-rmspe:0.135097\n",
      "[138]\ttrain-rmse:0.127676\teval-rmse:0.145149\ttrain-rmspe:0.169568\teval-rmspe:0.134762\n",
      "[139]\ttrain-rmse:0.127399\teval-rmse:0.144932\ttrain-rmspe:0.169252\teval-rmspe:0.134386\n",
      "[140]\ttrain-rmse:0.127309\teval-rmse:0.144867\ttrain-rmspe:0.16906\teval-rmspe:0.13431\n",
      "[141]\ttrain-rmse:0.126909\teval-rmse:0.144649\ttrain-rmspe:0.168783\teval-rmspe:0.134025\n",
      "[142]\ttrain-rmse:0.126654\teval-rmse:0.144448\ttrain-rmspe:0.16863\teval-rmspe:0.133779\n",
      "[143]\ttrain-rmse:0.126389\teval-rmse:0.144336\ttrain-rmspe:0.168471\teval-rmspe:0.133634\n",
      "[144]\ttrain-rmse:0.126306\teval-rmse:0.144285\ttrain-rmspe:0.16323\teval-rmspe:0.133596\n",
      "[145]\ttrain-rmse:0.126052\teval-rmse:0.144128\ttrain-rmspe:0.162698\teval-rmspe:0.133393\n",
      "[146]\ttrain-rmse:0.125771\teval-rmse:0.143952\ttrain-rmspe:0.162501\teval-rmspe:0.133189\n",
      "[147]\ttrain-rmse:0.125673\teval-rmse:0.143888\ttrain-rmspe:0.162428\teval-rmspe:0.133113\n",
      "[148]\ttrain-rmse:0.125443\teval-rmse:0.143773\ttrain-rmspe:0.162286\teval-rmspe:0.132972\n",
      "[149]\ttrain-rmse:0.125275\teval-rmse:0.143644\ttrain-rmspe:0.16211\teval-rmspe:0.132821\n",
      "[150]\ttrain-rmse:0.124994\teval-rmse:0.14351\ttrain-rmspe:0.161969\teval-rmspe:0.132699\n",
      "[151]\ttrain-rmse:0.124706\teval-rmse:0.143285\ttrain-rmspe:0.161755\teval-rmspe:0.132457\n",
      "[152]\ttrain-rmse:0.124585\teval-rmse:0.143265\ttrain-rmspe:0.161655\teval-rmspe:0.132377\n",
      "[153]\ttrain-rmse:0.124261\teval-rmse:0.143107\ttrain-rmspe:0.161404\teval-rmspe:0.132147\n",
      "[154]\ttrain-rmse:0.12411\teval-rmse:0.142978\ttrain-rmspe:0.161271\teval-rmspe:0.132003\n",
      "[155]\ttrain-rmse:0.123906\teval-rmse:0.142826\ttrain-rmspe:0.160699\teval-rmspe:0.131813\n",
      "[156]\ttrain-rmse:0.123809\teval-rmse:0.142737\ttrain-rmspe:0.160603\teval-rmspe:0.131706\n",
      "[157]\ttrain-rmse:0.123651\teval-rmse:0.142562\ttrain-rmspe:0.16047\teval-rmspe:0.131539\n",
      "[158]\ttrain-rmse:0.1234\teval-rmse:0.142413\ttrain-rmspe:0.160318\teval-rmspe:0.131363\n",
      "[159]\ttrain-rmse:0.123206\teval-rmse:0.141517\ttrain-rmspe:0.160172\teval-rmspe:0.13126\n",
      "[160]\ttrain-rmse:0.122767\teval-rmse:0.141192\ttrain-rmspe:0.15979\teval-rmspe:0.130905\n",
      "[161]\ttrain-rmse:0.122448\teval-rmse:0.140924\ttrain-rmspe:0.159535\teval-rmspe:0.130611\n",
      "[162]\ttrain-rmse:0.122394\teval-rmse:0.140896\ttrain-rmspe:0.15949\teval-rmspe:0.130578\n",
      "[163]\ttrain-rmse:0.122018\teval-rmse:0.14054\ttrain-rmspe:0.159034\teval-rmspe:0.129978\n",
      "[164]\ttrain-rmse:0.121895\teval-rmse:0.140482\ttrain-rmspe:0.158886\teval-rmspe:0.129813\n",
      "[165]\ttrain-rmse:0.121693\teval-rmse:0.14031\ttrain-rmspe:0.158516\teval-rmspe:0.129618\n",
      "[166]\ttrain-rmse:0.121579\teval-rmse:0.140227\ttrain-rmspe:0.158416\teval-rmspe:0.129573\n",
      "[167]\ttrain-rmse:0.121331\teval-rmse:0.140038\ttrain-rmspe:0.158211\teval-rmspe:0.129399\n",
      "[168]\ttrain-rmse:0.12115\teval-rmse:0.139914\ttrain-rmspe:0.158099\teval-rmspe:0.129254\n",
      "[169]\ttrain-rmse:0.120938\teval-rmse:0.139821\ttrain-rmspe:0.15795\teval-rmspe:0.129082\n",
      "[170]\ttrain-rmse:0.120846\teval-rmse:0.139763\ttrain-rmspe:0.15788\teval-rmspe:0.12905\n",
      "[171]\ttrain-rmse:0.120586\teval-rmse:0.13957\ttrain-rmspe:0.157644\teval-rmspe:0.128817\n",
      "[172]\ttrain-rmse:0.120286\teval-rmse:0.139309\ttrain-rmspe:0.157384\teval-rmspe:0.128487\n",
      "[173]\ttrain-rmse:0.119993\teval-rmse:0.139052\ttrain-rmspe:0.157174\teval-rmspe:0.128222\n",
      "[174]\ttrain-rmse:0.119907\teval-rmse:0.138632\ttrain-rmspe:0.157126\teval-rmspe:0.128179\n",
      "[175]\ttrain-rmse:0.11979\teval-rmse:0.138567\ttrain-rmspe:0.15704\teval-rmspe:0.128063\n",
      "[176]\ttrain-rmse:0.119675\teval-rmse:0.138474\ttrain-rmspe:0.156917\teval-rmspe:0.127948\n",
      "[177]\ttrain-rmse:0.119538\teval-rmse:0.138389\ttrain-rmspe:0.156804\teval-rmspe:0.127855\n",
      "[178]\ttrain-rmse:0.119116\teval-rmse:0.13819\ttrain-rmspe:0.156567\teval-rmspe:0.1276\n",
      "[179]\ttrain-rmse:0.118981\teval-rmse:0.138138\ttrain-rmspe:0.15586\teval-rmspe:0.127506\n",
      "[180]\ttrain-rmse:0.118686\teval-rmse:0.137808\ttrain-rmspe:0.155751\teval-rmspe:0.127422\n",
      "[181]\ttrain-rmse:0.118494\teval-rmse:0.137651\ttrain-rmspe:0.155271\teval-rmspe:0.12724\n",
      "[182]\ttrain-rmse:0.118389\teval-rmse:0.137585\ttrain-rmspe:0.155157\teval-rmspe:0.12715\n",
      "[183]\ttrain-rmse:0.118211\teval-rmse:0.137487\ttrain-rmspe:0.154804\teval-rmspe:0.126876\n",
      "[184]\ttrain-rmse:0.118066\teval-rmse:0.137374\ttrain-rmspe:0.155969\teval-rmspe:0.126759\n",
      "[185]\ttrain-rmse:0.11785\teval-rmse:0.13725\ttrain-rmspe:0.155837\teval-rmspe:0.126633\n",
      "[186]\ttrain-rmse:0.117556\teval-rmse:0.137185\ttrain-rmspe:0.15571\teval-rmspe:0.126578\n",
      "[187]\ttrain-rmse:0.117286\teval-rmse:0.136955\ttrain-rmspe:0.155478\teval-rmspe:0.126285\n",
      "[188]\ttrain-rmse:0.117055\teval-rmse:0.136782\ttrain-rmspe:0.1553\teval-rmspe:0.126039\n",
      "[189]\ttrain-rmse:0.116832\teval-rmse:0.136605\ttrain-rmspe:0.155109\teval-rmspe:0.12584\n",
      "[190]\ttrain-rmse:0.116727\teval-rmse:0.136517\ttrain-rmspe:0.154903\teval-rmspe:0.125755\n",
      "[191]\ttrain-rmse:0.11661\teval-rmse:0.136428\ttrain-rmspe:0.154786\teval-rmspe:0.125651\n"
     ]
    },
    {
     "name": "stdout",
     "output_type": "stream",
     "text": [
      "[192]\ttrain-rmse:0.116491\teval-rmse:0.136341\ttrain-rmspe:0.154709\teval-rmspe:0.125566\n",
      "[193]\ttrain-rmse:0.116351\teval-rmse:0.136103\ttrain-rmspe:0.154607\teval-rmspe:0.125472\n",
      "[194]\ttrain-rmse:0.116147\teval-rmse:0.135968\ttrain-rmspe:0.154423\teval-rmspe:0.125304\n",
      "[195]\ttrain-rmse:0.11597\teval-rmse:0.135873\ttrain-rmspe:0.1543\teval-rmspe:0.125195\n",
      "[196]\ttrain-rmse:0.115797\teval-rmse:0.135821\ttrain-rmspe:0.153715\teval-rmspe:0.125149\n",
      "[197]\ttrain-rmse:0.115532\teval-rmse:0.135649\ttrain-rmspe:0.153568\teval-rmspe:0.124996\n",
      "[198]\ttrain-rmse:0.115389\teval-rmse:0.135558\ttrain-rmspe:0.153395\teval-rmspe:0.12494\n",
      "[199]\ttrain-rmse:0.115149\teval-rmse:0.135435\ttrain-rmspe:0.153269\teval-rmspe:0.124827\n",
      "[200]\ttrain-rmse:0.114901\teval-rmse:0.1353\ttrain-rmspe:0.153135\teval-rmspe:0.124721\n",
      "[201]\ttrain-rmse:0.114798\teval-rmse:0.135269\ttrain-rmspe:0.153073\teval-rmspe:0.124577\n",
      "[202]\ttrain-rmse:0.114755\teval-rmse:0.135224\ttrain-rmspe:0.153049\teval-rmspe:0.124557\n",
      "[203]\ttrain-rmse:0.114671\teval-rmse:0.135178\ttrain-rmspe:0.152929\teval-rmspe:0.124509\n",
      "[204]\ttrain-rmse:0.114539\teval-rmse:0.135073\ttrain-rmspe:0.152783\teval-rmspe:0.124375\n",
      "[205]\ttrain-rmse:0.114351\teval-rmse:0.134911\ttrain-rmspe:0.152561\teval-rmspe:0.124098\n",
      "[206]\ttrain-rmse:0.114222\teval-rmse:0.134818\ttrain-rmspe:0.15246\teval-rmspe:0.123991\n",
      "[207]\ttrain-rmse:0.114136\teval-rmse:0.134775\ttrain-rmspe:0.15243\teval-rmspe:0.123967\n",
      "[208]\ttrain-rmse:0.114001\teval-rmse:0.134701\ttrain-rmspe:0.152371\teval-rmspe:0.123884\n",
      "[209]\ttrain-rmse:0.113912\teval-rmse:0.134523\ttrain-rmspe:0.1518\teval-rmspe:0.123818\n",
      "[210]\ttrain-rmse:0.113828\teval-rmse:0.134458\ttrain-rmspe:0.151727\teval-rmspe:0.123731\n",
      "[211]\ttrain-rmse:0.113656\teval-rmse:0.134342\ttrain-rmspe:0.150337\teval-rmspe:0.123545\n",
      "[212]\ttrain-rmse:0.11351\teval-rmse:0.134222\ttrain-rmspe:0.150252\teval-rmspe:0.123383\n",
      "[213]\ttrain-rmse:0.11321\teval-rmse:0.134087\ttrain-rmspe:0.150095\teval-rmspe:0.123227\n",
      "[214]\ttrain-rmse:0.113083\teval-rmse:0.133978\ttrain-rmspe:0.14997\teval-rmspe:0.12305\n",
      "[215]\ttrain-rmse:0.112843\teval-rmse:0.133786\ttrain-rmspe:0.149711\teval-rmspe:0.122829\n",
      "[216]\ttrain-rmse:0.112758\teval-rmse:0.133647\ttrain-rmspe:0.149673\teval-rmspe:0.122783\n",
      "[217]\ttrain-rmse:0.112663\teval-rmse:0.133586\ttrain-rmspe:0.149586\teval-rmspe:0.122702\n",
      "[218]\ttrain-rmse:0.112497\teval-rmse:0.133448\ttrain-rmspe:0.149317\teval-rmspe:0.122514\n",
      "[219]\ttrain-rmse:0.112084\teval-rmse:0.133156\ttrain-rmspe:0.148917\teval-rmspe:0.122183\n",
      "[220]\ttrain-rmse:0.11199\teval-rmse:0.133089\ttrain-rmspe:0.148871\teval-rmspe:0.122105\n",
      "[221]\ttrain-rmse:0.11193\teval-rmse:0.133051\ttrain-rmspe:0.148837\teval-rmspe:0.12206\n",
      "[222]\ttrain-rmse:0.111749\teval-rmse:0.13291\ttrain-rmspe:0.148661\teval-rmspe:0.121884\n",
      "[223]\ttrain-rmse:0.111581\teval-rmse:0.132829\ttrain-rmspe:0.148598\teval-rmspe:0.121849\n",
      "[224]\ttrain-rmse:0.111355\teval-rmse:0.131938\ttrain-rmspe:0.148333\teval-rmspe:0.121756\n",
      "[225]\ttrain-rmse:0.111243\teval-rmse:0.131871\ttrain-rmspe:0.148387\teval-rmspe:0.121662\n",
      "[226]\ttrain-rmse:0.110898\teval-rmse:0.131783\ttrain-rmspe:0.148366\teval-rmspe:0.121544\n",
      "[227]\ttrain-rmse:0.110764\teval-rmse:0.131732\ttrain-rmspe:0.148318\teval-rmspe:0.12145\n",
      "[228]\ttrain-rmse:0.110625\teval-rmse:0.131652\ttrain-rmspe:0.148217\teval-rmspe:0.121346\n",
      "[229]\ttrain-rmse:0.110499\teval-rmse:0.131365\ttrain-rmspe:0.148112\teval-rmspe:0.121245\n",
      "[230]\ttrain-rmse:0.110434\teval-rmse:0.131348\ttrain-rmspe:0.148052\teval-rmspe:0.121229\n",
      "[231]\ttrain-rmse:0.110345\teval-rmse:0.131324\ttrain-rmspe:0.148003\teval-rmspe:0.121137\n",
      "[232]\ttrain-rmse:0.110274\teval-rmse:0.131288\ttrain-rmspe:0.147942\teval-rmspe:0.121085\n",
      "[233]\ttrain-rmse:0.11012\teval-rmse:0.131194\ttrain-rmspe:0.147767\teval-rmspe:0.120975\n",
      "[234]\ttrain-rmse:0.109979\teval-rmse:0.131099\ttrain-rmspe:0.147583\teval-rmspe:0.120857\n",
      "[235]\ttrain-rmse:0.109945\teval-rmse:0.131078\ttrain-rmspe:0.14759\teval-rmspe:0.120848\n",
      "[236]\ttrain-rmse:0.109909\teval-rmse:0.131073\ttrain-rmspe:0.147576\teval-rmspe:0.120842\n",
      "[237]\ttrain-rmse:0.109871\teval-rmse:0.131048\ttrain-rmspe:0.147546\teval-rmspe:0.120819\n",
      "[238]\ttrain-rmse:0.109737\teval-rmse:0.130977\ttrain-rmspe:0.147458\teval-rmspe:0.120737\n",
      "[239]\ttrain-rmse:0.109612\teval-rmse:0.130891\ttrain-rmspe:0.14734\teval-rmspe:0.120614\n",
      "[240]\ttrain-rmse:0.109552\teval-rmse:0.130854\ttrain-rmspe:0.147035\teval-rmspe:0.120573\n",
      "[241]\ttrain-rmse:0.109485\teval-rmse:0.130815\ttrain-rmspe:0.146976\teval-rmspe:0.120522\n",
      "[242]\ttrain-rmse:0.109162\teval-rmse:0.130801\ttrain-rmspe:0.146956\teval-rmspe:0.120485\n",
      "[243]\ttrain-rmse:0.109044\teval-rmse:0.130755\ttrain-rmspe:0.146875\teval-rmspe:0.120419\n",
      "[244]\ttrain-rmse:0.108957\teval-rmse:0.130699\ttrain-rmspe:0.146799\teval-rmspe:0.120354\n",
      "[245]\ttrain-rmse:0.108917\teval-rmse:0.130672\ttrain-rmspe:0.146764\teval-rmspe:0.12032\n",
      "[246]\ttrain-rmse:0.108778\teval-rmse:0.13059\ttrain-rmspe:0.146427\teval-rmspe:0.120012\n",
      "[247]\ttrain-rmse:0.108711\teval-rmse:0.130572\ttrain-rmspe:0.14638\teval-rmspe:0.119985\n",
      "[248]\ttrain-rmse:0.108601\teval-rmse:0.130489\ttrain-rmspe:0.146302\teval-rmspe:0.119884\n",
      "[249]\ttrain-rmse:0.108567\teval-rmse:0.130481\ttrain-rmspe:0.146282\teval-rmspe:0.119868\n",
      "[250]\ttrain-rmse:0.108459\teval-rmse:0.130455\ttrain-rmspe:0.146337\teval-rmspe:0.119842\n",
      "[251]\ttrain-rmse:0.108379\teval-rmse:0.130407\ttrain-rmspe:0.146097\teval-rmspe:0.119823\n",
      "[252]\ttrain-rmse:0.108234\teval-rmse:0.130365\ttrain-rmspe:0.145978\teval-rmspe:0.119781\n",
      "[253]\ttrain-rmse:0.108182\teval-rmse:0.130331\ttrain-rmspe:0.145937\teval-rmspe:0.119747\n",
      "[254]\ttrain-rmse:0.108126\teval-rmse:0.130279\ttrain-rmspe:0.145889\teval-rmspe:0.119701\n",
      "[255]\ttrain-rmse:0.108092\teval-rmse:0.130272\ttrain-rmspe:0.145867\teval-rmspe:0.119692\n",
      "[256]\ttrain-rmse:0.108072\teval-rmse:0.130263\ttrain-rmspe:0.145849\teval-rmspe:0.119683\n",
      "[257]\ttrain-rmse:0.107969\teval-rmse:0.130199\ttrain-rmspe:0.145912\teval-rmspe:0.119603\n",
      "[258]\ttrain-rmse:0.107747\teval-rmse:0.13024\ttrain-rmspe:0.145594\teval-rmspe:0.119537\n",
      "[259]\ttrain-rmse:0.107643\teval-rmse:0.130172\ttrain-rmspe:0.145507\teval-rmspe:0.119465\n",
      "[260]\ttrain-rmse:0.107568\teval-rmse:0.130138\ttrain-rmspe:0.145429\teval-rmspe:0.119411\n",
      "[261]\ttrain-rmse:0.107535\teval-rmse:0.130114\ttrain-rmspe:0.145432\teval-rmspe:0.119408\n",
      "[262]\ttrain-rmse:0.107274\teval-rmse:0.129988\ttrain-rmspe:0.14527\teval-rmspe:0.119303\n",
      "[263]\ttrain-rmse:0.107176\teval-rmse:0.129921\ttrain-rmspe:0.145192\teval-rmspe:0.119209\n",
      "[264]\ttrain-rmse:0.106945\teval-rmse:0.12976\ttrain-rmspe:0.145114\teval-rmspe:0.119178\n",
      "[265]\ttrain-rmse:0.106831\teval-rmse:0.129688\ttrain-rmspe:0.144856\teval-rmspe:0.119091\n",
      "[266]\ttrain-rmse:0.106506\teval-rmse:0.129629\ttrain-rmspe:0.144779\teval-rmspe:0.119018\n",
      "[267]\ttrain-rmse:0.106442\teval-rmse:0.129611\ttrain-rmspe:0.144734\teval-rmspe:0.118987\n",
      "[268]\ttrain-rmse:0.10632\teval-rmse:0.129526\ttrain-rmspe:0.143918\teval-rmspe:0.118873\n",
      "[269]\ttrain-rmse:0.106234\teval-rmse:0.12949\ttrain-rmspe:0.143878\teval-rmspe:0.118835\n",
      "[270]\ttrain-rmse:0.106165\teval-rmse:0.129451\ttrain-rmspe:0.143825\teval-rmspe:0.118795\n",
      "[271]\ttrain-rmse:0.106094\teval-rmse:0.129414\ttrain-rmspe:0.143786\teval-rmspe:0.118766\n",
      "[272]\ttrain-rmse:0.10599\teval-rmse:0.129341\ttrain-rmspe:0.143679\teval-rmspe:0.118677\n",
      "[273]\ttrain-rmse:0.105889\teval-rmse:0.129248\ttrain-rmspe:0.143601\teval-rmspe:0.118612\n",
      "[274]\ttrain-rmse:0.105705\teval-rmse:0.129225\ttrain-rmspe:0.143534\teval-rmspe:0.118577\n",
      "[275]\ttrain-rmse:0.105618\teval-rmse:0.129228\ttrain-rmspe:0.141699\teval-rmspe:0.11855\n",
      "[276]\ttrain-rmse:0.10556\teval-rmse:0.129196\ttrain-rmspe:0.141645\teval-rmspe:0.118492\n",
      "[277]\ttrain-rmse:0.105464\teval-rmse:0.129227\ttrain-rmspe:0.14159\teval-rmspe:0.118415\n",
      "[278]\ttrain-rmse:0.105375\teval-rmse:0.129194\ttrain-rmspe:0.141559\teval-rmspe:0.118402\n",
      "[279]\ttrain-rmse:0.105339\teval-rmse:0.129174\ttrain-rmspe:0.141533\teval-rmspe:0.11839\n",
      "[280]\ttrain-rmse:0.105168\teval-rmse:0.129187\ttrain-rmspe:0.141367\teval-rmspe:0.118345\n",
      "[281]\ttrain-rmse:0.105104\teval-rmse:0.129146\ttrain-rmspe:0.141322\teval-rmspe:0.1183\n",
      "[282]\ttrain-rmse:0.105049\teval-rmse:0.129119\ttrain-rmspe:0.141221\teval-rmspe:0.118284\n",
      "[283]\ttrain-rmse:0.104947\teval-rmse:0.128963\ttrain-rmspe:0.141008\teval-rmspe:0.118249\n",
      "[284]\ttrain-rmse:0.104764\teval-rmse:0.128904\ttrain-rmspe:0.14091\teval-rmspe:0.118176\n",
      "[285]\ttrain-rmse:0.104642\teval-rmse:0.128811\ttrain-rmspe:0.14067\teval-rmspe:0.117692\n",
      "[286]\ttrain-rmse:0.104508\teval-rmse:0.128727\ttrain-rmspe:0.140576\teval-rmspe:0.117589\n",
      "[287]\ttrain-rmse:0.104466\teval-rmse:0.128706\ttrain-rmspe:0.140553\teval-rmspe:0.117555\n"
     ]
    },
    {
     "name": "stdout",
     "output_type": "stream",
     "text": [
      "[288]\ttrain-rmse:0.104363\teval-rmse:0.128635\ttrain-rmspe:0.140472\teval-rmspe:0.117481\n",
      "[289]\ttrain-rmse:0.104192\teval-rmse:0.128541\ttrain-rmspe:0.140358\teval-rmspe:0.117368\n",
      "[290]\ttrain-rmse:0.104152\teval-rmse:0.128519\ttrain-rmspe:0.140325\teval-rmspe:0.117337\n",
      "[291]\ttrain-rmse:0.104063\teval-rmse:0.128467\ttrain-rmspe:0.140275\teval-rmspe:0.117273\n",
      "[292]\ttrain-rmse:0.103873\teval-rmse:0.128378\ttrain-rmspe:0.140185\teval-rmspe:0.117174\n",
      "[293]\ttrain-rmse:0.103749\teval-rmse:0.128318\ttrain-rmspe:0.140139\teval-rmspe:0.11715\n",
      "[294]\ttrain-rmse:0.103628\teval-rmse:0.12826\ttrain-rmspe:0.139953\teval-rmspe:0.117084\n",
      "[295]\ttrain-rmse:0.103573\teval-rmse:0.12824\ttrain-rmspe:0.139042\teval-rmspe:0.117059\n",
      "[296]\ttrain-rmse:0.103423\teval-rmse:0.1282\ttrain-rmspe:0.138962\teval-rmspe:0.116993\n",
      "[297]\ttrain-rmse:0.103353\teval-rmse:0.128162\ttrain-rmspe:0.138999\teval-rmspe:0.116963\n",
      "[298]\ttrain-rmse:0.10322\teval-rmse:0.128122\ttrain-rmspe:0.138803\teval-rmspe:0.116874\n",
      "[299]\ttrain-rmse:0.103024\teval-rmse:0.128094\ttrain-rmspe:0.136623\teval-rmspe:0.116758\n",
      "[300]\ttrain-rmse:0.102965\teval-rmse:0.128075\ttrain-rmspe:0.136598\teval-rmspe:0.116722\n",
      "[301]\ttrain-rmse:0.102906\teval-rmse:0.12805\ttrain-rmspe:0.136554\teval-rmspe:0.116671\n",
      "[302]\ttrain-rmse:0.102813\teval-rmse:0.128005\ttrain-rmspe:0.136491\teval-rmspe:0.116626\n",
      "[303]\ttrain-rmse:0.102794\teval-rmse:0.127993\ttrain-rmspe:0.136483\teval-rmspe:0.116624\n",
      "[304]\ttrain-rmse:0.102735\teval-rmse:0.127959\ttrain-rmspe:0.136424\teval-rmspe:0.116595\n",
      "[305]\ttrain-rmse:0.102616\teval-rmse:0.127927\ttrain-rmspe:0.136337\teval-rmspe:0.116527\n",
      "[306]\ttrain-rmse:0.10246\teval-rmse:0.127912\ttrain-rmspe:0.136274\teval-rmspe:0.116485\n",
      "[307]\ttrain-rmse:0.102358\teval-rmse:0.127838\ttrain-rmspe:0.136184\teval-rmspe:0.116355\n",
      "[308]\ttrain-rmse:0.102285\teval-rmse:0.127771\ttrain-rmspe:0.136097\teval-rmspe:0.116281\n",
      "[309]\ttrain-rmse:0.102198\teval-rmse:0.12771\ttrain-rmspe:0.136029\teval-rmspe:0.116199\n",
      "[310]\ttrain-rmse:0.102073\teval-rmse:0.127708\ttrain-rmspe:0.135821\teval-rmspe:0.116173\n",
      "[311]\ttrain-rmse:0.101977\teval-rmse:0.1277\ttrain-rmspe:0.135777\teval-rmspe:0.116167\n",
      "[312]\ttrain-rmse:0.101858\teval-rmse:0.127516\ttrain-rmspe:0.135667\teval-rmspe:0.116122\n",
      "[313]\ttrain-rmse:0.101835\teval-rmse:0.127509\ttrain-rmspe:0.135594\teval-rmspe:0.116114\n",
      "[314]\ttrain-rmse:0.101689\teval-rmse:0.127425\ttrain-rmspe:0.135563\teval-rmspe:0.116092\n",
      "[315]\ttrain-rmse:0.101544\teval-rmse:0.127347\ttrain-rmspe:0.13537\teval-rmspe:0.115992\n",
      "[316]\ttrain-rmse:0.101467\teval-rmse:0.127301\ttrain-rmspe:0.135241\teval-rmspe:0.115922\n",
      "[317]\ttrain-rmse:0.101399\teval-rmse:0.127249\ttrain-rmspe:0.135188\teval-rmspe:0.115841\n",
      "[318]\ttrain-rmse:0.101319\teval-rmse:0.127198\ttrain-rmspe:0.135095\teval-rmspe:0.115787\n",
      "[319]\ttrain-rmse:0.101289\teval-rmse:0.127183\ttrain-rmspe:0.135058\teval-rmspe:0.115759\n",
      "[320]\ttrain-rmse:0.101217\teval-rmse:0.127177\ttrain-rmspe:0.135042\teval-rmspe:0.115748\n",
      "[321]\ttrain-rmse:0.101129\teval-rmse:0.127171\ttrain-rmspe:0.134976\teval-rmspe:0.115716\n",
      "[322]\ttrain-rmse:0.101088\teval-rmse:0.127153\ttrain-rmspe:0.13496\teval-rmspe:0.115678\n",
      "[323]\ttrain-rmse:0.10104\teval-rmse:0.127124\ttrain-rmspe:0.134921\teval-rmspe:0.115642\n",
      "[324]\ttrain-rmse:0.10098\teval-rmse:0.127154\ttrain-rmspe:0.134891\teval-rmspe:0.115648\n",
      "[325]\ttrain-rmse:0.100821\teval-rmse:0.12711\ttrain-rmspe:0.134826\teval-rmspe:0.115597\n",
      "[326]\ttrain-rmse:0.100736\teval-rmse:0.127068\ttrain-rmspe:0.134771\teval-rmspe:0.115571\n",
      "[327]\ttrain-rmse:0.100648\teval-rmse:0.127014\ttrain-rmspe:0.135025\teval-rmspe:0.115507\n",
      "[328]\ttrain-rmse:0.100552\teval-rmse:0.126956\ttrain-rmspe:0.135037\teval-rmspe:0.115445\n",
      "[329]\ttrain-rmse:0.100437\teval-rmse:0.126922\ttrain-rmspe:0.134877\teval-rmspe:0.115437\n",
      "[330]\ttrain-rmse:0.100339\teval-rmse:0.126868\ttrain-rmspe:0.13484\teval-rmspe:0.115367\n",
      "[331]\ttrain-rmse:0.100244\teval-rmse:0.126826\ttrain-rmspe:0.13475\teval-rmspe:0.115318\n",
      "[332]\ttrain-rmse:0.10022\teval-rmse:0.126814\ttrain-rmspe:0.134738\teval-rmspe:0.115302\n",
      "[333]\ttrain-rmse:0.10014\teval-rmse:0.126772\ttrain-rmspe:0.134677\teval-rmspe:0.115255\n",
      "[334]\ttrain-rmse:0.099874\teval-rmse:0.126716\ttrain-rmspe:0.134444\teval-rmspe:0.115177\n",
      "[335]\ttrain-rmse:0.099829\teval-rmse:0.126683\ttrain-rmspe:0.134409\teval-rmspe:0.115147\n",
      "[336]\ttrain-rmse:0.099776\teval-rmse:0.126652\ttrain-rmspe:0.134358\teval-rmspe:0.115091\n",
      "[337]\ttrain-rmse:0.099756\teval-rmse:0.126646\ttrain-rmspe:0.134341\teval-rmspe:0.11508\n",
      "[338]\ttrain-rmse:0.099628\teval-rmse:0.126628\ttrain-rmspe:0.134238\teval-rmspe:0.115049\n",
      "[339]\ttrain-rmse:0.099501\teval-rmse:0.126619\ttrain-rmspe:0.134204\teval-rmspe:0.115039\n",
      "[340]\ttrain-rmse:0.099427\teval-rmse:0.126598\ttrain-rmspe:0.136988\teval-rmspe:0.114997\n",
      "[341]\ttrain-rmse:0.099341\teval-rmse:0.126551\ttrain-rmspe:0.136871\teval-rmspe:0.114774\n",
      "[342]\ttrain-rmse:0.099293\teval-rmse:0.126543\ttrain-rmspe:0.136841\teval-rmspe:0.114765\n",
      "[343]\ttrain-rmse:0.09924\teval-rmse:0.126514\ttrain-rmspe:0.136783\teval-rmspe:0.114743\n",
      "[344]\ttrain-rmse:0.099189\teval-rmse:0.126497\ttrain-rmspe:0.136771\teval-rmspe:0.114719\n",
      "[345]\ttrain-rmse:0.099139\teval-rmse:0.126475\ttrain-rmspe:0.136748\teval-rmspe:0.114688\n",
      "[346]\ttrain-rmse:0.099019\teval-rmse:0.126394\ttrain-rmspe:0.136316\teval-rmspe:0.114607\n",
      "[347]\ttrain-rmse:0.09897\teval-rmse:0.126406\ttrain-rmspe:0.13586\teval-rmspe:0.114632\n",
      "[348]\ttrain-rmse:0.098933\teval-rmse:0.126387\ttrain-rmspe:0.135843\teval-rmspe:0.114612\n",
      "[349]\ttrain-rmse:0.098856\teval-rmse:0.126334\ttrain-rmspe:0.135737\teval-rmspe:0.114554\n",
      "[350]\ttrain-rmse:0.09876\teval-rmse:0.126233\ttrain-rmspe:0.13564\teval-rmspe:0.114492\n",
      "[351]\ttrain-rmse:0.0987\teval-rmse:0.126202\ttrain-rmspe:0.135602\teval-rmspe:0.114461\n",
      "[352]\ttrain-rmse:0.098654\teval-rmse:0.126173\ttrain-rmspe:0.135658\teval-rmspe:0.114417\n",
      "[353]\ttrain-rmse:0.098638\teval-rmse:0.126172\ttrain-rmspe:0.135632\teval-rmspe:0.114415\n",
      "[354]\ttrain-rmse:0.098592\teval-rmse:0.126069\ttrain-rmspe:0.135602\teval-rmspe:0.114377\n",
      "[355]\ttrain-rmse:0.098514\teval-rmse:0.126022\ttrain-rmspe:0.135477\teval-rmspe:0.114224\n",
      "[356]\ttrain-rmse:0.098401\teval-rmse:0.125976\ttrain-rmspe:0.135411\teval-rmspe:0.114115\n",
      "[357]\ttrain-rmse:0.098222\teval-rmse:0.125559\ttrain-rmspe:0.135369\teval-rmspe:0.11406\n",
      "[358]\ttrain-rmse:0.098167\teval-rmse:0.125533\ttrain-rmspe:0.135406\teval-rmspe:0.114028\n",
      "[359]\ttrain-rmse:0.098105\teval-rmse:0.125515\ttrain-rmspe:0.135377\teval-rmspe:0.114003\n",
      "[360]\ttrain-rmse:0.098049\teval-rmse:0.125515\ttrain-rmspe:0.135359\teval-rmspe:0.114004\n",
      "[361]\ttrain-rmse:0.098012\teval-rmse:0.125501\ttrain-rmspe:0.135307\teval-rmspe:0.114005\n",
      "[362]\ttrain-rmse:0.097899\teval-rmse:0.125533\ttrain-rmspe:0.135263\teval-rmspe:0.113998\n",
      "[363]\ttrain-rmse:0.097867\teval-rmse:0.125512\ttrain-rmspe:0.135244\teval-rmspe:0.113981\n",
      "[364]\ttrain-rmse:0.097842\teval-rmse:0.125512\ttrain-rmspe:0.135246\teval-rmspe:0.113974\n",
      "[365]\ttrain-rmse:0.097765\teval-rmse:0.125504\ttrain-rmspe:0.135195\teval-rmspe:0.113934\n",
      "[366]\ttrain-rmse:0.097653\teval-rmse:0.125456\ttrain-rmspe:0.13508\teval-rmspe:0.113889\n",
      "[367]\ttrain-rmse:0.097623\teval-rmse:0.125429\ttrain-rmspe:0.134998\teval-rmspe:0.113853\n",
      "[368]\ttrain-rmse:0.097575\teval-rmse:0.125423\ttrain-rmspe:0.134989\teval-rmspe:0.113886\n",
      "[369]\ttrain-rmse:0.097532\teval-rmse:0.12541\ttrain-rmspe:0.134966\teval-rmspe:0.11387\n",
      "[370]\ttrain-rmse:0.097479\teval-rmse:0.125411\ttrain-rmspe:0.134947\teval-rmspe:0.113871\n",
      "[371]\ttrain-rmse:0.097438\teval-rmse:0.125404\ttrain-rmspe:0.135049\teval-rmspe:0.113878\n",
      "[372]\ttrain-rmse:0.097381\teval-rmse:0.12539\ttrain-rmspe:0.135019\teval-rmspe:0.113834\n",
      "[373]\ttrain-rmse:0.097298\teval-rmse:0.125362\ttrain-rmspe:0.13499\teval-rmspe:0.113806\n",
      "[374]\ttrain-rmse:0.09727\teval-rmse:0.125493\ttrain-rmspe:0.134924\teval-rmspe:0.113796\n",
      "[375]\ttrain-rmse:0.097261\teval-rmse:0.125488\ttrain-rmspe:0.134918\teval-rmspe:0.113795\n",
      "[376]\ttrain-rmse:0.097218\teval-rmse:0.125484\ttrain-rmspe:0.134887\teval-rmspe:0.113789\n",
      "[377]\ttrain-rmse:0.09717\teval-rmse:0.125466\ttrain-rmspe:0.134854\teval-rmspe:0.113776\n",
      "[378]\ttrain-rmse:0.097135\teval-rmse:0.125447\ttrain-rmspe:0.134802\teval-rmspe:0.113708\n",
      "[379]\ttrain-rmse:0.097077\teval-rmse:0.12546\ttrain-rmspe:0.134762\teval-rmspe:0.113717\n",
      "[380]\ttrain-rmse:0.096949\teval-rmse:0.125238\ttrain-rmspe:0.134742\teval-rmspe:0.113713\n",
      "[381]\ttrain-rmse:0.096854\teval-rmse:0.12517\ttrain-rmspe:0.134669\teval-rmspe:0.113636\n",
      "[382]\ttrain-rmse:0.096729\teval-rmse:0.125127\ttrain-rmspe:0.134624\teval-rmspe:0.113587\n",
      "[383]\ttrain-rmse:0.096621\teval-rmse:0.125109\ttrain-rmspe:0.134587\teval-rmspe:0.113583\n"
     ]
    },
    {
     "name": "stdout",
     "output_type": "stream",
     "text": [
      "[384]\ttrain-rmse:0.096558\teval-rmse:0.125068\ttrain-rmspe:0.134529\teval-rmspe:0.113532\n",
      "[385]\ttrain-rmse:0.096455\teval-rmse:0.125025\ttrain-rmspe:0.134468\teval-rmspe:0.113508\n",
      "[386]\ttrain-rmse:0.096376\teval-rmse:0.124971\ttrain-rmspe:0.134397\teval-rmspe:0.113426\n",
      "[387]\ttrain-rmse:0.096182\teval-rmse:0.124949\ttrain-rmspe:0.134327\teval-rmspe:0.113404\n",
      "[388]\ttrain-rmse:0.096019\teval-rmse:0.125027\ttrain-rmspe:0.134003\teval-rmspe:0.113373\n",
      "[389]\ttrain-rmse:0.095999\teval-rmse:0.125025\ttrain-rmspe:0.133986\teval-rmspe:0.113372\n",
      "[390]\ttrain-rmse:0.09599\teval-rmse:0.125027\ttrain-rmspe:0.133981\teval-rmspe:0.113379\n",
      "[391]\ttrain-rmse:0.095963\teval-rmse:0.125015\ttrain-rmspe:0.13396\teval-rmspe:0.113366\n",
      "[392]\ttrain-rmse:0.095941\teval-rmse:0.12501\ttrain-rmspe:0.133937\teval-rmspe:0.113368\n",
      "[393]\ttrain-rmse:0.095853\teval-rmse:0.125123\ttrain-rmspe:0.133912\teval-rmspe:0.113402\n",
      "[394]\ttrain-rmse:0.095753\teval-rmse:0.125056\ttrain-rmspe:0.133764\teval-rmspe:0.113338\n",
      "[395]\ttrain-rmse:0.095616\teval-rmse:0.124555\ttrain-rmspe:0.132538\teval-rmspe:0.11326\n",
      "[396]\ttrain-rmse:0.095582\teval-rmse:0.124718\ttrain-rmspe:0.132508\teval-rmspe:0.113245\n",
      "[397]\ttrain-rmse:0.095516\teval-rmse:0.124701\ttrain-rmspe:0.132478\teval-rmspe:0.113232\n",
      "[398]\ttrain-rmse:0.095495\teval-rmse:0.124683\ttrain-rmspe:0.132462\teval-rmspe:0.113217\n",
      "[399]\ttrain-rmse:0.095457\teval-rmse:0.124758\ttrain-rmspe:0.132385\teval-rmspe:0.113191\n",
      "[400]\ttrain-rmse:0.095343\teval-rmse:0.124732\ttrain-rmspe:0.132321\teval-rmspe:0.113179\n",
      "[401]\ttrain-rmse:0.095245\teval-rmse:0.124706\ttrain-rmspe:0.132269\teval-rmspe:0.113154\n",
      "[402]\ttrain-rmse:0.095189\teval-rmse:0.124676\ttrain-rmspe:0.132225\teval-rmspe:0.11312\n",
      "[403]\ttrain-rmse:0.09517\teval-rmse:0.124669\ttrain-rmspe:0.132196\teval-rmspe:0.113111\n",
      "[404]\ttrain-rmse:0.095107\teval-rmse:0.124643\ttrain-rmspe:0.132138\teval-rmspe:0.113115\n",
      "[405]\ttrain-rmse:0.094973\teval-rmse:0.124613\ttrain-rmspe:0.132013\teval-rmspe:0.113081\n",
      "[406]\ttrain-rmse:0.094919\teval-rmse:0.124598\ttrain-rmspe:0.131975\teval-rmspe:0.113082\n",
      "[407]\ttrain-rmse:0.094828\teval-rmse:0.124581\ttrain-rmspe:0.131926\teval-rmspe:0.113062\n",
      "[408]\ttrain-rmse:0.094769\teval-rmse:0.124569\ttrain-rmspe:0.131897\teval-rmspe:0.113037\n",
      "[409]\ttrain-rmse:0.094662\teval-rmse:0.124574\ttrain-rmspe:0.131843\teval-rmspe:0.113009\n",
      "[410]\ttrain-rmse:0.0946\teval-rmse:0.124545\ttrain-rmspe:0.131779\teval-rmspe:0.112961\n",
      "[411]\ttrain-rmse:0.094575\teval-rmse:0.124534\ttrain-rmspe:0.131766\teval-rmspe:0.11295\n",
      "[412]\ttrain-rmse:0.094566\teval-rmse:0.124529\ttrain-rmspe:0.131757\teval-rmspe:0.112941\n",
      "[413]\ttrain-rmse:0.094509\teval-rmse:0.124529\ttrain-rmspe:0.131726\teval-rmspe:0.112948\n",
      "[414]\ttrain-rmse:0.094459\teval-rmse:0.124523\ttrain-rmspe:0.131705\teval-rmspe:0.112935\n",
      "[415]\ttrain-rmse:0.094425\teval-rmse:0.124544\ttrain-rmspe:0.130345\teval-rmspe:0.112922\n",
      "[416]\ttrain-rmse:0.094392\teval-rmse:0.12453\ttrain-rmspe:0.130318\teval-rmspe:0.112908\n",
      "[417]\ttrain-rmse:0.094334\teval-rmse:0.124497\ttrain-rmspe:0.130275\teval-rmspe:0.11288\n",
      "[418]\ttrain-rmse:0.094297\teval-rmse:0.124501\ttrain-rmspe:0.130248\teval-rmspe:0.112856\n",
      "[419]\ttrain-rmse:0.094244\teval-rmse:0.124399\ttrain-rmspe:0.130204\teval-rmspe:0.112856\n",
      "[420]\ttrain-rmse:0.094206\teval-rmse:0.124382\ttrain-rmspe:0.130158\teval-rmspe:0.112829\n",
      "[421]\ttrain-rmse:0.094158\teval-rmse:0.124369\ttrain-rmspe:0.130077\teval-rmspe:0.112818\n",
      "[422]\ttrain-rmse:0.094092\teval-rmse:0.124318\ttrain-rmspe:0.130016\teval-rmspe:0.11271\n",
      "[423]\ttrain-rmse:0.094043\teval-rmse:0.12421\ttrain-rmspe:0.129971\teval-rmspe:0.11271\n",
      "[424]\ttrain-rmse:0.094024\teval-rmse:0.124204\ttrain-rmspe:0.129946\teval-rmspe:0.1127\n",
      "[425]\ttrain-rmse:0.093946\teval-rmse:0.124192\ttrain-rmspe:0.12984\teval-rmspe:0.112699\n",
      "[426]\ttrain-rmse:0.093863\teval-rmse:0.124199\ttrain-rmspe:0.129768\teval-rmspe:0.112536\n",
      "[427]\ttrain-rmse:0.093839\teval-rmse:0.124179\ttrain-rmspe:0.129765\teval-rmspe:0.112505\n",
      "[428]\ttrain-rmse:0.093786\teval-rmse:0.124164\ttrain-rmspe:0.129699\teval-rmspe:0.112479\n",
      "[429]\ttrain-rmse:0.093766\teval-rmse:0.124155\ttrain-rmspe:0.129663\teval-rmspe:0.112434\n",
      "[430]\ttrain-rmse:0.093727\teval-rmse:0.124135\ttrain-rmspe:0.129648\teval-rmspe:0.112412\n",
      "[431]\ttrain-rmse:0.093649\teval-rmse:0.12408\ttrain-rmspe:0.12955\teval-rmspe:0.112344\n",
      "[432]\ttrain-rmse:0.093588\teval-rmse:0.124049\ttrain-rmspe:0.129468\teval-rmspe:0.112299\n",
      "[433]\ttrain-rmse:0.093544\teval-rmse:0.124006\ttrain-rmspe:0.129435\teval-rmspe:0.112273\n",
      "[434]\ttrain-rmse:0.09352\teval-rmse:0.123993\ttrain-rmspe:0.129425\teval-rmspe:0.112259\n",
      "[435]\ttrain-rmse:0.093484\teval-rmse:0.123974\ttrain-rmspe:0.129407\teval-rmspe:0.112242\n",
      "[436]\ttrain-rmse:0.093441\teval-rmse:0.123964\ttrain-rmspe:0.129395\teval-rmspe:0.112225\n",
      "[437]\ttrain-rmse:0.093409\teval-rmse:0.123957\ttrain-rmspe:0.129372\teval-rmspe:0.112216\n",
      "[438]\ttrain-rmse:0.093396\teval-rmse:0.123955\ttrain-rmspe:0.129356\teval-rmspe:0.112221\n",
      "[439]\ttrain-rmse:0.093341\teval-rmse:0.123954\ttrain-rmspe:0.129308\teval-rmspe:0.112209\n",
      "[440]\ttrain-rmse:0.093289\teval-rmse:0.123946\ttrain-rmspe:0.129308\teval-rmspe:0.112191\n",
      "[441]\ttrain-rmse:0.093175\teval-rmse:0.123917\ttrain-rmspe:0.12923\teval-rmspe:0.112158\n",
      "[442]\ttrain-rmse:0.093131\teval-rmse:0.123907\ttrain-rmspe:0.129198\teval-rmspe:0.112153\n",
      "[443]\ttrain-rmse:0.093016\teval-rmse:0.123899\ttrain-rmspe:0.129257\teval-rmspe:0.11218\n",
      "[444]\ttrain-rmse:0.092979\teval-rmse:0.123881\ttrain-rmspe:0.129235\teval-rmspe:0.112171\n",
      "[445]\ttrain-rmse:0.092959\teval-rmse:0.123877\ttrain-rmspe:0.129218\teval-rmspe:0.11215\n",
      "[446]\ttrain-rmse:0.092927\teval-rmse:0.123864\ttrain-rmspe:0.129194\teval-rmspe:0.112132\n",
      "[447]\ttrain-rmse:0.092872\teval-rmse:0.123848\ttrain-rmspe:0.129136\teval-rmspe:0.112096\n",
      "[448]\ttrain-rmse:0.092807\teval-rmse:0.123828\ttrain-rmspe:0.129053\teval-rmspe:0.112076\n",
      "[449]\ttrain-rmse:0.092755\teval-rmse:0.123799\ttrain-rmspe:0.129039\teval-rmspe:0.112043\n",
      "[450]\ttrain-rmse:0.09271\teval-rmse:0.123786\ttrain-rmspe:0.129\teval-rmspe:0.112025\n",
      "[451]\ttrain-rmse:0.092672\teval-rmse:0.123769\ttrain-rmspe:0.128927\teval-rmspe:0.112001\n",
      "[452]\ttrain-rmse:0.092588\teval-rmse:0.123748\ttrain-rmspe:0.128901\teval-rmspe:0.111986\n",
      "[453]\ttrain-rmse:0.09253\teval-rmse:0.123717\ttrain-rmspe:0.128845\teval-rmspe:0.112006\n",
      "[454]\ttrain-rmse:0.092482\teval-rmse:0.123697\ttrain-rmspe:0.128811\teval-rmspe:0.111997\n",
      "[455]\ttrain-rmse:0.092432\teval-rmse:0.123671\ttrain-rmspe:0.129152\teval-rmspe:0.111962\n",
      "[456]\ttrain-rmse:0.092399\teval-rmse:0.123659\ttrain-rmspe:0.129069\teval-rmspe:0.111939\n",
      "[457]\ttrain-rmse:0.092344\teval-rmse:0.123627\ttrain-rmspe:0.128979\teval-rmspe:0.111911\n",
      "[458]\ttrain-rmse:0.092244\teval-rmse:0.123763\ttrain-rmspe:0.128924\teval-rmspe:0.111931\n",
      "[459]\ttrain-rmse:0.092205\teval-rmse:0.123753\ttrain-rmspe:0.128865\teval-rmspe:0.111879\n",
      "[460]\ttrain-rmse:0.092175\teval-rmse:0.123742\ttrain-rmspe:0.128836\teval-rmspe:0.11187\n",
      "[461]\ttrain-rmse:0.092152\teval-rmse:0.123732\ttrain-rmspe:0.128814\teval-rmspe:0.111862\n",
      "[462]\ttrain-rmse:0.092062\teval-rmse:0.123706\ttrain-rmspe:0.128773\teval-rmspe:0.111857\n",
      "[463]\ttrain-rmse:0.092041\teval-rmse:0.123702\ttrain-rmspe:0.128755\teval-rmspe:0.111851\n",
      "[464]\ttrain-rmse:0.091933\teval-rmse:0.123695\ttrain-rmspe:0.128659\teval-rmspe:0.111783\n",
      "[465]\ttrain-rmse:0.091884\teval-rmse:0.123691\ttrain-rmspe:0.128621\teval-rmspe:0.111801\n",
      "[466]\ttrain-rmse:0.091858\teval-rmse:0.123679\ttrain-rmspe:0.128618\teval-rmspe:0.111785\n",
      "[467]\ttrain-rmse:0.091817\teval-rmse:0.123649\ttrain-rmspe:0.128576\teval-rmspe:0.111745\n",
      "[468]\ttrain-rmse:0.091794\teval-rmse:0.123645\ttrain-rmspe:0.128552\teval-rmspe:0.111725\n",
      "[469]\ttrain-rmse:0.091745\teval-rmse:0.123621\ttrain-rmspe:0.128468\teval-rmspe:0.111717\n",
      "[470]\ttrain-rmse:0.091679\teval-rmse:0.123602\ttrain-rmspe:0.128433\teval-rmspe:0.111676\n",
      "[471]\ttrain-rmse:0.091626\teval-rmse:0.123585\ttrain-rmspe:0.128393\teval-rmspe:0.111651\n",
      "[472]\ttrain-rmse:0.091601\teval-rmse:0.123513\ttrain-rmspe:0.128357\teval-rmspe:0.111636\n",
      "[473]\ttrain-rmse:0.091571\teval-rmse:0.123502\ttrain-rmspe:0.128333\teval-rmspe:0.111615\n",
      "[474]\ttrain-rmse:0.091544\teval-rmse:0.123498\ttrain-rmspe:0.128302\teval-rmspe:0.111614\n",
      "[475]\ttrain-rmse:0.091481\teval-rmse:0.123482\ttrain-rmspe:0.12823\teval-rmspe:0.111584\n",
      "[476]\ttrain-rmse:0.091407\teval-rmse:0.123463\ttrain-rmspe:0.128215\teval-rmspe:0.111564\n",
      "[477]\ttrain-rmse:0.091363\teval-rmse:0.123442\ttrain-rmspe:0.128123\teval-rmspe:0.111539\n",
      "[478]\ttrain-rmse:0.091254\teval-rmse:0.123402\ttrain-rmspe:0.128043\teval-rmspe:0.111527\n",
      "[479]\ttrain-rmse:0.091153\teval-rmse:0.123377\ttrain-rmspe:0.127979\teval-rmspe:0.111506\n"
     ]
    },
    {
     "name": "stdout",
     "output_type": "stream",
     "text": [
      "[480]\ttrain-rmse:0.0911\teval-rmse:0.123368\ttrain-rmspe:0.127931\teval-rmspe:0.111496\n",
      "[481]\ttrain-rmse:0.091026\teval-rmse:0.123319\ttrain-rmspe:0.127844\teval-rmspe:0.11144\n",
      "[482]\ttrain-rmse:0.091004\teval-rmse:0.123325\ttrain-rmspe:0.127824\teval-rmspe:0.111426\n",
      "[483]\ttrain-rmse:0.090986\teval-rmse:0.12332\ttrain-rmspe:0.127814\teval-rmspe:0.111421\n",
      "[484]\ttrain-rmse:0.090974\teval-rmse:0.123318\ttrain-rmspe:0.127801\teval-rmspe:0.111429\n",
      "[485]\ttrain-rmse:0.090941\teval-rmse:0.12331\ttrain-rmspe:0.127717\teval-rmspe:0.111416\n",
      "[486]\ttrain-rmse:0.090885\teval-rmse:0.123301\ttrain-rmspe:0.127699\teval-rmspe:0.111403\n",
      "[487]\ttrain-rmse:0.090834\teval-rmse:0.123292\ttrain-rmspe:0.127663\teval-rmspe:0.111389\n",
      "[488]\ttrain-rmse:0.090793\teval-rmse:0.12327\ttrain-rmspe:0.127627\teval-rmspe:0.111365\n",
      "[489]\ttrain-rmse:0.090768\teval-rmse:0.123265\ttrain-rmspe:0.127598\teval-rmspe:0.111356\n",
      "[490]\ttrain-rmse:0.090653\teval-rmse:0.123237\ttrain-rmspe:0.127496\teval-rmspe:0.111324\n",
      "[491]\ttrain-rmse:0.090579\teval-rmse:0.123233\ttrain-rmspe:0.127447\teval-rmspe:0.111312\n",
      "[492]\ttrain-rmse:0.090547\teval-rmse:0.123273\ttrain-rmspe:0.12742\teval-rmspe:0.111301\n",
      "[493]\ttrain-rmse:0.090528\teval-rmse:0.123265\ttrain-rmspe:0.127399\teval-rmspe:0.111292\n",
      "[494]\ttrain-rmse:0.090441\teval-rmse:0.123207\ttrain-rmspe:0.127323\teval-rmspe:0.111229\n",
      "[495]\ttrain-rmse:0.090352\teval-rmse:0.123175\ttrain-rmspe:0.127287\teval-rmspe:0.111176\n",
      "[496]\ttrain-rmse:0.090281\teval-rmse:0.123156\ttrain-rmspe:0.127274\teval-rmspe:0.111166\n",
      "[497]\ttrain-rmse:0.090267\teval-rmse:0.123207\ttrain-rmspe:0.127265\teval-rmspe:0.111156\n",
      "[498]\ttrain-rmse:0.090231\teval-rmse:0.123191\ttrain-rmspe:0.127218\teval-rmspe:0.111145\n",
      "[499]\ttrain-rmse:0.090191\teval-rmse:0.12318\ttrain-rmspe:0.127174\teval-rmspe:0.111118\n",
      "[500]\ttrain-rmse:0.09018\teval-rmse:0.12318\ttrain-rmspe:0.127167\teval-rmspe:0.111116\n",
      "[501]\ttrain-rmse:0.090142\teval-rmse:0.12318\ttrain-rmspe:0.127136\teval-rmspe:0.11111\n",
      "[502]\ttrain-rmse:0.090057\teval-rmse:0.123175\ttrain-rmspe:0.127003\teval-rmspe:0.111102\n",
      "[503]\ttrain-rmse:0.089983\teval-rmse:0.123147\ttrain-rmspe:0.126827\teval-rmspe:0.111011\n",
      "[504]\ttrain-rmse:0.089935\teval-rmse:0.123144\ttrain-rmspe:0.126807\teval-rmspe:0.111012\n",
      "[505]\ttrain-rmse:0.08992\teval-rmse:0.123137\ttrain-rmspe:0.124911\teval-rmspe:0.111005\n",
      "[506]\ttrain-rmse:0.089895\teval-rmse:0.123184\ttrain-rmspe:0.124893\teval-rmspe:0.111011\n",
      "[507]\ttrain-rmse:0.089875\teval-rmse:0.12318\ttrain-rmspe:0.124875\teval-rmspe:0.111018\n",
      "[508]\ttrain-rmse:0.089829\teval-rmse:0.123253\ttrain-rmspe:0.124844\teval-rmspe:0.111002\n",
      "[509]\ttrain-rmse:0.089798\teval-rmse:0.123246\ttrain-rmspe:0.124524\teval-rmspe:0.110999\n",
      "[510]\ttrain-rmse:0.089734\teval-rmse:0.123229\ttrain-rmspe:0.124492\teval-rmspe:0.111001\n",
      "[511]\ttrain-rmse:0.089708\teval-rmse:0.123215\ttrain-rmspe:0.124477\teval-rmspe:0.110988\n",
      "[512]\ttrain-rmse:0.089687\teval-rmse:0.123219\ttrain-rmspe:0.124462\teval-rmspe:0.110984\n",
      "[513]\ttrain-rmse:0.089667\teval-rmse:0.123371\ttrain-rmspe:0.124443\teval-rmspe:0.110975\n",
      "[514]\ttrain-rmse:0.089602\teval-rmse:0.123575\ttrain-rmspe:0.124417\teval-rmspe:0.110959\n",
      "[515]\ttrain-rmse:0.08951\teval-rmse:0.12361\ttrain-rmspe:0.12437\teval-rmspe:0.110952\n",
      "[516]\ttrain-rmse:0.089493\teval-rmse:0.123601\ttrain-rmspe:0.124365\teval-rmspe:0.110939\n",
      "[517]\ttrain-rmse:0.089468\teval-rmse:0.123599\ttrain-rmspe:0.124347\teval-rmspe:0.110933\n",
      "[518]\ttrain-rmse:0.089417\teval-rmse:0.123587\ttrain-rmspe:0.124312\teval-rmspe:0.110919\n",
      "[519]\ttrain-rmse:0.089393\teval-rmse:0.123576\ttrain-rmspe:0.12429\teval-rmspe:0.110904\n",
      "[520]\ttrain-rmse:0.089373\teval-rmse:0.123568\ttrain-rmspe:0.124274\teval-rmspe:0.110903\n",
      "[521]\ttrain-rmse:0.089335\teval-rmse:0.123549\ttrain-rmspe:0.124241\teval-rmspe:0.110867\n",
      "[522]\ttrain-rmse:0.089317\teval-rmse:0.123548\ttrain-rmspe:0.124227\teval-rmspe:0.110865\n",
      "[523]\ttrain-rmse:0.089266\teval-rmse:0.123529\ttrain-rmspe:0.124116\teval-rmspe:0.110807\n",
      "[524]\ttrain-rmse:0.089236\teval-rmse:0.12351\ttrain-rmspe:0.124097\teval-rmspe:0.110782\n",
      "[525]\ttrain-rmse:0.089204\teval-rmse:0.123501\ttrain-rmspe:0.12408\teval-rmspe:0.110763\n",
      "[526]\ttrain-rmse:0.089162\teval-rmse:0.123479\ttrain-rmspe:0.124036\teval-rmspe:0.110738\n",
      "[527]\ttrain-rmse:0.089144\teval-rmse:0.123474\ttrain-rmspe:0.124034\teval-rmspe:0.11073\n",
      "[528]\ttrain-rmse:0.089123\teval-rmse:0.123477\ttrain-rmspe:0.124016\teval-rmspe:0.110726\n",
      "[529]\ttrain-rmse:0.089098\teval-rmse:0.123468\ttrain-rmspe:0.124011\teval-rmspe:0.110715\n",
      "[530]\ttrain-rmse:0.089071\teval-rmse:0.123458\ttrain-rmspe:0.123993\teval-rmspe:0.110695\n",
      "[531]\ttrain-rmse:0.089042\teval-rmse:0.12345\ttrain-rmspe:0.125949\teval-rmspe:0.110701\n",
      "[532]\ttrain-rmse:0.08899\teval-rmse:0.123428\ttrain-rmspe:0.125895\teval-rmspe:0.110687\n",
      "[533]\ttrain-rmse:0.088881\teval-rmse:0.123417\ttrain-rmspe:0.125861\teval-rmspe:0.11066\n",
      "[534]\ttrain-rmse:0.088832\teval-rmse:0.123411\ttrain-rmspe:0.125228\teval-rmspe:0.110655\n",
      "[535]\ttrain-rmse:0.088779\teval-rmse:0.12339\ttrain-rmspe:0.125189\teval-rmspe:0.110635\n",
      "[536]\ttrain-rmse:0.08875\teval-rmse:0.123377\ttrain-rmspe:0.125177\teval-rmspe:0.110646\n",
      "[537]\ttrain-rmse:0.088713\teval-rmse:0.123366\ttrain-rmspe:0.12516\teval-rmspe:0.110637\n",
      "[538]\ttrain-rmse:0.088682\teval-rmse:0.12335\ttrain-rmspe:0.125129\teval-rmspe:0.110623\n",
      "[539]\ttrain-rmse:0.088631\teval-rmse:0.123401\ttrain-rmspe:0.125107\teval-rmspe:0.110613\n",
      "[540]\ttrain-rmse:0.088592\teval-rmse:0.123388\ttrain-rmspe:0.125039\teval-rmspe:0.110594\n",
      "[541]\ttrain-rmse:0.088523\teval-rmse:0.123355\ttrain-rmspe:0.124988\teval-rmspe:0.110586\n",
      "[542]\ttrain-rmse:0.088494\teval-rmse:0.123341\ttrain-rmspe:0.124963\teval-rmspe:0.110575\n",
      "[543]\ttrain-rmse:0.088476\teval-rmse:0.123338\ttrain-rmspe:0.124937\teval-rmspe:0.110568\n",
      "[544]\ttrain-rmse:0.088411\teval-rmse:0.123305\ttrain-rmspe:0.12484\teval-rmspe:0.110541\n",
      "[545]\ttrain-rmse:0.088399\teval-rmse:0.123312\ttrain-rmspe:0.124828\teval-rmspe:0.110543\n",
      "[546]\ttrain-rmse:0.088378\teval-rmse:0.123306\ttrain-rmspe:0.12481\teval-rmspe:0.110527\n",
      "[547]\ttrain-rmse:0.088304\teval-rmse:0.123289\ttrain-rmspe:0.124774\teval-rmspe:0.110503\n",
      "[548]\ttrain-rmse:0.088283\teval-rmse:0.123278\ttrain-rmspe:0.124747\teval-rmspe:0.110494\n",
      "[549]\ttrain-rmse:0.088239\teval-rmse:0.123252\ttrain-rmspe:0.124701\teval-rmspe:0.110468\n",
      "[550]\ttrain-rmse:0.088209\teval-rmse:0.123233\ttrain-rmspe:0.124683\teval-rmspe:0.110452\n",
      "[551]\ttrain-rmse:0.088142\teval-rmse:0.123223\ttrain-rmspe:0.124683\teval-rmspe:0.11044\n",
      "[552]\ttrain-rmse:0.088102\teval-rmse:0.123207\ttrain-rmspe:0.124648\teval-rmspe:0.110422\n",
      "[553]\ttrain-rmse:0.088075\teval-rmse:0.123196\ttrain-rmspe:0.124624\teval-rmspe:0.110408\n",
      "[554]\ttrain-rmse:0.088036\teval-rmse:0.123179\ttrain-rmspe:0.1246\teval-rmspe:0.110394\n",
      "[555]\ttrain-rmse:0.088006\teval-rmse:0.123172\ttrain-rmspe:0.124587\teval-rmspe:0.110388\n",
      "[556]\ttrain-rmse:0.087962\teval-rmse:0.123147\ttrain-rmspe:0.124567\teval-rmspe:0.110364\n",
      "[557]\ttrain-rmse:0.087936\teval-rmse:0.123134\ttrain-rmspe:0.124545\teval-rmspe:0.110358\n",
      "[558]\ttrain-rmse:0.087917\teval-rmse:0.123131\ttrain-rmspe:0.124504\teval-rmspe:0.110358\n",
      "[559]\ttrain-rmse:0.087865\teval-rmse:0.123126\ttrain-rmspe:0.124459\teval-rmspe:0.110352\n",
      "[560]\ttrain-rmse:0.087823\teval-rmse:0.123108\ttrain-rmspe:0.124423\teval-rmspe:0.110334\n",
      "[561]\ttrain-rmse:0.087807\teval-rmse:0.123105\ttrain-rmspe:0.124409\teval-rmspe:0.110341\n",
      "[562]\ttrain-rmse:0.08778\teval-rmse:0.123099\ttrain-rmspe:0.12438\teval-rmspe:0.110338\n",
      "[563]\ttrain-rmse:0.087762\teval-rmse:0.123097\ttrain-rmspe:0.124364\teval-rmspe:0.11035\n",
      "[564]\ttrain-rmse:0.087722\teval-rmse:0.123095\ttrain-rmspe:0.12434\teval-rmspe:0.110361\n",
      "[565]\ttrain-rmse:0.087699\teval-rmse:0.123084\ttrain-rmspe:0.124316\teval-rmspe:0.11035\n",
      "[566]\ttrain-rmse:0.087614\teval-rmse:0.123113\ttrain-rmspe:0.124282\teval-rmspe:0.110361\n",
      "[567]\ttrain-rmse:0.087566\teval-rmse:0.123082\ttrain-rmspe:0.124244\teval-rmspe:0.110341\n",
      "[568]\ttrain-rmse:0.087534\teval-rmse:0.123072\ttrain-rmspe:0.124189\teval-rmspe:0.110307\n",
      "[569]\ttrain-rmse:0.087485\teval-rmse:0.123045\ttrain-rmspe:0.124136\teval-rmspe:0.110272\n",
      "[570]\ttrain-rmse:0.08746\teval-rmse:0.123028\ttrain-rmspe:0.124111\teval-rmspe:0.110223\n",
      "[571]\ttrain-rmse:0.087449\teval-rmse:0.123064\ttrain-rmspe:0.124105\teval-rmspe:0.110215\n",
      "[572]\ttrain-rmse:0.087406\teval-rmse:0.123063\ttrain-rmspe:0.124121\teval-rmspe:0.11021\n",
      "[573]\ttrain-rmse:0.087367\teval-rmse:0.123046\ttrain-rmspe:0.124086\teval-rmspe:0.110191\n",
      "[574]\ttrain-rmse:0.087349\teval-rmse:0.123041\ttrain-rmspe:0.124084\teval-rmspe:0.110184\n",
      "[575]\ttrain-rmse:0.087317\teval-rmse:0.12301\ttrain-rmspe:0.124051\teval-rmspe:0.110166\n"
     ]
    },
    {
     "name": "stdout",
     "output_type": "stream",
     "text": [
      "[576]\ttrain-rmse:0.087283\teval-rmse:0.123008\ttrain-rmspe:0.124029\teval-rmspe:0.110148\n",
      "[577]\ttrain-rmse:0.087235\teval-rmse:0.122983\ttrain-rmspe:0.124138\teval-rmspe:0.109956\n",
      "[578]\ttrain-rmse:0.087187\teval-rmse:0.122972\ttrain-rmspe:0.124121\teval-rmspe:0.109949\n",
      "[579]\ttrain-rmse:0.087137\teval-rmse:0.122963\ttrain-rmspe:0.124085\teval-rmspe:0.109933\n",
      "[580]\ttrain-rmse:0.087094\teval-rmse:0.122955\ttrain-rmspe:0.124075\teval-rmspe:0.109935\n",
      "[581]\ttrain-rmse:0.087056\teval-rmse:0.122945\ttrain-rmspe:0.124038\teval-rmspe:0.109912\n",
      "[582]\ttrain-rmse:0.087026\teval-rmse:0.122934\ttrain-rmspe:0.12401\teval-rmspe:0.109881\n",
      "[583]\ttrain-rmse:0.086977\teval-rmse:0.122936\ttrain-rmspe:0.123982\teval-rmspe:0.109882\n",
      "[584]\ttrain-rmse:0.086945\teval-rmse:0.122923\ttrain-rmspe:0.123952\teval-rmspe:0.109878\n",
      "[585]\ttrain-rmse:0.086927\teval-rmse:0.122922\ttrain-rmspe:0.123945\teval-rmspe:0.109878\n",
      "[586]\ttrain-rmse:0.086915\teval-rmse:0.122918\ttrain-rmspe:0.123936\teval-rmspe:0.109871\n",
      "[587]\ttrain-rmse:0.086891\teval-rmse:0.122914\ttrain-rmspe:0.123859\teval-rmspe:0.109847\n",
      "[588]\ttrain-rmse:0.086823\teval-rmse:0.122909\ttrain-rmspe:0.123836\teval-rmspe:0.109839\n",
      "[589]\ttrain-rmse:0.086793\teval-rmse:0.122896\ttrain-rmspe:0.123802\teval-rmspe:0.109816\n",
      "[590]\ttrain-rmse:0.086724\teval-rmse:0.122904\ttrain-rmspe:0.123762\teval-rmspe:0.109819\n",
      "[591]\ttrain-rmse:0.08669\teval-rmse:0.1229\ttrain-rmspe:0.123723\teval-rmspe:0.109821\n",
      "[592]\ttrain-rmse:0.086585\teval-rmse:0.122886\ttrain-rmspe:0.123721\teval-rmspe:0.109798\n",
      "[593]\ttrain-rmse:0.086541\teval-rmse:0.122869\ttrain-rmspe:0.123709\teval-rmspe:0.109785\n",
      "[594]\ttrain-rmse:0.086478\teval-rmse:0.12248\ttrain-rmspe:0.123695\teval-rmspe:0.109792\n",
      "[595]\ttrain-rmse:0.086455\teval-rmse:0.122473\ttrain-rmspe:0.123671\teval-rmspe:0.109799\n",
      "[596]\ttrain-rmse:0.086434\teval-rmse:0.122461\ttrain-rmspe:0.123657\teval-rmspe:0.109786\n",
      "[597]\ttrain-rmse:0.086414\teval-rmse:0.122459\ttrain-rmspe:0.123624\teval-rmspe:0.109777\n",
      "[598]\ttrain-rmse:0.086379\teval-rmse:0.122455\ttrain-rmspe:0.1236\teval-rmspe:0.109772\n",
      "[599]\ttrain-rmse:0.086344\teval-rmse:0.122437\ttrain-rmspe:0.123567\teval-rmspe:0.109764\n",
      "[600]\ttrain-rmse:0.086288\teval-rmse:0.122425\ttrain-rmspe:0.123535\teval-rmspe:0.109755\n",
      "[601]\ttrain-rmse:0.086254\teval-rmse:0.122406\ttrain-rmspe:0.12346\teval-rmspe:0.109727\n",
      "[602]\ttrain-rmse:0.086227\teval-rmse:0.122407\ttrain-rmspe:0.123427\teval-rmspe:0.10972\n",
      "[603]\ttrain-rmse:0.086193\teval-rmse:0.122398\ttrain-rmspe:0.123388\teval-rmspe:0.109706\n",
      "[604]\ttrain-rmse:0.08616\teval-rmse:0.122385\ttrain-rmspe:0.123364\teval-rmspe:0.109699\n",
      "[605]\ttrain-rmse:0.086143\teval-rmse:0.122373\ttrain-rmspe:0.123365\teval-rmspe:0.10969\n",
      "[606]\ttrain-rmse:0.086117\teval-rmse:0.122358\ttrain-rmspe:0.123347\teval-rmspe:0.109677\n",
      "[607]\ttrain-rmse:0.086068\teval-rmse:0.122414\ttrain-rmspe:0.123064\teval-rmspe:0.109666\n",
      "[608]\ttrain-rmse:0.086044\teval-rmse:0.122402\ttrain-rmspe:0.123051\teval-rmspe:0.109677\n",
      "[609]\ttrain-rmse:0.086018\teval-rmse:0.122392\ttrain-rmspe:0.123032\teval-rmspe:0.10966\n",
      "[610]\ttrain-rmse:0.085998\teval-rmse:0.122392\ttrain-rmspe:0.122718\teval-rmspe:0.109657\n",
      "[611]\ttrain-rmse:0.085964\teval-rmse:0.122373\ttrain-rmspe:0.122695\teval-rmspe:0.109644\n",
      "[612]\ttrain-rmse:0.085908\teval-rmse:0.122366\ttrain-rmspe:0.122598\teval-rmspe:0.109671\n",
      "[613]\ttrain-rmse:0.085867\teval-rmse:0.122352\ttrain-rmspe:0.122571\teval-rmspe:0.109572\n",
      "[614]\ttrain-rmse:0.085855\teval-rmse:0.122351\ttrain-rmspe:0.122565\teval-rmspe:0.109572\n",
      "[615]\ttrain-rmse:0.085824\teval-rmse:0.12234\ttrain-rmspe:0.12254\teval-rmspe:0.109566\n",
      "[616]\ttrain-rmse:0.085775\teval-rmse:0.12233\ttrain-rmspe:0.122481\teval-rmspe:0.109559\n",
      "[617]\ttrain-rmse:0.085736\teval-rmse:0.122321\ttrain-rmspe:0.122437\teval-rmspe:0.109547\n",
      "[618]\ttrain-rmse:0.085712\teval-rmse:0.12231\ttrain-rmspe:0.122424\teval-rmspe:0.109539\n",
      "[619]\ttrain-rmse:0.085676\teval-rmse:0.122303\ttrain-rmspe:0.122406\teval-rmspe:0.109572\n",
      "[620]\ttrain-rmse:0.085654\teval-rmse:0.122318\ttrain-rmspe:0.122386\teval-rmspe:0.109558\n",
      "[621]\ttrain-rmse:0.085625\teval-rmse:0.122311\ttrain-rmspe:0.122277\teval-rmspe:0.109552\n",
      "[622]\ttrain-rmse:0.085552\teval-rmse:0.122299\ttrain-rmspe:0.122277\teval-rmspe:0.109534\n",
      "[623]\ttrain-rmse:0.085516\teval-rmse:0.122296\ttrain-rmspe:0.122244\teval-rmspe:0.109529\n",
      "[624]\ttrain-rmse:0.085463\teval-rmse:0.122283\ttrain-rmspe:0.121345\teval-rmspe:0.109509\n",
      "[625]\ttrain-rmse:0.085412\teval-rmse:0.122277\ttrain-rmspe:0.120987\teval-rmspe:0.1095\n",
      "[626]\ttrain-rmse:0.085391\teval-rmse:0.12228\ttrain-rmspe:0.120954\teval-rmspe:0.109507\n",
      "[627]\ttrain-rmse:0.085348\teval-rmse:0.122301\ttrain-rmspe:0.120933\teval-rmspe:0.1095\n",
      "[628]\ttrain-rmse:0.085335\teval-rmse:0.122296\ttrain-rmspe:0.120921\teval-rmspe:0.109498\n",
      "[629]\ttrain-rmse:0.08531\teval-rmse:0.122301\ttrain-rmspe:0.120922\teval-rmspe:0.109491\n",
      "[630]\ttrain-rmse:0.085293\teval-rmse:0.122305\ttrain-rmspe:0.120908\teval-rmspe:0.109499\n",
      "[631]\ttrain-rmse:0.08516\teval-rmse:0.122255\ttrain-rmspe:0.120862\teval-rmspe:0.10947\n",
      "[632]\ttrain-rmse:0.085125\teval-rmse:0.122255\ttrain-rmspe:0.120841\teval-rmspe:0.109461\n",
      "[633]\ttrain-rmse:0.085079\teval-rmse:0.122242\ttrain-rmspe:0.120824\teval-rmspe:0.109476\n",
      "[634]\ttrain-rmse:0.085057\teval-rmse:0.122235\ttrain-rmspe:0.120857\teval-rmspe:0.109463\n",
      "[635]\ttrain-rmse:0.085028\teval-rmse:0.122231\ttrain-rmspe:0.120832\teval-rmspe:0.109474\n",
      "[636]\ttrain-rmse:0.08499\teval-rmse:0.122227\ttrain-rmspe:0.120816\teval-rmspe:0.109464\n",
      "[637]\ttrain-rmse:0.084962\teval-rmse:0.122211\ttrain-rmspe:0.120788\teval-rmspe:0.109403\n",
      "[638]\ttrain-rmse:0.084941\teval-rmse:0.122209\ttrain-rmspe:0.120698\teval-rmspe:0.109402\n",
      "[639]\ttrain-rmse:0.084882\teval-rmse:0.1222\ttrain-rmspe:0.120678\teval-rmspe:0.109392\n",
      "[640]\ttrain-rmse:0.084838\teval-rmse:0.122173\ttrain-rmspe:0.12059\teval-rmspe:0.109389\n",
      "[641]\ttrain-rmse:0.084828\teval-rmse:0.122169\ttrain-rmspe:0.120579\teval-rmspe:0.10939\n",
      "[642]\ttrain-rmse:0.084803\teval-rmse:0.122167\ttrain-rmspe:0.120552\teval-rmspe:0.109396\n",
      "[643]\ttrain-rmse:0.084787\teval-rmse:0.122159\ttrain-rmspe:0.120541\teval-rmspe:0.109392\n",
      "[644]\ttrain-rmse:0.084773\teval-rmse:0.122151\ttrain-rmspe:0.120527\teval-rmspe:0.109386\n",
      "[645]\ttrain-rmse:0.084739\teval-rmse:0.122138\ttrain-rmspe:0.120497\teval-rmspe:0.109378\n",
      "[646]\ttrain-rmse:0.08471\teval-rmse:0.122128\ttrain-rmspe:0.120471\teval-rmspe:0.109361\n",
      "[647]\ttrain-rmse:0.084684\teval-rmse:0.122125\ttrain-rmspe:0.120451\teval-rmspe:0.109363\n",
      "[648]\ttrain-rmse:0.084668\teval-rmse:0.122118\ttrain-rmspe:0.120432\teval-rmspe:0.109353\n",
      "[649]\ttrain-rmse:0.084623\teval-rmse:0.122109\ttrain-rmspe:0.120381\teval-rmspe:0.109342\n",
      "[650]\ttrain-rmse:0.08461\teval-rmse:0.122104\ttrain-rmspe:0.120315\teval-rmspe:0.10933\n",
      "[651]\ttrain-rmse:0.084581\teval-rmse:0.122093\ttrain-rmspe:0.12027\teval-rmspe:0.109231\n",
      "[652]\ttrain-rmse:0.084549\teval-rmse:0.122085\ttrain-rmspe:0.120234\teval-rmspe:0.109197\n",
      "[653]\ttrain-rmse:0.084343\teval-rmse:0.122067\ttrain-rmspe:0.12018\teval-rmspe:0.109177\n",
      "[654]\ttrain-rmse:0.084313\teval-rmse:0.121973\ttrain-rmspe:0.120161\teval-rmspe:0.109166\n",
      "[655]\ttrain-rmse:0.08428\teval-rmse:0.121969\ttrain-rmspe:0.120133\teval-rmspe:0.109166\n",
      "[656]\ttrain-rmse:0.08422\teval-rmse:0.122042\ttrain-rmspe:0.120117\teval-rmspe:0.109164\n",
      "[657]\ttrain-rmse:0.084137\teval-rmse:0.122013\ttrain-rmspe:0.120138\teval-rmspe:0.109121\n",
      "[658]\ttrain-rmse:0.084097\teval-rmse:0.122008\ttrain-rmspe:0.111762\teval-rmspe:0.109125\n",
      "[659]\ttrain-rmse:0.084064\teval-rmse:0.122007\ttrain-rmspe:0.111729\teval-rmspe:0.109119\n",
      "[660]\ttrain-rmse:0.084034\teval-rmse:0.122007\ttrain-rmspe:0.111714\teval-rmspe:0.109122\n",
      "[661]\ttrain-rmse:0.084017\teval-rmse:0.122004\ttrain-rmspe:0.111702\teval-rmspe:0.109117\n",
      "[662]\ttrain-rmse:0.083948\teval-rmse:0.122002\ttrain-rmspe:0.111665\teval-rmspe:0.109098\n",
      "[663]\ttrain-rmse:0.083928\teval-rmse:0.122095\ttrain-rmspe:0.111356\teval-rmspe:0.109087\n",
      "[664]\ttrain-rmse:0.083908\teval-rmse:0.122095\ttrain-rmspe:0.111343\teval-rmspe:0.109096\n",
      "[665]\ttrain-rmse:0.08387\teval-rmse:0.122074\ttrain-rmspe:0.111311\teval-rmspe:0.109068\n",
      "[666]\ttrain-rmse:0.083857\teval-rmse:0.122073\ttrain-rmspe:0.111298\teval-rmspe:0.109063\n",
      "[667]\ttrain-rmse:0.083828\teval-rmse:0.122069\ttrain-rmspe:0.111272\teval-rmspe:0.109055\n",
      "[668]\ttrain-rmse:0.083787\teval-rmse:0.122082\ttrain-rmspe:0.111253\teval-rmspe:0.109105\n",
      "[669]\ttrain-rmse:0.083766\teval-rmse:0.121953\ttrain-rmspe:0.111232\teval-rmspe:0.109074\n",
      "[670]\ttrain-rmse:0.083734\teval-rmse:0.121971\ttrain-rmspe:0.111088\teval-rmspe:0.109069\n",
      "[671]\ttrain-rmse:0.083702\teval-rmse:0.121962\ttrain-rmspe:0.111058\teval-rmspe:0.109059\n"
     ]
    },
    {
     "name": "stdout",
     "output_type": "stream",
     "text": [
      "[672]\ttrain-rmse:0.083685\teval-rmse:0.121964\ttrain-rmspe:0.111031\teval-rmspe:0.109049\n",
      "[673]\ttrain-rmse:0.083667\teval-rmse:0.121959\ttrain-rmspe:0.111022\teval-rmspe:0.109056\n",
      "[674]\ttrain-rmse:0.083639\teval-rmse:0.121953\ttrain-rmspe:0.110983\teval-rmspe:0.109049\n",
      "[675]\ttrain-rmse:0.083622\teval-rmse:0.12195\ttrain-rmspe:0.11097\teval-rmspe:0.109044\n",
      "[676]\ttrain-rmse:0.083599\teval-rmse:0.121946\ttrain-rmspe:0.110955\teval-rmspe:0.109034\n",
      "[677]\ttrain-rmse:0.083566\teval-rmse:0.121941\ttrain-rmspe:0.110933\teval-rmspe:0.109025\n",
      "[678]\ttrain-rmse:0.083536\teval-rmse:0.121938\ttrain-rmspe:0.110899\teval-rmspe:0.109026\n",
      "[679]\ttrain-rmse:0.0835\teval-rmse:0.121926\ttrain-rmspe:0.110877\teval-rmspe:0.109042\n",
      "[680]\ttrain-rmse:0.083462\teval-rmse:0.121919\ttrain-rmspe:0.110828\teval-rmspe:0.108994\n",
      "[681]\ttrain-rmse:0.083409\teval-rmse:0.121941\ttrain-rmspe:0.110806\teval-rmspe:0.108986\n",
      "[682]\ttrain-rmse:0.083335\teval-rmse:0.121968\ttrain-rmspe:0.110794\teval-rmspe:0.108976\n",
      "[683]\ttrain-rmse:0.083286\teval-rmse:0.121964\ttrain-rmspe:0.10328\teval-rmspe:0.108967\n",
      "[684]\ttrain-rmse:0.083273\teval-rmse:0.121965\ttrain-rmspe:0.10327\teval-rmspe:0.108965\n",
      "[685]\ttrain-rmse:0.083223\teval-rmse:0.121989\ttrain-rmspe:0.103222\teval-rmspe:0.108967\n",
      "[686]\ttrain-rmse:0.0832\teval-rmse:0.121989\ttrain-rmspe:0.103179\teval-rmspe:0.108972\n",
      "[687]\ttrain-rmse:0.083166\teval-rmse:0.12198\ttrain-rmspe:0.103148\teval-rmspe:0.108967\n",
      "[688]\ttrain-rmse:0.083134\teval-rmse:0.121967\ttrain-rmspe:0.103118\teval-rmspe:0.108901\n",
      "[689]\ttrain-rmse:0.083094\teval-rmse:0.121964\ttrain-rmspe:0.102977\teval-rmspe:0.108895\n",
      "[690]\ttrain-rmse:0.083075\teval-rmse:0.121962\ttrain-rmspe:0.102961\teval-rmspe:0.10889\n",
      "[691]\ttrain-rmse:0.083027\teval-rmse:0.121951\ttrain-rmspe:0.093843\teval-rmspe:0.108882\n",
      "[692]\ttrain-rmse:0.083023\teval-rmse:0.121944\ttrain-rmspe:0.094465\teval-rmspe:0.108874\n",
      "[693]\ttrain-rmse:0.082994\teval-rmse:0.121927\ttrain-rmspe:0.094437\teval-rmspe:0.108854\n",
      "[694]\ttrain-rmse:0.082959\teval-rmse:0.121924\ttrain-rmspe:0.09441\teval-rmspe:0.108855\n",
      "[695]\ttrain-rmse:0.082936\teval-rmse:0.12192\ttrain-rmspe:0.094369\teval-rmspe:0.108853\n",
      "[696]\ttrain-rmse:0.082914\teval-rmse:0.121912\ttrain-rmspe:0.094317\teval-rmspe:0.108851\n",
      "[697]\ttrain-rmse:0.082875\teval-rmse:0.121901\ttrain-rmspe:0.094271\teval-rmspe:0.108837\n",
      "[698]\ttrain-rmse:0.082834\teval-rmse:0.121888\ttrain-rmspe:0.094202\teval-rmspe:0.108821\n",
      "[699]\ttrain-rmse:0.082817\teval-rmse:0.121916\ttrain-rmspe:0.094189\teval-rmspe:0.108825\n",
      "[700]\ttrain-rmse:0.082801\teval-rmse:0.121908\ttrain-rmspe:0.094192\teval-rmspe:0.10882\n",
      "[701]\ttrain-rmse:0.08278\teval-rmse:0.121905\ttrain-rmspe:0.094155\teval-rmspe:0.108811\n",
      "[702]\ttrain-rmse:0.082757\teval-rmse:0.121897\ttrain-rmspe:0.094132\teval-rmspe:0.108796\n",
      "[703]\ttrain-rmse:0.082738\teval-rmse:0.121892\ttrain-rmspe:0.09411\teval-rmspe:0.108791\n",
      "[704]\ttrain-rmse:0.08268\teval-rmse:0.121879\ttrain-rmspe:0.094078\teval-rmspe:0.108779\n",
      "[705]\ttrain-rmse:0.082652\teval-rmse:0.121865\ttrain-rmspe:0.094056\teval-rmspe:0.108744\n",
      "[706]\ttrain-rmse:0.082636\teval-rmse:0.121859\ttrain-rmspe:0.094049\teval-rmspe:0.108735\n",
      "[707]\ttrain-rmse:0.082615\teval-rmse:0.12185\ttrain-rmspe:0.094027\teval-rmspe:0.108725\n",
      "[708]\ttrain-rmse:0.082576\teval-rmse:0.12184\ttrain-rmspe:0.093989\teval-rmspe:0.108703\n",
      "[709]\ttrain-rmse:0.082545\teval-rmse:0.121839\ttrain-rmspe:0.093966\teval-rmspe:0.108695\n",
      "[710]\ttrain-rmse:0.082511\teval-rmse:0.121834\ttrain-rmspe:0.09394\teval-rmspe:0.108697\n",
      "[711]\ttrain-rmse:0.082457\teval-rmse:0.121826\ttrain-rmspe:0.093696\teval-rmspe:0.108685\n",
      "[712]\ttrain-rmse:0.082427\teval-rmse:0.121807\ttrain-rmspe:0.093663\teval-rmspe:0.108664\n",
      "[713]\ttrain-rmse:0.082414\teval-rmse:0.121807\ttrain-rmspe:0.093646\teval-rmspe:0.108666\n",
      "[714]\ttrain-rmse:0.082363\teval-rmse:0.121599\ttrain-rmspe:0.093618\teval-rmspe:0.10867\n",
      "[715]\ttrain-rmse:0.082344\teval-rmse:0.121594\ttrain-rmspe:0.0936\teval-rmspe:0.108668\n",
      "[716]\ttrain-rmse:0.08232\teval-rmse:0.121586\ttrain-rmspe:0.093571\teval-rmspe:0.108656\n",
      "[717]\ttrain-rmse:0.082293\teval-rmse:0.121582\ttrain-rmspe:0.093503\teval-rmspe:0.108679\n",
      "[718]\ttrain-rmse:0.082267\teval-rmse:0.121577\ttrain-rmspe:0.093489\teval-rmspe:0.108666\n",
      "[719]\ttrain-rmse:0.082236\teval-rmse:0.121571\ttrain-rmspe:0.093436\teval-rmspe:0.10865\n",
      "[720]\ttrain-rmse:0.082205\teval-rmse:0.121556\ttrain-rmspe:0.093401\teval-rmspe:0.108621\n",
      "[721]\ttrain-rmse:0.082195\teval-rmse:0.12156\ttrain-rmspe:0.093388\teval-rmspe:0.108625\n",
      "[722]\ttrain-rmse:0.082157\teval-rmse:0.121478\ttrain-rmspe:0.093362\teval-rmspe:0.108613\n",
      "[723]\ttrain-rmse:0.082138\teval-rmse:0.121471\ttrain-rmspe:0.093335\teval-rmspe:0.108593\n",
      "[724]\ttrain-rmse:0.082085\teval-rmse:0.121469\ttrain-rmspe:0.093315\teval-rmspe:0.108588\n",
      "[725]\ttrain-rmse:0.082059\teval-rmse:0.12146\ttrain-rmspe:0.093288\teval-rmspe:0.108583\n",
      "[726]\ttrain-rmse:0.082011\teval-rmse:0.121427\ttrain-rmspe:0.093381\teval-rmspe:0.108538\n",
      "[727]\ttrain-rmse:0.081988\teval-rmse:0.121418\ttrain-rmspe:0.093364\teval-rmspe:0.108534\n",
      "[728]\ttrain-rmse:0.081963\teval-rmse:0.121414\ttrain-rmspe:0.09334\teval-rmspe:0.108535\n",
      "[729]\ttrain-rmse:0.081946\teval-rmse:0.121412\ttrain-rmspe:0.093328\teval-rmspe:0.108535\n",
      "[730]\ttrain-rmse:0.081918\teval-rmse:0.121398\ttrain-rmspe:0.093276\teval-rmspe:0.108515\n",
      "[731]\ttrain-rmse:0.081885\teval-rmse:0.121411\ttrain-rmspe:0.093242\teval-rmspe:0.108496\n",
      "[732]\ttrain-rmse:0.081848\teval-rmse:0.121401\ttrain-rmspe:0.093209\teval-rmspe:0.108465\n",
      "[733]\ttrain-rmse:0.08183\teval-rmse:0.121399\ttrain-rmspe:0.093193\teval-rmspe:0.108475\n",
      "[734]\ttrain-rmse:0.081804\teval-rmse:0.121398\ttrain-rmspe:0.09121\teval-rmspe:0.108472\n",
      "[735]\ttrain-rmse:0.08178\teval-rmse:0.121404\ttrain-rmspe:0.09119\teval-rmspe:0.108472\n",
      "[736]\ttrain-rmse:0.081755\teval-rmse:0.121403\ttrain-rmspe:0.091149\teval-rmspe:0.108472\n",
      "[737]\ttrain-rmse:0.081734\teval-rmse:0.121395\ttrain-rmspe:0.091129\teval-rmspe:0.108469\n",
      "[738]\ttrain-rmse:0.081711\teval-rmse:0.121392\ttrain-rmspe:0.091113\teval-rmspe:0.108458\n",
      "[739]\ttrain-rmse:0.081608\teval-rmse:0.121423\ttrain-rmspe:0.09108\teval-rmspe:0.108465\n",
      "[740]\ttrain-rmse:0.081567\teval-rmse:0.12141\ttrain-rmspe:0.087505\teval-rmspe:0.108439\n",
      "[741]\ttrain-rmse:0.081547\teval-rmse:0.121406\ttrain-rmspe:0.087485\teval-rmspe:0.108435\n",
      "[742]\ttrain-rmse:0.081527\teval-rmse:0.121401\ttrain-rmspe:0.087463\teval-rmspe:0.108429\n",
      "[743]\ttrain-rmse:0.081511\teval-rmse:0.121398\ttrain-rmspe:0.087444\teval-rmspe:0.108419\n",
      "[744]\ttrain-rmse:0.081493\teval-rmse:0.121394\ttrain-rmspe:0.087448\teval-rmspe:0.108411\n",
      "[745]\ttrain-rmse:0.081485\teval-rmse:0.121392\ttrain-rmspe:0.087429\teval-rmspe:0.108408\n",
      "[746]\ttrain-rmse:0.081471\teval-rmse:0.121388\ttrain-rmspe:0.087442\teval-rmspe:0.108404\n",
      "[747]\ttrain-rmse:0.08145\teval-rmse:0.121381\ttrain-rmspe:0.087414\teval-rmspe:0.108397\n",
      "[748]\ttrain-rmse:0.081418\teval-rmse:0.12112\ttrain-rmspe:0.087401\teval-rmspe:0.108404\n",
      "[749]\ttrain-rmse:0.081397\teval-rmse:0.121114\ttrain-rmspe:0.087368\teval-rmspe:0.108394\n",
      "[750]\ttrain-rmse:0.081387\teval-rmse:0.121113\ttrain-rmspe:0.087359\teval-rmspe:0.108393\n",
      "[751]\ttrain-rmse:0.081372\teval-rmse:0.121109\ttrain-rmspe:0.087345\teval-rmspe:0.108383\n",
      "[752]\ttrain-rmse:0.081356\teval-rmse:0.121105\ttrain-rmspe:0.087326\teval-rmspe:0.108373\n",
      "[753]\ttrain-rmse:0.081341\teval-rmse:0.121102\ttrain-rmspe:0.087311\teval-rmspe:0.10838\n",
      "[754]\ttrain-rmse:0.081321\teval-rmse:0.121098\ttrain-rmspe:0.087296\teval-rmspe:0.10838\n",
      "[755]\ttrain-rmse:0.0813\teval-rmse:0.121093\ttrain-rmspe:0.087308\teval-rmspe:0.10837\n",
      "[756]\ttrain-rmse:0.081257\teval-rmse:0.121088\ttrain-rmspe:0.087296\teval-rmspe:0.108367\n",
      "[757]\ttrain-rmse:0.081235\teval-rmse:0.121087\ttrain-rmspe:0.087291\teval-rmspe:0.108371\n",
      "[758]\ttrain-rmse:0.081221\teval-rmse:0.121075\ttrain-rmspe:0.087271\teval-rmspe:0.108364\n",
      "[759]\ttrain-rmse:0.081201\teval-rmse:0.121064\ttrain-rmspe:0.087256\teval-rmspe:0.108357\n",
      "[760]\ttrain-rmse:0.081193\teval-rmse:0.121059\ttrain-rmspe:0.087248\teval-rmspe:0.108346\n",
      "[761]\ttrain-rmse:0.081166\teval-rmse:0.121052\ttrain-rmspe:0.087226\teval-rmspe:0.108339\n",
      "[762]\ttrain-rmse:0.081145\teval-rmse:0.121046\ttrain-rmspe:0.087205\teval-rmspe:0.108344\n",
      "[763]\ttrain-rmse:0.081123\teval-rmse:0.121043\ttrain-rmspe:0.087188\teval-rmspe:0.108338\n",
      "[764]\ttrain-rmse:0.081112\teval-rmse:0.121037\ttrain-rmspe:0.087178\teval-rmspe:0.108331\n",
      "[765]\ttrain-rmse:0.081092\teval-rmse:0.121031\ttrain-rmspe:0.087151\teval-rmspe:0.108312\n",
      "[766]\ttrain-rmse:0.08107\teval-rmse:0.121021\ttrain-rmspe:0.087133\teval-rmspe:0.108301\n",
      "[767]\ttrain-rmse:0.081046\teval-rmse:0.121031\ttrain-rmspe:0.087114\teval-rmspe:0.10834\n"
     ]
    },
    {
     "name": "stdout",
     "output_type": "stream",
     "text": [
      "[768]\ttrain-rmse:0.081026\teval-rmse:0.121031\ttrain-rmspe:0.087088\teval-rmspe:0.108337\n",
      "[769]\ttrain-rmse:0.081002\teval-rmse:0.120998\ttrain-rmspe:0.087027\teval-rmspe:0.108321\n",
      "[770]\ttrain-rmse:0.08098\teval-rmse:0.120997\ttrain-rmspe:0.086994\teval-rmspe:0.108322\n",
      "[771]\ttrain-rmse:0.080954\teval-rmse:0.120987\ttrain-rmspe:0.086963\teval-rmspe:0.108307\n",
      "[772]\ttrain-rmse:0.080934\teval-rmse:0.120987\ttrain-rmspe:0.086942\teval-rmspe:0.108308\n",
      "[773]\ttrain-rmse:0.080921\teval-rmse:0.120983\ttrain-rmspe:0.086915\teval-rmspe:0.108283\n",
      "[774]\ttrain-rmse:0.080891\teval-rmse:0.120968\ttrain-rmspe:0.086882\teval-rmspe:0.108279\n",
      "[775]\ttrain-rmse:0.080861\teval-rmse:0.12097\ttrain-rmspe:0.08685\teval-rmspe:0.108277\n",
      "[776]\ttrain-rmse:0.080849\teval-rmse:0.121039\ttrain-rmspe:0.087092\teval-rmspe:0.108275\n",
      "[777]\ttrain-rmse:0.080824\teval-rmse:0.121031\ttrain-rmspe:0.087059\teval-rmspe:0.108268\n",
      "[778]\ttrain-rmse:0.080799\teval-rmse:0.121027\ttrain-rmspe:0.087031\teval-rmspe:0.108263\n",
      "[779]\ttrain-rmse:0.080778\teval-rmse:0.121027\ttrain-rmspe:0.087005\teval-rmspe:0.108257\n",
      "[780]\ttrain-rmse:0.080751\teval-rmse:0.12102\ttrain-rmspe:0.086979\teval-rmspe:0.108257\n",
      "[781]\ttrain-rmse:0.080729\teval-rmse:0.120852\ttrain-rmspe:0.086959\teval-rmspe:0.108267\n",
      "[782]\ttrain-rmse:0.080687\teval-rmse:0.120838\ttrain-rmspe:0.086932\teval-rmspe:0.108255\n",
      "[783]\ttrain-rmse:0.080668\teval-rmse:0.120833\ttrain-rmspe:0.086907\teval-rmspe:0.108252\n",
      "[784]\ttrain-rmse:0.080642\teval-rmse:0.120832\ttrain-rmspe:0.086872\teval-rmspe:0.108235\n",
      "[785]\ttrain-rmse:0.08062\teval-rmse:0.120824\ttrain-rmspe:0.086848\teval-rmspe:0.108245\n",
      "[786]\ttrain-rmse:0.0806\teval-rmse:0.120815\ttrain-rmspe:0.086824\teval-rmspe:0.108235\n",
      "[787]\ttrain-rmse:0.080587\teval-rmse:0.120808\ttrain-rmspe:0.086811\teval-rmspe:0.108235\n",
      "[788]\ttrain-rmse:0.080569\teval-rmse:0.120804\ttrain-rmspe:0.086794\teval-rmspe:0.108236\n",
      "[789]\ttrain-rmse:0.080543\teval-rmse:0.120806\ttrain-rmspe:0.086778\teval-rmspe:0.108233\n",
      "[790]\ttrain-rmse:0.080483\teval-rmse:0.120352\ttrain-rmspe:0.086746\teval-rmspe:0.10824\n",
      "[791]\ttrain-rmse:0.080438\teval-rmse:0.120173\ttrain-rmspe:0.086721\teval-rmspe:0.108217\n",
      "[792]\ttrain-rmse:0.080399\teval-rmse:0.12015\ttrain-rmspe:0.086701\teval-rmspe:0.108211\n",
      "[793]\ttrain-rmse:0.080348\teval-rmse:0.120153\ttrain-rmspe:0.086652\teval-rmspe:0.108325\n",
      "[794]\ttrain-rmse:0.080321\teval-rmse:0.120174\ttrain-rmspe:0.086637\teval-rmspe:0.108341\n",
      "[795]\ttrain-rmse:0.0803\teval-rmse:0.120174\ttrain-rmspe:0.086596\teval-rmspe:0.108375\n",
      "[796]\ttrain-rmse:0.080267\teval-rmse:0.120157\ttrain-rmspe:0.086553\teval-rmspe:0.108298\n",
      "[797]\ttrain-rmse:0.08024\teval-rmse:0.120156\ttrain-rmspe:0.086512\teval-rmspe:0.108293\n",
      "[798]\ttrain-rmse:0.080214\teval-rmse:0.120142\ttrain-rmspe:0.086481\teval-rmspe:0.108286\n",
      "[799]\ttrain-rmse:0.080188\teval-rmse:0.120146\ttrain-rmspe:0.08646\teval-rmspe:0.108284\n",
      "[800]\ttrain-rmse:0.080162\teval-rmse:0.120142\ttrain-rmspe:0.086435\teval-rmspe:0.108287\n",
      "[801]\ttrain-rmse:0.080106\teval-rmse:0.120143\ttrain-rmspe:0.086427\teval-rmspe:0.108285\n",
      "[802]\ttrain-rmse:0.080081\teval-rmse:0.120137\ttrain-rmspe:0.086385\teval-rmspe:0.108273\n",
      "[803]\ttrain-rmse:0.080064\teval-rmse:0.120126\ttrain-rmspe:0.08637\teval-rmspe:0.108271\n",
      "[804]\ttrain-rmse:0.080052\teval-rmse:0.120127\ttrain-rmspe:0.086358\teval-rmspe:0.108271\n",
      "[805]\ttrain-rmse:0.080021\teval-rmse:0.120122\ttrain-rmspe:0.086314\teval-rmspe:0.108259\n",
      "[806]\ttrain-rmse:0.080012\teval-rmse:0.12012\ttrain-rmspe:0.086307\teval-rmspe:0.108262\n",
      "[807]\ttrain-rmse:0.079994\teval-rmse:0.120106\ttrain-rmspe:0.08628\teval-rmspe:0.108213\n",
      "[808]\ttrain-rmse:0.079972\teval-rmse:0.12009\ttrain-rmspe:0.086259\teval-rmspe:0.108203\n",
      "[809]\ttrain-rmse:0.079942\teval-rmse:0.120079\ttrain-rmspe:0.086226\teval-rmspe:0.108177\n",
      "[810]\ttrain-rmse:0.079931\teval-rmse:0.120067\ttrain-rmspe:0.086216\teval-rmspe:0.108174\n",
      "[811]\ttrain-rmse:0.079893\teval-rmse:0.120064\ttrain-rmspe:0.086162\teval-rmspe:0.108174\n",
      "[812]\ttrain-rmse:0.079873\teval-rmse:0.120027\ttrain-rmspe:0.086143\teval-rmspe:0.108165\n",
      "[813]\ttrain-rmse:0.079834\teval-rmse:0.120029\ttrain-rmspe:0.086119\teval-rmspe:0.108164\n",
      "[814]\ttrain-rmse:0.079816\teval-rmse:0.120024\ttrain-rmspe:0.086087\teval-rmspe:0.108159\n",
      "[815]\ttrain-rmse:0.079762\teval-rmse:0.120018\ttrain-rmspe:0.08345\teval-rmspe:0.108148\n",
      "[816]\ttrain-rmse:0.079746\teval-rmse:0.120011\ttrain-rmspe:0.083435\teval-rmspe:0.108137\n",
      "[817]\ttrain-rmse:0.07969\teval-rmse:0.120005\ttrain-rmspe:0.083404\teval-rmspe:0.108131\n",
      "[818]\ttrain-rmse:0.079672\teval-rmse:0.119995\ttrain-rmspe:0.083396\teval-rmspe:0.108128\n",
      "[819]\ttrain-rmse:0.079608\teval-rmse:0.119989\ttrain-rmspe:0.083267\teval-rmspe:0.108125\n",
      "[820]\ttrain-rmse:0.079586\teval-rmse:0.119975\ttrain-rmspe:0.083243\teval-rmspe:0.108113\n",
      "[821]\ttrain-rmse:0.079573\teval-rmse:0.119968\ttrain-rmspe:0.083223\teval-rmspe:0.108099\n",
      "[822]\ttrain-rmse:0.079551\teval-rmse:0.119963\ttrain-rmspe:0.083197\teval-rmspe:0.108108\n",
      "[823]\ttrain-rmse:0.079525\teval-rmse:0.119951\ttrain-rmspe:0.083173\teval-rmspe:0.108096\n",
      "[824]\ttrain-rmse:0.079508\teval-rmse:0.119939\ttrain-rmspe:0.083088\teval-rmspe:0.108072\n",
      "[825]\ttrain-rmse:0.079487\teval-rmse:0.119936\ttrain-rmspe:0.083064\teval-rmspe:0.108077\n",
      "[826]\ttrain-rmse:0.079474\teval-rmse:0.119933\ttrain-rmspe:0.08305\teval-rmspe:0.108071\n",
      "[827]\ttrain-rmse:0.079457\teval-rmse:0.119931\ttrain-rmspe:0.083032\teval-rmspe:0.108067\n",
      "[828]\ttrain-rmse:0.079387\teval-rmse:0.119902\ttrain-rmspe:0.083006\teval-rmspe:0.108067\n",
      "[829]\ttrain-rmse:0.079364\teval-rmse:0.119896\ttrain-rmspe:0.082981\teval-rmspe:0.108058\n",
      "[830]\ttrain-rmse:0.079308\teval-rmse:0.119895\ttrain-rmspe:0.082468\teval-rmspe:0.10809\n",
      "[831]\ttrain-rmse:0.079248\teval-rmse:0.11989\ttrain-rmspe:0.08245\teval-rmspe:0.10808\n",
      "[832]\ttrain-rmse:0.079223\teval-rmse:0.119901\ttrain-rmspe:0.082427\teval-rmspe:0.108086\n",
      "[833]\ttrain-rmse:0.079119\teval-rmse:0.119899\ttrain-rmspe:0.082408\teval-rmspe:0.108088\n",
      "[834]\ttrain-rmse:0.079069\teval-rmse:0.119894\ttrain-rmspe:0.08239\teval-rmspe:0.108092\n",
      "[835]\ttrain-rmse:0.07904\teval-rmse:0.119874\ttrain-rmspe:0.082359\teval-rmspe:0.108064\n",
      "[836]\ttrain-rmse:0.07901\teval-rmse:0.119874\ttrain-rmspe:0.082345\teval-rmspe:0.108061\n",
      "[837]\ttrain-rmse:0.078988\teval-rmse:0.119873\ttrain-rmspe:0.082311\teval-rmspe:0.108108\n",
      "[838]\ttrain-rmse:0.078947\teval-rmse:0.119879\ttrain-rmspe:0.08228\teval-rmspe:0.108113\n",
      "[839]\ttrain-rmse:0.078926\teval-rmse:0.119868\ttrain-rmspe:0.082259\teval-rmspe:0.108048\n",
      "[840]\ttrain-rmse:0.078886\teval-rmse:0.119859\ttrain-rmspe:0.082234\teval-rmspe:0.108038\n",
      "[841]\ttrain-rmse:0.078867\teval-rmse:0.11985\ttrain-rmspe:0.082201\teval-rmspe:0.108013\n",
      "[842]\ttrain-rmse:0.078849\teval-rmse:0.119844\ttrain-rmspe:0.082182\teval-rmspe:0.108008\n",
      "[843]\ttrain-rmse:0.078841\teval-rmse:0.119836\ttrain-rmspe:0.082175\teval-rmspe:0.108\n",
      "[844]\ttrain-rmse:0.078832\teval-rmse:0.119839\ttrain-rmspe:0.082164\teval-rmspe:0.108009\n",
      "[845]\ttrain-rmse:0.078826\teval-rmse:0.119834\ttrain-rmspe:0.082161\teval-rmspe:0.108005\n",
      "[846]\ttrain-rmse:0.078778\teval-rmse:0.11988\ttrain-rmspe:0.082136\teval-rmspe:0.107996\n",
      "[847]\ttrain-rmse:0.078758\teval-rmse:0.119881\ttrain-rmspe:0.082113\teval-rmspe:0.10801\n",
      "[848]\ttrain-rmse:0.078733\teval-rmse:0.11988\ttrain-rmspe:0.082071\teval-rmspe:0.107995\n",
      "[849]\ttrain-rmse:0.078716\teval-rmse:0.119882\ttrain-rmspe:0.08205\teval-rmspe:0.107992\n",
      "[850]\ttrain-rmse:0.078701\teval-rmse:0.119883\ttrain-rmspe:0.082033\teval-rmspe:0.107988\n",
      "[851]\ttrain-rmse:0.078676\teval-rmse:0.119883\ttrain-rmspe:0.082011\teval-rmspe:0.107976\n",
      "[852]\ttrain-rmse:0.078664\teval-rmse:0.119874\ttrain-rmspe:0.082\teval-rmspe:0.107977\n",
      "[853]\ttrain-rmse:0.078635\teval-rmse:0.119876\ttrain-rmspe:0.081986\teval-rmspe:0.107982\n",
      "[854]\ttrain-rmse:0.07862\teval-rmse:0.119871\ttrain-rmspe:0.081973\teval-rmspe:0.107972\n",
      "[855]\ttrain-rmse:0.078596\teval-rmse:0.119866\ttrain-rmspe:0.081947\teval-rmspe:0.107968\n",
      "[856]\ttrain-rmse:0.078579\teval-rmse:0.119863\ttrain-rmspe:0.081925\teval-rmspe:0.107965\n",
      "[857]\ttrain-rmse:0.078562\teval-rmse:0.119861\ttrain-rmspe:0.081905\teval-rmspe:0.107962\n",
      "[858]\ttrain-rmse:0.078547\teval-rmse:0.119862\ttrain-rmspe:0.081705\teval-rmspe:0.107961\n",
      "[859]\ttrain-rmse:0.078467\teval-rmse:0.119857\ttrain-rmspe:0.081636\teval-rmspe:0.107927\n",
      "[860]\ttrain-rmse:0.078444\teval-rmse:0.119838\ttrain-rmspe:0.081615\teval-rmspe:0.107891\n",
      "[861]\ttrain-rmse:0.078417\teval-rmse:0.119832\ttrain-rmspe:0.081579\teval-rmspe:0.107893\n",
      "[862]\ttrain-rmse:0.078397\teval-rmse:0.119829\ttrain-rmspe:0.081561\teval-rmspe:0.107907\n",
      "[863]\ttrain-rmse:0.078358\teval-rmse:0.119907\ttrain-rmspe:0.081541\teval-rmspe:0.107948\n"
     ]
    },
    {
     "name": "stdout",
     "output_type": "stream",
     "text": [
      "[864]\ttrain-rmse:0.078342\teval-rmse:0.119906\ttrain-rmspe:0.081515\teval-rmspe:0.107946\n",
      "[865]\ttrain-rmse:0.078321\teval-rmse:0.119907\ttrain-rmspe:0.081487\teval-rmspe:0.10794\n",
      "[866]\ttrain-rmse:0.078286\teval-rmse:0.119904\ttrain-rmspe:0.081468\teval-rmspe:0.107943\n",
      "[867]\ttrain-rmse:0.07827\teval-rmse:0.1199\ttrain-rmspe:0.081453\teval-rmspe:0.107939\n",
      "[868]\ttrain-rmse:0.078259\teval-rmse:0.119899\ttrain-rmspe:0.081443\teval-rmspe:0.107941\n",
      "[869]\ttrain-rmse:0.078235\teval-rmse:0.119893\ttrain-rmspe:0.081409\teval-rmspe:0.10793\n",
      "[870]\ttrain-rmse:0.07821\teval-rmse:0.11989\ttrain-rmspe:0.081396\teval-rmspe:0.107932\n",
      "[871]\ttrain-rmse:0.078189\teval-rmse:0.11989\ttrain-rmspe:0.081362\teval-rmspe:0.107917\n",
      "[872]\ttrain-rmse:0.078173\teval-rmse:0.119885\ttrain-rmspe:0.081338\teval-rmspe:0.107911\n",
      "[873]\ttrain-rmse:0.07813\teval-rmse:0.119859\ttrain-rmspe:0.081311\teval-rmspe:0.10789\n",
      "[874]\ttrain-rmse:0.078124\teval-rmse:0.11986\ttrain-rmspe:0.081308\teval-rmspe:0.107895\n",
      "[875]\ttrain-rmse:0.078108\teval-rmse:0.119853\ttrain-rmspe:0.081291\teval-rmspe:0.107899\n",
      "[876]\ttrain-rmse:0.078097\teval-rmse:0.119833\ttrain-rmspe:0.081284\teval-rmspe:0.107891\n",
      "[877]\ttrain-rmse:0.078085\teval-rmse:0.119831\ttrain-rmspe:0.081272\teval-rmspe:0.107887\n",
      "[878]\ttrain-rmse:0.078068\teval-rmse:0.119831\ttrain-rmspe:0.08125\teval-rmspe:0.107884\n",
      "[879]\ttrain-rmse:0.078034\teval-rmse:0.119639\ttrain-rmspe:0.081232\teval-rmspe:0.107883\n",
      "[880]\ttrain-rmse:0.078018\teval-rmse:0.119644\ttrain-rmspe:0.081212\teval-rmspe:0.107878\n",
      "[881]\ttrain-rmse:0.077972\teval-rmse:0.119634\ttrain-rmspe:0.080711\teval-rmspe:0.107873\n",
      "[882]\ttrain-rmse:0.077944\teval-rmse:0.119636\ttrain-rmspe:0.080645\teval-rmspe:0.10787\n",
      "[883]\ttrain-rmse:0.077825\teval-rmse:0.119652\ttrain-rmspe:0.080624\teval-rmspe:0.107872\n",
      "[884]\ttrain-rmse:0.077806\teval-rmse:0.119649\ttrain-rmspe:0.080601\teval-rmspe:0.107894\n",
      "[885]\ttrain-rmse:0.077782\teval-rmse:0.119651\ttrain-rmspe:0.080534\teval-rmspe:0.107921\n",
      "[886]\ttrain-rmse:0.077775\teval-rmse:0.119647\ttrain-rmspe:0.080534\teval-rmspe:0.107932\n",
      "[887]\ttrain-rmse:0.077756\teval-rmse:0.119643\ttrain-rmspe:0.080515\teval-rmspe:0.107928\n",
      "[888]\ttrain-rmse:0.077729\teval-rmse:0.119638\ttrain-rmspe:0.08049\teval-rmspe:0.107911\n",
      "[889]\ttrain-rmse:0.077684\teval-rmse:0.119643\ttrain-rmspe:0.08048\teval-rmspe:0.107923\n",
      "[890]\ttrain-rmse:0.077675\teval-rmse:0.119644\ttrain-rmspe:0.080471\teval-rmspe:0.107929\n",
      "[891]\ttrain-rmse:0.077619\teval-rmse:0.119647\ttrain-rmspe:0.080455\teval-rmspe:0.107934\n",
      "[892]\ttrain-rmse:0.077604\teval-rmse:0.119642\ttrain-rmspe:0.080429\teval-rmspe:0.107928\n",
      "[893]\ttrain-rmse:0.077582\teval-rmse:0.119639\ttrain-rmspe:0.080399\teval-rmspe:0.107925\n",
      "[894]\ttrain-rmse:0.077565\teval-rmse:0.119634\ttrain-rmspe:0.080378\teval-rmspe:0.107927\n",
      "[895]\ttrain-rmse:0.077546\teval-rmse:0.119633\ttrain-rmspe:0.08034\teval-rmspe:0.107926\n",
      "[896]\ttrain-rmse:0.077498\teval-rmse:0.119635\ttrain-rmspe:0.080316\teval-rmspe:0.107925\n",
      "[897]\ttrain-rmse:0.077478\teval-rmse:0.119627\ttrain-rmspe:0.080298\teval-rmspe:0.107916\n",
      "[898]\ttrain-rmse:0.077461\teval-rmse:0.119629\ttrain-rmspe:0.080277\teval-rmspe:0.107875\n",
      "[899]\ttrain-rmse:0.077443\teval-rmse:0.119631\ttrain-rmspe:0.080261\teval-rmspe:0.107873\n",
      "[900]\ttrain-rmse:0.077425\teval-rmse:0.11963\ttrain-rmspe:0.080243\teval-rmspe:0.107888\n",
      "[901]\ttrain-rmse:0.077404\teval-rmse:0.119599\ttrain-rmspe:0.080218\teval-rmspe:0.107657\n",
      "[902]\ttrain-rmse:0.077394\teval-rmse:0.119595\ttrain-rmspe:0.080207\teval-rmspe:0.107645\n",
      "[903]\ttrain-rmse:0.077377\teval-rmse:0.119597\ttrain-rmspe:0.080191\teval-rmspe:0.107654\n",
      "[904]\ttrain-rmse:0.077361\teval-rmse:0.119594\ttrain-rmspe:0.080176\teval-rmspe:0.107645\n",
      "[905]\ttrain-rmse:0.077331\teval-rmse:0.119582\ttrain-rmspe:0.08013\teval-rmspe:0.107536\n",
      "[906]\ttrain-rmse:0.077307\teval-rmse:0.119572\ttrain-rmspe:0.080107\teval-rmspe:0.107511\n",
      "[907]\ttrain-rmse:0.077273\teval-rmse:0.119564\ttrain-rmspe:0.080082\teval-rmspe:0.107497\n",
      "[908]\ttrain-rmse:0.077266\teval-rmse:0.119563\ttrain-rmspe:0.080071\teval-rmspe:0.107497\n",
      "[909]\ttrain-rmse:0.077249\teval-rmse:0.119553\ttrain-rmspe:0.080046\teval-rmspe:0.10749\n",
      "[910]\ttrain-rmse:0.077235\teval-rmse:0.119553\ttrain-rmspe:0.080027\teval-rmspe:0.107486\n",
      "[911]\ttrain-rmse:0.077224\teval-rmse:0.119551\ttrain-rmspe:0.080016\teval-rmspe:0.107482\n",
      "[912]\ttrain-rmse:0.07721\teval-rmse:0.119548\ttrain-rmspe:0.080005\teval-rmspe:0.107471\n",
      "[913]\ttrain-rmse:0.077135\teval-rmse:0.11954\ttrain-rmspe:0.07998\teval-rmspe:0.107465\n",
      "[914]\ttrain-rmse:0.077114\teval-rmse:0.119536\ttrain-rmspe:0.079944\teval-rmspe:0.107464\n",
      "[915]\ttrain-rmse:0.077101\teval-rmse:0.119535\ttrain-rmspe:0.079927\teval-rmspe:0.107462\n",
      "[916]\ttrain-rmse:0.077085\teval-rmse:0.119533\ttrain-rmspe:0.0799\teval-rmspe:0.107412\n",
      "[917]\ttrain-rmse:0.077068\teval-rmse:0.119537\ttrain-rmspe:0.079881\teval-rmspe:0.107414\n",
      "[918]\ttrain-rmse:0.077056\teval-rmse:0.119527\ttrain-rmspe:0.079868\teval-rmspe:0.107423\n",
      "[919]\ttrain-rmse:0.07703\teval-rmse:0.119515\ttrain-rmspe:0.079821\teval-rmspe:0.1074\n",
      "[920]\ttrain-rmse:0.07702\teval-rmse:0.119507\ttrain-rmspe:0.079813\teval-rmspe:0.107399\n",
      "[921]\ttrain-rmse:0.076981\teval-rmse:0.119531\ttrain-rmspe:0.079759\teval-rmspe:0.107413\n",
      "[922]\ttrain-rmse:0.076961\teval-rmse:0.119538\ttrain-rmspe:0.07972\teval-rmspe:0.107413\n",
      "[923]\ttrain-rmse:0.076944\teval-rmse:0.119541\ttrain-rmspe:0.079695\teval-rmspe:0.107434\n",
      "[924]\ttrain-rmse:0.076931\teval-rmse:0.119547\ttrain-rmspe:0.079683\teval-rmspe:0.107434\n",
      "[925]\ttrain-rmse:0.076902\teval-rmse:0.119548\ttrain-rmspe:0.079671\teval-rmspe:0.107434\n",
      "[926]\ttrain-rmse:0.076816\teval-rmse:0.119545\ttrain-rmspe:0.079647\teval-rmspe:0.107427\n",
      "[927]\ttrain-rmse:0.076792\teval-rmse:0.119592\ttrain-rmspe:0.079613\teval-rmspe:0.107439\n",
      "[928]\ttrain-rmse:0.076763\teval-rmse:0.119592\ttrain-rmspe:0.079561\teval-rmspe:0.107385\n",
      "[929]\ttrain-rmse:0.076747\teval-rmse:0.119586\ttrain-rmspe:0.079543\teval-rmspe:0.10738\n",
      "[930]\ttrain-rmse:0.076724\teval-rmse:0.119591\ttrain-rmspe:0.079523\teval-rmspe:0.107383\n",
      "[931]\ttrain-rmse:0.076713\teval-rmse:0.119589\ttrain-rmspe:0.079514\teval-rmspe:0.107382\n",
      "[932]\ttrain-rmse:0.076703\teval-rmse:0.119588\ttrain-rmspe:0.079499\teval-rmspe:0.107372\n",
      "[933]\ttrain-rmse:0.076677\teval-rmse:0.119577\ttrain-rmspe:0.079475\teval-rmspe:0.107365\n",
      "[934]\ttrain-rmse:0.076658\teval-rmse:0.119573\ttrain-rmspe:0.079441\teval-rmspe:0.107355\n",
      "[935]\ttrain-rmse:0.076619\teval-rmse:0.119569\ttrain-rmspe:0.079409\teval-rmspe:0.107347\n",
      "[936]\ttrain-rmse:0.076604\teval-rmse:0.119564\ttrain-rmspe:0.079392\teval-rmspe:0.107324\n",
      "[937]\ttrain-rmse:0.076578\teval-rmse:0.119601\ttrain-rmspe:0.079379\teval-rmspe:0.10733\n",
      "[938]\ttrain-rmse:0.07656\teval-rmse:0.119595\ttrain-rmspe:0.079363\teval-rmspe:0.107332\n",
      "[939]\ttrain-rmse:0.076521\teval-rmse:0.119579\ttrain-rmspe:0.079332\teval-rmspe:0.107318\n",
      "[940]\ttrain-rmse:0.076503\teval-rmse:0.119554\ttrain-rmspe:0.079315\teval-rmspe:0.107321\n",
      "[941]\ttrain-rmse:0.07646\teval-rmse:0.11956\ttrain-rmspe:0.079201\teval-rmspe:0.107363\n",
      "[942]\ttrain-rmse:0.076444\teval-rmse:0.119561\ttrain-rmspe:0.079189\teval-rmspe:0.107361\n",
      "[943]\ttrain-rmse:0.076433\teval-rmse:0.119744\ttrain-rmspe:0.079171\teval-rmspe:0.107357\n",
      "[944]\ttrain-rmse:0.076422\teval-rmse:0.119743\ttrain-rmspe:0.079157\teval-rmspe:0.107362\n",
      "[945]\ttrain-rmse:0.076356\teval-rmse:0.1197\ttrain-rmspe:0.079137\teval-rmspe:0.107359\n",
      "[946]\ttrain-rmse:0.076345\teval-rmse:0.119708\ttrain-rmspe:0.079119\teval-rmspe:0.107356\n",
      "[947]\ttrain-rmse:0.07633\teval-rmse:0.119679\ttrain-rmspe:0.079114\teval-rmspe:0.107366\n",
      "[948]\ttrain-rmse:0.076312\teval-rmse:0.11967\ttrain-rmspe:0.079086\teval-rmspe:0.107371\n",
      "[949]\ttrain-rmse:0.076297\teval-rmse:0.119665\ttrain-rmspe:0.079068\teval-rmspe:0.107362\n",
      "[950]\ttrain-rmse:0.076275\teval-rmse:0.119694\ttrain-rmspe:0.079053\teval-rmspe:0.107366\n",
      "[951]\ttrain-rmse:0.076253\teval-rmse:0.119693\ttrain-rmspe:0.078992\teval-rmspe:0.10737\n",
      "[952]\ttrain-rmse:0.076224\teval-rmse:0.119697\ttrain-rmspe:0.078972\teval-rmspe:0.107371\n",
      "[953]\ttrain-rmse:0.076205\teval-rmse:0.119681\ttrain-rmspe:0.078943\teval-rmspe:0.107378\n",
      "[954]\ttrain-rmse:0.076192\teval-rmse:0.119678\ttrain-rmspe:0.078928\teval-rmspe:0.107374\n",
      "[955]\ttrain-rmse:0.076152\teval-rmse:0.119671\ttrain-rmspe:0.078885\teval-rmspe:0.107362\n",
      "[956]\ttrain-rmse:0.076096\teval-rmse:0.119523\ttrain-rmspe:0.078867\teval-rmspe:0.107372\n",
      "[957]\ttrain-rmse:0.076056\teval-rmse:0.119414\ttrain-rmspe:0.078856\teval-rmspe:0.107373\n",
      "[958]\ttrain-rmse:0.076047\teval-rmse:0.11941\ttrain-rmspe:0.078842\teval-rmspe:0.107366\n",
      "[959]\ttrain-rmse:0.076033\teval-rmse:0.119409\ttrain-rmspe:0.078823\teval-rmspe:0.107359\n"
     ]
    },
    {
     "name": "stdout",
     "output_type": "stream",
     "text": [
      "[960]\ttrain-rmse:0.076007\teval-rmse:0.119402\ttrain-rmspe:0.078781\teval-rmspe:0.107362\n",
      "[961]\ttrain-rmse:0.075995\teval-rmse:0.119403\ttrain-rmspe:0.078767\teval-rmspe:0.107364\n",
      "[962]\ttrain-rmse:0.075974\teval-rmse:0.119399\ttrain-rmspe:0.078751\teval-rmspe:0.107355\n",
      "[963]\ttrain-rmse:0.075961\teval-rmse:0.1194\ttrain-rmspe:0.078741\teval-rmspe:0.107363\n",
      "[964]\ttrain-rmse:0.075942\teval-rmse:0.119395\ttrain-rmspe:0.078721\teval-rmspe:0.107353\n",
      "[965]\ttrain-rmse:0.075909\teval-rmse:0.119383\ttrain-rmspe:0.078694\teval-rmspe:0.107342\n",
      "[966]\ttrain-rmse:0.075885\teval-rmse:0.119364\ttrain-rmspe:0.078669\teval-rmspe:0.107336\n",
      "[967]\ttrain-rmse:0.075866\teval-rmse:0.119357\ttrain-rmspe:0.078639\teval-rmspe:0.10733\n",
      "[968]\ttrain-rmse:0.07585\teval-rmse:0.119348\ttrain-rmspe:0.078623\teval-rmspe:0.107324\n",
      "[969]\ttrain-rmse:0.075833\teval-rmse:0.119346\ttrain-rmspe:0.078606\teval-rmspe:0.107322\n",
      "[970]\ttrain-rmse:0.075821\teval-rmse:0.119345\ttrain-rmspe:0.078594\teval-rmspe:0.107319\n",
      "[971]\ttrain-rmse:0.075808\teval-rmse:0.119346\ttrain-rmspe:0.078586\teval-rmspe:0.10732\n",
      "[972]\ttrain-rmse:0.075799\teval-rmse:0.119346\ttrain-rmspe:0.078576\teval-rmspe:0.107315\n",
      "[973]\ttrain-rmse:0.075782\teval-rmse:0.119338\ttrain-rmspe:0.078554\teval-rmspe:0.107297\n",
      "[974]\ttrain-rmse:0.075771\teval-rmse:0.119337\ttrain-rmspe:0.078543\teval-rmspe:0.107294\n",
      "[975]\ttrain-rmse:0.075745\teval-rmse:0.119333\ttrain-rmspe:0.078508\teval-rmspe:0.107283\n",
      "[976]\ttrain-rmse:0.075732\teval-rmse:0.119331\ttrain-rmspe:0.078495\teval-rmspe:0.107282\n",
      "[977]\ttrain-rmse:0.075677\teval-rmse:0.119368\ttrain-rmspe:0.078401\teval-rmspe:0.107279\n",
      "[978]\ttrain-rmse:0.075663\teval-rmse:0.119367\ttrain-rmspe:0.078386\teval-rmspe:0.107282\n",
      "[979]\ttrain-rmse:0.075648\teval-rmse:0.119367\ttrain-rmspe:0.078365\teval-rmspe:0.107278\n",
      "[980]\ttrain-rmse:0.075632\teval-rmse:0.119363\ttrain-rmspe:0.078329\teval-rmspe:0.107258\n",
      "[981]\ttrain-rmse:0.075617\teval-rmse:0.119357\ttrain-rmspe:0.078311\teval-rmspe:0.107246\n",
      "[982]\ttrain-rmse:0.075602\teval-rmse:0.119352\ttrain-rmspe:0.078295\teval-rmspe:0.107232\n",
      "[983]\ttrain-rmse:0.075587\teval-rmse:0.119363\ttrain-rmspe:0.078278\teval-rmspe:0.107242\n",
      "[984]\ttrain-rmse:0.075563\teval-rmse:0.119364\ttrain-rmspe:0.078261\teval-rmspe:0.10724\n",
      "[985]\ttrain-rmse:0.075548\teval-rmse:0.119367\ttrain-rmspe:0.078254\teval-rmspe:0.10724\n",
      "[986]\ttrain-rmse:0.075534\teval-rmse:0.119378\ttrain-rmspe:0.078111\teval-rmspe:0.107256\n",
      "[987]\ttrain-rmse:0.075513\teval-rmse:0.119379\ttrain-rmspe:0.078083\teval-rmspe:0.107267\n",
      "[988]\ttrain-rmse:0.075489\teval-rmse:0.119368\ttrain-rmspe:0.078065\teval-rmspe:0.107285\n",
      "[989]\ttrain-rmse:0.075477\teval-rmse:0.119363\ttrain-rmspe:0.07805\teval-rmspe:0.107279\n",
      "[990]\ttrain-rmse:0.075459\teval-rmse:0.119371\ttrain-rmspe:0.077971\teval-rmspe:0.107291\n",
      "[991]\ttrain-rmse:0.075446\teval-rmse:0.119365\ttrain-rmspe:0.077965\teval-rmspe:0.107284\n",
      "[992]\ttrain-rmse:0.075439\teval-rmse:0.119363\ttrain-rmspe:0.077944\teval-rmspe:0.107281\n",
      "[993]\ttrain-rmse:0.075424\teval-rmse:0.119361\ttrain-rmspe:0.077929\teval-rmspe:0.107278\n",
      "[994]\ttrain-rmse:0.075408\teval-rmse:0.11936\ttrain-rmspe:0.077913\teval-rmspe:0.107279\n",
      "[995]\ttrain-rmse:0.075389\teval-rmse:0.11934\ttrain-rmspe:0.077894\teval-rmspe:0.107268\n",
      "[996]\ttrain-rmse:0.075373\teval-rmse:0.119337\ttrain-rmspe:0.077879\teval-rmspe:0.107267\n",
      "[997]\ttrain-rmse:0.075349\teval-rmse:0.119337\ttrain-rmspe:0.077805\teval-rmspe:0.10726\n",
      "[998]\ttrain-rmse:0.075347\teval-rmse:0.119337\ttrain-rmspe:0.077798\teval-rmspe:0.107265\n",
      "[999]\ttrain-rmse:0.075332\teval-rmse:0.119336\ttrain-rmspe:0.077783\teval-rmspe:0.107269\n"
     ]
    }
   ],
   "source": [
    "gbm = xgb.train(params, dtrain, num_trees, evals=watchlist, early_stopping_rounds=100, feval=rmspe_xg, verbose_eval=True)"
   ]
  },
  {
   "cell_type": "code",
   "execution_count": null,
   "metadata": {
    "collapsed": true
   },
   "outputs": [],
   "source": [
    "xgb.cv(xgb_param, xgtrain, num_boost_round=alg.get_params()['n_estimators'], nfold=cv_folds,\n",
    "        metrics='auc', early_stopping_rounds=early_stopping_rounds, show_progress=False)"
   ]
  },
  {
   "cell_type": "code",
   "execution_count": 68,
   "metadata": {},
   "outputs": [
    {
     "name": "stdout",
     "output_type": "stream",
     "text": [
      "41088\n"
     ]
    }
   ],
   "source": [
    "# 结论输出\n",
    "dtest = xgb.DMatrix(test_data)\n",
    "test_probs = gbm.predict(dtest)\n",
    "# Make Submission\n",
    "result = pd.DataFrame({\"Id\": test_data.index, 'Sales': np.expm1(test_probs)})\n",
    "result=result.append(result_0)\n",
    "print(len(result))\n",
    "result.to_csv(\"xgboost_10_submission.csv\", index=False)"
   ]
  },
  {
   "cell_type": "code",
   "execution_count": 69,
   "metadata": {
    "collapsed": true
   },
   "outputs": [],
   "source": [
    "def create_feature_map(features):\n",
    "    outfile = open('xgb.fmap', 'w')\n",
    "    for i, feat in enumerate(features):\n",
    "        outfile.write('{0}\\t{1}\\tq\\n'.format(i, feat))\n",
    "    outfile.close()"
   ]
  },
  {
   "cell_type": "code",
   "execution_count": 70,
   "metadata": {},
   "outputs": [
    {
     "data": {
      "image/png": "[encoded data removed]",
      "text/plain": [
       "<matplotlib.figure.Figure at 0x26f014a7d30>"
      ]
     },
     "metadata": {},
     "output_type": "display_data"
    }
   ],
   "source": [
    "create_feature_map(train_data.columns)\n",
    "importance = gbm.get_fscore(fmap='xgb.fmap')\n",
    "importance = sorted(importance.items(), key=operator.itemgetter(1))\n",
    "\n",
    "df = pd.DataFrame(importance, columns=['feature', 'fscore'])\n",
    "df['fscore'] = df['fscore'] / df['fscore'].sum()\n",
    "\n",
    "featp = df.plot(kind='barh', x='feature', y='fscore', legend=False, figsize=(6, 10))\n",
    "plt.title('XGBoost Feature Importance')\n",
    "plt.xlabel('relative importance')\n",
    "fig_featp = featp.get_figure()\n",
    "fig_featp.savefig('feature_importance_xgb.png', bbox_inches='tight', pad_inches=1)\n",
    "plt.show()"
   ]
  },
  {
   "cell_type": "markdown",
   "metadata": {},
   "source": [
    "相关的思考，有些字段的理解我觉得还是有很多问题。  \n",
    "1.商店里的商品那么多做Promo2的商品是哪个牌子的哪个型号，难道预测的是笼统销售活动；\n",
    "2.竞争对手开店时间1900应该是个默认值所以应该不是很准确；  \n",
    "3.顾客数在预测工作中应该是很重要的，而我在这个模型里却没有想到改如何使用；\n"
   ]
  }
 ],
 "metadata": {
  "kernelspec": {
   "display_name": "Python 3",
   "language": "python",
   "name": "python3"
  },
  "language_info": {
   "codemirror_mode": {
    "name": "ipython",
    "version": 3
   },
   "file_extension": ".py",
   "mimetype": "text/x-python",
   "name": "python",
   "nbconvert_exporter": "python",
   "pygments_lexer": "ipython3",
   "version": "3.6.2"
  }
 },
 "nbformat": 4,
 "nbformat_minor": 2
}
